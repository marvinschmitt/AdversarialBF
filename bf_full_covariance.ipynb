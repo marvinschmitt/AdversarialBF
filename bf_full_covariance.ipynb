{
 "cells": [
  {
   "cell_type": "code",
   "execution_count": 1,
   "id": "underlying-amber",
   "metadata": {},
   "outputs": [],
   "source": [
    "import os\n",
    "import sys\n",
    "\n",
    "import numpy as np\n",
    "import matplotlib.pyplot as plt\n",
    "import seaborn as sns\n",
    "import pandas as pd\n",
    "import scipy\n",
    "import tensorflow as tf\n",
    "import tensorflow_probability as tfp\n",
    "from scipy import stats\n",
    "\n",
    "sys.path.append(os.path.abspath(os.path.join('../BayesFlow')))\n",
    "\n",
    "from bayesflow.trainers import ParameterEstimationTrainer\n",
    "from bayesflow.networks import InvertibleNetwork, InvariantNetwork\n",
    "from bayesflow.amortizers import SingleModelAmortizer\n",
    "from bayesflow.models import GenerativeModel\n",
    "from bayesflow.diagnostics import true_vs_estimated\n",
    "from bayesflow.exceptions import ConfigurationError\n",
    "\n",
    "from bayesflow.applications.priors import GaussianMeanPrior, TPrior, GaussianMeanCovPrior\n",
    "from bayesflow.applications.simulators import GaussianMeanSimulator, MultivariateTSimulator, GaussianMeanCovSimulator"
   ]
  },
  {
   "cell_type": "code",
   "execution_count": 178,
   "id": "broad-tuner",
   "metadata": {},
   "outputs": [],
   "source": [
    "class FullCovPrior:\n",
    "    def __init__(self, D, nu=None, mu_0=0, lamda=1.0):\n",
    "        self.D = D\n",
    "        self.nu = nu or D+1\n",
    "        self.mu_0 = mu_0\n",
    "        self.lamda = lamda\n",
    "        \n",
    "        self.Psi = np.eye(D) * 1.0  # add parameter?\n",
    "        self.cov_prior = stats.invwishart(nu, Psi)\n",
    "\n",
    "    def __call__(n_sim):\n",
    "        cov = (1.0/lamda) * self.cov_prior.rvs(n_sim)\n",
    "        tril_cov = tf.linalg.cholesky(cov)\n",
    "        mu = tfp.distributions.MultivariateNormalTriL(mu_0, tril_cov).sample()\n",
    "        return mu, cov"
   ]
  },
  {
   "cell_type": "code",
   "execution_count": 247,
   "id": "cutting-scotland",
   "metadata": {},
   "outputs": [],
   "source": [
    "def param_transform_full_cov(theta):\n",
    "    means, cov = theta\n",
    "    means = np.array(means)\n",
    "    n_sim, D = means.shape\n",
    "    cov = np.array(cov)\n",
    "    cov = cov[np.tril(cov).nonzero()].reshape(n_sim, -1)\n",
    "    return np.concatenate([means, cov], axis=1)"
   ]
  },
  {
   "cell_type": "code",
   "execution_count": 253,
   "id": "distinct-bowling",
   "metadata": {},
   "outputs": [
    {
     "data": {
      "text/plain": [
       "20"
      ]
     },
     "execution_count": 253,
     "metadata": {},
     "output_type": "execute_result"
    }
   ],
   "source": [
    "D=5\n",
    "((D**2+D)//2 + D)"
   ]
  },
  {
   "cell_type": "code",
   "execution_count": 2,
   "id": "specified-fiber",
   "metadata": {},
   "outputs": [
    {
     "name": "stdout",
     "output_type": "stream",
     "text": [
      "Initializing networks from scratch.\n"
     ]
    }
   ],
   "source": [
    "D = 5\n",
    "\n",
    "#########\n",
    "\n",
    "def param_transform_full_cov(theta):\n",
    "    means, cov = theta\n",
    "    means = np.array(means)\n",
    "    n_sim, D = means.shape\n",
    "    cov = np.array(cov)\n",
    "    cov = cov[np.tril(cov).nonzero()].reshape(n_sim, -1)\n",
    "    return np.concatenate([means, cov], axis=1)\n",
    "\n",
    "prior = GaussianMeanCovPrior(D=D, a0=D+1, b0=1, m0=0, beta0=1)\n",
    "simulator = GaussianMeanCovSimulator()\n",
    "generative_model = GenerativeModel(prior, simulator, param_transform=param_transform_full_cov)\n",
    "\n",
    "#########\n",
    "\n",
    "summary_meta = {\n",
    "    'n_dense_s1': 2,\n",
    "    'n_dense_s2': 2,\n",
    "    'n_dense_s3': 2,\n",
    "    'n_equiv':    2,\n",
    "    'dense_s1_args': {'activation': 'relu', 'units': 32},\n",
    "    'dense_s2_args': {'activation': 'relu', 'units': 32},\n",
    "    'dense_s3_args': {'activation': 'relu', 'units': 32},\n",
    "}\n",
    "\n",
    "class BottleneckSummaryNet(tf.keras.Model):\n",
    "    def __init__(self, inv_meta={}, n_out=10, activation_out=None):\n",
    "        super(BottleneckSummaryNet, self).__init__()\n",
    "\n",
    "        self.invariant_net = InvariantNetwork(inv_meta)\n",
    "        self.out_layer = tf.keras.layers.Dense(n_out, activation=activation_out)\n",
    "    \n",
    "    def __call__(self, x):\n",
    "        out_inv = self.invariant_net(x)\n",
    "        out = self.out_layer(out_inv)\n",
    "        return out\n",
    "\n",
    "\n",
    "summary_net = BottleneckSummaryNet(inv_meta=summary_meta, \n",
    "                                   n_out=((D**2+D)/2 + D),   # twice the required\n",
    "                                   activation_out=None  # linear\n",
    ")\n",
    "\n",
    "\n",
    "inference_meta = {\n",
    "    'n_coupling_layers': 2,\n",
    "    's_args': {\n",
    "        'units': [64, 64, 64],\n",
    "        'activation': 'elu',\n",
    "        'initializer': 'glorot_uniform',\n",
    "    },\n",
    "    't_args': {\n",
    "        'units': [64, 64, 64],\n",
    "        'activation': 'elu',\n",
    "        'initializer': 'glorot_uniform',\n",
    "    },\n",
    "    'n_params': ((D**2+D)//2 + D),   # lower diagonal cov (1+2+...+D) and D means\n",
    "    'alpha': 1.9,\n",
    "    'permute': True\n",
    "}\n",
    "\n",
    "inference_net = InvertibleNetwork(inference_meta)\n",
    "\n",
    "amortizer = SingleModelAmortizer(inference_net, summary_net)\n",
    "\n",
    "trainer = ParameterEstimationTrainer(amortizer,\n",
    "                      generative_model,\n",
    "                      learning_rate=0.0001,\n",
    "                      checkpoint_path='export_ckpt/full_cov_5D'\n",
    "                     )"
   ]
  },
  {
   "cell_type": "code",
   "execution_count": 11,
   "id": "blond-cancer",
   "metadata": {},
   "outputs": [
    {
     "name": "stdout",
     "output_type": "stream",
     "text": [
      "Simulating initial 10000 data sets...\n",
      "Converting 10000 simulations to a TensorFlow data set...\n"
     ]
    },
    {
     "data": {
      "application/vnd.jupyter.widget-view+json": {
       "model_id": "c518a3fa97c24e43acca2fb72d6afa9f",
       "version_major": 2,
       "version_minor": 0
      },
      "text/plain": [
       "Training epoch 1:   0%|          | 0/10 [00:00<?, ?it/s]"
      ]
     },
     "metadata": {},
     "output_type": "display_data"
    },
    {
     "data": {
      "application/vnd.jupyter.widget-view+json": {
       "model_id": "049c1fc464624a8e89bf4be450a7eb7c",
       "version_major": 2,
       "version_minor": 0
      },
      "text/plain": [
       "Training epoch 2:   0%|          | 0/10 [00:00<?, ?it/s]"
      ]
     },
     "metadata": {},
     "output_type": "display_data"
    },
    {
     "data": {
      "application/vnd.jupyter.widget-view+json": {
       "model_id": "f20c02a352414a71bbecb85e6203c2b4",
       "version_major": 2,
       "version_minor": 0
      },
      "text/plain": [
       "Training epoch 3:   0%|          | 0/10 [00:00<?, ?it/s]"
      ]
     },
     "metadata": {},
     "output_type": "display_data"
    },
    {
     "data": {
      "application/vnd.jupyter.widget-view+json": {
       "model_id": "66c23f248c0f4590a5ee0f15d92cd4f8",
       "version_major": 2,
       "version_minor": 0
      },
      "text/plain": [
       "Training epoch 4:   0%|          | 0/10 [00:00<?, ?it/s]"
      ]
     },
     "metadata": {},
     "output_type": "display_data"
    },
    {
     "data": {
      "application/vnd.jupyter.widget-view+json": {
       "model_id": "7a7b74c7fd5b4919ba88398a5682d185",
       "version_major": 2,
       "version_minor": 0
      },
      "text/plain": [
       "Training epoch 5:   0%|          | 0/10 [00:00<?, ?it/s]"
      ]
     },
     "metadata": {},
     "output_type": "display_data"
    },
    {
     "data": {
      "application/vnd.jupyter.widget-view+json": {
       "model_id": "2d12569830d6436b8382a526fc3b314b",
       "version_major": 2,
       "version_minor": 0
      },
      "text/plain": [
       "Training epoch 6:   0%|          | 0/10 [00:00<?, ?it/s]"
      ]
     },
     "metadata": {},
     "output_type": "display_data"
    },
    {
     "data": {
      "application/vnd.jupyter.widget-view+json": {
       "model_id": "f16b0a1d0eb34dbab7cbce87bd498ec7",
       "version_major": 2,
       "version_minor": 0
      },
      "text/plain": [
       "Training epoch 7:   0%|          | 0/10 [00:00<?, ?it/s]"
      ]
     },
     "metadata": {},
     "output_type": "display_data"
    },
    {
     "data": {
      "application/vnd.jupyter.widget-view+json": {
       "model_id": "05cf96203d3b4438b34523d1e9f6ecc2",
       "version_major": 2,
       "version_minor": 0
      },
      "text/plain": [
       "Training epoch 8:   0%|          | 0/10 [00:00<?, ?it/s]"
      ]
     },
     "metadata": {},
     "output_type": "display_data"
    },
    {
     "data": {
      "application/vnd.jupyter.widget-view+json": {
       "model_id": "6a9e12f091704f35b996f8039645db68",
       "version_major": 2,
       "version_minor": 0
      },
      "text/plain": [
       "Training epoch 9:   0%|          | 0/10 [00:00<?, ?it/s]"
      ]
     },
     "metadata": {},
     "output_type": "display_data"
    },
    {
     "data": {
      "application/vnd.jupyter.widget-view+json": {
       "model_id": "68158d0987c84fd088b4bc19245d9142",
       "version_major": 2,
       "version_minor": 0
      },
      "text/plain": [
       "Training epoch 10:   0%|          | 0/10 [00:00<?, ?it/s]"
      ]
     },
     "metadata": {},
     "output_type": "display_data"
    },
    {
     "data": {
      "application/vnd.jupyter.widget-view+json": {
       "model_id": "29b6f8ef7ecc4d8598198d6f224d6372",
       "version_major": 2,
       "version_minor": 0
      },
      "text/plain": [
       "Training epoch 11:   0%|          | 0/10 [00:00<?, ?it/s]"
      ]
     },
     "metadata": {},
     "output_type": "display_data"
    },
    {
     "data": {
      "application/vnd.jupyter.widget-view+json": {
       "model_id": "0683f839afa741e6b7b6d4081afda31b",
       "version_major": 2,
       "version_minor": 0
      },
      "text/plain": [
       "Training epoch 12:   0%|          | 0/10 [00:00<?, ?it/s]"
      ]
     },
     "metadata": {},
     "output_type": "display_data"
    },
    {
     "data": {
      "application/vnd.jupyter.widget-view+json": {
       "model_id": "75397115ed224bc28caf61ddaf34f30f",
       "version_major": 2,
       "version_minor": 0
      },
      "text/plain": [
       "Training epoch 13:   0%|          | 0/10 [00:00<?, ?it/s]"
      ]
     },
     "metadata": {},
     "output_type": "display_data"
    },
    {
     "data": {
      "application/vnd.jupyter.widget-view+json": {
       "model_id": "3ee9215f7ad14d07bc1a0fc7f83f5b2c",
       "version_major": 2,
       "version_minor": 0
      },
      "text/plain": [
       "Training epoch 14:   0%|          | 0/10 [00:00<?, ?it/s]"
      ]
     },
     "metadata": {},
     "output_type": "display_data"
    },
    {
     "data": {
      "application/vnd.jupyter.widget-view+json": {
       "model_id": "ea9dc8a4a14b4f8ca8894199446b4ab1",
       "version_major": 2,
       "version_minor": 0
      },
      "text/plain": [
       "Training epoch 15:   0%|          | 0/10 [00:00<?, ?it/s]"
      ]
     },
     "metadata": {},
     "output_type": "display_data"
    },
    {
     "data": {
      "application/vnd.jupyter.widget-view+json": {
       "model_id": "8e6dbfbc66d5455bbb66bd9057e422aa",
       "version_major": 2,
       "version_minor": 0
      },
      "text/plain": [
       "Training epoch 16:   0%|          | 0/10 [00:00<?, ?it/s]"
      ]
     },
     "metadata": {},
     "output_type": "display_data"
    },
    {
     "data": {
      "application/vnd.jupyter.widget-view+json": {
       "model_id": "0ced0cf5b50443c4bb06725696e5ae9d",
       "version_major": 2,
       "version_minor": 0
      },
      "text/plain": [
       "Training epoch 17:   0%|          | 0/10 [00:00<?, ?it/s]"
      ]
     },
     "metadata": {},
     "output_type": "display_data"
    },
    {
     "data": {
      "application/vnd.jupyter.widget-view+json": {
       "model_id": "e7e9bb6c5ca74c548af9c1c564b0b13e",
       "version_major": 2,
       "version_minor": 0
      },
      "text/plain": [
       "Training epoch 18:   0%|          | 0/10 [00:00<?, ?it/s]"
      ]
     },
     "metadata": {},
     "output_type": "display_data"
    },
    {
     "data": {
      "application/vnd.jupyter.widget-view+json": {
       "model_id": "804476ca254e414cb5e99080b2f5de8d",
       "version_major": 2,
       "version_minor": 0
      },
      "text/plain": [
       "Training epoch 19:   0%|          | 0/10 [00:00<?, ?it/s]"
      ]
     },
     "metadata": {},
     "output_type": "display_data"
    },
    {
     "data": {
      "application/vnd.jupyter.widget-view+json": {
       "model_id": "3dc129de6c5f4bdca21b8b1ae52b6e91",
       "version_major": 2,
       "version_minor": 0
      },
      "text/plain": [
       "Training epoch 20:   0%|          | 0/10 [00:00<?, ?it/s]"
      ]
     },
     "metadata": {},
     "output_type": "display_data"
    },
    {
     "data": {
      "application/vnd.jupyter.widget-view+json": {
       "model_id": "ada79d7142754f9aad8d827ab07044b4",
       "version_major": 2,
       "version_minor": 0
      },
      "text/plain": [
       "Training epoch 21:   0%|          | 0/10 [00:00<?, ?it/s]"
      ]
     },
     "metadata": {},
     "output_type": "display_data"
    },
    {
     "data": {
      "application/vnd.jupyter.widget-view+json": {
       "model_id": "b735d5f8df96497ab984dede174ce0bb",
       "version_major": 2,
       "version_minor": 0
      },
      "text/plain": [
       "Training epoch 22:   0%|          | 0/10 [00:00<?, ?it/s]"
      ]
     },
     "metadata": {},
     "output_type": "display_data"
    },
    {
     "data": {
      "application/vnd.jupyter.widget-view+json": {
       "model_id": "f22081950d0b46f48173a08a2c752cf5",
       "version_major": 2,
       "version_minor": 0
      },
      "text/plain": [
       "Training epoch 23:   0%|          | 0/10 [00:00<?, ?it/s]"
      ]
     },
     "metadata": {},
     "output_type": "display_data"
    },
    {
     "data": {
      "application/vnd.jupyter.widget-view+json": {
       "model_id": "28b0dbea973843308010913b163c3ba9",
       "version_major": 2,
       "version_minor": 0
      },
      "text/plain": [
       "Training epoch 24:   0%|          | 0/10 [00:00<?, ?it/s]"
      ]
     },
     "metadata": {},
     "output_type": "display_data"
    },
    {
     "data": {
      "application/vnd.jupyter.widget-view+json": {
       "model_id": "e15253e6a9984ef281353c44351af932",
       "version_major": 2,
       "version_minor": 0
      },
      "text/plain": [
       "Training epoch 25:   0%|          | 0/10 [00:00<?, ?it/s]"
      ]
     },
     "metadata": {},
     "output_type": "display_data"
    },
    {
     "data": {
      "application/vnd.jupyter.widget-view+json": {
       "model_id": "106d5916b8394a1bb008b63002adc49d",
       "version_major": 2,
       "version_minor": 0
      },
      "text/plain": [
       "Training epoch 26:   0%|          | 0/10 [00:00<?, ?it/s]"
      ]
     },
     "metadata": {},
     "output_type": "display_data"
    },
    {
     "data": {
      "application/vnd.jupyter.widget-view+json": {
       "model_id": "a9db0798cea947cf9aeab659da96cee3",
       "version_major": 2,
       "version_minor": 0
      },
      "text/plain": [
       "Training epoch 27:   0%|          | 0/10 [00:00<?, ?it/s]"
      ]
     },
     "metadata": {},
     "output_type": "display_data"
    },
    {
     "data": {
      "application/vnd.jupyter.widget-view+json": {
       "model_id": "6a38ebca638944b4acca8c47fb5e284f",
       "version_major": 2,
       "version_minor": 0
      },
      "text/plain": [
       "Training epoch 28:   0%|          | 0/10 [00:00<?, ?it/s]"
      ]
     },
     "metadata": {},
     "output_type": "display_data"
    },
    {
     "data": {
      "application/vnd.jupyter.widget-view+json": {
       "model_id": "a42dd83869604f2385bd41bf1c104842",
       "version_major": 2,
       "version_minor": 0
      },
      "text/plain": [
       "Training epoch 29:   0%|          | 0/10 [00:00<?, ?it/s]"
      ]
     },
     "metadata": {},
     "output_type": "display_data"
    },
    {
     "data": {
      "application/vnd.jupyter.widget-view+json": {
       "model_id": "78b1aecaec7546c7a3f3359c7da85868",
       "version_major": 2,
       "version_minor": 0
      },
      "text/plain": [
       "Training epoch 30:   0%|          | 0/10 [00:00<?, ?it/s]"
      ]
     },
     "metadata": {},
     "output_type": "display_data"
    },
    {
     "data": {
      "application/vnd.jupyter.widget-view+json": {
       "model_id": "93665e3897224fde8570ec3725ceae48",
       "version_major": 2,
       "version_minor": 0
      },
      "text/plain": [
       "Training epoch 31:   0%|          | 0/10 [00:00<?, ?it/s]"
      ]
     },
     "metadata": {},
     "output_type": "display_data"
    },
    {
     "data": {
      "application/vnd.jupyter.widget-view+json": {
       "model_id": "5c66744236cc48108902787793d69471",
       "version_major": 2,
       "version_minor": 0
      },
      "text/plain": [
       "Training epoch 32:   0%|          | 0/10 [00:00<?, ?it/s]"
      ]
     },
     "metadata": {},
     "output_type": "display_data"
    },
    {
     "data": {
      "application/vnd.jupyter.widget-view+json": {
       "model_id": "2d27b73fa8f44641b9d60eea4ba9f3e8",
       "version_major": 2,
       "version_minor": 0
      },
      "text/plain": [
       "Training epoch 33:   0%|          | 0/10 [00:00<?, ?it/s]"
      ]
     },
     "metadata": {},
     "output_type": "display_data"
    },
    {
     "data": {
      "application/vnd.jupyter.widget-view+json": {
       "model_id": "fc74a2e39a744fe097358d76603f1c27",
       "version_major": 2,
       "version_minor": 0
      },
      "text/plain": [
       "Training epoch 34:   0%|          | 0/10 [00:00<?, ?it/s]"
      ]
     },
     "metadata": {},
     "output_type": "display_data"
    },
    {
     "data": {
      "application/vnd.jupyter.widget-view+json": {
       "model_id": "600a7ca516134310b8eba13200f53784",
       "version_major": 2,
       "version_minor": 0
      },
      "text/plain": [
       "Training epoch 35:   0%|          | 0/10 [00:00<?, ?it/s]"
      ]
     },
     "metadata": {},
     "output_type": "display_data"
    },
    {
     "data": {
      "application/vnd.jupyter.widget-view+json": {
       "model_id": "6da125ab096944449ab926de6e637256",
       "version_major": 2,
       "version_minor": 0
      },
      "text/plain": [
       "Training epoch 36:   0%|          | 0/10 [00:00<?, ?it/s]"
      ]
     },
     "metadata": {},
     "output_type": "display_data"
    },
    {
     "data": {
      "application/vnd.jupyter.widget-view+json": {
       "model_id": "fbba7ea376f243e0b9c38ffafb433c2f",
       "version_major": 2,
       "version_minor": 0
      },
      "text/plain": [
       "Training epoch 37:   0%|          | 0/10 [00:00<?, ?it/s]"
      ]
     },
     "metadata": {},
     "output_type": "display_data"
    },
    {
     "data": {
      "application/vnd.jupyter.widget-view+json": {
       "model_id": "da88ef1b17c74684bd97d13a9c4d9649",
       "version_major": 2,
       "version_minor": 0
      },
      "text/plain": [
       "Training epoch 38:   0%|          | 0/10 [00:00<?, ?it/s]"
      ]
     },
     "metadata": {},
     "output_type": "display_data"
    },
    {
     "data": {
      "application/vnd.jupyter.widget-view+json": {
       "model_id": "fd2c8426f26f40ab8568542beee291bb",
       "version_major": 2,
       "version_minor": 0
      },
      "text/plain": [
       "Training epoch 39:   0%|          | 0/10 [00:00<?, ?it/s]"
      ]
     },
     "metadata": {},
     "output_type": "display_data"
    },
    {
     "data": {
      "application/vnd.jupyter.widget-view+json": {
       "model_id": "74c97235ee5a4e218990e324165d2a40",
       "version_major": 2,
       "version_minor": 0
      },
      "text/plain": [
       "Training epoch 40:   0%|          | 0/10 [00:00<?, ?it/s]"
      ]
     },
     "metadata": {},
     "output_type": "display_data"
    },
    {
     "data": {
      "application/vnd.jupyter.widget-view+json": {
       "model_id": "45ac7df2311d481e9c11c8502ff227e0",
       "version_major": 2,
       "version_minor": 0
      },
      "text/plain": [
       "Training epoch 41:   0%|          | 0/10 [00:00<?, ?it/s]"
      ]
     },
     "metadata": {},
     "output_type": "display_data"
    },
    {
     "data": {
      "application/vnd.jupyter.widget-view+json": {
       "model_id": "d51139d781c448cf8ee5f39a07a87314",
       "version_major": 2,
       "version_minor": 0
      },
      "text/plain": [
       "Training epoch 42:   0%|          | 0/10 [00:00<?, ?it/s]"
      ]
     },
     "metadata": {},
     "output_type": "display_data"
    },
    {
     "data": {
      "application/vnd.jupyter.widget-view+json": {
       "model_id": "85a82f36bc8b48ffa625b6b10d9d73c1",
       "version_major": 2,
       "version_minor": 0
      },
      "text/plain": [
       "Training epoch 43:   0%|          | 0/10 [00:00<?, ?it/s]"
      ]
     },
     "metadata": {},
     "output_type": "display_data"
    },
    {
     "data": {
      "application/vnd.jupyter.widget-view+json": {
       "model_id": "d38b769ea1af4b54a65b30866f730dac",
       "version_major": 2,
       "version_minor": 0
      },
      "text/plain": [
       "Training epoch 44:   0%|          | 0/10 [00:00<?, ?it/s]"
      ]
     },
     "metadata": {},
     "output_type": "display_data"
    },
    {
     "data": {
      "application/vnd.jupyter.widget-view+json": {
       "model_id": "b14bf5a6ab6f4565a57045f9f4636c12",
       "version_major": 2,
       "version_minor": 0
      },
      "text/plain": [
       "Training epoch 45:   0%|          | 0/10 [00:00<?, ?it/s]"
      ]
     },
     "metadata": {},
     "output_type": "display_data"
    },
    {
     "data": {
      "application/vnd.jupyter.widget-view+json": {
       "model_id": "ca3bee7c54244217b0a032e3a54a09a9",
       "version_major": 2,
       "version_minor": 0
      },
      "text/plain": [
       "Training epoch 46:   0%|          | 0/10 [00:00<?, ?it/s]"
      ]
     },
     "metadata": {},
     "output_type": "display_data"
    },
    {
     "data": {
      "application/vnd.jupyter.widget-view+json": {
       "model_id": "a02f8120524b4983a797a7cdd2d1e6b6",
       "version_major": 2,
       "version_minor": 0
      },
      "text/plain": [
       "Training epoch 47:   0%|          | 0/10 [00:00<?, ?it/s]"
      ]
     },
     "metadata": {},
     "output_type": "display_data"
    },
    {
     "data": {
      "application/vnd.jupyter.widget-view+json": {
       "model_id": "6872de531ca14aab8537d7287fa30638",
       "version_major": 2,
       "version_minor": 0
      },
      "text/plain": [
       "Training epoch 48:   0%|          | 0/10 [00:00<?, ?it/s]"
      ]
     },
     "metadata": {},
     "output_type": "display_data"
    },
    {
     "data": {
      "application/vnd.jupyter.widget-view+json": {
       "model_id": "85f2700ec9e44f80b5acc28e3aecd221",
       "version_major": 2,
       "version_minor": 0
      },
      "text/plain": [
       "Training epoch 49:   0%|          | 0/10 [00:00<?, ?it/s]"
      ]
     },
     "metadata": {},
     "output_type": "display_data"
    },
    {
     "data": {
      "application/vnd.jupyter.widget-view+json": {
       "model_id": "2dff94d24ab64cdab3cee9f0471e6045",
       "version_major": 2,
       "version_minor": 0
      },
      "text/plain": [
       "Training epoch 50:   0%|          | 0/10 [00:00<?, ?it/s]"
      ]
     },
     "metadata": {},
     "output_type": "display_data"
    },
    {
     "data": {
      "application/vnd.jupyter.widget-view+json": {
       "model_id": "c57399c81b65439d8c29deff390c58ce",
       "version_major": 2,
       "version_minor": 0
      },
      "text/plain": [
       "Training epoch 51:   0%|          | 0/10 [00:00<?, ?it/s]"
      ]
     },
     "metadata": {},
     "output_type": "display_data"
    },
    {
     "data": {
      "application/vnd.jupyter.widget-view+json": {
       "model_id": "869c916818f84a8bb09ebf0b14b7dd18",
       "version_major": 2,
       "version_minor": 0
      },
      "text/plain": [
       "Training epoch 52:   0%|          | 0/10 [00:00<?, ?it/s]"
      ]
     },
     "metadata": {},
     "output_type": "display_data"
    },
    {
     "data": {
      "application/vnd.jupyter.widget-view+json": {
       "model_id": "0c94cbc079df4025800489d19c34ad05",
       "version_major": 2,
       "version_minor": 0
      },
      "text/plain": [
       "Training epoch 53:   0%|          | 0/10 [00:00<?, ?it/s]"
      ]
     },
     "metadata": {},
     "output_type": "display_data"
    },
    {
     "data": {
      "application/vnd.jupyter.widget-view+json": {
       "model_id": "869f1a06fa7a4955a4f75d3dd8e2b7cf",
       "version_major": 2,
       "version_minor": 0
      },
      "text/plain": [
       "Training epoch 54:   0%|          | 0/10 [00:00<?, ?it/s]"
      ]
     },
     "metadata": {},
     "output_type": "display_data"
    },
    {
     "data": {
      "application/vnd.jupyter.widget-view+json": {
       "model_id": "f912a9c4133a4f9a8cf206e77ff94da7",
       "version_major": 2,
       "version_minor": 0
      },
      "text/plain": [
       "Training epoch 55:   0%|          | 0/10 [00:00<?, ?it/s]"
      ]
     },
     "metadata": {},
     "output_type": "display_data"
    },
    {
     "data": {
      "application/vnd.jupyter.widget-view+json": {
       "model_id": "5a440eb719b148edb96c9470fb14438d",
       "version_major": 2,
       "version_minor": 0
      },
      "text/plain": [
       "Training epoch 56:   0%|          | 0/10 [00:00<?, ?it/s]"
      ]
     },
     "metadata": {},
     "output_type": "display_data"
    },
    {
     "data": {
      "application/vnd.jupyter.widget-view+json": {
       "model_id": "1122dd4075c949fd9896efc8fe9ef61d",
       "version_major": 2,
       "version_minor": 0
      },
      "text/plain": [
       "Training epoch 57:   0%|          | 0/10 [00:00<?, ?it/s]"
      ]
     },
     "metadata": {},
     "output_type": "display_data"
    },
    {
     "data": {
      "application/vnd.jupyter.widget-view+json": {
       "model_id": "337f8ebddd124ca6b161cd332077a005",
       "version_major": 2,
       "version_minor": 0
      },
      "text/plain": [
       "Training epoch 58:   0%|          | 0/10 [00:00<?, ?it/s]"
      ]
     },
     "metadata": {},
     "output_type": "display_data"
    },
    {
     "data": {
      "application/vnd.jupyter.widget-view+json": {
       "model_id": "4fb9dfbd79224fde8c889de1c948af93",
       "version_major": 2,
       "version_minor": 0
      },
      "text/plain": [
       "Training epoch 59:   0%|          | 0/10 [00:00<?, ?it/s]"
      ]
     },
     "metadata": {},
     "output_type": "display_data"
    },
    {
     "data": {
      "application/vnd.jupyter.widget-view+json": {
       "model_id": "c6bf5d61ceb140a5b5cdc2830c59e60e",
       "version_major": 2,
       "version_minor": 0
      },
      "text/plain": [
       "Training epoch 60:   0%|          | 0/10 [00:00<?, ?it/s]"
      ]
     },
     "metadata": {},
     "output_type": "display_data"
    },
    {
     "data": {
      "application/vnd.jupyter.widget-view+json": {
       "model_id": "83f6fef422914100b809eec402f6c1f1",
       "version_major": 2,
       "version_minor": 0
      },
      "text/plain": [
       "Training epoch 61:   0%|          | 0/10 [00:00<?, ?it/s]"
      ]
     },
     "metadata": {},
     "output_type": "display_data"
    },
    {
     "data": {
      "application/vnd.jupyter.widget-view+json": {
       "model_id": "ee43d83009ad494c9edf32b6652b6d87",
       "version_major": 2,
       "version_minor": 0
      },
      "text/plain": [
       "Training epoch 62:   0%|          | 0/10 [00:00<?, ?it/s]"
      ]
     },
     "metadata": {},
     "output_type": "display_data"
    },
    {
     "data": {
      "application/vnd.jupyter.widget-view+json": {
       "model_id": "4f0ecc56221d475fb4c86a7f8fec831a",
       "version_major": 2,
       "version_minor": 0
      },
      "text/plain": [
       "Training epoch 63:   0%|          | 0/10 [00:00<?, ?it/s]"
      ]
     },
     "metadata": {},
     "output_type": "display_data"
    },
    {
     "data": {
      "application/vnd.jupyter.widget-view+json": {
       "model_id": "4b4525f7513a4887b667e1c38d2d64f9",
       "version_major": 2,
       "version_minor": 0
      },
      "text/plain": [
       "Training epoch 64:   0%|          | 0/10 [00:00<?, ?it/s]"
      ]
     },
     "metadata": {},
     "output_type": "display_data"
    },
    {
     "data": {
      "application/vnd.jupyter.widget-view+json": {
       "model_id": "4d2cdd306df34834acc32a2edde3e3cc",
       "version_major": 2,
       "version_minor": 0
      },
      "text/plain": [
       "Training epoch 65:   0%|          | 0/10 [00:00<?, ?it/s]"
      ]
     },
     "metadata": {},
     "output_type": "display_data"
    },
    {
     "data": {
      "application/vnd.jupyter.widget-view+json": {
       "model_id": "2ca59c8ebd15446c9f15e30e7b792253",
       "version_major": 2,
       "version_minor": 0
      },
      "text/plain": [
       "Training epoch 66:   0%|          | 0/10 [00:00<?, ?it/s]"
      ]
     },
     "metadata": {},
     "output_type": "display_data"
    },
    {
     "data": {
      "application/vnd.jupyter.widget-view+json": {
       "model_id": "890fc3ed88f047bc9fae203bb67abbdb",
       "version_major": 2,
       "version_minor": 0
      },
      "text/plain": [
       "Training epoch 67:   0%|          | 0/10 [00:00<?, ?it/s]"
      ]
     },
     "metadata": {},
     "output_type": "display_data"
    },
    {
     "data": {
      "application/vnd.jupyter.widget-view+json": {
       "model_id": "1657c17bd2eb489fbeaff22ca1937ca4",
       "version_major": 2,
       "version_minor": 0
      },
      "text/plain": [
       "Training epoch 68:   0%|          | 0/10 [00:00<?, ?it/s]"
      ]
     },
     "metadata": {},
     "output_type": "display_data"
    },
    {
     "data": {
      "application/vnd.jupyter.widget-view+json": {
       "model_id": "fed4a0a3c39e40f48d0bd6e665a3bd2a",
       "version_major": 2,
       "version_minor": 0
      },
      "text/plain": [
       "Training epoch 69:   0%|          | 0/10 [00:00<?, ?it/s]"
      ]
     },
     "metadata": {},
     "output_type": "display_data"
    },
    {
     "data": {
      "application/vnd.jupyter.widget-view+json": {
       "model_id": "e221deb5a2194af79abb8404ebc22d69",
       "version_major": 2,
       "version_minor": 0
      },
      "text/plain": [
       "Training epoch 70:   0%|          | 0/10 [00:00<?, ?it/s]"
      ]
     },
     "metadata": {},
     "output_type": "display_data"
    },
    {
     "data": {
      "application/vnd.jupyter.widget-view+json": {
       "model_id": "39c39a6410b8443fb10907d72b90e936",
       "version_major": 2,
       "version_minor": 0
      },
      "text/plain": [
       "Training epoch 71:   0%|          | 0/10 [00:00<?, ?it/s]"
      ]
     },
     "metadata": {},
     "output_type": "display_data"
    },
    {
     "data": {
      "application/vnd.jupyter.widget-view+json": {
       "model_id": "eeabadebc216405d9756fb7c30aafe82",
       "version_major": 2,
       "version_minor": 0
      },
      "text/plain": [
       "Training epoch 72:   0%|          | 0/10 [00:00<?, ?it/s]"
      ]
     },
     "metadata": {},
     "output_type": "display_data"
    },
    {
     "data": {
      "application/vnd.jupyter.widget-view+json": {
       "model_id": "72bd674476f84be7b194cf470378b841",
       "version_major": 2,
       "version_minor": 0
      },
      "text/plain": [
       "Training epoch 73:   0%|          | 0/10 [00:00<?, ?it/s]"
      ]
     },
     "metadata": {},
     "output_type": "display_data"
    },
    {
     "data": {
      "application/vnd.jupyter.widget-view+json": {
       "model_id": "23b94ee177fe40f9b2d81a3dd9a41269",
       "version_major": 2,
       "version_minor": 0
      },
      "text/plain": [
       "Training epoch 74:   0%|          | 0/10 [00:00<?, ?it/s]"
      ]
     },
     "metadata": {},
     "output_type": "display_data"
    },
    {
     "data": {
      "application/vnd.jupyter.widget-view+json": {
       "model_id": "d7acd3ae6624449a9d02ed311f0084fd",
       "version_major": 2,
       "version_minor": 0
      },
      "text/plain": [
       "Training epoch 75:   0%|          | 0/10 [00:00<?, ?it/s]"
      ]
     },
     "metadata": {},
     "output_type": "display_data"
    },
    {
     "data": {
      "application/vnd.jupyter.widget-view+json": {
       "model_id": "aedb55a741484cceb75af1e68a52f0fa",
       "version_major": 2,
       "version_minor": 0
      },
      "text/plain": [
       "Training epoch 76:   0%|          | 0/10 [00:00<?, ?it/s]"
      ]
     },
     "metadata": {},
     "output_type": "display_data"
    },
    {
     "data": {
      "application/vnd.jupyter.widget-view+json": {
       "model_id": "9efed5ad3c4646a280b4e31cbf02aace",
       "version_major": 2,
       "version_minor": 0
      },
      "text/plain": [
       "Training epoch 77:   0%|          | 0/10 [00:00<?, ?it/s]"
      ]
     },
     "metadata": {},
     "output_type": "display_data"
    },
    {
     "data": {
      "application/vnd.jupyter.widget-view+json": {
       "model_id": "15c6f7cdff1f4d8eb167b8c30f0695a3",
       "version_major": 2,
       "version_minor": 0
      },
      "text/plain": [
       "Training epoch 78:   0%|          | 0/10 [00:00<?, ?it/s]"
      ]
     },
     "metadata": {},
     "output_type": "display_data"
    },
    {
     "data": {
      "application/vnd.jupyter.widget-view+json": {
       "model_id": "77d85e6707b14b78982af23f6ce27651",
       "version_major": 2,
       "version_minor": 0
      },
      "text/plain": [
       "Training epoch 79:   0%|          | 0/10 [00:00<?, ?it/s]"
      ]
     },
     "metadata": {},
     "output_type": "display_data"
    },
    {
     "data": {
      "application/vnd.jupyter.widget-view+json": {
       "model_id": "ada8ac56d8b247a898e5fde4c45c37c2",
       "version_major": 2,
       "version_minor": 0
      },
      "text/plain": [
       "Training epoch 80:   0%|          | 0/10 [00:00<?, ?it/s]"
      ]
     },
     "metadata": {},
     "output_type": "display_data"
    },
    {
     "data": {
      "application/vnd.jupyter.widget-view+json": {
       "model_id": "f28e37efd2cf448aa68888c45b404bb6",
       "version_major": 2,
       "version_minor": 0
      },
      "text/plain": [
       "Training epoch 81:   0%|          | 0/10 [00:00<?, ?it/s]"
      ]
     },
     "metadata": {},
     "output_type": "display_data"
    },
    {
     "data": {
      "application/vnd.jupyter.widget-view+json": {
       "model_id": "2743e35a23824942be3b96960c0e59b6",
       "version_major": 2,
       "version_minor": 0
      },
      "text/plain": [
       "Training epoch 82:   0%|          | 0/10 [00:00<?, ?it/s]"
      ]
     },
     "metadata": {},
     "output_type": "display_data"
    },
    {
     "data": {
      "application/vnd.jupyter.widget-view+json": {
       "model_id": "f87867f9e493450fb6ff53a8686c8ee7",
       "version_major": 2,
       "version_minor": 0
      },
      "text/plain": [
       "Training epoch 83:   0%|          | 0/10 [00:00<?, ?it/s]"
      ]
     },
     "metadata": {},
     "output_type": "display_data"
    },
    {
     "data": {
      "application/vnd.jupyter.widget-view+json": {
       "model_id": "56faa66dc08740129378ab41c20a717a",
       "version_major": 2,
       "version_minor": 0
      },
      "text/plain": [
       "Training epoch 84:   0%|          | 0/10 [00:00<?, ?it/s]"
      ]
     },
     "metadata": {},
     "output_type": "display_data"
    },
    {
     "data": {
      "application/vnd.jupyter.widget-view+json": {
       "model_id": "f4117a409d3640ee9cdc06ee90edc129",
       "version_major": 2,
       "version_minor": 0
      },
      "text/plain": [
       "Training epoch 85:   0%|          | 0/10 [00:00<?, ?it/s]"
      ]
     },
     "metadata": {},
     "output_type": "display_data"
    },
    {
     "data": {
      "application/vnd.jupyter.widget-view+json": {
       "model_id": "7cdb9958c29c4011a675ffb47c643256",
       "version_major": 2,
       "version_minor": 0
      },
      "text/plain": [
       "Training epoch 86:   0%|          | 0/10 [00:00<?, ?it/s]"
      ]
     },
     "metadata": {},
     "output_type": "display_data"
    },
    {
     "data": {
      "application/vnd.jupyter.widget-view+json": {
       "model_id": "43773ccf7c544460b481913cb7672e43",
       "version_major": 2,
       "version_minor": 0
      },
      "text/plain": [
       "Training epoch 87:   0%|          | 0/10 [00:00<?, ?it/s]"
      ]
     },
     "metadata": {},
     "output_type": "display_data"
    },
    {
     "data": {
      "application/vnd.jupyter.widget-view+json": {
       "model_id": "2d3aa34d0dcc40b1923a10090e44d5d0",
       "version_major": 2,
       "version_minor": 0
      },
      "text/plain": [
       "Training epoch 88:   0%|          | 0/10 [00:00<?, ?it/s]"
      ]
     },
     "metadata": {},
     "output_type": "display_data"
    },
    {
     "data": {
      "application/vnd.jupyter.widget-view+json": {
       "model_id": "49036a65e41848c1a005777aba9c4058",
       "version_major": 2,
       "version_minor": 0
      },
      "text/plain": [
       "Training epoch 89:   0%|          | 0/10 [00:00<?, ?it/s]"
      ]
     },
     "metadata": {},
     "output_type": "display_data"
    },
    {
     "data": {
      "application/vnd.jupyter.widget-view+json": {
       "model_id": "21f924821adc4a27ac3f551ccae44a8d",
       "version_major": 2,
       "version_minor": 0
      },
      "text/plain": [
       "Training epoch 90:   0%|          | 0/10 [00:00<?, ?it/s]"
      ]
     },
     "metadata": {},
     "output_type": "display_data"
    },
    {
     "data": {
      "application/vnd.jupyter.widget-view+json": {
       "model_id": "92fc479115c64048aab0daa622792ce8",
       "version_major": 2,
       "version_minor": 0
      },
      "text/plain": [
       "Training epoch 91:   0%|          | 0/10 [00:00<?, ?it/s]"
      ]
     },
     "metadata": {},
     "output_type": "display_data"
    },
    {
     "data": {
      "application/vnd.jupyter.widget-view+json": {
       "model_id": "10dd778224844fc3b1ed04b95abb55c5",
       "version_major": 2,
       "version_minor": 0
      },
      "text/plain": [
       "Training epoch 92:   0%|          | 0/10 [00:00<?, ?it/s]"
      ]
     },
     "metadata": {},
     "output_type": "display_data"
    },
    {
     "data": {
      "application/vnd.jupyter.widget-view+json": {
       "model_id": "0abe05b1ae3c4f0e89952620286e0abe",
       "version_major": 2,
       "version_minor": 0
      },
      "text/plain": [
       "Training epoch 93:   0%|          | 0/10 [00:00<?, ?it/s]"
      ]
     },
     "metadata": {},
     "output_type": "display_data"
    },
    {
     "data": {
      "application/vnd.jupyter.widget-view+json": {
       "model_id": "31a5a586539c43fdb46f82ab72663b97",
       "version_major": 2,
       "version_minor": 0
      },
      "text/plain": [
       "Training epoch 94:   0%|          | 0/10 [00:00<?, ?it/s]"
      ]
     },
     "metadata": {},
     "output_type": "display_data"
    },
    {
     "data": {
      "application/vnd.jupyter.widget-view+json": {
       "model_id": "c10fbef3ef7e45768ffa421fbe31f641",
       "version_major": 2,
       "version_minor": 0
      },
      "text/plain": [
       "Training epoch 95:   0%|          | 0/10 [00:00<?, ?it/s]"
      ]
     },
     "metadata": {},
     "output_type": "display_data"
    },
    {
     "data": {
      "application/vnd.jupyter.widget-view+json": {
       "model_id": "8a29037f88e446dba2cb087c5dd185a2",
       "version_major": 2,
       "version_minor": 0
      },
      "text/plain": [
       "Training epoch 96:   0%|          | 0/10 [00:00<?, ?it/s]"
      ]
     },
     "metadata": {},
     "output_type": "display_data"
    },
    {
     "data": {
      "application/vnd.jupyter.widget-view+json": {
       "model_id": "2526026e9e5a49e5933c61c77b8dbe21",
       "version_major": 2,
       "version_minor": 0
      },
      "text/plain": [
       "Training epoch 97:   0%|          | 0/10 [00:00<?, ?it/s]"
      ]
     },
     "metadata": {},
     "output_type": "display_data"
    },
    {
     "data": {
      "application/vnd.jupyter.widget-view+json": {
       "model_id": "4df86bec60a24f94ac638236bdff1880",
       "version_major": 2,
       "version_minor": 0
      },
      "text/plain": [
       "Training epoch 98:   0%|          | 0/10 [00:00<?, ?it/s]"
      ]
     },
     "metadata": {},
     "output_type": "display_data"
    },
    {
     "data": {
      "application/vnd.jupyter.widget-view+json": {
       "model_id": "a4494a2df53b41a2846c8c31cc267844",
       "version_major": 2,
       "version_minor": 0
      },
      "text/plain": [
       "Training epoch 99:   0%|          | 0/10 [00:00<?, ?it/s]"
      ]
     },
     "metadata": {},
     "output_type": "display_data"
    },
    {
     "data": {
      "application/vnd.jupyter.widget-view+json": {
       "model_id": "4288379b07a445a09e559324d8cce709",
       "version_major": 2,
       "version_minor": 0
      },
      "text/plain": [
       "Training epoch 100:   0%|          | 0/10 [00:00<?, ?it/s]"
      ]
     },
     "metadata": {},
     "output_type": "display_data"
    },
    {
     "name": "stdout",
     "output_type": "stream",
     "text": [
      "Simulating new 10000 data sets and appending to previous...\n",
      "New total number of simulated data sets: 20000\n",
      "Converting 20000 simulations to a TensorFlow data set...\n"
     ]
    },
    {
     "data": {
      "application/vnd.jupyter.widget-view+json": {
       "model_id": "3ef235d0ce864ddb96bb6774cdd028a1",
       "version_major": 2,
       "version_minor": 0
      },
      "text/plain": [
       "Training epoch 1:   0%|          | 0/20 [00:00<?, ?it/s]"
      ]
     },
     "metadata": {},
     "output_type": "display_data"
    },
    {
     "data": {
      "application/vnd.jupyter.widget-view+json": {
       "model_id": "dcbac0778849414c856fc9da11aeee06",
       "version_major": 2,
       "version_minor": 0
      },
      "text/plain": [
       "Training epoch 2:   0%|          | 0/20 [00:00<?, ?it/s]"
      ]
     },
     "metadata": {},
     "output_type": "display_data"
    },
    {
     "data": {
      "application/vnd.jupyter.widget-view+json": {
       "model_id": "b00346e1bfc24338af4f62baf5fd0f3e",
       "version_major": 2,
       "version_minor": 0
      },
      "text/plain": [
       "Training epoch 3:   0%|          | 0/20 [00:00<?, ?it/s]"
      ]
     },
     "metadata": {},
     "output_type": "display_data"
    },
    {
     "data": {
      "application/vnd.jupyter.widget-view+json": {
       "model_id": "ebaa5f5ba9bd4636a6673d26ad63b772",
       "version_major": 2,
       "version_minor": 0
      },
      "text/plain": [
       "Training epoch 4:   0%|          | 0/20 [00:00<?, ?it/s]"
      ]
     },
     "metadata": {},
     "output_type": "display_data"
    },
    {
     "data": {
      "application/vnd.jupyter.widget-view+json": {
       "model_id": "6b78a520473747cc98ab37d197ac40fe",
       "version_major": 2,
       "version_minor": 0
      },
      "text/plain": [
       "Training epoch 5:   0%|          | 0/20 [00:00<?, ?it/s]"
      ]
     },
     "metadata": {},
     "output_type": "display_data"
    },
    {
     "data": {
      "application/vnd.jupyter.widget-view+json": {
       "model_id": "ed66eb7ba4174ce0a9c2aed972b98dd5",
       "version_major": 2,
       "version_minor": 0
      },
      "text/plain": [
       "Training epoch 6:   0%|          | 0/20 [00:00<?, ?it/s]"
      ]
     },
     "metadata": {},
     "output_type": "display_data"
    },
    {
     "data": {
      "application/vnd.jupyter.widget-view+json": {
       "model_id": "eea3ab8100564c199d6b99c42c4fc794",
       "version_major": 2,
       "version_minor": 0
      },
      "text/plain": [
       "Training epoch 7:   0%|          | 0/20 [00:00<?, ?it/s]"
      ]
     },
     "metadata": {},
     "output_type": "display_data"
    },
    {
     "data": {
      "application/vnd.jupyter.widget-view+json": {
       "model_id": "29614bb6aa2f426db90600ef5baf6554",
       "version_major": 2,
       "version_minor": 0
      },
      "text/plain": [
       "Training epoch 8:   0%|          | 0/20 [00:00<?, ?it/s]"
      ]
     },
     "metadata": {},
     "output_type": "display_data"
    },
    {
     "data": {
      "application/vnd.jupyter.widget-view+json": {
       "model_id": "f0921e3c7c5e4b489aac2f0a9b62c67e",
       "version_major": 2,
       "version_minor": 0
      },
      "text/plain": [
       "Training epoch 9:   0%|          | 0/20 [00:00<?, ?it/s]"
      ]
     },
     "metadata": {},
     "output_type": "display_data"
    },
    {
     "data": {
      "application/vnd.jupyter.widget-view+json": {
       "model_id": "f24c4ab723fb4b50a647345e7a497d79",
       "version_major": 2,
       "version_minor": 0
      },
      "text/plain": [
       "Training epoch 10:   0%|          | 0/20 [00:00<?, ?it/s]"
      ]
     },
     "metadata": {},
     "output_type": "display_data"
    },
    {
     "data": {
      "application/vnd.jupyter.widget-view+json": {
       "model_id": "2f9e730c606c4f2ba22205fb11781304",
       "version_major": 2,
       "version_minor": 0
      },
      "text/plain": [
       "Training epoch 11:   0%|          | 0/20 [00:00<?, ?it/s]"
      ]
     },
     "metadata": {},
     "output_type": "display_data"
    },
    {
     "data": {
      "application/vnd.jupyter.widget-view+json": {
       "model_id": "1368f26f7cbb492f815188fde9115777",
       "version_major": 2,
       "version_minor": 0
      },
      "text/plain": [
       "Training epoch 12:   0%|          | 0/20 [00:00<?, ?it/s]"
      ]
     },
     "metadata": {},
     "output_type": "display_data"
    },
    {
     "data": {
      "application/vnd.jupyter.widget-view+json": {
       "model_id": "10449972c5b846f2b05ef03603ee274b",
       "version_major": 2,
       "version_minor": 0
      },
      "text/plain": [
       "Training epoch 13:   0%|          | 0/20 [00:00<?, ?it/s]"
      ]
     },
     "metadata": {},
     "output_type": "display_data"
    },
    {
     "data": {
      "application/vnd.jupyter.widget-view+json": {
       "model_id": "7d081c84d64c484cb2cab53ed86faf1f",
       "version_major": 2,
       "version_minor": 0
      },
      "text/plain": [
       "Training epoch 14:   0%|          | 0/20 [00:00<?, ?it/s]"
      ]
     },
     "metadata": {},
     "output_type": "display_data"
    },
    {
     "data": {
      "application/vnd.jupyter.widget-view+json": {
       "model_id": "873dbfedde3d4b6792af4b28cb5f7c0b",
       "version_major": 2,
       "version_minor": 0
      },
      "text/plain": [
       "Training epoch 15:   0%|          | 0/20 [00:00<?, ?it/s]"
      ]
     },
     "metadata": {},
     "output_type": "display_data"
    },
    {
     "data": {
      "application/vnd.jupyter.widget-view+json": {
       "model_id": "a06bf96b2eab49c8a24a9054d9b21f43",
       "version_major": 2,
       "version_minor": 0
      },
      "text/plain": [
       "Training epoch 16:   0%|          | 0/20 [00:00<?, ?it/s]"
      ]
     },
     "metadata": {},
     "output_type": "display_data"
    },
    {
     "data": {
      "application/vnd.jupyter.widget-view+json": {
       "model_id": "8a16975592134a23a4ae596803fa0523",
       "version_major": 2,
       "version_minor": 0
      },
      "text/plain": [
       "Training epoch 17:   0%|          | 0/20 [00:00<?, ?it/s]"
      ]
     },
     "metadata": {},
     "output_type": "display_data"
    },
    {
     "data": {
      "application/vnd.jupyter.widget-view+json": {
       "model_id": "98d02b6490614314887af754a8a61631",
       "version_major": 2,
       "version_minor": 0
      },
      "text/plain": [
       "Training epoch 18:   0%|          | 0/20 [00:00<?, ?it/s]"
      ]
     },
     "metadata": {},
     "output_type": "display_data"
    },
    {
     "data": {
      "application/vnd.jupyter.widget-view+json": {
       "model_id": "995eb540b828434fbb915c17ba1c0814",
       "version_major": 2,
       "version_minor": 0
      },
      "text/plain": [
       "Training epoch 19:   0%|          | 0/20 [00:00<?, ?it/s]"
      ]
     },
     "metadata": {},
     "output_type": "display_data"
    },
    {
     "data": {
      "application/vnd.jupyter.widget-view+json": {
       "model_id": "17f225dc80664c5891eeaad5df2428c5",
       "version_major": 2,
       "version_minor": 0
      },
      "text/plain": [
       "Training epoch 20:   0%|          | 0/20 [00:00<?, ?it/s]"
      ]
     },
     "metadata": {},
     "output_type": "display_data"
    },
    {
     "data": {
      "application/vnd.jupyter.widget-view+json": {
       "model_id": "3a64580539de4e9db1989d47eda20b93",
       "version_major": 2,
       "version_minor": 0
      },
      "text/plain": [
       "Training epoch 21:   0%|          | 0/20 [00:00<?, ?it/s]"
      ]
     },
     "metadata": {},
     "output_type": "display_data"
    },
    {
     "data": {
      "application/vnd.jupyter.widget-view+json": {
       "model_id": "60cc16219b0647229c3a93754bd263d4",
       "version_major": 2,
       "version_minor": 0
      },
      "text/plain": [
       "Training epoch 22:   0%|          | 0/20 [00:00<?, ?it/s]"
      ]
     },
     "metadata": {},
     "output_type": "display_data"
    },
    {
     "data": {
      "application/vnd.jupyter.widget-view+json": {
       "model_id": "d32ec0bdf6844e45b8c8712353c51a44",
       "version_major": 2,
       "version_minor": 0
      },
      "text/plain": [
       "Training epoch 23:   0%|          | 0/20 [00:00<?, ?it/s]"
      ]
     },
     "metadata": {},
     "output_type": "display_data"
    },
    {
     "data": {
      "application/vnd.jupyter.widget-view+json": {
       "model_id": "2ef1e0aac94e447e93e254967085b792",
       "version_major": 2,
       "version_minor": 0
      },
      "text/plain": [
       "Training epoch 24:   0%|          | 0/20 [00:00<?, ?it/s]"
      ]
     },
     "metadata": {},
     "output_type": "display_data"
    },
    {
     "data": {
      "application/vnd.jupyter.widget-view+json": {
       "model_id": "c3c69c2404cb4c3487bd794f358670a9",
       "version_major": 2,
       "version_minor": 0
      },
      "text/plain": [
       "Training epoch 25:   0%|          | 0/20 [00:00<?, ?it/s]"
      ]
     },
     "metadata": {},
     "output_type": "display_data"
    },
    {
     "data": {
      "application/vnd.jupyter.widget-view+json": {
       "model_id": "77da691aca254b25afdcb7593fe375b2",
       "version_major": 2,
       "version_minor": 0
      },
      "text/plain": [
       "Training epoch 26:   0%|          | 0/20 [00:00<?, ?it/s]"
      ]
     },
     "metadata": {},
     "output_type": "display_data"
    },
    {
     "data": {
      "application/vnd.jupyter.widget-view+json": {
       "model_id": "631df52a986b4fbf8af0dfdef7ce609c",
       "version_major": 2,
       "version_minor": 0
      },
      "text/plain": [
       "Training epoch 27:   0%|          | 0/20 [00:00<?, ?it/s]"
      ]
     },
     "metadata": {},
     "output_type": "display_data"
    },
    {
     "data": {
      "application/vnd.jupyter.widget-view+json": {
       "model_id": "c850329382844855b975d941c3dd9687",
       "version_major": 2,
       "version_minor": 0
      },
      "text/plain": [
       "Training epoch 28:   0%|          | 0/20 [00:00<?, ?it/s]"
      ]
     },
     "metadata": {},
     "output_type": "display_data"
    },
    {
     "data": {
      "application/vnd.jupyter.widget-view+json": {
       "model_id": "c4605fbe08e840909c019d045cc6ffdd",
       "version_major": 2,
       "version_minor": 0
      },
      "text/plain": [
       "Training epoch 29:   0%|          | 0/20 [00:00<?, ?it/s]"
      ]
     },
     "metadata": {},
     "output_type": "display_data"
    },
    {
     "data": {
      "application/vnd.jupyter.widget-view+json": {
       "model_id": "867a9b0acde2403882dca91d88355d28",
       "version_major": 2,
       "version_minor": 0
      },
      "text/plain": [
       "Training epoch 30:   0%|          | 0/20 [00:00<?, ?it/s]"
      ]
     },
     "metadata": {},
     "output_type": "display_data"
    },
    {
     "data": {
      "application/vnd.jupyter.widget-view+json": {
       "model_id": "1556305e90f64fb99431f9a8ca04c7c5",
       "version_major": 2,
       "version_minor": 0
      },
      "text/plain": [
       "Training epoch 31:   0%|          | 0/20 [00:00<?, ?it/s]"
      ]
     },
     "metadata": {},
     "output_type": "display_data"
    },
    {
     "data": {
      "application/vnd.jupyter.widget-view+json": {
       "model_id": "188fc5de7ab94a4680fd944645c29367",
       "version_major": 2,
       "version_minor": 0
      },
      "text/plain": [
       "Training epoch 32:   0%|          | 0/20 [00:00<?, ?it/s]"
      ]
     },
     "metadata": {},
     "output_type": "display_data"
    },
    {
     "data": {
      "application/vnd.jupyter.widget-view+json": {
       "model_id": "4b7b48627acc42cd856f20d0c7f00956",
       "version_major": 2,
       "version_minor": 0
      },
      "text/plain": [
       "Training epoch 33:   0%|          | 0/20 [00:00<?, ?it/s]"
      ]
     },
     "metadata": {},
     "output_type": "display_data"
    },
    {
     "data": {
      "application/vnd.jupyter.widget-view+json": {
       "model_id": "d152a1bc23304f099c74fdd6eec52901",
       "version_major": 2,
       "version_minor": 0
      },
      "text/plain": [
       "Training epoch 34:   0%|          | 0/20 [00:00<?, ?it/s]"
      ]
     },
     "metadata": {},
     "output_type": "display_data"
    },
    {
     "data": {
      "application/vnd.jupyter.widget-view+json": {
       "model_id": "44d7e85e7a7747e2808e68d8a813918b",
       "version_major": 2,
       "version_minor": 0
      },
      "text/plain": [
       "Training epoch 35:   0%|          | 0/20 [00:00<?, ?it/s]"
      ]
     },
     "metadata": {},
     "output_type": "display_data"
    },
    {
     "data": {
      "application/vnd.jupyter.widget-view+json": {
       "model_id": "dae832664e504420901cb6445600c116",
       "version_major": 2,
       "version_minor": 0
      },
      "text/plain": [
       "Training epoch 36:   0%|          | 0/20 [00:00<?, ?it/s]"
      ]
     },
     "metadata": {},
     "output_type": "display_data"
    },
    {
     "data": {
      "application/vnd.jupyter.widget-view+json": {
       "model_id": "9756053b2de54f7b8e2843e8a3a1580a",
       "version_major": 2,
       "version_minor": 0
      },
      "text/plain": [
       "Training epoch 37:   0%|          | 0/20 [00:00<?, ?it/s]"
      ]
     },
     "metadata": {},
     "output_type": "display_data"
    },
    {
     "data": {
      "application/vnd.jupyter.widget-view+json": {
       "model_id": "f51066f7ae914bc48ff411e0644df929",
       "version_major": 2,
       "version_minor": 0
      },
      "text/plain": [
       "Training epoch 38:   0%|          | 0/20 [00:00<?, ?it/s]"
      ]
     },
     "metadata": {},
     "output_type": "display_data"
    },
    {
     "data": {
      "application/vnd.jupyter.widget-view+json": {
       "model_id": "55009262ba79493d83f193e44bdc3523",
       "version_major": 2,
       "version_minor": 0
      },
      "text/plain": [
       "Training epoch 39:   0%|          | 0/20 [00:00<?, ?it/s]"
      ]
     },
     "metadata": {},
     "output_type": "display_data"
    },
    {
     "data": {
      "application/vnd.jupyter.widget-view+json": {
       "model_id": "c2aa09f6858d40b7a994301087b34c32",
       "version_major": 2,
       "version_minor": 0
      },
      "text/plain": [
       "Training epoch 40:   0%|          | 0/20 [00:00<?, ?it/s]"
      ]
     },
     "metadata": {},
     "output_type": "display_data"
    },
    {
     "data": {
      "application/vnd.jupyter.widget-view+json": {
       "model_id": "429d9bd8f3954589b5c758c4ade93b8d",
       "version_major": 2,
       "version_minor": 0
      },
      "text/plain": [
       "Training epoch 41:   0%|          | 0/20 [00:00<?, ?it/s]"
      ]
     },
     "metadata": {},
     "output_type": "display_data"
    },
    {
     "data": {
      "application/vnd.jupyter.widget-view+json": {
       "model_id": "e0fe948020074210862121f642236fce",
       "version_major": 2,
       "version_minor": 0
      },
      "text/plain": [
       "Training epoch 42:   0%|          | 0/20 [00:00<?, ?it/s]"
      ]
     },
     "metadata": {},
     "output_type": "display_data"
    },
    {
     "data": {
      "application/vnd.jupyter.widget-view+json": {
       "model_id": "c2e2b0837bbf47d39b35a6c67dc2ce20",
       "version_major": 2,
       "version_minor": 0
      },
      "text/plain": [
       "Training epoch 43:   0%|          | 0/20 [00:00<?, ?it/s]"
      ]
     },
     "metadata": {},
     "output_type": "display_data"
    },
    {
     "data": {
      "application/vnd.jupyter.widget-view+json": {
       "model_id": "f2593c97a0654f21b6d7d5b3a58ebc44",
       "version_major": 2,
       "version_minor": 0
      },
      "text/plain": [
       "Training epoch 44:   0%|          | 0/20 [00:00<?, ?it/s]"
      ]
     },
     "metadata": {},
     "output_type": "display_data"
    },
    {
     "data": {
      "application/vnd.jupyter.widget-view+json": {
       "model_id": "b591bb9f20ac4531a88dd8de79783ab6",
       "version_major": 2,
       "version_minor": 0
      },
      "text/plain": [
       "Training epoch 45:   0%|          | 0/20 [00:00<?, ?it/s]"
      ]
     },
     "metadata": {},
     "output_type": "display_data"
    },
    {
     "data": {
      "application/vnd.jupyter.widget-view+json": {
       "model_id": "533ec25e16b14b99b1d55a5e3bfac1a1",
       "version_major": 2,
       "version_minor": 0
      },
      "text/plain": [
       "Training epoch 46:   0%|          | 0/20 [00:00<?, ?it/s]"
      ]
     },
     "metadata": {},
     "output_type": "display_data"
    },
    {
     "data": {
      "application/vnd.jupyter.widget-view+json": {
       "model_id": "b1f78e65bbfd40f6a238f9ab51451f03",
       "version_major": 2,
       "version_minor": 0
      },
      "text/plain": [
       "Training epoch 47:   0%|          | 0/20 [00:00<?, ?it/s]"
      ]
     },
     "metadata": {},
     "output_type": "display_data"
    },
    {
     "data": {
      "application/vnd.jupyter.widget-view+json": {
       "model_id": "d65db4747720449d8897c2395c151d46",
       "version_major": 2,
       "version_minor": 0
      },
      "text/plain": [
       "Training epoch 48:   0%|          | 0/20 [00:00<?, ?it/s]"
      ]
     },
     "metadata": {},
     "output_type": "display_data"
    },
    {
     "data": {
      "application/vnd.jupyter.widget-view+json": {
       "model_id": "74ff63d7dcb24e9fbdb6d561dcc0aa81",
       "version_major": 2,
       "version_minor": 0
      },
      "text/plain": [
       "Training epoch 49:   0%|          | 0/20 [00:00<?, ?it/s]"
      ]
     },
     "metadata": {},
     "output_type": "display_data"
    },
    {
     "data": {
      "application/vnd.jupyter.widget-view+json": {
       "model_id": "aa859b1c79224885a1ea726789d37326",
       "version_major": 2,
       "version_minor": 0
      },
      "text/plain": [
       "Training epoch 50:   0%|          | 0/20 [00:00<?, ?it/s]"
      ]
     },
     "metadata": {},
     "output_type": "display_data"
    },
    {
     "data": {
      "application/vnd.jupyter.widget-view+json": {
       "model_id": "230726dbedb9465f89d1159a5f3d1142",
       "version_major": 2,
       "version_minor": 0
      },
      "text/plain": [
       "Training epoch 51:   0%|          | 0/20 [00:00<?, ?it/s]"
      ]
     },
     "metadata": {},
     "output_type": "display_data"
    },
    {
     "data": {
      "application/vnd.jupyter.widget-view+json": {
       "model_id": "4e19fbcca9a0417ab7efd33a78db6254",
       "version_major": 2,
       "version_minor": 0
      },
      "text/plain": [
       "Training epoch 52:   0%|          | 0/20 [00:00<?, ?it/s]"
      ]
     },
     "metadata": {},
     "output_type": "display_data"
    },
    {
     "data": {
      "application/vnd.jupyter.widget-view+json": {
       "model_id": "3b2f37a740b64f1b9122b6220193037e",
       "version_major": 2,
       "version_minor": 0
      },
      "text/plain": [
       "Training epoch 53:   0%|          | 0/20 [00:00<?, ?it/s]"
      ]
     },
     "metadata": {},
     "output_type": "display_data"
    },
    {
     "data": {
      "application/vnd.jupyter.widget-view+json": {
       "model_id": "1ea7ec1e0ea845198b610b8487d09c9e",
       "version_major": 2,
       "version_minor": 0
      },
      "text/plain": [
       "Training epoch 54:   0%|          | 0/20 [00:00<?, ?it/s]"
      ]
     },
     "metadata": {},
     "output_type": "display_data"
    },
    {
     "data": {
      "application/vnd.jupyter.widget-view+json": {
       "model_id": "f6d7ef4501bd41e980f2e397e6f06d1b",
       "version_major": 2,
       "version_minor": 0
      },
      "text/plain": [
       "Training epoch 55:   0%|          | 0/20 [00:00<?, ?it/s]"
      ]
     },
     "metadata": {},
     "output_type": "display_data"
    },
    {
     "data": {
      "application/vnd.jupyter.widget-view+json": {
       "model_id": "94e70690caed4da18635f944513ed740",
       "version_major": 2,
       "version_minor": 0
      },
      "text/plain": [
       "Training epoch 56:   0%|          | 0/20 [00:00<?, ?it/s]"
      ]
     },
     "metadata": {},
     "output_type": "display_data"
    },
    {
     "data": {
      "application/vnd.jupyter.widget-view+json": {
       "model_id": "dd314c3df2e44c8281842a882b2e67c2",
       "version_major": 2,
       "version_minor": 0
      },
      "text/plain": [
       "Training epoch 57:   0%|          | 0/20 [00:00<?, ?it/s]"
      ]
     },
     "metadata": {},
     "output_type": "display_data"
    },
    {
     "data": {
      "application/vnd.jupyter.widget-view+json": {
       "model_id": "0833b1432537431cbbce69944a767796",
       "version_major": 2,
       "version_minor": 0
      },
      "text/plain": [
       "Training epoch 58:   0%|          | 0/20 [00:00<?, ?it/s]"
      ]
     },
     "metadata": {},
     "output_type": "display_data"
    },
    {
     "data": {
      "application/vnd.jupyter.widget-view+json": {
       "model_id": "af9d501a35ae41b9ac01747a0fa0b663",
       "version_major": 2,
       "version_minor": 0
      },
      "text/plain": [
       "Training epoch 59:   0%|          | 0/20 [00:00<?, ?it/s]"
      ]
     },
     "metadata": {},
     "output_type": "display_data"
    },
    {
     "data": {
      "application/vnd.jupyter.widget-view+json": {
       "model_id": "09ae2de9b312499ebd310442ece0f7aa",
       "version_major": 2,
       "version_minor": 0
      },
      "text/plain": [
       "Training epoch 60:   0%|          | 0/20 [00:00<?, ?it/s]"
      ]
     },
     "metadata": {},
     "output_type": "display_data"
    },
    {
     "data": {
      "application/vnd.jupyter.widget-view+json": {
       "model_id": "7a7f2bb456de44f2b7bdd8a7dfdd0aac",
       "version_major": 2,
       "version_minor": 0
      },
      "text/plain": [
       "Training epoch 61:   0%|          | 0/20 [00:00<?, ?it/s]"
      ]
     },
     "metadata": {},
     "output_type": "display_data"
    },
    {
     "data": {
      "application/vnd.jupyter.widget-view+json": {
       "model_id": "507df6c34ba54ef399f30706011bdebd",
       "version_major": 2,
       "version_minor": 0
      },
      "text/plain": [
       "Training epoch 62:   0%|          | 0/20 [00:00<?, ?it/s]"
      ]
     },
     "metadata": {},
     "output_type": "display_data"
    },
    {
     "data": {
      "application/vnd.jupyter.widget-view+json": {
       "model_id": "b9e9f43045464ce8a43cdfeed5cb26d7",
       "version_major": 2,
       "version_minor": 0
      },
      "text/plain": [
       "Training epoch 63:   0%|          | 0/20 [00:00<?, ?it/s]"
      ]
     },
     "metadata": {},
     "output_type": "display_data"
    },
    {
     "data": {
      "application/vnd.jupyter.widget-view+json": {
       "model_id": "8e36f7fc89cd4c58b3e1382ca697545c",
       "version_major": 2,
       "version_minor": 0
      },
      "text/plain": [
       "Training epoch 64:   0%|          | 0/20 [00:00<?, ?it/s]"
      ]
     },
     "metadata": {},
     "output_type": "display_data"
    },
    {
     "data": {
      "application/vnd.jupyter.widget-view+json": {
       "model_id": "b47bcdcd1e9f4cec90f99b0ba2491088",
       "version_major": 2,
       "version_minor": 0
      },
      "text/plain": [
       "Training epoch 65:   0%|          | 0/20 [00:00<?, ?it/s]"
      ]
     },
     "metadata": {},
     "output_type": "display_data"
    },
    {
     "data": {
      "application/vnd.jupyter.widget-view+json": {
       "model_id": "c49c67d62763416da625c81714a58a62",
       "version_major": 2,
       "version_minor": 0
      },
      "text/plain": [
       "Training epoch 66:   0%|          | 0/20 [00:00<?, ?it/s]"
      ]
     },
     "metadata": {},
     "output_type": "display_data"
    },
    {
     "data": {
      "application/vnd.jupyter.widget-view+json": {
       "model_id": "1439e50d5d714bda990e386472c7ec74",
       "version_major": 2,
       "version_minor": 0
      },
      "text/plain": [
       "Training epoch 67:   0%|          | 0/20 [00:00<?, ?it/s]"
      ]
     },
     "metadata": {},
     "output_type": "display_data"
    },
    {
     "data": {
      "application/vnd.jupyter.widget-view+json": {
       "model_id": "421f207e5ee4425aad960dcdf16c0cfe",
       "version_major": 2,
       "version_minor": 0
      },
      "text/plain": [
       "Training epoch 68:   0%|          | 0/20 [00:00<?, ?it/s]"
      ]
     },
     "metadata": {},
     "output_type": "display_data"
    },
    {
     "data": {
      "application/vnd.jupyter.widget-view+json": {
       "model_id": "3cd75de3fa0846768410d7d6806f012a",
       "version_major": 2,
       "version_minor": 0
      },
      "text/plain": [
       "Training epoch 69:   0%|          | 0/20 [00:00<?, ?it/s]"
      ]
     },
     "metadata": {},
     "output_type": "display_data"
    },
    {
     "data": {
      "application/vnd.jupyter.widget-view+json": {
       "model_id": "bd1ed0c9559e476d94e783922a0a372b",
       "version_major": 2,
       "version_minor": 0
      },
      "text/plain": [
       "Training epoch 70:   0%|          | 0/20 [00:00<?, ?it/s]"
      ]
     },
     "metadata": {},
     "output_type": "display_data"
    },
    {
     "data": {
      "application/vnd.jupyter.widget-view+json": {
       "model_id": "cb49ef18acef4f7a880b0174f06eaba6",
       "version_major": 2,
       "version_minor": 0
      },
      "text/plain": [
       "Training epoch 71:   0%|          | 0/20 [00:00<?, ?it/s]"
      ]
     },
     "metadata": {},
     "output_type": "display_data"
    },
    {
     "data": {
      "application/vnd.jupyter.widget-view+json": {
       "model_id": "6f4a140fd0cf4dcabdc1624d44698342",
       "version_major": 2,
       "version_minor": 0
      },
      "text/plain": [
       "Training epoch 72:   0%|          | 0/20 [00:00<?, ?it/s]"
      ]
     },
     "metadata": {},
     "output_type": "display_data"
    },
    {
     "data": {
      "application/vnd.jupyter.widget-view+json": {
       "model_id": "be99dbc3caae45b0b47fabcb44158798",
       "version_major": 2,
       "version_minor": 0
      },
      "text/plain": [
       "Training epoch 73:   0%|          | 0/20 [00:00<?, ?it/s]"
      ]
     },
     "metadata": {},
     "output_type": "display_data"
    },
    {
     "data": {
      "application/vnd.jupyter.widget-view+json": {
       "model_id": "aeabc5e0d620423d8404ca4632efd0ca",
       "version_major": 2,
       "version_minor": 0
      },
      "text/plain": [
       "Training epoch 74:   0%|          | 0/20 [00:00<?, ?it/s]"
      ]
     },
     "metadata": {},
     "output_type": "display_data"
    },
    {
     "data": {
      "application/vnd.jupyter.widget-view+json": {
       "model_id": "4acf9e60dd5f401db0198fbf651a0036",
       "version_major": 2,
       "version_minor": 0
      },
      "text/plain": [
       "Training epoch 75:   0%|          | 0/20 [00:00<?, ?it/s]"
      ]
     },
     "metadata": {},
     "output_type": "display_data"
    },
    {
     "data": {
      "application/vnd.jupyter.widget-view+json": {
       "model_id": "a5c9424294a3432f8c52165f4bf2231d",
       "version_major": 2,
       "version_minor": 0
      },
      "text/plain": [
       "Training epoch 76:   0%|          | 0/20 [00:00<?, ?it/s]"
      ]
     },
     "metadata": {},
     "output_type": "display_data"
    },
    {
     "data": {
      "application/vnd.jupyter.widget-view+json": {
       "model_id": "68e5cfc9a678422a899357ac51ee4f0d",
       "version_major": 2,
       "version_minor": 0
      },
      "text/plain": [
       "Training epoch 77:   0%|          | 0/20 [00:00<?, ?it/s]"
      ]
     },
     "metadata": {},
     "output_type": "display_data"
    },
    {
     "data": {
      "application/vnd.jupyter.widget-view+json": {
       "model_id": "5f37439578034ae79f55f1fb949cea93",
       "version_major": 2,
       "version_minor": 0
      },
      "text/plain": [
       "Training epoch 78:   0%|          | 0/20 [00:00<?, ?it/s]"
      ]
     },
     "metadata": {},
     "output_type": "display_data"
    },
    {
     "data": {
      "application/vnd.jupyter.widget-view+json": {
       "model_id": "5cbabe213a0d44798fca0a054f225190",
       "version_major": 2,
       "version_minor": 0
      },
      "text/plain": [
       "Training epoch 79:   0%|          | 0/20 [00:00<?, ?it/s]"
      ]
     },
     "metadata": {},
     "output_type": "display_data"
    },
    {
     "data": {
      "application/vnd.jupyter.widget-view+json": {
       "model_id": "26809d217ecb49f48bac3d3f0057fc5f",
       "version_major": 2,
       "version_minor": 0
      },
      "text/plain": [
       "Training epoch 80:   0%|          | 0/20 [00:00<?, ?it/s]"
      ]
     },
     "metadata": {},
     "output_type": "display_data"
    },
    {
     "data": {
      "application/vnd.jupyter.widget-view+json": {
       "model_id": "7355c1d21194498dae8c4c3243c04f75",
       "version_major": 2,
       "version_minor": 0
      },
      "text/plain": [
       "Training epoch 81:   0%|          | 0/20 [00:00<?, ?it/s]"
      ]
     },
     "metadata": {},
     "output_type": "display_data"
    },
    {
     "data": {
      "application/vnd.jupyter.widget-view+json": {
       "model_id": "2971f6567c4b429b991b512a5667cb4a",
       "version_major": 2,
       "version_minor": 0
      },
      "text/plain": [
       "Training epoch 82:   0%|          | 0/20 [00:00<?, ?it/s]"
      ]
     },
     "metadata": {},
     "output_type": "display_data"
    },
    {
     "data": {
      "application/vnd.jupyter.widget-view+json": {
       "model_id": "ea1dba66011545489fc8787395816913",
       "version_major": 2,
       "version_minor": 0
      },
      "text/plain": [
       "Training epoch 83:   0%|          | 0/20 [00:00<?, ?it/s]"
      ]
     },
     "metadata": {},
     "output_type": "display_data"
    },
    {
     "data": {
      "application/vnd.jupyter.widget-view+json": {
       "model_id": "2ed516f5ff074b46b82e3a3431ee6976",
       "version_major": 2,
       "version_minor": 0
      },
      "text/plain": [
       "Training epoch 84:   0%|          | 0/20 [00:00<?, ?it/s]"
      ]
     },
     "metadata": {},
     "output_type": "display_data"
    },
    {
     "data": {
      "application/vnd.jupyter.widget-view+json": {
       "model_id": "b091703a7a8d44519a11f4ade5dfb75c",
       "version_major": 2,
       "version_minor": 0
      },
      "text/plain": [
       "Training epoch 85:   0%|          | 0/20 [00:00<?, ?it/s]"
      ]
     },
     "metadata": {},
     "output_type": "display_data"
    },
    {
     "data": {
      "application/vnd.jupyter.widget-view+json": {
       "model_id": "f777f22495974a2d9bc0ecea5da7030c",
       "version_major": 2,
       "version_minor": 0
      },
      "text/plain": [
       "Training epoch 86:   0%|          | 0/20 [00:00<?, ?it/s]"
      ]
     },
     "metadata": {},
     "output_type": "display_data"
    },
    {
     "data": {
      "application/vnd.jupyter.widget-view+json": {
       "model_id": "ac2af1347c0e41f198a43f35db3bafc2",
       "version_major": 2,
       "version_minor": 0
      },
      "text/plain": [
       "Training epoch 87:   0%|          | 0/20 [00:00<?, ?it/s]"
      ]
     },
     "metadata": {},
     "output_type": "display_data"
    },
    {
     "data": {
      "application/vnd.jupyter.widget-view+json": {
       "model_id": "7a1cf24ca4c448088811e083af66325a",
       "version_major": 2,
       "version_minor": 0
      },
      "text/plain": [
       "Training epoch 88:   0%|          | 0/20 [00:00<?, ?it/s]"
      ]
     },
     "metadata": {},
     "output_type": "display_data"
    },
    {
     "data": {
      "application/vnd.jupyter.widget-view+json": {
       "model_id": "5fae88afc91b41158821bbd9b1dd62f9",
       "version_major": 2,
       "version_minor": 0
      },
      "text/plain": [
       "Training epoch 89:   0%|          | 0/20 [00:00<?, ?it/s]"
      ]
     },
     "metadata": {},
     "output_type": "display_data"
    },
    {
     "data": {
      "application/vnd.jupyter.widget-view+json": {
       "model_id": "9f748fbf219a47eabdae95fe0945d42a",
       "version_major": 2,
       "version_minor": 0
      },
      "text/plain": [
       "Training epoch 90:   0%|          | 0/20 [00:00<?, ?it/s]"
      ]
     },
     "metadata": {},
     "output_type": "display_data"
    },
    {
     "data": {
      "application/vnd.jupyter.widget-view+json": {
       "model_id": "0de62512ba904a0fa7ac2ee1a69ccf11",
       "version_major": 2,
       "version_minor": 0
      },
      "text/plain": [
       "Training epoch 91:   0%|          | 0/20 [00:00<?, ?it/s]"
      ]
     },
     "metadata": {},
     "output_type": "display_data"
    },
    {
     "data": {
      "application/vnd.jupyter.widget-view+json": {
       "model_id": "98c555ec6ab34d39bb345caf6b3886da",
       "version_major": 2,
       "version_minor": 0
      },
      "text/plain": [
       "Training epoch 92:   0%|          | 0/20 [00:00<?, ?it/s]"
      ]
     },
     "metadata": {},
     "output_type": "display_data"
    },
    {
     "data": {
      "application/vnd.jupyter.widget-view+json": {
       "model_id": "ec5a7d8930584484a230ec9e37126d57",
       "version_major": 2,
       "version_minor": 0
      },
      "text/plain": [
       "Training epoch 93:   0%|          | 0/20 [00:00<?, ?it/s]"
      ]
     },
     "metadata": {},
     "output_type": "display_data"
    },
    {
     "data": {
      "application/vnd.jupyter.widget-view+json": {
       "model_id": "1871c24dc06b493c8e63ecaf0f622ade",
       "version_major": 2,
       "version_minor": 0
      },
      "text/plain": [
       "Training epoch 94:   0%|          | 0/20 [00:00<?, ?it/s]"
      ]
     },
     "metadata": {},
     "output_type": "display_data"
    },
    {
     "data": {
      "application/vnd.jupyter.widget-view+json": {
       "model_id": "1daedae5bf8f4b9a8ffa72280879c279",
       "version_major": 2,
       "version_minor": 0
      },
      "text/plain": [
       "Training epoch 95:   0%|          | 0/20 [00:00<?, ?it/s]"
      ]
     },
     "metadata": {},
     "output_type": "display_data"
    },
    {
     "data": {
      "application/vnd.jupyter.widget-view+json": {
       "model_id": "886a6c356b5b4556895f5d91ea38d480",
       "version_major": 2,
       "version_minor": 0
      },
      "text/plain": [
       "Training epoch 96:   0%|          | 0/20 [00:00<?, ?it/s]"
      ]
     },
     "metadata": {},
     "output_type": "display_data"
    },
    {
     "data": {
      "application/vnd.jupyter.widget-view+json": {
       "model_id": "90ff11ad08b1469ba4eae8352e809744",
       "version_major": 2,
       "version_minor": 0
      },
      "text/plain": [
       "Training epoch 97:   0%|          | 0/20 [00:00<?, ?it/s]"
      ]
     },
     "metadata": {},
     "output_type": "display_data"
    },
    {
     "data": {
      "application/vnd.jupyter.widget-view+json": {
       "model_id": "32bf32f61c484d22b9e5e9bf4f44be0f",
       "version_major": 2,
       "version_minor": 0
      },
      "text/plain": [
       "Training epoch 98:   0%|          | 0/20 [00:00<?, ?it/s]"
      ]
     },
     "metadata": {},
     "output_type": "display_data"
    },
    {
     "data": {
      "application/vnd.jupyter.widget-view+json": {
       "model_id": "42d3bc74536746378d6cb0c3299f261e",
       "version_major": 2,
       "version_minor": 0
      },
      "text/plain": [
       "Training epoch 99:   0%|          | 0/20 [00:00<?, ?it/s]"
      ]
     },
     "metadata": {},
     "output_type": "display_data"
    },
    {
     "data": {
      "application/vnd.jupyter.widget-view+json": {
       "model_id": "8d3d9f9abb9347249a7f9211b1a2b8f7",
       "version_major": 2,
       "version_minor": 0
      },
      "text/plain": [
       "Training epoch 100:   0%|          | 0/20 [00:00<?, ?it/s]"
      ]
     },
     "metadata": {},
     "output_type": "display_data"
    },
    {
     "name": "stdout",
     "output_type": "stream",
     "text": [
      "Simulating new 10000 data sets and appending to previous...\n",
      "New total number of simulated data sets: 30000\n",
      "Converting 30000 simulations to a TensorFlow data set...\n"
     ]
    },
    {
     "data": {
      "application/vnd.jupyter.widget-view+json": {
       "model_id": "2a23813d7ebf41ccab8e448d0b0223c8",
       "version_major": 2,
       "version_minor": 0
      },
      "text/plain": [
       "Training epoch 1:   0%|          | 0/30 [00:00<?, ?it/s]"
      ]
     },
     "metadata": {},
     "output_type": "display_data"
    },
    {
     "data": {
      "application/vnd.jupyter.widget-view+json": {
       "model_id": "45702705266d4e26a98540dc7521ed9b",
       "version_major": 2,
       "version_minor": 0
      },
      "text/plain": [
       "Training epoch 2:   0%|          | 0/30 [00:00<?, ?it/s]"
      ]
     },
     "metadata": {},
     "output_type": "display_data"
    },
    {
     "data": {
      "application/vnd.jupyter.widget-view+json": {
       "model_id": "b111aa4e7ce14e0dba245a5eb4154707",
       "version_major": 2,
       "version_minor": 0
      },
      "text/plain": [
       "Training epoch 3:   0%|          | 0/30 [00:00<?, ?it/s]"
      ]
     },
     "metadata": {},
     "output_type": "display_data"
    },
    {
     "data": {
      "application/vnd.jupyter.widget-view+json": {
       "model_id": "953734d62b6b4b4c8c60d31a595f0fbd",
       "version_major": 2,
       "version_minor": 0
      },
      "text/plain": [
       "Training epoch 4:   0%|          | 0/30 [00:00<?, ?it/s]"
      ]
     },
     "metadata": {},
     "output_type": "display_data"
    },
    {
     "data": {
      "application/vnd.jupyter.widget-view+json": {
       "model_id": "aff0cef905a64475a4f16dff5cc48c9f",
       "version_major": 2,
       "version_minor": 0
      },
      "text/plain": [
       "Training epoch 5:   0%|          | 0/30 [00:00<?, ?it/s]"
      ]
     },
     "metadata": {},
     "output_type": "display_data"
    },
    {
     "data": {
      "application/vnd.jupyter.widget-view+json": {
       "model_id": "7a3af5674a464302bbc4700180be5ecb",
       "version_major": 2,
       "version_minor": 0
      },
      "text/plain": [
       "Training epoch 6:   0%|          | 0/30 [00:00<?, ?it/s]"
      ]
     },
     "metadata": {},
     "output_type": "display_data"
    },
    {
     "data": {
      "application/vnd.jupyter.widget-view+json": {
       "model_id": "4236ebd738434983876736c4d059e4ef",
       "version_major": 2,
       "version_minor": 0
      },
      "text/plain": [
       "Training epoch 7:   0%|          | 0/30 [00:00<?, ?it/s]"
      ]
     },
     "metadata": {},
     "output_type": "display_data"
    },
    {
     "data": {
      "application/vnd.jupyter.widget-view+json": {
       "model_id": "3238554dd81349929f03bbb3d99c62ff",
       "version_major": 2,
       "version_minor": 0
      },
      "text/plain": [
       "Training epoch 8:   0%|          | 0/30 [00:00<?, ?it/s]"
      ]
     },
     "metadata": {},
     "output_type": "display_data"
    },
    {
     "data": {
      "application/vnd.jupyter.widget-view+json": {
       "model_id": "f15e04d899084bca862d8e4e198fd92d",
       "version_major": 2,
       "version_minor": 0
      },
      "text/plain": [
       "Training epoch 9:   0%|          | 0/30 [00:00<?, ?it/s]"
      ]
     },
     "metadata": {},
     "output_type": "display_data"
    },
    {
     "data": {
      "application/vnd.jupyter.widget-view+json": {
       "model_id": "5c5c320fa167474baaaaa38fd5494aef",
       "version_major": 2,
       "version_minor": 0
      },
      "text/plain": [
       "Training epoch 10:   0%|          | 0/30 [00:00<?, ?it/s]"
      ]
     },
     "metadata": {},
     "output_type": "display_data"
    },
    {
     "data": {
      "application/vnd.jupyter.widget-view+json": {
       "model_id": "e694d26a0e034d4fb63660072d0146bf",
       "version_major": 2,
       "version_minor": 0
      },
      "text/plain": [
       "Training epoch 11:   0%|          | 0/30 [00:00<?, ?it/s]"
      ]
     },
     "metadata": {},
     "output_type": "display_data"
    },
    {
     "data": {
      "application/vnd.jupyter.widget-view+json": {
       "model_id": "b4c01f9bbfb9415da4f50537f4fa4226",
       "version_major": 2,
       "version_minor": 0
      },
      "text/plain": [
       "Training epoch 12:   0%|          | 0/30 [00:00<?, ?it/s]"
      ]
     },
     "metadata": {},
     "output_type": "display_data"
    },
    {
     "data": {
      "application/vnd.jupyter.widget-view+json": {
       "model_id": "d288fc6db8194ae1a76d5022d970908e",
       "version_major": 2,
       "version_minor": 0
      },
      "text/plain": [
       "Training epoch 13:   0%|          | 0/30 [00:00<?, ?it/s]"
      ]
     },
     "metadata": {},
     "output_type": "display_data"
    },
    {
     "data": {
      "application/vnd.jupyter.widget-view+json": {
       "model_id": "e6dd33a609b541d288273bfb0e98d0cc",
       "version_major": 2,
       "version_minor": 0
      },
      "text/plain": [
       "Training epoch 14:   0%|          | 0/30 [00:00<?, ?it/s]"
      ]
     },
     "metadata": {},
     "output_type": "display_data"
    },
    {
     "data": {
      "application/vnd.jupyter.widget-view+json": {
       "model_id": "fc8c8696c33c4789aedd08472b9ac544",
       "version_major": 2,
       "version_minor": 0
      },
      "text/plain": [
       "Training epoch 15:   0%|          | 0/30 [00:00<?, ?it/s]"
      ]
     },
     "metadata": {},
     "output_type": "display_data"
    },
    {
     "data": {
      "application/vnd.jupyter.widget-view+json": {
       "model_id": "0c18265906d2471bbb12f4e434910875",
       "version_major": 2,
       "version_minor": 0
      },
      "text/plain": [
       "Training epoch 16:   0%|          | 0/30 [00:00<?, ?it/s]"
      ]
     },
     "metadata": {},
     "output_type": "display_data"
    },
    {
     "data": {
      "application/vnd.jupyter.widget-view+json": {
       "model_id": "2448dd60876a4be38d21ab03fb3ed1c2",
       "version_major": 2,
       "version_minor": 0
      },
      "text/plain": [
       "Training epoch 17:   0%|          | 0/30 [00:00<?, ?it/s]"
      ]
     },
     "metadata": {},
     "output_type": "display_data"
    },
    {
     "data": {
      "application/vnd.jupyter.widget-view+json": {
       "model_id": "9dc5c53ebac24e1cb0ac931aed951a32",
       "version_major": 2,
       "version_minor": 0
      },
      "text/plain": [
       "Training epoch 18:   0%|          | 0/30 [00:00<?, ?it/s]"
      ]
     },
     "metadata": {},
     "output_type": "display_data"
    },
    {
     "data": {
      "application/vnd.jupyter.widget-view+json": {
       "model_id": "947d7131d41b41918ea47d1ad42c7841",
       "version_major": 2,
       "version_minor": 0
      },
      "text/plain": [
       "Training epoch 19:   0%|          | 0/30 [00:00<?, ?it/s]"
      ]
     },
     "metadata": {},
     "output_type": "display_data"
    },
    {
     "data": {
      "application/vnd.jupyter.widget-view+json": {
       "model_id": "226af3dc8fa74c53bfe922a40cc78c45",
       "version_major": 2,
       "version_minor": 0
      },
      "text/plain": [
       "Training epoch 20:   0%|          | 0/30 [00:00<?, ?it/s]"
      ]
     },
     "metadata": {},
     "output_type": "display_data"
    },
    {
     "data": {
      "application/vnd.jupyter.widget-view+json": {
       "model_id": "95869199012c44c9980a01d017ce6e96",
       "version_major": 2,
       "version_minor": 0
      },
      "text/plain": [
       "Training epoch 21:   0%|          | 0/30 [00:00<?, ?it/s]"
      ]
     },
     "metadata": {},
     "output_type": "display_data"
    },
    {
     "data": {
      "application/vnd.jupyter.widget-view+json": {
       "model_id": "44a0a708938a408eb2dc77ddb46447ee",
       "version_major": 2,
       "version_minor": 0
      },
      "text/plain": [
       "Training epoch 22:   0%|          | 0/30 [00:00<?, ?it/s]"
      ]
     },
     "metadata": {},
     "output_type": "display_data"
    },
    {
     "data": {
      "application/vnd.jupyter.widget-view+json": {
       "model_id": "637cca7c46cc4acd882b829050e3b512",
       "version_major": 2,
       "version_minor": 0
      },
      "text/plain": [
       "Training epoch 23:   0%|          | 0/30 [00:00<?, ?it/s]"
      ]
     },
     "metadata": {},
     "output_type": "display_data"
    },
    {
     "data": {
      "application/vnd.jupyter.widget-view+json": {
       "model_id": "17bed49e19ba472195406f87bd1f0489",
       "version_major": 2,
       "version_minor": 0
      },
      "text/plain": [
       "Training epoch 24:   0%|          | 0/30 [00:00<?, ?it/s]"
      ]
     },
     "metadata": {},
     "output_type": "display_data"
    },
    {
     "data": {
      "application/vnd.jupyter.widget-view+json": {
       "model_id": "ff11458f4b8d48b1b3584dd819cffc8d",
       "version_major": 2,
       "version_minor": 0
      },
      "text/plain": [
       "Training epoch 25:   0%|          | 0/30 [00:00<?, ?it/s]"
      ]
     },
     "metadata": {},
     "output_type": "display_data"
    },
    {
     "data": {
      "application/vnd.jupyter.widget-view+json": {
       "model_id": "2287a52c6dc645998b9e659f1803798b",
       "version_major": 2,
       "version_minor": 0
      },
      "text/plain": [
       "Training epoch 26:   0%|          | 0/30 [00:00<?, ?it/s]"
      ]
     },
     "metadata": {},
     "output_type": "display_data"
    },
    {
     "data": {
      "application/vnd.jupyter.widget-view+json": {
       "model_id": "e81d20558c1a433abe661a69796ac8fe",
       "version_major": 2,
       "version_minor": 0
      },
      "text/plain": [
       "Training epoch 27:   0%|          | 0/30 [00:00<?, ?it/s]"
      ]
     },
     "metadata": {},
     "output_type": "display_data"
    },
    {
     "data": {
      "application/vnd.jupyter.widget-view+json": {
       "model_id": "340eba55af5a4709b7ae63f17ffbc5f7",
       "version_major": 2,
       "version_minor": 0
      },
      "text/plain": [
       "Training epoch 28:   0%|          | 0/30 [00:00<?, ?it/s]"
      ]
     },
     "metadata": {},
     "output_type": "display_data"
    },
    {
     "data": {
      "application/vnd.jupyter.widget-view+json": {
       "model_id": "c52c915f295b4235872132ce5738f057",
       "version_major": 2,
       "version_minor": 0
      },
      "text/plain": [
       "Training epoch 29:   0%|          | 0/30 [00:00<?, ?it/s]"
      ]
     },
     "metadata": {},
     "output_type": "display_data"
    },
    {
     "data": {
      "application/vnd.jupyter.widget-view+json": {
       "model_id": "b093256761c841f0bcae9baadf4cc0ea",
       "version_major": 2,
       "version_minor": 0
      },
      "text/plain": [
       "Training epoch 30:   0%|          | 0/30 [00:00<?, ?it/s]"
      ]
     },
     "metadata": {},
     "output_type": "display_data"
    },
    {
     "data": {
      "application/vnd.jupyter.widget-view+json": {
       "model_id": "0ada56d6c42b45018af7719137a079e8",
       "version_major": 2,
       "version_minor": 0
      },
      "text/plain": [
       "Training epoch 31:   0%|          | 0/30 [00:00<?, ?it/s]"
      ]
     },
     "metadata": {},
     "output_type": "display_data"
    },
    {
     "data": {
      "application/vnd.jupyter.widget-view+json": {
       "model_id": "acb03410348e45d9ac0e9b67a7c430f9",
       "version_major": 2,
       "version_minor": 0
      },
      "text/plain": [
       "Training epoch 32:   0%|          | 0/30 [00:00<?, ?it/s]"
      ]
     },
     "metadata": {},
     "output_type": "display_data"
    },
    {
     "data": {
      "application/vnd.jupyter.widget-view+json": {
       "model_id": "e43b56a243f94b1e9725f859154d4e19",
       "version_major": 2,
       "version_minor": 0
      },
      "text/plain": [
       "Training epoch 33:   0%|          | 0/30 [00:00<?, ?it/s]"
      ]
     },
     "metadata": {},
     "output_type": "display_data"
    },
    {
     "data": {
      "application/vnd.jupyter.widget-view+json": {
       "model_id": "687b1f8088e942c69db71fc9572b276e",
       "version_major": 2,
       "version_minor": 0
      },
      "text/plain": [
       "Training epoch 34:   0%|          | 0/30 [00:00<?, ?it/s]"
      ]
     },
     "metadata": {},
     "output_type": "display_data"
    },
    {
     "data": {
      "application/vnd.jupyter.widget-view+json": {
       "model_id": "1c30c7653c5742be80ff9ba555ecae17",
       "version_major": 2,
       "version_minor": 0
      },
      "text/plain": [
       "Training epoch 35:   0%|          | 0/30 [00:00<?, ?it/s]"
      ]
     },
     "metadata": {},
     "output_type": "display_data"
    },
    {
     "data": {
      "application/vnd.jupyter.widget-view+json": {
       "model_id": "97c1a07ca9eb48a6996ac3c0a397ece1",
       "version_major": 2,
       "version_minor": 0
      },
      "text/plain": [
       "Training epoch 36:   0%|          | 0/30 [00:00<?, ?it/s]"
      ]
     },
     "metadata": {},
     "output_type": "display_data"
    },
    {
     "data": {
      "application/vnd.jupyter.widget-view+json": {
       "model_id": "d480ffe986dd48329f27dd97a773dc73",
       "version_major": 2,
       "version_minor": 0
      },
      "text/plain": [
       "Training epoch 37:   0%|          | 0/30 [00:00<?, ?it/s]"
      ]
     },
     "metadata": {},
     "output_type": "display_data"
    },
    {
     "data": {
      "application/vnd.jupyter.widget-view+json": {
       "model_id": "58764af87ba74e4db726dd0b6c6ba8c6",
       "version_major": 2,
       "version_minor": 0
      },
      "text/plain": [
       "Training epoch 38:   0%|          | 0/30 [00:00<?, ?it/s]"
      ]
     },
     "metadata": {},
     "output_type": "display_data"
    },
    {
     "data": {
      "application/vnd.jupyter.widget-view+json": {
       "model_id": "a78a92f9361c4a5189e89569e0bb56e4",
       "version_major": 2,
       "version_minor": 0
      },
      "text/plain": [
       "Training epoch 39:   0%|          | 0/30 [00:00<?, ?it/s]"
      ]
     },
     "metadata": {},
     "output_type": "display_data"
    },
    {
     "data": {
      "application/vnd.jupyter.widget-view+json": {
       "model_id": "fb9f9351adac4e5984cf640381d6801a",
       "version_major": 2,
       "version_minor": 0
      },
      "text/plain": [
       "Training epoch 40:   0%|          | 0/30 [00:00<?, ?it/s]"
      ]
     },
     "metadata": {},
     "output_type": "display_data"
    },
    {
     "data": {
      "application/vnd.jupyter.widget-view+json": {
       "model_id": "3f54c05740424228b107556dc7f0c2f1",
       "version_major": 2,
       "version_minor": 0
      },
      "text/plain": [
       "Training epoch 41:   0%|          | 0/30 [00:00<?, ?it/s]"
      ]
     },
     "metadata": {},
     "output_type": "display_data"
    },
    {
     "data": {
      "application/vnd.jupyter.widget-view+json": {
       "model_id": "f730cb6784d9457b8bae3ec34e1c57b8",
       "version_major": 2,
       "version_minor": 0
      },
      "text/plain": [
       "Training epoch 42:   0%|          | 0/30 [00:00<?, ?it/s]"
      ]
     },
     "metadata": {},
     "output_type": "display_data"
    },
    {
     "data": {
      "application/vnd.jupyter.widget-view+json": {
       "model_id": "ef2c917c77f049fb8d7482693536188c",
       "version_major": 2,
       "version_minor": 0
      },
      "text/plain": [
       "Training epoch 43:   0%|          | 0/30 [00:00<?, ?it/s]"
      ]
     },
     "metadata": {},
     "output_type": "display_data"
    },
    {
     "data": {
      "application/vnd.jupyter.widget-view+json": {
       "model_id": "c0ebf936ad54466ebd9ad8642e3b8e92",
       "version_major": 2,
       "version_minor": 0
      },
      "text/plain": [
       "Training epoch 44:   0%|          | 0/30 [00:00<?, ?it/s]"
      ]
     },
     "metadata": {},
     "output_type": "display_data"
    },
    {
     "data": {
      "application/vnd.jupyter.widget-view+json": {
       "model_id": "a2a72e7ce85642f6aae0dddd4bf470df",
       "version_major": 2,
       "version_minor": 0
      },
      "text/plain": [
       "Training epoch 45:   0%|          | 0/30 [00:00<?, ?it/s]"
      ]
     },
     "metadata": {},
     "output_type": "display_data"
    },
    {
     "data": {
      "application/vnd.jupyter.widget-view+json": {
       "model_id": "e195bf9ed6b84772af8670593e7ac283",
       "version_major": 2,
       "version_minor": 0
      },
      "text/plain": [
       "Training epoch 46:   0%|          | 0/30 [00:00<?, ?it/s]"
      ]
     },
     "metadata": {},
     "output_type": "display_data"
    },
    {
     "data": {
      "application/vnd.jupyter.widget-view+json": {
       "model_id": "1f95aa5c2f34421eb920900d0898ad8b",
       "version_major": 2,
       "version_minor": 0
      },
      "text/plain": [
       "Training epoch 47:   0%|          | 0/30 [00:00<?, ?it/s]"
      ]
     },
     "metadata": {},
     "output_type": "display_data"
    },
    {
     "data": {
      "application/vnd.jupyter.widget-view+json": {
       "model_id": "8fdc692554834c96b20ac6810f12ea27",
       "version_major": 2,
       "version_minor": 0
      },
      "text/plain": [
       "Training epoch 48:   0%|          | 0/30 [00:00<?, ?it/s]"
      ]
     },
     "metadata": {},
     "output_type": "display_data"
    },
    {
     "data": {
      "application/vnd.jupyter.widget-view+json": {
       "model_id": "039a7420903f4bb4a2a0d02a574c7056",
       "version_major": 2,
       "version_minor": 0
      },
      "text/plain": [
       "Training epoch 49:   0%|          | 0/30 [00:00<?, ?it/s]"
      ]
     },
     "metadata": {},
     "output_type": "display_data"
    },
    {
     "data": {
      "application/vnd.jupyter.widget-view+json": {
       "model_id": "d43cd63587274233b653a44b220b3ef3",
       "version_major": 2,
       "version_minor": 0
      },
      "text/plain": [
       "Training epoch 50:   0%|          | 0/30 [00:00<?, ?it/s]"
      ]
     },
     "metadata": {},
     "output_type": "display_data"
    },
    {
     "data": {
      "application/vnd.jupyter.widget-view+json": {
       "model_id": "ac267f813274430dbd066efee21505ce",
       "version_major": 2,
       "version_minor": 0
      },
      "text/plain": [
       "Training epoch 51:   0%|          | 0/30 [00:00<?, ?it/s]"
      ]
     },
     "metadata": {},
     "output_type": "display_data"
    },
    {
     "data": {
      "application/vnd.jupyter.widget-view+json": {
       "model_id": "aeacb0eac4254b95a162e55ef86cf2bc",
       "version_major": 2,
       "version_minor": 0
      },
      "text/plain": [
       "Training epoch 52:   0%|          | 0/30 [00:00<?, ?it/s]"
      ]
     },
     "metadata": {},
     "output_type": "display_data"
    },
    {
     "data": {
      "application/vnd.jupyter.widget-view+json": {
       "model_id": "41df21e20f3043f6b7267b2946f742bb",
       "version_major": 2,
       "version_minor": 0
      },
      "text/plain": [
       "Training epoch 53:   0%|          | 0/30 [00:00<?, ?it/s]"
      ]
     },
     "metadata": {},
     "output_type": "display_data"
    },
    {
     "data": {
      "application/vnd.jupyter.widget-view+json": {
       "model_id": "b9f85dce709c4b369ba26b6681a3134d",
       "version_major": 2,
       "version_minor": 0
      },
      "text/plain": [
       "Training epoch 54:   0%|          | 0/30 [00:00<?, ?it/s]"
      ]
     },
     "metadata": {},
     "output_type": "display_data"
    },
    {
     "data": {
      "application/vnd.jupyter.widget-view+json": {
       "model_id": "7eb5590fcd3e4344933d33f8941efa11",
       "version_major": 2,
       "version_minor": 0
      },
      "text/plain": [
       "Training epoch 55:   0%|          | 0/30 [00:00<?, ?it/s]"
      ]
     },
     "metadata": {},
     "output_type": "display_data"
    },
    {
     "data": {
      "application/vnd.jupyter.widget-view+json": {
       "model_id": "108b3efaa4c64b038ee1bf28887bce74",
       "version_major": 2,
       "version_minor": 0
      },
      "text/plain": [
       "Training epoch 56:   0%|          | 0/30 [00:00<?, ?it/s]"
      ]
     },
     "metadata": {},
     "output_type": "display_data"
    },
    {
     "data": {
      "application/vnd.jupyter.widget-view+json": {
       "model_id": "b4d56d0572e9421eb12a9fc879afca45",
       "version_major": 2,
       "version_minor": 0
      },
      "text/plain": [
       "Training epoch 57:   0%|          | 0/30 [00:00<?, ?it/s]"
      ]
     },
     "metadata": {},
     "output_type": "display_data"
    },
    {
     "data": {
      "application/vnd.jupyter.widget-view+json": {
       "model_id": "432c0c90d4554f7a87e9cbbb49e16168",
       "version_major": 2,
       "version_minor": 0
      },
      "text/plain": [
       "Training epoch 58:   0%|          | 0/30 [00:00<?, ?it/s]"
      ]
     },
     "metadata": {},
     "output_type": "display_data"
    },
    {
     "data": {
      "application/vnd.jupyter.widget-view+json": {
       "model_id": "b3548d2d627447c383267cb8b430a8bc",
       "version_major": 2,
       "version_minor": 0
      },
      "text/plain": [
       "Training epoch 59:   0%|          | 0/30 [00:00<?, ?it/s]"
      ]
     },
     "metadata": {},
     "output_type": "display_data"
    },
    {
     "data": {
      "application/vnd.jupyter.widget-view+json": {
       "model_id": "99b83bb7860845a79f94d328a5584437",
       "version_major": 2,
       "version_minor": 0
      },
      "text/plain": [
       "Training epoch 60:   0%|          | 0/30 [00:00<?, ?it/s]"
      ]
     },
     "metadata": {},
     "output_type": "display_data"
    },
    {
     "data": {
      "application/vnd.jupyter.widget-view+json": {
       "model_id": "0b3857c729cc44dca55f01e8ed37a067",
       "version_major": 2,
       "version_minor": 0
      },
      "text/plain": [
       "Training epoch 61:   0%|          | 0/30 [00:00<?, ?it/s]"
      ]
     },
     "metadata": {},
     "output_type": "display_data"
    },
    {
     "data": {
      "application/vnd.jupyter.widget-view+json": {
       "model_id": "952fbe01771c485e84fd4ad19ee912c1",
       "version_major": 2,
       "version_minor": 0
      },
      "text/plain": [
       "Training epoch 62:   0%|          | 0/30 [00:00<?, ?it/s]"
      ]
     },
     "metadata": {},
     "output_type": "display_data"
    },
    {
     "data": {
      "application/vnd.jupyter.widget-view+json": {
       "model_id": "eb5acfaac787452f805d8f65b7d38a82",
       "version_major": 2,
       "version_minor": 0
      },
      "text/plain": [
       "Training epoch 63:   0%|          | 0/30 [00:00<?, ?it/s]"
      ]
     },
     "metadata": {},
     "output_type": "display_data"
    },
    {
     "data": {
      "application/vnd.jupyter.widget-view+json": {
       "model_id": "687cd797afc84fee8b21be9b04de5030",
       "version_major": 2,
       "version_minor": 0
      },
      "text/plain": [
       "Training epoch 64:   0%|          | 0/30 [00:00<?, ?it/s]"
      ]
     },
     "metadata": {},
     "output_type": "display_data"
    },
    {
     "data": {
      "application/vnd.jupyter.widget-view+json": {
       "model_id": "98980bfaff3f4a6d85f101f48dbace58",
       "version_major": 2,
       "version_minor": 0
      },
      "text/plain": [
       "Training epoch 65:   0%|          | 0/30 [00:00<?, ?it/s]"
      ]
     },
     "metadata": {},
     "output_type": "display_data"
    },
    {
     "data": {
      "application/vnd.jupyter.widget-view+json": {
       "model_id": "bd68b1f8bea74f05b317fe070aa38eaf",
       "version_major": 2,
       "version_minor": 0
      },
      "text/plain": [
       "Training epoch 66:   0%|          | 0/30 [00:00<?, ?it/s]"
      ]
     },
     "metadata": {},
     "output_type": "display_data"
    },
    {
     "data": {
      "application/vnd.jupyter.widget-view+json": {
       "model_id": "f27dcd20cd5c49f7af046c51b4158062",
       "version_major": 2,
       "version_minor": 0
      },
      "text/plain": [
       "Training epoch 67:   0%|          | 0/30 [00:00<?, ?it/s]"
      ]
     },
     "metadata": {},
     "output_type": "display_data"
    },
    {
     "data": {
      "application/vnd.jupyter.widget-view+json": {
       "model_id": "00cf28d4f19848e2b19e8b0214e25dec",
       "version_major": 2,
       "version_minor": 0
      },
      "text/plain": [
       "Training epoch 68:   0%|          | 0/30 [00:00<?, ?it/s]"
      ]
     },
     "metadata": {},
     "output_type": "display_data"
    },
    {
     "data": {
      "application/vnd.jupyter.widget-view+json": {
       "model_id": "18a7e79e7cb14d2997a5b16add939b15",
       "version_major": 2,
       "version_minor": 0
      },
      "text/plain": [
       "Training epoch 69:   0%|          | 0/30 [00:00<?, ?it/s]"
      ]
     },
     "metadata": {},
     "output_type": "display_data"
    },
    {
     "data": {
      "application/vnd.jupyter.widget-view+json": {
       "model_id": "88acd92f0c31416f94ebb402ba7a157b",
       "version_major": 2,
       "version_minor": 0
      },
      "text/plain": [
       "Training epoch 70:   0%|          | 0/30 [00:00<?, ?it/s]"
      ]
     },
     "metadata": {},
     "output_type": "display_data"
    },
    {
     "data": {
      "application/vnd.jupyter.widget-view+json": {
       "model_id": "72e94977d0d44df0b611182778ce8fd0",
       "version_major": 2,
       "version_minor": 0
      },
      "text/plain": [
       "Training epoch 71:   0%|          | 0/30 [00:00<?, ?it/s]"
      ]
     },
     "metadata": {},
     "output_type": "display_data"
    },
    {
     "data": {
      "application/vnd.jupyter.widget-view+json": {
       "model_id": "5710184444dd419bb5b00b26bbe0cb5b",
       "version_major": 2,
       "version_minor": 0
      },
      "text/plain": [
       "Training epoch 72:   0%|          | 0/30 [00:00<?, ?it/s]"
      ]
     },
     "metadata": {},
     "output_type": "display_data"
    },
    {
     "data": {
      "application/vnd.jupyter.widget-view+json": {
       "model_id": "96f305cedfb343cdbce35f7bb7d104db",
       "version_major": 2,
       "version_minor": 0
      },
      "text/plain": [
       "Training epoch 73:   0%|          | 0/30 [00:00<?, ?it/s]"
      ]
     },
     "metadata": {},
     "output_type": "display_data"
    },
    {
     "data": {
      "application/vnd.jupyter.widget-view+json": {
       "model_id": "6a797f20a3164b7b919b881d1a3cd47d",
       "version_major": 2,
       "version_minor": 0
      },
      "text/plain": [
       "Training epoch 74:   0%|          | 0/30 [00:00<?, ?it/s]"
      ]
     },
     "metadata": {},
     "output_type": "display_data"
    },
    {
     "data": {
      "application/vnd.jupyter.widget-view+json": {
       "model_id": "481e9d58b5bb47f89a5cdf3a56ca6d41",
       "version_major": 2,
       "version_minor": 0
      },
      "text/plain": [
       "Training epoch 75:   0%|          | 0/30 [00:00<?, ?it/s]"
      ]
     },
     "metadata": {},
     "output_type": "display_data"
    },
    {
     "data": {
      "application/vnd.jupyter.widget-view+json": {
       "model_id": "a0128eb249cc413b9a4b48611960c2dd",
       "version_major": 2,
       "version_minor": 0
      },
      "text/plain": [
       "Training epoch 76:   0%|          | 0/30 [00:00<?, ?it/s]"
      ]
     },
     "metadata": {},
     "output_type": "display_data"
    },
    {
     "data": {
      "application/vnd.jupyter.widget-view+json": {
       "model_id": "d0cf09b5e96e4af99bdfbeabec125fce",
       "version_major": 2,
       "version_minor": 0
      },
      "text/plain": [
       "Training epoch 77:   0%|          | 0/30 [00:00<?, ?it/s]"
      ]
     },
     "metadata": {},
     "output_type": "display_data"
    },
    {
     "data": {
      "application/vnd.jupyter.widget-view+json": {
       "model_id": "20d80eca30814832a656c9bc1fe230fb",
       "version_major": 2,
       "version_minor": 0
      },
      "text/plain": [
       "Training epoch 78:   0%|          | 0/30 [00:00<?, ?it/s]"
      ]
     },
     "metadata": {},
     "output_type": "display_data"
    },
    {
     "data": {
      "application/vnd.jupyter.widget-view+json": {
       "model_id": "f76ce233ca394fa889f8267460ac8efb",
       "version_major": 2,
       "version_minor": 0
      },
      "text/plain": [
       "Training epoch 79:   0%|          | 0/30 [00:00<?, ?it/s]"
      ]
     },
     "metadata": {},
     "output_type": "display_data"
    },
    {
     "data": {
      "application/vnd.jupyter.widget-view+json": {
       "model_id": "1d08c91dc3044129aa4d4945e6b7c335",
       "version_major": 2,
       "version_minor": 0
      },
      "text/plain": [
       "Training epoch 80:   0%|          | 0/30 [00:00<?, ?it/s]"
      ]
     },
     "metadata": {},
     "output_type": "display_data"
    },
    {
     "data": {
      "application/vnd.jupyter.widget-view+json": {
       "model_id": "dfcfd3df044547e2bec0723b93b2639d",
       "version_major": 2,
       "version_minor": 0
      },
      "text/plain": [
       "Training epoch 81:   0%|          | 0/30 [00:00<?, ?it/s]"
      ]
     },
     "metadata": {},
     "output_type": "display_data"
    },
    {
     "data": {
      "application/vnd.jupyter.widget-view+json": {
       "model_id": "b27723eceecd4140b2ab7f93e85ff525",
       "version_major": 2,
       "version_minor": 0
      },
      "text/plain": [
       "Training epoch 82:   0%|          | 0/30 [00:00<?, ?it/s]"
      ]
     },
     "metadata": {},
     "output_type": "display_data"
    },
    {
     "data": {
      "application/vnd.jupyter.widget-view+json": {
       "model_id": "7ac14d3079304486854c625299035f4e",
       "version_major": 2,
       "version_minor": 0
      },
      "text/plain": [
       "Training epoch 83:   0%|          | 0/30 [00:00<?, ?it/s]"
      ]
     },
     "metadata": {},
     "output_type": "display_data"
    },
    {
     "data": {
      "application/vnd.jupyter.widget-view+json": {
       "model_id": "e5ea730894c84de883961313f3573c9e",
       "version_major": 2,
       "version_minor": 0
      },
      "text/plain": [
       "Training epoch 84:   0%|          | 0/30 [00:00<?, ?it/s]"
      ]
     },
     "metadata": {},
     "output_type": "display_data"
    },
    {
     "data": {
      "application/vnd.jupyter.widget-view+json": {
       "model_id": "65e124a98a1e4e9d89a63955c75da599",
       "version_major": 2,
       "version_minor": 0
      },
      "text/plain": [
       "Training epoch 85:   0%|          | 0/30 [00:00<?, ?it/s]"
      ]
     },
     "metadata": {},
     "output_type": "display_data"
    },
    {
     "data": {
      "application/vnd.jupyter.widget-view+json": {
       "model_id": "5e733fbfc6d64317ab027f3043eddd92",
       "version_major": 2,
       "version_minor": 0
      },
      "text/plain": [
       "Training epoch 86:   0%|          | 0/30 [00:00<?, ?it/s]"
      ]
     },
     "metadata": {},
     "output_type": "display_data"
    },
    {
     "data": {
      "application/vnd.jupyter.widget-view+json": {
       "model_id": "5db1c66dbb484d049f609d4943965e22",
       "version_major": 2,
       "version_minor": 0
      },
      "text/plain": [
       "Training epoch 87:   0%|          | 0/30 [00:00<?, ?it/s]"
      ]
     },
     "metadata": {},
     "output_type": "display_data"
    },
    {
     "data": {
      "application/vnd.jupyter.widget-view+json": {
       "model_id": "663b54dd3a27424ea2a90fe40fb942e1",
       "version_major": 2,
       "version_minor": 0
      },
      "text/plain": [
       "Training epoch 88:   0%|          | 0/30 [00:00<?, ?it/s]"
      ]
     },
     "metadata": {},
     "output_type": "display_data"
    },
    {
     "data": {
      "application/vnd.jupyter.widget-view+json": {
       "model_id": "845fc51f31b942be95d16378ed424f1b",
       "version_major": 2,
       "version_minor": 0
      },
      "text/plain": [
       "Training epoch 89:   0%|          | 0/30 [00:00<?, ?it/s]"
      ]
     },
     "metadata": {},
     "output_type": "display_data"
    },
    {
     "data": {
      "application/vnd.jupyter.widget-view+json": {
       "model_id": "f80e5a516a344caf99dc8186e6f0d1fa",
       "version_major": 2,
       "version_minor": 0
      },
      "text/plain": [
       "Training epoch 90:   0%|          | 0/30 [00:00<?, ?it/s]"
      ]
     },
     "metadata": {},
     "output_type": "display_data"
    },
    {
     "data": {
      "application/vnd.jupyter.widget-view+json": {
       "model_id": "88bfb11cb85545c7a05bc75a3e679619",
       "version_major": 2,
       "version_minor": 0
      },
      "text/plain": [
       "Training epoch 91:   0%|          | 0/30 [00:00<?, ?it/s]"
      ]
     },
     "metadata": {},
     "output_type": "display_data"
    },
    {
     "data": {
      "application/vnd.jupyter.widget-view+json": {
       "model_id": "3bc08ecab19241c8ad683fe2744035e6",
       "version_major": 2,
       "version_minor": 0
      },
      "text/plain": [
       "Training epoch 92:   0%|          | 0/30 [00:00<?, ?it/s]"
      ]
     },
     "metadata": {},
     "output_type": "display_data"
    },
    {
     "data": {
      "application/vnd.jupyter.widget-view+json": {
       "model_id": "38969064bced40ab84daeb068a0463d6",
       "version_major": 2,
       "version_minor": 0
      },
      "text/plain": [
       "Training epoch 93:   0%|          | 0/30 [00:00<?, ?it/s]"
      ]
     },
     "metadata": {},
     "output_type": "display_data"
    },
    {
     "data": {
      "application/vnd.jupyter.widget-view+json": {
       "model_id": "7805d67f67b248a6a89651d7170f64ea",
       "version_major": 2,
       "version_minor": 0
      },
      "text/plain": [
       "Training epoch 94:   0%|          | 0/30 [00:00<?, ?it/s]"
      ]
     },
     "metadata": {},
     "output_type": "display_data"
    },
    {
     "data": {
      "application/vnd.jupyter.widget-view+json": {
       "model_id": "8fbcb86dd3c94f9fa1fcda07154c6ded",
       "version_major": 2,
       "version_minor": 0
      },
      "text/plain": [
       "Training epoch 95:   0%|          | 0/30 [00:00<?, ?it/s]"
      ]
     },
     "metadata": {},
     "output_type": "display_data"
    },
    {
     "data": {
      "application/vnd.jupyter.widget-view+json": {
       "model_id": "9c571944a4d74314b3b8a48908e6d1f4",
       "version_major": 2,
       "version_minor": 0
      },
      "text/plain": [
       "Training epoch 96:   0%|          | 0/30 [00:00<?, ?it/s]"
      ]
     },
     "metadata": {},
     "output_type": "display_data"
    },
    {
     "data": {
      "application/vnd.jupyter.widget-view+json": {
       "model_id": "0680be11927c4f2486edc33df86e2f02",
       "version_major": 2,
       "version_minor": 0
      },
      "text/plain": [
       "Training epoch 97:   0%|          | 0/30 [00:00<?, ?it/s]"
      ]
     },
     "metadata": {},
     "output_type": "display_data"
    },
    {
     "data": {
      "application/vnd.jupyter.widget-view+json": {
       "model_id": "b71d1d18703346d2a0aafd9024b46c03",
       "version_major": 2,
       "version_minor": 0
      },
      "text/plain": [
       "Training epoch 98:   0%|          | 0/30 [00:00<?, ?it/s]"
      ]
     },
     "metadata": {},
     "output_type": "display_data"
    },
    {
     "data": {
      "application/vnd.jupyter.widget-view+json": {
       "model_id": "174e8984874e47cca8c8f12f8301e921",
       "version_major": 2,
       "version_minor": 0
      },
      "text/plain": [
       "Training epoch 99:   0%|          | 0/30 [00:00<?, ?it/s]"
      ]
     },
     "metadata": {},
     "output_type": "display_data"
    },
    {
     "data": {
      "application/vnd.jupyter.widget-view+json": {
       "model_id": "0b2e39289db44c3c97a91078e4cbf93d",
       "version_major": 2,
       "version_minor": 0
      },
      "text/plain": [
       "Training epoch 100:   0%|          | 0/30 [00:00<?, ?it/s]"
      ]
     },
     "metadata": {},
     "output_type": "display_data"
    },
    {
     "name": "stdout",
     "output_type": "stream",
     "text": [
      "Simulating new 10000 data sets and appending to previous...\n",
      "New total number of simulated data sets: 40000\n",
      "Converting 40000 simulations to a TensorFlow data set...\n"
     ]
    },
    {
     "data": {
      "application/vnd.jupyter.widget-view+json": {
       "model_id": "f5bd347df7b04f729e4dbc500d85a411",
       "version_major": 2,
       "version_minor": 0
      },
      "text/plain": [
       "Training epoch 1:   0%|          | 0/40 [00:00<?, ?it/s]"
      ]
     },
     "metadata": {},
     "output_type": "display_data"
    },
    {
     "data": {
      "application/vnd.jupyter.widget-view+json": {
       "model_id": "72b50b640a7a476c8eedf3fd2e6b8909",
       "version_major": 2,
       "version_minor": 0
      },
      "text/plain": [
       "Training epoch 2:   0%|          | 0/40 [00:00<?, ?it/s]"
      ]
     },
     "metadata": {},
     "output_type": "display_data"
    },
    {
     "data": {
      "application/vnd.jupyter.widget-view+json": {
       "model_id": "6fcebc8e93dc4f30a42ed545d62979ab",
       "version_major": 2,
       "version_minor": 0
      },
      "text/plain": [
       "Training epoch 3:   0%|          | 0/40 [00:00<?, ?it/s]"
      ]
     },
     "metadata": {},
     "output_type": "display_data"
    },
    {
     "data": {
      "application/vnd.jupyter.widget-view+json": {
       "model_id": "a12d185544f24ec1823fe6dbbcd742f4",
       "version_major": 2,
       "version_minor": 0
      },
      "text/plain": [
       "Training epoch 4:   0%|          | 0/40 [00:00<?, ?it/s]"
      ]
     },
     "metadata": {},
     "output_type": "display_data"
    },
    {
     "data": {
      "application/vnd.jupyter.widget-view+json": {
       "model_id": "46ed79cbf8c34a80b825d6e5b3bec493",
       "version_major": 2,
       "version_minor": 0
      },
      "text/plain": [
       "Training epoch 5:   0%|          | 0/40 [00:00<?, ?it/s]"
      ]
     },
     "metadata": {},
     "output_type": "display_data"
    },
    {
     "data": {
      "application/vnd.jupyter.widget-view+json": {
       "model_id": "7513fdd61e0f4c8ca1355c9ec0cb9070",
       "version_major": 2,
       "version_minor": 0
      },
      "text/plain": [
       "Training epoch 6:   0%|          | 0/40 [00:00<?, ?it/s]"
      ]
     },
     "metadata": {},
     "output_type": "display_data"
    },
    {
     "data": {
      "application/vnd.jupyter.widget-view+json": {
       "model_id": "73de432529e34b25969187489b268b9a",
       "version_major": 2,
       "version_minor": 0
      },
      "text/plain": [
       "Training epoch 7:   0%|          | 0/40 [00:00<?, ?it/s]"
      ]
     },
     "metadata": {},
     "output_type": "display_data"
    },
    {
     "data": {
      "application/vnd.jupyter.widget-view+json": {
       "model_id": "28126cec87094aaaad1692fed7aa72ad",
       "version_major": 2,
       "version_minor": 0
      },
      "text/plain": [
       "Training epoch 8:   0%|          | 0/40 [00:00<?, ?it/s]"
      ]
     },
     "metadata": {},
     "output_type": "display_data"
    },
    {
     "data": {
      "application/vnd.jupyter.widget-view+json": {
       "model_id": "bff6ebf5024d473ab5a791dde0b945f8",
       "version_major": 2,
       "version_minor": 0
      },
      "text/plain": [
       "Training epoch 9:   0%|          | 0/40 [00:00<?, ?it/s]"
      ]
     },
     "metadata": {},
     "output_type": "display_data"
    },
    {
     "data": {
      "application/vnd.jupyter.widget-view+json": {
       "model_id": "53201d5dbe4346079ef819c5ecb772cb",
       "version_major": 2,
       "version_minor": 0
      },
      "text/plain": [
       "Training epoch 10:   0%|          | 0/40 [00:00<?, ?it/s]"
      ]
     },
     "metadata": {},
     "output_type": "display_data"
    },
    {
     "data": {
      "application/vnd.jupyter.widget-view+json": {
       "model_id": "bf38a835cf6a41bdba8debc330f1f28c",
       "version_major": 2,
       "version_minor": 0
      },
      "text/plain": [
       "Training epoch 11:   0%|          | 0/40 [00:00<?, ?it/s]"
      ]
     },
     "metadata": {},
     "output_type": "display_data"
    },
    {
     "data": {
      "application/vnd.jupyter.widget-view+json": {
       "model_id": "60838cd4f2654321889626d52edd2bd5",
       "version_major": 2,
       "version_minor": 0
      },
      "text/plain": [
       "Training epoch 12:   0%|          | 0/40 [00:00<?, ?it/s]"
      ]
     },
     "metadata": {},
     "output_type": "display_data"
    },
    {
     "data": {
      "application/vnd.jupyter.widget-view+json": {
       "model_id": "ae67a6397f3d4c6d83deb3e2bf268d0f",
       "version_major": 2,
       "version_minor": 0
      },
      "text/plain": [
       "Training epoch 13:   0%|          | 0/40 [00:00<?, ?it/s]"
      ]
     },
     "metadata": {},
     "output_type": "display_data"
    },
    {
     "data": {
      "application/vnd.jupyter.widget-view+json": {
       "model_id": "797927a04c024510a7bba6cc315e997f",
       "version_major": 2,
       "version_minor": 0
      },
      "text/plain": [
       "Training epoch 14:   0%|          | 0/40 [00:00<?, ?it/s]"
      ]
     },
     "metadata": {},
     "output_type": "display_data"
    },
    {
     "data": {
      "application/vnd.jupyter.widget-view+json": {
       "model_id": "910f754f3973455bbccdfce79a4c025f",
       "version_major": 2,
       "version_minor": 0
      },
      "text/plain": [
       "Training epoch 15:   0%|          | 0/40 [00:00<?, ?it/s]"
      ]
     },
     "metadata": {},
     "output_type": "display_data"
    },
    {
     "data": {
      "application/vnd.jupyter.widget-view+json": {
       "model_id": "31865b2fbdc84f81a4837f5d50c8492b",
       "version_major": 2,
       "version_minor": 0
      },
      "text/plain": [
       "Training epoch 16:   0%|          | 0/40 [00:00<?, ?it/s]"
      ]
     },
     "metadata": {},
     "output_type": "display_data"
    },
    {
     "data": {
      "application/vnd.jupyter.widget-view+json": {
       "model_id": "4243f66696ca4af99aeabae3df40b8c4",
       "version_major": 2,
       "version_minor": 0
      },
      "text/plain": [
       "Training epoch 17:   0%|          | 0/40 [00:00<?, ?it/s]"
      ]
     },
     "metadata": {},
     "output_type": "display_data"
    },
    {
     "data": {
      "application/vnd.jupyter.widget-view+json": {
       "model_id": "94692b4697bb4183a6dce419ca489b46",
       "version_major": 2,
       "version_minor": 0
      },
      "text/plain": [
       "Training epoch 18:   0%|          | 0/40 [00:00<?, ?it/s]"
      ]
     },
     "metadata": {},
     "output_type": "display_data"
    },
    {
     "data": {
      "application/vnd.jupyter.widget-view+json": {
       "model_id": "28b931b974134889956d6a1a2e9474be",
       "version_major": 2,
       "version_minor": 0
      },
      "text/plain": [
       "Training epoch 19:   0%|          | 0/40 [00:00<?, ?it/s]"
      ]
     },
     "metadata": {},
     "output_type": "display_data"
    },
    {
     "data": {
      "application/vnd.jupyter.widget-view+json": {
       "model_id": "1eded67e3ca24a71b48d78c0a09fe0be",
       "version_major": 2,
       "version_minor": 0
      },
      "text/plain": [
       "Training epoch 20:   0%|          | 0/40 [00:00<?, ?it/s]"
      ]
     },
     "metadata": {},
     "output_type": "display_data"
    },
    {
     "data": {
      "application/vnd.jupyter.widget-view+json": {
       "model_id": "e420d0929fd34fb5bd5a58e76a1b504b",
       "version_major": 2,
       "version_minor": 0
      },
      "text/plain": [
       "Training epoch 21:   0%|          | 0/40 [00:00<?, ?it/s]"
      ]
     },
     "metadata": {},
     "output_type": "display_data"
    },
    {
     "data": {
      "application/vnd.jupyter.widget-view+json": {
       "model_id": "7d2c2b5d4d2d448da88e23716104c358",
       "version_major": 2,
       "version_minor": 0
      },
      "text/plain": [
       "Training epoch 22:   0%|          | 0/40 [00:00<?, ?it/s]"
      ]
     },
     "metadata": {},
     "output_type": "display_data"
    },
    {
     "data": {
      "application/vnd.jupyter.widget-view+json": {
       "model_id": "63dcee5d19734fbc9a65b6e50bd1b4de",
       "version_major": 2,
       "version_minor": 0
      },
      "text/plain": [
       "Training epoch 23:   0%|          | 0/40 [00:00<?, ?it/s]"
      ]
     },
     "metadata": {},
     "output_type": "display_data"
    },
    {
     "data": {
      "application/vnd.jupyter.widget-view+json": {
       "model_id": "e0c765d049ae4a2780f9a3ff7a34c1ba",
       "version_major": 2,
       "version_minor": 0
      },
      "text/plain": [
       "Training epoch 24:   0%|          | 0/40 [00:00<?, ?it/s]"
      ]
     },
     "metadata": {},
     "output_type": "display_data"
    },
    {
     "data": {
      "application/vnd.jupyter.widget-view+json": {
       "model_id": "bcb795ca667b439d9c6a16eaf7a91d1a",
       "version_major": 2,
       "version_minor": 0
      },
      "text/plain": [
       "Training epoch 25:   0%|          | 0/40 [00:00<?, ?it/s]"
      ]
     },
     "metadata": {},
     "output_type": "display_data"
    },
    {
     "data": {
      "application/vnd.jupyter.widget-view+json": {
       "model_id": "f82e90aba887425ab180af7b6c5ea1c3",
       "version_major": 2,
       "version_minor": 0
      },
      "text/plain": [
       "Training epoch 26:   0%|          | 0/40 [00:00<?, ?it/s]"
      ]
     },
     "metadata": {},
     "output_type": "display_data"
    },
    {
     "data": {
      "application/vnd.jupyter.widget-view+json": {
       "model_id": "0bda551642bf4af5b5afaf325fec5321",
       "version_major": 2,
       "version_minor": 0
      },
      "text/plain": [
       "Training epoch 27:   0%|          | 0/40 [00:00<?, ?it/s]"
      ]
     },
     "metadata": {},
     "output_type": "display_data"
    },
    {
     "data": {
      "application/vnd.jupyter.widget-view+json": {
       "model_id": "7a44a10ca1b84bcc925e653dacb7c95f",
       "version_major": 2,
       "version_minor": 0
      },
      "text/plain": [
       "Training epoch 28:   0%|          | 0/40 [00:00<?, ?it/s]"
      ]
     },
     "metadata": {},
     "output_type": "display_data"
    },
    {
     "data": {
      "application/vnd.jupyter.widget-view+json": {
       "model_id": "06ea9564c9f2400d9883d623f1d893e3",
       "version_major": 2,
       "version_minor": 0
      },
      "text/plain": [
       "Training epoch 29:   0%|          | 0/40 [00:00<?, ?it/s]"
      ]
     },
     "metadata": {},
     "output_type": "display_data"
    },
    {
     "data": {
      "application/vnd.jupyter.widget-view+json": {
       "model_id": "4518b827acee444f9ee9b4a371277c4d",
       "version_major": 2,
       "version_minor": 0
      },
      "text/plain": [
       "Training epoch 30:   0%|          | 0/40 [00:00<?, ?it/s]"
      ]
     },
     "metadata": {},
     "output_type": "display_data"
    },
    {
     "data": {
      "application/vnd.jupyter.widget-view+json": {
       "model_id": "fe1c3ffc564242f7ab94627be71fe10b",
       "version_major": 2,
       "version_minor": 0
      },
      "text/plain": [
       "Training epoch 31:   0%|          | 0/40 [00:00<?, ?it/s]"
      ]
     },
     "metadata": {},
     "output_type": "display_data"
    },
    {
     "data": {
      "application/vnd.jupyter.widget-view+json": {
       "model_id": "954f871fe72a4a44ae05cebd3e969bb2",
       "version_major": 2,
       "version_minor": 0
      },
      "text/plain": [
       "Training epoch 32:   0%|          | 0/40 [00:00<?, ?it/s]"
      ]
     },
     "metadata": {},
     "output_type": "display_data"
    },
    {
     "data": {
      "application/vnd.jupyter.widget-view+json": {
       "model_id": "aae0ae7eb06e4600b600e2c2a79160ce",
       "version_major": 2,
       "version_minor": 0
      },
      "text/plain": [
       "Training epoch 33:   0%|          | 0/40 [00:00<?, ?it/s]"
      ]
     },
     "metadata": {},
     "output_type": "display_data"
    },
    {
     "data": {
      "application/vnd.jupyter.widget-view+json": {
       "model_id": "11d69aa443ee41e3aa50830a0abd1ed6",
       "version_major": 2,
       "version_minor": 0
      },
      "text/plain": [
       "Training epoch 34:   0%|          | 0/40 [00:00<?, ?it/s]"
      ]
     },
     "metadata": {},
     "output_type": "display_data"
    },
    {
     "data": {
      "application/vnd.jupyter.widget-view+json": {
       "model_id": "6714c5756dba4023b5f7195b66065c51",
       "version_major": 2,
       "version_minor": 0
      },
      "text/plain": [
       "Training epoch 35:   0%|          | 0/40 [00:00<?, ?it/s]"
      ]
     },
     "metadata": {},
     "output_type": "display_data"
    },
    {
     "data": {
      "application/vnd.jupyter.widget-view+json": {
       "model_id": "79b0199242e64d6dbc441d3186e78091",
       "version_major": 2,
       "version_minor": 0
      },
      "text/plain": [
       "Training epoch 36:   0%|          | 0/40 [00:00<?, ?it/s]"
      ]
     },
     "metadata": {},
     "output_type": "display_data"
    },
    {
     "data": {
      "application/vnd.jupyter.widget-view+json": {
       "model_id": "3fc779dc6f8e4c0993f9409131d13606",
       "version_major": 2,
       "version_minor": 0
      },
      "text/plain": [
       "Training epoch 37:   0%|          | 0/40 [00:00<?, ?it/s]"
      ]
     },
     "metadata": {},
     "output_type": "display_data"
    },
    {
     "data": {
      "application/vnd.jupyter.widget-view+json": {
       "model_id": "8ef322cfad414ec3b5d4950e11b0e12b",
       "version_major": 2,
       "version_minor": 0
      },
      "text/plain": [
       "Training epoch 38:   0%|          | 0/40 [00:00<?, ?it/s]"
      ]
     },
     "metadata": {},
     "output_type": "display_data"
    },
    {
     "data": {
      "application/vnd.jupyter.widget-view+json": {
       "model_id": "72420921e50244e1afac1ab7d40c4236",
       "version_major": 2,
       "version_minor": 0
      },
      "text/plain": [
       "Training epoch 39:   0%|          | 0/40 [00:00<?, ?it/s]"
      ]
     },
     "metadata": {},
     "output_type": "display_data"
    },
    {
     "data": {
      "application/vnd.jupyter.widget-view+json": {
       "model_id": "0f2f488a89b044f8ad006bdc715bdaec",
       "version_major": 2,
       "version_minor": 0
      },
      "text/plain": [
       "Training epoch 40:   0%|          | 0/40 [00:00<?, ?it/s]"
      ]
     },
     "metadata": {},
     "output_type": "display_data"
    },
    {
     "data": {
      "application/vnd.jupyter.widget-view+json": {
       "model_id": "e89a8599dc13495488393836773fe9b6",
       "version_major": 2,
       "version_minor": 0
      },
      "text/plain": [
       "Training epoch 41:   0%|          | 0/40 [00:00<?, ?it/s]"
      ]
     },
     "metadata": {},
     "output_type": "display_data"
    },
    {
     "data": {
      "application/vnd.jupyter.widget-view+json": {
       "model_id": "551174984afb4845b25e7453b88613e3",
       "version_major": 2,
       "version_minor": 0
      },
      "text/plain": [
       "Training epoch 42:   0%|          | 0/40 [00:00<?, ?it/s]"
      ]
     },
     "metadata": {},
     "output_type": "display_data"
    },
    {
     "data": {
      "application/vnd.jupyter.widget-view+json": {
       "model_id": "5f3cbd124b55453ca732e1d30db9c525",
       "version_major": 2,
       "version_minor": 0
      },
      "text/plain": [
       "Training epoch 43:   0%|          | 0/40 [00:00<?, ?it/s]"
      ]
     },
     "metadata": {},
     "output_type": "display_data"
    },
    {
     "data": {
      "application/vnd.jupyter.widget-view+json": {
       "model_id": "90259c510fa14e4e879fd65cfea3cb74",
       "version_major": 2,
       "version_minor": 0
      },
      "text/plain": [
       "Training epoch 44:   0%|          | 0/40 [00:00<?, ?it/s]"
      ]
     },
     "metadata": {},
     "output_type": "display_data"
    },
    {
     "data": {
      "application/vnd.jupyter.widget-view+json": {
       "model_id": "62dd6dc462df448791d4c40670ba918b",
       "version_major": 2,
       "version_minor": 0
      },
      "text/plain": [
       "Training epoch 45:   0%|          | 0/40 [00:00<?, ?it/s]"
      ]
     },
     "metadata": {},
     "output_type": "display_data"
    },
    {
     "data": {
      "application/vnd.jupyter.widget-view+json": {
       "model_id": "87a9ec8b155548caa132d85dd50ce040",
       "version_major": 2,
       "version_minor": 0
      },
      "text/plain": [
       "Training epoch 46:   0%|          | 0/40 [00:00<?, ?it/s]"
      ]
     },
     "metadata": {},
     "output_type": "display_data"
    },
    {
     "data": {
      "application/vnd.jupyter.widget-view+json": {
       "model_id": "db60553909734bb9ab8063ab731afa81",
       "version_major": 2,
       "version_minor": 0
      },
      "text/plain": [
       "Training epoch 47:   0%|          | 0/40 [00:00<?, ?it/s]"
      ]
     },
     "metadata": {},
     "output_type": "display_data"
    },
    {
     "data": {
      "application/vnd.jupyter.widget-view+json": {
       "model_id": "8f6fd5d124fa44a38d9d0e56bcbdd63f",
       "version_major": 2,
       "version_minor": 0
      },
      "text/plain": [
       "Training epoch 48:   0%|          | 0/40 [00:00<?, ?it/s]"
      ]
     },
     "metadata": {},
     "output_type": "display_data"
    },
    {
     "data": {
      "application/vnd.jupyter.widget-view+json": {
       "model_id": "ed08a5b2adea43cfa82b2252e70bd914",
       "version_major": 2,
       "version_minor": 0
      },
      "text/plain": [
       "Training epoch 49:   0%|          | 0/40 [00:00<?, ?it/s]"
      ]
     },
     "metadata": {},
     "output_type": "display_data"
    },
    {
     "data": {
      "application/vnd.jupyter.widget-view+json": {
       "model_id": "313317337c534fe7a36f1e166f6c044d",
       "version_major": 2,
       "version_minor": 0
      },
      "text/plain": [
       "Training epoch 50:   0%|          | 0/40 [00:00<?, ?it/s]"
      ]
     },
     "metadata": {},
     "output_type": "display_data"
    },
    {
     "data": {
      "application/vnd.jupyter.widget-view+json": {
       "model_id": "ee782a6ef1af4cd095189755a6fd0d5e",
       "version_major": 2,
       "version_minor": 0
      },
      "text/plain": [
       "Training epoch 51:   0%|          | 0/40 [00:00<?, ?it/s]"
      ]
     },
     "metadata": {},
     "output_type": "display_data"
    },
    {
     "data": {
      "application/vnd.jupyter.widget-view+json": {
       "model_id": "3548916a878e46dea991b85da0692e67",
       "version_major": 2,
       "version_minor": 0
      },
      "text/plain": [
       "Training epoch 52:   0%|          | 0/40 [00:00<?, ?it/s]"
      ]
     },
     "metadata": {},
     "output_type": "display_data"
    },
    {
     "data": {
      "application/vnd.jupyter.widget-view+json": {
       "model_id": "f0263f8e839f4187be9334f8a7a27203",
       "version_major": 2,
       "version_minor": 0
      },
      "text/plain": [
       "Training epoch 53:   0%|          | 0/40 [00:00<?, ?it/s]"
      ]
     },
     "metadata": {},
     "output_type": "display_data"
    },
    {
     "data": {
      "application/vnd.jupyter.widget-view+json": {
       "model_id": "31367a0bc1724e28bed6cf9f6b2c71cc",
       "version_major": 2,
       "version_minor": 0
      },
      "text/plain": [
       "Training epoch 54:   0%|          | 0/40 [00:00<?, ?it/s]"
      ]
     },
     "metadata": {},
     "output_type": "display_data"
    },
    {
     "data": {
      "application/vnd.jupyter.widget-view+json": {
       "model_id": "994fc6af74834664b4dbf27e35b03694",
       "version_major": 2,
       "version_minor": 0
      },
      "text/plain": [
       "Training epoch 55:   0%|          | 0/40 [00:00<?, ?it/s]"
      ]
     },
     "metadata": {},
     "output_type": "display_data"
    },
    {
     "data": {
      "application/vnd.jupyter.widget-view+json": {
       "model_id": "f802b4e8f00f495192e7486bf043868d",
       "version_major": 2,
       "version_minor": 0
      },
      "text/plain": [
       "Training epoch 56:   0%|          | 0/40 [00:00<?, ?it/s]"
      ]
     },
     "metadata": {},
     "output_type": "display_data"
    },
    {
     "data": {
      "application/vnd.jupyter.widget-view+json": {
       "model_id": "8d4dcdc3a753441b96fb7c7b821b514a",
       "version_major": 2,
       "version_minor": 0
      },
      "text/plain": [
       "Training epoch 57:   0%|          | 0/40 [00:00<?, ?it/s]"
      ]
     },
     "metadata": {},
     "output_type": "display_data"
    },
    {
     "data": {
      "application/vnd.jupyter.widget-view+json": {
       "model_id": "cfb871b942ab41dbabacec2be579ace7",
       "version_major": 2,
       "version_minor": 0
      },
      "text/plain": [
       "Training epoch 58:   0%|          | 0/40 [00:00<?, ?it/s]"
      ]
     },
     "metadata": {},
     "output_type": "display_data"
    },
    {
     "data": {
      "application/vnd.jupyter.widget-view+json": {
       "model_id": "9c103500264c4b709e7596c4ae69efaa",
       "version_major": 2,
       "version_minor": 0
      },
      "text/plain": [
       "Training epoch 59:   0%|          | 0/40 [00:00<?, ?it/s]"
      ]
     },
     "metadata": {},
     "output_type": "display_data"
    },
    {
     "data": {
      "application/vnd.jupyter.widget-view+json": {
       "model_id": "3f670d6cfa454d6db9de7b8f6ae59410",
       "version_major": 2,
       "version_minor": 0
      },
      "text/plain": [
       "Training epoch 60:   0%|          | 0/40 [00:00<?, ?it/s]"
      ]
     },
     "metadata": {},
     "output_type": "display_data"
    },
    {
     "data": {
      "application/vnd.jupyter.widget-view+json": {
       "model_id": "f824a66172a54246862167f07acf161e",
       "version_major": 2,
       "version_minor": 0
      },
      "text/plain": [
       "Training epoch 61:   0%|          | 0/40 [00:00<?, ?it/s]"
      ]
     },
     "metadata": {},
     "output_type": "display_data"
    },
    {
     "data": {
      "application/vnd.jupyter.widget-view+json": {
       "model_id": "d81140f2b8144620af203a35c75d14c0",
       "version_major": 2,
       "version_minor": 0
      },
      "text/plain": [
       "Training epoch 62:   0%|          | 0/40 [00:00<?, ?it/s]"
      ]
     },
     "metadata": {},
     "output_type": "display_data"
    },
    {
     "data": {
      "application/vnd.jupyter.widget-view+json": {
       "model_id": "ae531b5c2518409fbeea1f0d3bae46fc",
       "version_major": 2,
       "version_minor": 0
      },
      "text/plain": [
       "Training epoch 63:   0%|          | 0/40 [00:00<?, ?it/s]"
      ]
     },
     "metadata": {},
     "output_type": "display_data"
    },
    {
     "data": {
      "application/vnd.jupyter.widget-view+json": {
       "model_id": "a5ff8e202af34dd69ff4b63b30823d7c",
       "version_major": 2,
       "version_minor": 0
      },
      "text/plain": [
       "Training epoch 64:   0%|          | 0/40 [00:00<?, ?it/s]"
      ]
     },
     "metadata": {},
     "output_type": "display_data"
    },
    {
     "data": {
      "application/vnd.jupyter.widget-view+json": {
       "model_id": "83081e8bafd3411b9f11c1bb8141cdfd",
       "version_major": 2,
       "version_minor": 0
      },
      "text/plain": [
       "Training epoch 65:   0%|          | 0/40 [00:00<?, ?it/s]"
      ]
     },
     "metadata": {},
     "output_type": "display_data"
    },
    {
     "data": {
      "application/vnd.jupyter.widget-view+json": {
       "model_id": "c7a031ff97954239a49526fd35d4b3ba",
       "version_major": 2,
       "version_minor": 0
      },
      "text/plain": [
       "Training epoch 66:   0%|          | 0/40 [00:00<?, ?it/s]"
      ]
     },
     "metadata": {},
     "output_type": "display_data"
    },
    {
     "data": {
      "application/vnd.jupyter.widget-view+json": {
       "model_id": "658cc8a5f1d44003a53f0eeb64427921",
       "version_major": 2,
       "version_minor": 0
      },
      "text/plain": [
       "Training epoch 67:   0%|          | 0/40 [00:00<?, ?it/s]"
      ]
     },
     "metadata": {},
     "output_type": "display_data"
    },
    {
     "data": {
      "application/vnd.jupyter.widget-view+json": {
       "model_id": "f5718763f5024892839c3a6e9b0067e9",
       "version_major": 2,
       "version_minor": 0
      },
      "text/plain": [
       "Training epoch 68:   0%|          | 0/40 [00:00<?, ?it/s]"
      ]
     },
     "metadata": {},
     "output_type": "display_data"
    },
    {
     "data": {
      "application/vnd.jupyter.widget-view+json": {
       "model_id": "7bf5963b3ad041fb984047e8b0ae2d43",
       "version_major": 2,
       "version_minor": 0
      },
      "text/plain": [
       "Training epoch 69:   0%|          | 0/40 [00:00<?, ?it/s]"
      ]
     },
     "metadata": {},
     "output_type": "display_data"
    },
    {
     "data": {
      "application/vnd.jupyter.widget-view+json": {
       "model_id": "e963080256964bd08185cdf85d2057fd",
       "version_major": 2,
       "version_minor": 0
      },
      "text/plain": [
       "Training epoch 70:   0%|          | 0/40 [00:00<?, ?it/s]"
      ]
     },
     "metadata": {},
     "output_type": "display_data"
    },
    {
     "data": {
      "application/vnd.jupyter.widget-view+json": {
       "model_id": "05932b8c9a1b40f7ab1a92fbd976f960",
       "version_major": 2,
       "version_minor": 0
      },
      "text/plain": [
       "Training epoch 71:   0%|          | 0/40 [00:00<?, ?it/s]"
      ]
     },
     "metadata": {},
     "output_type": "display_data"
    },
    {
     "data": {
      "application/vnd.jupyter.widget-view+json": {
       "model_id": "66511aa8372340268804f67f10732d47",
       "version_major": 2,
       "version_minor": 0
      },
      "text/plain": [
       "Training epoch 72:   0%|          | 0/40 [00:00<?, ?it/s]"
      ]
     },
     "metadata": {},
     "output_type": "display_data"
    },
    {
     "data": {
      "application/vnd.jupyter.widget-view+json": {
       "model_id": "119df5d5ca9140f18d1f88d41e9077f1",
       "version_major": 2,
       "version_minor": 0
      },
      "text/plain": [
       "Training epoch 73:   0%|          | 0/40 [00:00<?, ?it/s]"
      ]
     },
     "metadata": {},
     "output_type": "display_data"
    },
    {
     "data": {
      "application/vnd.jupyter.widget-view+json": {
       "model_id": "f575c71f6df84744b61b2beb4e1b93d7",
       "version_major": 2,
       "version_minor": 0
      },
      "text/plain": [
       "Training epoch 74:   0%|          | 0/40 [00:00<?, ?it/s]"
      ]
     },
     "metadata": {},
     "output_type": "display_data"
    },
    {
     "data": {
      "application/vnd.jupyter.widget-view+json": {
       "model_id": "a3b4f7472a9b4e9cad6b52afb585cf3f",
       "version_major": 2,
       "version_minor": 0
      },
      "text/plain": [
       "Training epoch 75:   0%|          | 0/40 [00:00<?, ?it/s]"
      ]
     },
     "metadata": {},
     "output_type": "display_data"
    },
    {
     "data": {
      "application/vnd.jupyter.widget-view+json": {
       "model_id": "e3cdc816e4104bc789bd63621c50454d",
       "version_major": 2,
       "version_minor": 0
      },
      "text/plain": [
       "Training epoch 76:   0%|          | 0/40 [00:00<?, ?it/s]"
      ]
     },
     "metadata": {},
     "output_type": "display_data"
    },
    {
     "data": {
      "application/vnd.jupyter.widget-view+json": {
       "model_id": "cebba744f40943c4b61568c7934eb519",
       "version_major": 2,
       "version_minor": 0
      },
      "text/plain": [
       "Training epoch 77:   0%|          | 0/40 [00:00<?, ?it/s]"
      ]
     },
     "metadata": {},
     "output_type": "display_data"
    },
    {
     "data": {
      "application/vnd.jupyter.widget-view+json": {
       "model_id": "f511186509d543338776e2e8961daf6f",
       "version_major": 2,
       "version_minor": 0
      },
      "text/plain": [
       "Training epoch 78:   0%|          | 0/40 [00:00<?, ?it/s]"
      ]
     },
     "metadata": {},
     "output_type": "display_data"
    },
    {
     "data": {
      "application/vnd.jupyter.widget-view+json": {
       "model_id": "5c51c5bba4184ba497ed9feae4f58dc3",
       "version_major": 2,
       "version_minor": 0
      },
      "text/plain": [
       "Training epoch 79:   0%|          | 0/40 [00:00<?, ?it/s]"
      ]
     },
     "metadata": {},
     "output_type": "display_data"
    },
    {
     "data": {
      "application/vnd.jupyter.widget-view+json": {
       "model_id": "64a1f0cdc4ba48a189474f4ba4432d0f",
       "version_major": 2,
       "version_minor": 0
      },
      "text/plain": [
       "Training epoch 80:   0%|          | 0/40 [00:00<?, ?it/s]"
      ]
     },
     "metadata": {},
     "output_type": "display_data"
    },
    {
     "data": {
      "application/vnd.jupyter.widget-view+json": {
       "model_id": "5ff5eae32a1e42c3b884d267f48b8949",
       "version_major": 2,
       "version_minor": 0
      },
      "text/plain": [
       "Training epoch 81:   0%|          | 0/40 [00:00<?, ?it/s]"
      ]
     },
     "metadata": {},
     "output_type": "display_data"
    },
    {
     "data": {
      "application/vnd.jupyter.widget-view+json": {
       "model_id": "ddd17650ad014a32870f3e080b79970f",
       "version_major": 2,
       "version_minor": 0
      },
      "text/plain": [
       "Training epoch 82:   0%|          | 0/40 [00:00<?, ?it/s]"
      ]
     },
     "metadata": {},
     "output_type": "display_data"
    },
    {
     "data": {
      "application/vnd.jupyter.widget-view+json": {
       "model_id": "31d91d24e816448e806ee9f8313bd914",
       "version_major": 2,
       "version_minor": 0
      },
      "text/plain": [
       "Training epoch 83:   0%|          | 0/40 [00:00<?, ?it/s]"
      ]
     },
     "metadata": {},
     "output_type": "display_data"
    },
    {
     "data": {
      "application/vnd.jupyter.widget-view+json": {
       "model_id": "d5766851e05b4e3897cd372c1986cf76",
       "version_major": 2,
       "version_minor": 0
      },
      "text/plain": [
       "Training epoch 84:   0%|          | 0/40 [00:00<?, ?it/s]"
      ]
     },
     "metadata": {},
     "output_type": "display_data"
    },
    {
     "data": {
      "application/vnd.jupyter.widget-view+json": {
       "model_id": "76803a24e7054b70b35e092fdb54d4a1",
       "version_major": 2,
       "version_minor": 0
      },
      "text/plain": [
       "Training epoch 85:   0%|          | 0/40 [00:00<?, ?it/s]"
      ]
     },
     "metadata": {},
     "output_type": "display_data"
    },
    {
     "data": {
      "application/vnd.jupyter.widget-view+json": {
       "model_id": "6cd0a7de45604982bd8503667733d82c",
       "version_major": 2,
       "version_minor": 0
      },
      "text/plain": [
       "Training epoch 86:   0%|          | 0/40 [00:00<?, ?it/s]"
      ]
     },
     "metadata": {},
     "output_type": "display_data"
    },
    {
     "data": {
      "application/vnd.jupyter.widget-view+json": {
       "model_id": "11ca122dd644416087c087b53df423f3",
       "version_major": 2,
       "version_minor": 0
      },
      "text/plain": [
       "Training epoch 87:   0%|          | 0/40 [00:00<?, ?it/s]"
      ]
     },
     "metadata": {},
     "output_type": "display_data"
    },
    {
     "data": {
      "application/vnd.jupyter.widget-view+json": {
       "model_id": "deb98b47cd234688b11b728b9971acf3",
       "version_major": 2,
       "version_minor": 0
      },
      "text/plain": [
       "Training epoch 88:   0%|          | 0/40 [00:00<?, ?it/s]"
      ]
     },
     "metadata": {},
     "output_type": "display_data"
    },
    {
     "data": {
      "application/vnd.jupyter.widget-view+json": {
       "model_id": "e9db6fb5aa5f4c228560989d176b474e",
       "version_major": 2,
       "version_minor": 0
      },
      "text/plain": [
       "Training epoch 89:   0%|          | 0/40 [00:00<?, ?it/s]"
      ]
     },
     "metadata": {},
     "output_type": "display_data"
    },
    {
     "data": {
      "application/vnd.jupyter.widget-view+json": {
       "model_id": "51a5283be4d1419aaf78734f85fd78d4",
       "version_major": 2,
       "version_minor": 0
      },
      "text/plain": [
       "Training epoch 90:   0%|          | 0/40 [00:00<?, ?it/s]"
      ]
     },
     "metadata": {},
     "output_type": "display_data"
    },
    {
     "data": {
      "application/vnd.jupyter.widget-view+json": {
       "model_id": "487d8ae48edd44d7a3099dd82bfc26da",
       "version_major": 2,
       "version_minor": 0
      },
      "text/plain": [
       "Training epoch 91:   0%|          | 0/40 [00:00<?, ?it/s]"
      ]
     },
     "metadata": {},
     "output_type": "display_data"
    },
    {
     "data": {
      "application/vnd.jupyter.widget-view+json": {
       "model_id": "ea973abb64164288bc5d0ced910554ff",
       "version_major": 2,
       "version_minor": 0
      },
      "text/plain": [
       "Training epoch 92:   0%|          | 0/40 [00:00<?, ?it/s]"
      ]
     },
     "metadata": {},
     "output_type": "display_data"
    },
    {
     "data": {
      "application/vnd.jupyter.widget-view+json": {
       "model_id": "65a8b00167594a8ca1081401c4431847",
       "version_major": 2,
       "version_minor": 0
      },
      "text/plain": [
       "Training epoch 93:   0%|          | 0/40 [00:00<?, ?it/s]"
      ]
     },
     "metadata": {},
     "output_type": "display_data"
    },
    {
     "data": {
      "application/vnd.jupyter.widget-view+json": {
       "model_id": "bf0d89bdeeda41f69b27030473b9a291",
       "version_major": 2,
       "version_minor": 0
      },
      "text/plain": [
       "Training epoch 94:   0%|          | 0/40 [00:00<?, ?it/s]"
      ]
     },
     "metadata": {},
     "output_type": "display_data"
    },
    {
     "data": {
      "application/vnd.jupyter.widget-view+json": {
       "model_id": "badcf72778c043b49f2266505b301e9c",
       "version_major": 2,
       "version_minor": 0
      },
      "text/plain": [
       "Training epoch 95:   0%|          | 0/40 [00:00<?, ?it/s]"
      ]
     },
     "metadata": {},
     "output_type": "display_data"
    },
    {
     "data": {
      "application/vnd.jupyter.widget-view+json": {
       "model_id": "0a7b4455bf2348098a29456942947ff6",
       "version_major": 2,
       "version_minor": 0
      },
      "text/plain": [
       "Training epoch 96:   0%|          | 0/40 [00:00<?, ?it/s]"
      ]
     },
     "metadata": {},
     "output_type": "display_data"
    },
    {
     "data": {
      "application/vnd.jupyter.widget-view+json": {
       "model_id": "b084800ad7854ff3851985da7ebbe47c",
       "version_major": 2,
       "version_minor": 0
      },
      "text/plain": [
       "Training epoch 97:   0%|          | 0/40 [00:00<?, ?it/s]"
      ]
     },
     "metadata": {},
     "output_type": "display_data"
    },
    {
     "data": {
      "application/vnd.jupyter.widget-view+json": {
       "model_id": "4cd087850dca44b19eeb7bc7735dd332",
       "version_major": 2,
       "version_minor": 0
      },
      "text/plain": [
       "Training epoch 98:   0%|          | 0/40 [00:00<?, ?it/s]"
      ]
     },
     "metadata": {},
     "output_type": "display_data"
    },
    {
     "data": {
      "application/vnd.jupyter.widget-view+json": {
       "model_id": "87e73073d0ba48c2914f1a6d4279fe0e",
       "version_major": 2,
       "version_minor": 0
      },
      "text/plain": [
       "Training epoch 99:   0%|          | 0/40 [00:00<?, ?it/s]"
      ]
     },
     "metadata": {},
     "output_type": "display_data"
    },
    {
     "data": {
      "application/vnd.jupyter.widget-view+json": {
       "model_id": "9edae6794d6044cfaa4c7d0e8433c5a8",
       "version_major": 2,
       "version_minor": 0
      },
      "text/plain": [
       "Training epoch 100:   0%|          | 0/40 [00:00<?, ?it/s]"
      ]
     },
     "metadata": {},
     "output_type": "display_data"
    },
    {
     "name": "stdout",
     "output_type": "stream",
     "text": [
      "Simulating new 10000 data sets and appending to previous...\n",
      "New total number of simulated data sets: 50000\n",
      "Converting 50000 simulations to a TensorFlow data set...\n"
     ]
    },
    {
     "data": {
      "application/vnd.jupyter.widget-view+json": {
       "model_id": "4afde5288a574f5daab41794af65ad01",
       "version_major": 2,
       "version_minor": 0
      },
      "text/plain": [
       "Training epoch 1:   0%|          | 0/50 [00:00<?, ?it/s]"
      ]
     },
     "metadata": {},
     "output_type": "display_data"
    },
    {
     "data": {
      "application/vnd.jupyter.widget-view+json": {
       "model_id": "1bca31e755064230b0ec39c524a6c3de",
       "version_major": 2,
       "version_minor": 0
      },
      "text/plain": [
       "Training epoch 2:   0%|          | 0/50 [00:00<?, ?it/s]"
      ]
     },
     "metadata": {},
     "output_type": "display_data"
    },
    {
     "data": {
      "application/vnd.jupyter.widget-view+json": {
       "model_id": "cd56be773a924df9bc3896987ab4d81e",
       "version_major": 2,
       "version_minor": 0
      },
      "text/plain": [
       "Training epoch 3:   0%|          | 0/50 [00:00<?, ?it/s]"
      ]
     },
     "metadata": {},
     "output_type": "display_data"
    },
    {
     "data": {
      "application/vnd.jupyter.widget-view+json": {
       "model_id": "995a00869c8f4e8a816afa0c06319b09",
       "version_major": 2,
       "version_minor": 0
      },
      "text/plain": [
       "Training epoch 4:   0%|          | 0/50 [00:00<?, ?it/s]"
      ]
     },
     "metadata": {},
     "output_type": "display_data"
    },
    {
     "data": {
      "application/vnd.jupyter.widget-view+json": {
       "model_id": "49ef2b8c406842be891fad1aead5ba60",
       "version_major": 2,
       "version_minor": 0
      },
      "text/plain": [
       "Training epoch 5:   0%|          | 0/50 [00:00<?, ?it/s]"
      ]
     },
     "metadata": {},
     "output_type": "display_data"
    },
    {
     "data": {
      "application/vnd.jupyter.widget-view+json": {
       "model_id": "643356ca190c4dc79ae1b1c8cc8c9575",
       "version_major": 2,
       "version_minor": 0
      },
      "text/plain": [
       "Training epoch 6:   0%|          | 0/50 [00:00<?, ?it/s]"
      ]
     },
     "metadata": {},
     "output_type": "display_data"
    },
    {
     "data": {
      "application/vnd.jupyter.widget-view+json": {
       "model_id": "3dbee8aeb2df4b4d83e9508d8fa88e7d",
       "version_major": 2,
       "version_minor": 0
      },
      "text/plain": [
       "Training epoch 7:   0%|          | 0/50 [00:00<?, ?it/s]"
      ]
     },
     "metadata": {},
     "output_type": "display_data"
    },
    {
     "data": {
      "application/vnd.jupyter.widget-view+json": {
       "model_id": "c518bff97ff54c4296d8a8b0b38dca0a",
       "version_major": 2,
       "version_minor": 0
      },
      "text/plain": [
       "Training epoch 8:   0%|          | 0/50 [00:00<?, ?it/s]"
      ]
     },
     "metadata": {},
     "output_type": "display_data"
    },
    {
     "data": {
      "application/vnd.jupyter.widget-view+json": {
       "model_id": "78d46281bc434271954cb971a47d47a0",
       "version_major": 2,
       "version_minor": 0
      },
      "text/plain": [
       "Training epoch 9:   0%|          | 0/50 [00:00<?, ?it/s]"
      ]
     },
     "metadata": {},
     "output_type": "display_data"
    },
    {
     "data": {
      "application/vnd.jupyter.widget-view+json": {
       "model_id": "b59515c7bafd40c38d13620be71f38ef",
       "version_major": 2,
       "version_minor": 0
      },
      "text/plain": [
       "Training epoch 10:   0%|          | 0/50 [00:00<?, ?it/s]"
      ]
     },
     "metadata": {},
     "output_type": "display_data"
    },
    {
     "data": {
      "application/vnd.jupyter.widget-view+json": {
       "model_id": "812dc1cff8c34b1ea979560435b83c9a",
       "version_major": 2,
       "version_minor": 0
      },
      "text/plain": [
       "Training epoch 11:   0%|          | 0/50 [00:00<?, ?it/s]"
      ]
     },
     "metadata": {},
     "output_type": "display_data"
    },
    {
     "data": {
      "application/vnd.jupyter.widget-view+json": {
       "model_id": "ef8b2a3c890e4bf9a5d611c94ff76346",
       "version_major": 2,
       "version_minor": 0
      },
      "text/plain": [
       "Training epoch 12:   0%|          | 0/50 [00:00<?, ?it/s]"
      ]
     },
     "metadata": {},
     "output_type": "display_data"
    },
    {
     "data": {
      "application/vnd.jupyter.widget-view+json": {
       "model_id": "d86ede0a2af84dec8a8eb81851d93b4f",
       "version_major": 2,
       "version_minor": 0
      },
      "text/plain": [
       "Training epoch 13:   0%|          | 0/50 [00:00<?, ?it/s]"
      ]
     },
     "metadata": {},
     "output_type": "display_data"
    },
    {
     "data": {
      "application/vnd.jupyter.widget-view+json": {
       "model_id": "dd97daad63fc4741b8c0f731fb8b64b7",
       "version_major": 2,
       "version_minor": 0
      },
      "text/plain": [
       "Training epoch 14:   0%|          | 0/50 [00:00<?, ?it/s]"
      ]
     },
     "metadata": {},
     "output_type": "display_data"
    },
    {
     "data": {
      "application/vnd.jupyter.widget-view+json": {
       "model_id": "5a6f3e72836f4ce48e3933a39415db35",
       "version_major": 2,
       "version_minor": 0
      },
      "text/plain": [
       "Training epoch 15:   0%|          | 0/50 [00:00<?, ?it/s]"
      ]
     },
     "metadata": {},
     "output_type": "display_data"
    },
    {
     "data": {
      "application/vnd.jupyter.widget-view+json": {
       "model_id": "ec964c912f0b4ee2b667fe132a196825",
       "version_major": 2,
       "version_minor": 0
      },
      "text/plain": [
       "Training epoch 16:   0%|          | 0/50 [00:00<?, ?it/s]"
      ]
     },
     "metadata": {},
     "output_type": "display_data"
    },
    {
     "data": {
      "application/vnd.jupyter.widget-view+json": {
       "model_id": "9600f47a2cfe48f0a308d2dad6a91926",
       "version_major": 2,
       "version_minor": 0
      },
      "text/plain": [
       "Training epoch 17:   0%|          | 0/50 [00:00<?, ?it/s]"
      ]
     },
     "metadata": {},
     "output_type": "display_data"
    },
    {
     "data": {
      "application/vnd.jupyter.widget-view+json": {
       "model_id": "e7aeb9da45544cc38ceace15a1ec32ef",
       "version_major": 2,
       "version_minor": 0
      },
      "text/plain": [
       "Training epoch 18:   0%|          | 0/50 [00:00<?, ?it/s]"
      ]
     },
     "metadata": {},
     "output_type": "display_data"
    },
    {
     "data": {
      "application/vnd.jupyter.widget-view+json": {
       "model_id": "995be3587f7547fbb5223557d23f143f",
       "version_major": 2,
       "version_minor": 0
      },
      "text/plain": [
       "Training epoch 19:   0%|          | 0/50 [00:00<?, ?it/s]"
      ]
     },
     "metadata": {},
     "output_type": "display_data"
    },
    {
     "data": {
      "application/vnd.jupyter.widget-view+json": {
       "model_id": "f515ed9f88404d1fb00f72d2fa3949fc",
       "version_major": 2,
       "version_minor": 0
      },
      "text/plain": [
       "Training epoch 20:   0%|          | 0/50 [00:00<?, ?it/s]"
      ]
     },
     "metadata": {},
     "output_type": "display_data"
    },
    {
     "data": {
      "application/vnd.jupyter.widget-view+json": {
       "model_id": "c1bdd4f5f3ae4367a9a0ff90b139a2ee",
       "version_major": 2,
       "version_minor": 0
      },
      "text/plain": [
       "Training epoch 21:   0%|          | 0/50 [00:00<?, ?it/s]"
      ]
     },
     "metadata": {},
     "output_type": "display_data"
    },
    {
     "data": {
      "application/vnd.jupyter.widget-view+json": {
       "model_id": "01dad9d0b4b04dba866da03d8a3e59a9",
       "version_major": 2,
       "version_minor": 0
      },
      "text/plain": [
       "Training epoch 22:   0%|          | 0/50 [00:00<?, ?it/s]"
      ]
     },
     "metadata": {},
     "output_type": "display_data"
    },
    {
     "data": {
      "application/vnd.jupyter.widget-view+json": {
       "model_id": "d79f74cb291c4f158461238fb4b87146",
       "version_major": 2,
       "version_minor": 0
      },
      "text/plain": [
       "Training epoch 23:   0%|          | 0/50 [00:00<?, ?it/s]"
      ]
     },
     "metadata": {},
     "output_type": "display_data"
    },
    {
     "data": {
      "application/vnd.jupyter.widget-view+json": {
       "model_id": "9af6d35c066f420085f7c286c1b02b28",
       "version_major": 2,
       "version_minor": 0
      },
      "text/plain": [
       "Training epoch 24:   0%|          | 0/50 [00:00<?, ?it/s]"
      ]
     },
     "metadata": {},
     "output_type": "display_data"
    },
    {
     "data": {
      "application/vnd.jupyter.widget-view+json": {
       "model_id": "cc78ab0b5db942b08c0bc336b8bcc45b",
       "version_major": 2,
       "version_minor": 0
      },
      "text/plain": [
       "Training epoch 25:   0%|          | 0/50 [00:00<?, ?it/s]"
      ]
     },
     "metadata": {},
     "output_type": "display_data"
    },
    {
     "data": {
      "application/vnd.jupyter.widget-view+json": {
       "model_id": "2c7aacbcb2de42b7a0c872fa770567fe",
       "version_major": 2,
       "version_minor": 0
      },
      "text/plain": [
       "Training epoch 26:   0%|          | 0/50 [00:00<?, ?it/s]"
      ]
     },
     "metadata": {},
     "output_type": "display_data"
    },
    {
     "data": {
      "application/vnd.jupyter.widget-view+json": {
       "model_id": "9529bafdf5234001ba2ec08fdb11c435",
       "version_major": 2,
       "version_minor": 0
      },
      "text/plain": [
       "Training epoch 27:   0%|          | 0/50 [00:00<?, ?it/s]"
      ]
     },
     "metadata": {},
     "output_type": "display_data"
    },
    {
     "data": {
      "application/vnd.jupyter.widget-view+json": {
       "model_id": "0567b09b8006441bb8826c56265516ff",
       "version_major": 2,
       "version_minor": 0
      },
      "text/plain": [
       "Training epoch 28:   0%|          | 0/50 [00:00<?, ?it/s]"
      ]
     },
     "metadata": {},
     "output_type": "display_data"
    },
    {
     "data": {
      "application/vnd.jupyter.widget-view+json": {
       "model_id": "d957e669f36346e1a77cd965f5ed688a",
       "version_major": 2,
       "version_minor": 0
      },
      "text/plain": [
       "Training epoch 29:   0%|          | 0/50 [00:00<?, ?it/s]"
      ]
     },
     "metadata": {},
     "output_type": "display_data"
    },
    {
     "data": {
      "application/vnd.jupyter.widget-view+json": {
       "model_id": "06a3c8f0c6764482a077d8338dddb7bf",
       "version_major": 2,
       "version_minor": 0
      },
      "text/plain": [
       "Training epoch 30:   0%|          | 0/50 [00:00<?, ?it/s]"
      ]
     },
     "metadata": {},
     "output_type": "display_data"
    },
    {
     "data": {
      "application/vnd.jupyter.widget-view+json": {
       "model_id": "a236755d816c4a909cf869de12c8d32a",
       "version_major": 2,
       "version_minor": 0
      },
      "text/plain": [
       "Training epoch 31:   0%|          | 0/50 [00:00<?, ?it/s]"
      ]
     },
     "metadata": {},
     "output_type": "display_data"
    },
    {
     "data": {
      "application/vnd.jupyter.widget-view+json": {
       "model_id": "abd877aee9454b49970b9eac3895fad8",
       "version_major": 2,
       "version_minor": 0
      },
      "text/plain": [
       "Training epoch 32:   0%|          | 0/50 [00:00<?, ?it/s]"
      ]
     },
     "metadata": {},
     "output_type": "display_data"
    },
    {
     "data": {
      "application/vnd.jupyter.widget-view+json": {
       "model_id": "7efa5a7ab4ea4878950c2645adb31559",
       "version_major": 2,
       "version_minor": 0
      },
      "text/plain": [
       "Training epoch 33:   0%|          | 0/50 [00:00<?, ?it/s]"
      ]
     },
     "metadata": {},
     "output_type": "display_data"
    },
    {
     "data": {
      "application/vnd.jupyter.widget-view+json": {
       "model_id": "025b0eb07be049fca8b406bee3cb5d10",
       "version_major": 2,
       "version_minor": 0
      },
      "text/plain": [
       "Training epoch 34:   0%|          | 0/50 [00:00<?, ?it/s]"
      ]
     },
     "metadata": {},
     "output_type": "display_data"
    },
    {
     "data": {
      "application/vnd.jupyter.widget-view+json": {
       "model_id": "d7756b78ab1e499b91d4b82854d4a97c",
       "version_major": 2,
       "version_minor": 0
      },
      "text/plain": [
       "Training epoch 35:   0%|          | 0/50 [00:00<?, ?it/s]"
      ]
     },
     "metadata": {},
     "output_type": "display_data"
    },
    {
     "data": {
      "application/vnd.jupyter.widget-view+json": {
       "model_id": "26db1ce33f3449a5883eb87d3d12ca1c",
       "version_major": 2,
       "version_minor": 0
      },
      "text/plain": [
       "Training epoch 36:   0%|          | 0/50 [00:00<?, ?it/s]"
      ]
     },
     "metadata": {},
     "output_type": "display_data"
    },
    {
     "data": {
      "application/vnd.jupyter.widget-view+json": {
       "model_id": "efc46f14b22441ca8f13071e73f927a3",
       "version_major": 2,
       "version_minor": 0
      },
      "text/plain": [
       "Training epoch 37:   0%|          | 0/50 [00:00<?, ?it/s]"
      ]
     },
     "metadata": {},
     "output_type": "display_data"
    },
    {
     "data": {
      "application/vnd.jupyter.widget-view+json": {
       "model_id": "c44f66b77a2448bebc6dc12fabb7d87d",
       "version_major": 2,
       "version_minor": 0
      },
      "text/plain": [
       "Training epoch 38:   0%|          | 0/50 [00:00<?, ?it/s]"
      ]
     },
     "metadata": {},
     "output_type": "display_data"
    },
    {
     "data": {
      "application/vnd.jupyter.widget-view+json": {
       "model_id": "7be51b2ce5584c06a4f187a24d6eda2e",
       "version_major": 2,
       "version_minor": 0
      },
      "text/plain": [
       "Training epoch 39:   0%|          | 0/50 [00:00<?, ?it/s]"
      ]
     },
     "metadata": {},
     "output_type": "display_data"
    },
    {
     "data": {
      "application/vnd.jupyter.widget-view+json": {
       "model_id": "db96ad7eabfe4b05ba76c76d57698c51",
       "version_major": 2,
       "version_minor": 0
      },
      "text/plain": [
       "Training epoch 40:   0%|          | 0/50 [00:00<?, ?it/s]"
      ]
     },
     "metadata": {},
     "output_type": "display_data"
    },
    {
     "data": {
      "application/vnd.jupyter.widget-view+json": {
       "model_id": "088b428731604075a854402821e2faab",
       "version_major": 2,
       "version_minor": 0
      },
      "text/plain": [
       "Training epoch 41:   0%|          | 0/50 [00:00<?, ?it/s]"
      ]
     },
     "metadata": {},
     "output_type": "display_data"
    },
    {
     "data": {
      "application/vnd.jupyter.widget-view+json": {
       "model_id": "fd37219a25f244f5bef206de1d7ea5fc",
       "version_major": 2,
       "version_minor": 0
      },
      "text/plain": [
       "Training epoch 42:   0%|          | 0/50 [00:00<?, ?it/s]"
      ]
     },
     "metadata": {},
     "output_type": "display_data"
    },
    {
     "data": {
      "application/vnd.jupyter.widget-view+json": {
       "model_id": "ad51f56fc03f402fb392eabbf4a49175",
       "version_major": 2,
       "version_minor": 0
      },
      "text/plain": [
       "Training epoch 43:   0%|          | 0/50 [00:00<?, ?it/s]"
      ]
     },
     "metadata": {},
     "output_type": "display_data"
    },
    {
     "data": {
      "application/vnd.jupyter.widget-view+json": {
       "model_id": "0486f0e4859643aca4d3ec26f1f9c328",
       "version_major": 2,
       "version_minor": 0
      },
      "text/plain": [
       "Training epoch 44:   0%|          | 0/50 [00:00<?, ?it/s]"
      ]
     },
     "metadata": {},
     "output_type": "display_data"
    },
    {
     "data": {
      "application/vnd.jupyter.widget-view+json": {
       "model_id": "4147b0c2d3ac4f92973757d130ea9adb",
       "version_major": 2,
       "version_minor": 0
      },
      "text/plain": [
       "Training epoch 45:   0%|          | 0/50 [00:00<?, ?it/s]"
      ]
     },
     "metadata": {},
     "output_type": "display_data"
    },
    {
     "data": {
      "application/vnd.jupyter.widget-view+json": {
       "model_id": "3999a5096019425fa9323c96838eff72",
       "version_major": 2,
       "version_minor": 0
      },
      "text/plain": [
       "Training epoch 46:   0%|          | 0/50 [00:00<?, ?it/s]"
      ]
     },
     "metadata": {},
     "output_type": "display_data"
    },
    {
     "data": {
      "application/vnd.jupyter.widget-view+json": {
       "model_id": "1fa69f158f6a42bba21a8ef34ecab56f",
       "version_major": 2,
       "version_minor": 0
      },
      "text/plain": [
       "Training epoch 47:   0%|          | 0/50 [00:00<?, ?it/s]"
      ]
     },
     "metadata": {},
     "output_type": "display_data"
    },
    {
     "data": {
      "application/vnd.jupyter.widget-view+json": {
       "model_id": "6407632db1fc4131be62375b1515c2a4",
       "version_major": 2,
       "version_minor": 0
      },
      "text/plain": [
       "Training epoch 48:   0%|          | 0/50 [00:00<?, ?it/s]"
      ]
     },
     "metadata": {},
     "output_type": "display_data"
    },
    {
     "data": {
      "application/vnd.jupyter.widget-view+json": {
       "model_id": "60e908d0018d414394e84ebf361e88d9",
       "version_major": 2,
       "version_minor": 0
      },
      "text/plain": [
       "Training epoch 49:   0%|          | 0/50 [00:00<?, ?it/s]"
      ]
     },
     "metadata": {},
     "output_type": "display_data"
    },
    {
     "data": {
      "application/vnd.jupyter.widget-view+json": {
       "model_id": "e6b90d9c8fb44f579492084a091c3299",
       "version_major": 2,
       "version_minor": 0
      },
      "text/plain": [
       "Training epoch 50:   0%|          | 0/50 [00:00<?, ?it/s]"
      ]
     },
     "metadata": {},
     "output_type": "display_data"
    },
    {
     "data": {
      "application/vnd.jupyter.widget-view+json": {
       "model_id": "afcbe23373a24f69a596a619c7e0ce90",
       "version_major": 2,
       "version_minor": 0
      },
      "text/plain": [
       "Training epoch 51:   0%|          | 0/50 [00:00<?, ?it/s]"
      ]
     },
     "metadata": {},
     "output_type": "display_data"
    },
    {
     "data": {
      "application/vnd.jupyter.widget-view+json": {
       "model_id": "a6fa546c8d1744fd9b8d6660343febde",
       "version_major": 2,
       "version_minor": 0
      },
      "text/plain": [
       "Training epoch 52:   0%|          | 0/50 [00:00<?, ?it/s]"
      ]
     },
     "metadata": {},
     "output_type": "display_data"
    },
    {
     "data": {
      "application/vnd.jupyter.widget-view+json": {
       "model_id": "369051cd537e4523abaf7cef4b459b20",
       "version_major": 2,
       "version_minor": 0
      },
      "text/plain": [
       "Training epoch 53:   0%|          | 0/50 [00:00<?, ?it/s]"
      ]
     },
     "metadata": {},
     "output_type": "display_data"
    },
    {
     "data": {
      "application/vnd.jupyter.widget-view+json": {
       "model_id": "b708cbf8093d4d938c6c40c70302ced0",
       "version_major": 2,
       "version_minor": 0
      },
      "text/plain": [
       "Training epoch 54:   0%|          | 0/50 [00:00<?, ?it/s]"
      ]
     },
     "metadata": {},
     "output_type": "display_data"
    },
    {
     "data": {
      "application/vnd.jupyter.widget-view+json": {
       "model_id": "08948074d0ee4c439e5b734ba013a228",
       "version_major": 2,
       "version_minor": 0
      },
      "text/plain": [
       "Training epoch 55:   0%|          | 0/50 [00:00<?, ?it/s]"
      ]
     },
     "metadata": {},
     "output_type": "display_data"
    },
    {
     "data": {
      "application/vnd.jupyter.widget-view+json": {
       "model_id": "1cf0ad329b9149faa05b5216a2f488ce",
       "version_major": 2,
       "version_minor": 0
      },
      "text/plain": [
       "Training epoch 56:   0%|          | 0/50 [00:00<?, ?it/s]"
      ]
     },
     "metadata": {},
     "output_type": "display_data"
    },
    {
     "data": {
      "application/vnd.jupyter.widget-view+json": {
       "model_id": "14d77a554949416cbf24ab04a0b4a734",
       "version_major": 2,
       "version_minor": 0
      },
      "text/plain": [
       "Training epoch 57:   0%|          | 0/50 [00:00<?, ?it/s]"
      ]
     },
     "metadata": {},
     "output_type": "display_data"
    },
    {
     "data": {
      "application/vnd.jupyter.widget-view+json": {
       "model_id": "45f474a3d2ba45af8c5dd89650826d0f",
       "version_major": 2,
       "version_minor": 0
      },
      "text/plain": [
       "Training epoch 58:   0%|          | 0/50 [00:00<?, ?it/s]"
      ]
     },
     "metadata": {},
     "output_type": "display_data"
    },
    {
     "data": {
      "application/vnd.jupyter.widget-view+json": {
       "model_id": "b9fc41ca0e874c3dbedb1bbea5c08544",
       "version_major": 2,
       "version_minor": 0
      },
      "text/plain": [
       "Training epoch 59:   0%|          | 0/50 [00:00<?, ?it/s]"
      ]
     },
     "metadata": {},
     "output_type": "display_data"
    },
    {
     "data": {
      "application/vnd.jupyter.widget-view+json": {
       "model_id": "f42606f37cf542f19f74c9579d6f56c1",
       "version_major": 2,
       "version_minor": 0
      },
      "text/plain": [
       "Training epoch 60:   0%|          | 0/50 [00:00<?, ?it/s]"
      ]
     },
     "metadata": {},
     "output_type": "display_data"
    },
    {
     "data": {
      "application/vnd.jupyter.widget-view+json": {
       "model_id": "d811c3e4e0bc4542987364f522a210df",
       "version_major": 2,
       "version_minor": 0
      },
      "text/plain": [
       "Training epoch 61:   0%|          | 0/50 [00:00<?, ?it/s]"
      ]
     },
     "metadata": {},
     "output_type": "display_data"
    },
    {
     "data": {
      "application/vnd.jupyter.widget-view+json": {
       "model_id": "de291fcfc09140b5ba48ceec009e4138",
       "version_major": 2,
       "version_minor": 0
      },
      "text/plain": [
       "Training epoch 62:   0%|          | 0/50 [00:00<?, ?it/s]"
      ]
     },
     "metadata": {},
     "output_type": "display_data"
    },
    {
     "data": {
      "application/vnd.jupyter.widget-view+json": {
       "model_id": "7ec1da6d867946d482984bdf7a21f659",
       "version_major": 2,
       "version_minor": 0
      },
      "text/plain": [
       "Training epoch 63:   0%|          | 0/50 [00:00<?, ?it/s]"
      ]
     },
     "metadata": {},
     "output_type": "display_data"
    },
    {
     "data": {
      "application/vnd.jupyter.widget-view+json": {
       "model_id": "dfa7d21db4174754873a0ddb06f77a87",
       "version_major": 2,
       "version_minor": 0
      },
      "text/plain": [
       "Training epoch 64:   0%|          | 0/50 [00:00<?, ?it/s]"
      ]
     },
     "metadata": {},
     "output_type": "display_data"
    },
    {
     "data": {
      "application/vnd.jupyter.widget-view+json": {
       "model_id": "27749fe3bb554418bb396bb96e982b9c",
       "version_major": 2,
       "version_minor": 0
      },
      "text/plain": [
       "Training epoch 65:   0%|          | 0/50 [00:00<?, ?it/s]"
      ]
     },
     "metadata": {},
     "output_type": "display_data"
    },
    {
     "data": {
      "application/vnd.jupyter.widget-view+json": {
       "model_id": "6a38abf834774507967adbf44783cb1f",
       "version_major": 2,
       "version_minor": 0
      },
      "text/plain": [
       "Training epoch 66:   0%|          | 0/50 [00:00<?, ?it/s]"
      ]
     },
     "metadata": {},
     "output_type": "display_data"
    },
    {
     "data": {
      "application/vnd.jupyter.widget-view+json": {
       "model_id": "76af1dafa2c648ea81bc8e3e7d1f3e3e",
       "version_major": 2,
       "version_minor": 0
      },
      "text/plain": [
       "Training epoch 67:   0%|          | 0/50 [00:00<?, ?it/s]"
      ]
     },
     "metadata": {},
     "output_type": "display_data"
    },
    {
     "data": {
      "application/vnd.jupyter.widget-view+json": {
       "model_id": "c3f36455c96f4e458ce634b30c2b4fab",
       "version_major": 2,
       "version_minor": 0
      },
      "text/plain": [
       "Training epoch 68:   0%|          | 0/50 [00:00<?, ?it/s]"
      ]
     },
     "metadata": {},
     "output_type": "display_data"
    },
    {
     "data": {
      "application/vnd.jupyter.widget-view+json": {
       "model_id": "0fabc98a59a44452894651f1e01f2fbd",
       "version_major": 2,
       "version_minor": 0
      },
      "text/plain": [
       "Training epoch 69:   0%|          | 0/50 [00:00<?, ?it/s]"
      ]
     },
     "metadata": {},
     "output_type": "display_data"
    },
    {
     "data": {
      "application/vnd.jupyter.widget-view+json": {
       "model_id": "163302490caf415e8ea60e2ff2540510",
       "version_major": 2,
       "version_minor": 0
      },
      "text/plain": [
       "Training epoch 70:   0%|          | 0/50 [00:00<?, ?it/s]"
      ]
     },
     "metadata": {},
     "output_type": "display_data"
    },
    {
     "data": {
      "application/vnd.jupyter.widget-view+json": {
       "model_id": "09dd5d6a96744701b2d541d7fafa1446",
       "version_major": 2,
       "version_minor": 0
      },
      "text/plain": [
       "Training epoch 71:   0%|          | 0/50 [00:00<?, ?it/s]"
      ]
     },
     "metadata": {},
     "output_type": "display_data"
    },
    {
     "data": {
      "application/vnd.jupyter.widget-view+json": {
       "model_id": "1e0eb32a1ab846a4aae0b3bda853e4f4",
       "version_major": 2,
       "version_minor": 0
      },
      "text/plain": [
       "Training epoch 72:   0%|          | 0/50 [00:00<?, ?it/s]"
      ]
     },
     "metadata": {},
     "output_type": "display_data"
    },
    {
     "data": {
      "application/vnd.jupyter.widget-view+json": {
       "model_id": "8184a3de032841e3b50a8b1b52559214",
       "version_major": 2,
       "version_minor": 0
      },
      "text/plain": [
       "Training epoch 73:   0%|          | 0/50 [00:00<?, ?it/s]"
      ]
     },
     "metadata": {},
     "output_type": "display_data"
    },
    {
     "data": {
      "application/vnd.jupyter.widget-view+json": {
       "model_id": "8de0529d6bd44846981765d665db7b55",
       "version_major": 2,
       "version_minor": 0
      },
      "text/plain": [
       "Training epoch 74:   0%|          | 0/50 [00:00<?, ?it/s]"
      ]
     },
     "metadata": {},
     "output_type": "display_data"
    },
    {
     "data": {
      "application/vnd.jupyter.widget-view+json": {
       "model_id": "234afda0e49c4693b452a65bb0c0c1b3",
       "version_major": 2,
       "version_minor": 0
      },
      "text/plain": [
       "Training epoch 75:   0%|          | 0/50 [00:00<?, ?it/s]"
      ]
     },
     "metadata": {},
     "output_type": "display_data"
    },
    {
     "data": {
      "application/vnd.jupyter.widget-view+json": {
       "model_id": "d6539913912a4e94b7277b66ecc3e49a",
       "version_major": 2,
       "version_minor": 0
      },
      "text/plain": [
       "Training epoch 76:   0%|          | 0/50 [00:00<?, ?it/s]"
      ]
     },
     "metadata": {},
     "output_type": "display_data"
    },
    {
     "data": {
      "application/vnd.jupyter.widget-view+json": {
       "model_id": "6cb3534ba1554e5ca4e9e34139822cb7",
       "version_major": 2,
       "version_minor": 0
      },
      "text/plain": [
       "Training epoch 77:   0%|          | 0/50 [00:00<?, ?it/s]"
      ]
     },
     "metadata": {},
     "output_type": "display_data"
    },
    {
     "data": {
      "application/vnd.jupyter.widget-view+json": {
       "model_id": "d1a2889441b04f9e9eeb6ab31c47c787",
       "version_major": 2,
       "version_minor": 0
      },
      "text/plain": [
       "Training epoch 78:   0%|          | 0/50 [00:00<?, ?it/s]"
      ]
     },
     "metadata": {},
     "output_type": "display_data"
    },
    {
     "data": {
      "application/vnd.jupyter.widget-view+json": {
       "model_id": "9a843c7ea94a4352b09b711c7fd661ce",
       "version_major": 2,
       "version_minor": 0
      },
      "text/plain": [
       "Training epoch 79:   0%|          | 0/50 [00:00<?, ?it/s]"
      ]
     },
     "metadata": {},
     "output_type": "display_data"
    },
    {
     "data": {
      "application/vnd.jupyter.widget-view+json": {
       "model_id": "b7019693163b40ccadbb74ec05bb135a",
       "version_major": 2,
       "version_minor": 0
      },
      "text/plain": [
       "Training epoch 80:   0%|          | 0/50 [00:00<?, ?it/s]"
      ]
     },
     "metadata": {},
     "output_type": "display_data"
    },
    {
     "data": {
      "application/vnd.jupyter.widget-view+json": {
       "model_id": "5123aefd02834f8b80058709814bc610",
       "version_major": 2,
       "version_minor": 0
      },
      "text/plain": [
       "Training epoch 81:   0%|          | 0/50 [00:00<?, ?it/s]"
      ]
     },
     "metadata": {},
     "output_type": "display_data"
    },
    {
     "data": {
      "application/vnd.jupyter.widget-view+json": {
       "model_id": "03219639c2cf4084bb0a5a624db4d465",
       "version_major": 2,
       "version_minor": 0
      },
      "text/plain": [
       "Training epoch 82:   0%|          | 0/50 [00:00<?, ?it/s]"
      ]
     },
     "metadata": {},
     "output_type": "display_data"
    },
    {
     "data": {
      "application/vnd.jupyter.widget-view+json": {
       "model_id": "3d83ad3ffce94477873af48ae8fd734b",
       "version_major": 2,
       "version_minor": 0
      },
      "text/plain": [
       "Training epoch 83:   0%|          | 0/50 [00:00<?, ?it/s]"
      ]
     },
     "metadata": {},
     "output_type": "display_data"
    },
    {
     "data": {
      "application/vnd.jupyter.widget-view+json": {
       "model_id": "c35c365d490948e780202caabcc6e37d",
       "version_major": 2,
       "version_minor": 0
      },
      "text/plain": [
       "Training epoch 84:   0%|          | 0/50 [00:00<?, ?it/s]"
      ]
     },
     "metadata": {},
     "output_type": "display_data"
    },
    {
     "data": {
      "application/vnd.jupyter.widget-view+json": {
       "model_id": "7c37f4e0e25b446fad522fdcca218d7c",
       "version_major": 2,
       "version_minor": 0
      },
      "text/plain": [
       "Training epoch 85:   0%|          | 0/50 [00:00<?, ?it/s]"
      ]
     },
     "metadata": {},
     "output_type": "display_data"
    },
    {
     "data": {
      "application/vnd.jupyter.widget-view+json": {
       "model_id": "ef2c7f4e898046c8bfda677008362a75",
       "version_major": 2,
       "version_minor": 0
      },
      "text/plain": [
       "Training epoch 86:   0%|          | 0/50 [00:00<?, ?it/s]"
      ]
     },
     "metadata": {},
     "output_type": "display_data"
    },
    {
     "data": {
      "application/vnd.jupyter.widget-view+json": {
       "model_id": "3dc7bc364b254f95a97de7d251bad30f",
       "version_major": 2,
       "version_minor": 0
      },
      "text/plain": [
       "Training epoch 87:   0%|          | 0/50 [00:00<?, ?it/s]"
      ]
     },
     "metadata": {},
     "output_type": "display_data"
    },
    {
     "data": {
      "application/vnd.jupyter.widget-view+json": {
       "model_id": "ceb73e023b1949d7b978613e92070666",
       "version_major": 2,
       "version_minor": 0
      },
      "text/plain": [
       "Training epoch 88:   0%|          | 0/50 [00:00<?, ?it/s]"
      ]
     },
     "metadata": {},
     "output_type": "display_data"
    },
    {
     "data": {
      "application/vnd.jupyter.widget-view+json": {
       "model_id": "d03fb10fcff24214aa141ad289166398",
       "version_major": 2,
       "version_minor": 0
      },
      "text/plain": [
       "Training epoch 89:   0%|          | 0/50 [00:00<?, ?it/s]"
      ]
     },
     "metadata": {},
     "output_type": "display_data"
    },
    {
     "data": {
      "application/vnd.jupyter.widget-view+json": {
       "model_id": "e8842c8a6a2a4cd5b85bc2e09a93fffe",
       "version_major": 2,
       "version_minor": 0
      },
      "text/plain": [
       "Training epoch 90:   0%|          | 0/50 [00:00<?, ?it/s]"
      ]
     },
     "metadata": {},
     "output_type": "display_data"
    },
    {
     "data": {
      "application/vnd.jupyter.widget-view+json": {
       "model_id": "80be8661fde84a98b66314f8b81f76ca",
       "version_major": 2,
       "version_minor": 0
      },
      "text/plain": [
       "Training epoch 91:   0%|          | 0/50 [00:00<?, ?it/s]"
      ]
     },
     "metadata": {},
     "output_type": "display_data"
    },
    {
     "data": {
      "application/vnd.jupyter.widget-view+json": {
       "model_id": "182fccf9acf34a33a5fc6bb3ce46b32d",
       "version_major": 2,
       "version_minor": 0
      },
      "text/plain": [
       "Training epoch 92:   0%|          | 0/50 [00:00<?, ?it/s]"
      ]
     },
     "metadata": {},
     "output_type": "display_data"
    },
    {
     "data": {
      "application/vnd.jupyter.widget-view+json": {
       "model_id": "9898792d86f942cea88f46f7724607bc",
       "version_major": 2,
       "version_minor": 0
      },
      "text/plain": [
       "Training epoch 93:   0%|          | 0/50 [00:00<?, ?it/s]"
      ]
     },
     "metadata": {},
     "output_type": "display_data"
    },
    {
     "data": {
      "application/vnd.jupyter.widget-view+json": {
       "model_id": "beb4d663d77d4305a51aac19cb8c6a24",
       "version_major": 2,
       "version_minor": 0
      },
      "text/plain": [
       "Training epoch 94:   0%|          | 0/50 [00:00<?, ?it/s]"
      ]
     },
     "metadata": {},
     "output_type": "display_data"
    },
    {
     "data": {
      "application/vnd.jupyter.widget-view+json": {
       "model_id": "69016c221873456da5156bab53a1965c",
       "version_major": 2,
       "version_minor": 0
      },
      "text/plain": [
       "Training epoch 95:   0%|          | 0/50 [00:00<?, ?it/s]"
      ]
     },
     "metadata": {},
     "output_type": "display_data"
    },
    {
     "data": {
      "application/vnd.jupyter.widget-view+json": {
       "model_id": "41289bb2c6df43b7bda3212970a7816d",
       "version_major": 2,
       "version_minor": 0
      },
      "text/plain": [
       "Training epoch 96:   0%|          | 0/50 [00:00<?, ?it/s]"
      ]
     },
     "metadata": {},
     "output_type": "display_data"
    },
    {
     "data": {
      "application/vnd.jupyter.widget-view+json": {
       "model_id": "cfeaa02b904e4b0a84a9c3cd19b82a2e",
       "version_major": 2,
       "version_minor": 0
      },
      "text/plain": [
       "Training epoch 97:   0%|          | 0/50 [00:00<?, ?it/s]"
      ]
     },
     "metadata": {},
     "output_type": "display_data"
    },
    {
     "data": {
      "application/vnd.jupyter.widget-view+json": {
       "model_id": "546be3acd9054ec4b3970a1620a6385d",
       "version_major": 2,
       "version_minor": 0
      },
      "text/plain": [
       "Training epoch 98:   0%|          | 0/50 [00:00<?, ?it/s]"
      ]
     },
     "metadata": {},
     "output_type": "display_data"
    },
    {
     "data": {
      "application/vnd.jupyter.widget-view+json": {
       "model_id": "a39710fb31734a919dbb2082854059a1",
       "version_major": 2,
       "version_minor": 0
      },
      "text/plain": [
       "Training epoch 99:   0%|          | 0/50 [00:00<?, ?it/s]"
      ]
     },
     "metadata": {},
     "output_type": "display_data"
    },
    {
     "data": {
      "application/vnd.jupyter.widget-view+json": {
       "model_id": "4f017e3075b9406e9c0e436486cb657b",
       "version_major": 2,
       "version_minor": 0
      },
      "text/plain": [
       "Training epoch 100:   0%|          | 0/50 [00:00<?, ?it/s]"
      ]
     },
     "metadata": {},
     "output_type": "display_data"
    },
    {
     "name": "stdout",
     "output_type": "stream",
     "text": [
      "Simulating new 10000 data sets and appending to previous...\n",
      "New total number of simulated data sets: 60000\n",
      "Converting 60000 simulations to a TensorFlow data set...\n"
     ]
    },
    {
     "data": {
      "application/vnd.jupyter.widget-view+json": {
       "model_id": "cd08deeda1a74174a0f641c70fe39cb4",
       "version_major": 2,
       "version_minor": 0
      },
      "text/plain": [
       "Training epoch 1:   0%|          | 0/60 [00:00<?, ?it/s]"
      ]
     },
     "metadata": {},
     "output_type": "display_data"
    },
    {
     "data": {
      "application/vnd.jupyter.widget-view+json": {
       "model_id": "0ccbf25ffdad43b880504cbf9637a978",
       "version_major": 2,
       "version_minor": 0
      },
      "text/plain": [
       "Training epoch 2:   0%|          | 0/60 [00:00<?, ?it/s]"
      ]
     },
     "metadata": {},
     "output_type": "display_data"
    },
    {
     "data": {
      "application/vnd.jupyter.widget-view+json": {
       "model_id": "b503adb399774dc6ac46b98e6f097357",
       "version_major": 2,
       "version_minor": 0
      },
      "text/plain": [
       "Training epoch 3:   0%|          | 0/60 [00:00<?, ?it/s]"
      ]
     },
     "metadata": {},
     "output_type": "display_data"
    },
    {
     "data": {
      "application/vnd.jupyter.widget-view+json": {
       "model_id": "ffab92e4530849e99e4b7a041e65c656",
       "version_major": 2,
       "version_minor": 0
      },
      "text/plain": [
       "Training epoch 4:   0%|          | 0/60 [00:00<?, ?it/s]"
      ]
     },
     "metadata": {},
     "output_type": "display_data"
    },
    {
     "data": {
      "application/vnd.jupyter.widget-view+json": {
       "model_id": "da5da7b2922e49a88fc221c95ec70157",
       "version_major": 2,
       "version_minor": 0
      },
      "text/plain": [
       "Training epoch 5:   0%|          | 0/60 [00:00<?, ?it/s]"
      ]
     },
     "metadata": {},
     "output_type": "display_data"
    },
    {
     "data": {
      "application/vnd.jupyter.widget-view+json": {
       "model_id": "5c42aac05add4c15af963f79ae3a86b6",
       "version_major": 2,
       "version_minor": 0
      },
      "text/plain": [
       "Training epoch 6:   0%|          | 0/60 [00:00<?, ?it/s]"
      ]
     },
     "metadata": {},
     "output_type": "display_data"
    },
    {
     "data": {
      "application/vnd.jupyter.widget-view+json": {
       "model_id": "7cf3458f46eb4dde8fb9f510a41b999e",
       "version_major": 2,
       "version_minor": 0
      },
      "text/plain": [
       "Training epoch 7:   0%|          | 0/60 [00:00<?, ?it/s]"
      ]
     },
     "metadata": {},
     "output_type": "display_data"
    },
    {
     "data": {
      "application/vnd.jupyter.widget-view+json": {
       "model_id": "d124350d8c9446858c8080cdae96e149",
       "version_major": 2,
       "version_minor": 0
      },
      "text/plain": [
       "Training epoch 8:   0%|          | 0/60 [00:00<?, ?it/s]"
      ]
     },
     "metadata": {},
     "output_type": "display_data"
    },
    {
     "data": {
      "application/vnd.jupyter.widget-view+json": {
       "model_id": "a2d6853aaeac4e3491e1611b6aa82eba",
       "version_major": 2,
       "version_minor": 0
      },
      "text/plain": [
       "Training epoch 9:   0%|          | 0/60 [00:00<?, ?it/s]"
      ]
     },
     "metadata": {},
     "output_type": "display_data"
    },
    {
     "data": {
      "application/vnd.jupyter.widget-view+json": {
       "model_id": "973a7c66ae59416d85f52717db5ef1f9",
       "version_major": 2,
       "version_minor": 0
      },
      "text/plain": [
       "Training epoch 10:   0%|          | 0/60 [00:00<?, ?it/s]"
      ]
     },
     "metadata": {},
     "output_type": "display_data"
    },
    {
     "data": {
      "application/vnd.jupyter.widget-view+json": {
       "model_id": "95960a0f52784d4a83b6907eeb121f05",
       "version_major": 2,
       "version_minor": 0
      },
      "text/plain": [
       "Training epoch 11:   0%|          | 0/60 [00:00<?, ?it/s]"
      ]
     },
     "metadata": {},
     "output_type": "display_data"
    },
    {
     "data": {
      "application/vnd.jupyter.widget-view+json": {
       "model_id": "9c65d1524db94bab9bb9fc62669f7c64",
       "version_major": 2,
       "version_minor": 0
      },
      "text/plain": [
       "Training epoch 12:   0%|          | 0/60 [00:00<?, ?it/s]"
      ]
     },
     "metadata": {},
     "output_type": "display_data"
    },
    {
     "data": {
      "application/vnd.jupyter.widget-view+json": {
       "model_id": "b5282a5a5efe46e9a9c8f49e6e09f691",
       "version_major": 2,
       "version_minor": 0
      },
      "text/plain": [
       "Training epoch 13:   0%|          | 0/60 [00:00<?, ?it/s]"
      ]
     },
     "metadata": {},
     "output_type": "display_data"
    },
    {
     "data": {
      "application/vnd.jupyter.widget-view+json": {
       "model_id": "3e1c4096870b493bb4f91fb343ea443c",
       "version_major": 2,
       "version_minor": 0
      },
      "text/plain": [
       "Training epoch 14:   0%|          | 0/60 [00:00<?, ?it/s]"
      ]
     },
     "metadata": {},
     "output_type": "display_data"
    },
    {
     "data": {
      "application/vnd.jupyter.widget-view+json": {
       "model_id": "3eb77591f50d40508ac806cdb7aa29d4",
       "version_major": 2,
       "version_minor": 0
      },
      "text/plain": [
       "Training epoch 15:   0%|          | 0/60 [00:00<?, ?it/s]"
      ]
     },
     "metadata": {},
     "output_type": "display_data"
    },
    {
     "data": {
      "application/vnd.jupyter.widget-view+json": {
       "model_id": "8a0a8dc230834f16ae955c3ec69323f6",
       "version_major": 2,
       "version_minor": 0
      },
      "text/plain": [
       "Training epoch 16:   0%|          | 0/60 [00:00<?, ?it/s]"
      ]
     },
     "metadata": {},
     "output_type": "display_data"
    },
    {
     "data": {
      "application/vnd.jupyter.widget-view+json": {
       "model_id": "7ffe0027335b4960bc555a82ea6cb457",
       "version_major": 2,
       "version_minor": 0
      },
      "text/plain": [
       "Training epoch 17:   0%|          | 0/60 [00:00<?, ?it/s]"
      ]
     },
     "metadata": {},
     "output_type": "display_data"
    },
    {
     "data": {
      "application/vnd.jupyter.widget-view+json": {
       "model_id": "f375863693db4f80ae859aa32346935e",
       "version_major": 2,
       "version_minor": 0
      },
      "text/plain": [
       "Training epoch 18:   0%|          | 0/60 [00:00<?, ?it/s]"
      ]
     },
     "metadata": {},
     "output_type": "display_data"
    },
    {
     "data": {
      "application/vnd.jupyter.widget-view+json": {
       "model_id": "911909421a3742eabb8b0d698dee5552",
       "version_major": 2,
       "version_minor": 0
      },
      "text/plain": [
       "Training epoch 19:   0%|          | 0/60 [00:00<?, ?it/s]"
      ]
     },
     "metadata": {},
     "output_type": "display_data"
    },
    {
     "data": {
      "application/vnd.jupyter.widget-view+json": {
       "model_id": "4455ead8ff6041c7a1e09d200cb6d004",
       "version_major": 2,
       "version_minor": 0
      },
      "text/plain": [
       "Training epoch 20:   0%|          | 0/60 [00:00<?, ?it/s]"
      ]
     },
     "metadata": {},
     "output_type": "display_data"
    },
    {
     "data": {
      "application/vnd.jupyter.widget-view+json": {
       "model_id": "8ef8e566947249cf9829057ed97fc94d",
       "version_major": 2,
       "version_minor": 0
      },
      "text/plain": [
       "Training epoch 21:   0%|          | 0/60 [00:00<?, ?it/s]"
      ]
     },
     "metadata": {},
     "output_type": "display_data"
    },
    {
     "data": {
      "application/vnd.jupyter.widget-view+json": {
       "model_id": "5e8699baf2944c9a91e4892ebeb7eca0",
       "version_major": 2,
       "version_minor": 0
      },
      "text/plain": [
       "Training epoch 22:   0%|          | 0/60 [00:00<?, ?it/s]"
      ]
     },
     "metadata": {},
     "output_type": "display_data"
    },
    {
     "data": {
      "application/vnd.jupyter.widget-view+json": {
       "model_id": "9f5928aac6c840f3a4a3eb71da8b4f40",
       "version_major": 2,
       "version_minor": 0
      },
      "text/plain": [
       "Training epoch 23:   0%|          | 0/60 [00:00<?, ?it/s]"
      ]
     },
     "metadata": {},
     "output_type": "display_data"
    },
    {
     "data": {
      "application/vnd.jupyter.widget-view+json": {
       "model_id": "6c92df821b594046afa326e173406b7a",
       "version_major": 2,
       "version_minor": 0
      },
      "text/plain": [
       "Training epoch 24:   0%|          | 0/60 [00:00<?, ?it/s]"
      ]
     },
     "metadata": {},
     "output_type": "display_data"
    },
    {
     "data": {
      "application/vnd.jupyter.widget-view+json": {
       "model_id": "c74444e4da4d4183846af1efd8f667a7",
       "version_major": 2,
       "version_minor": 0
      },
      "text/plain": [
       "Training epoch 25:   0%|          | 0/60 [00:00<?, ?it/s]"
      ]
     },
     "metadata": {},
     "output_type": "display_data"
    },
    {
     "data": {
      "application/vnd.jupyter.widget-view+json": {
       "model_id": "ce844691e2d54060913cc7d8d54d75af",
       "version_major": 2,
       "version_minor": 0
      },
      "text/plain": [
       "Training epoch 26:   0%|          | 0/60 [00:00<?, ?it/s]"
      ]
     },
     "metadata": {},
     "output_type": "display_data"
    },
    {
     "data": {
      "application/vnd.jupyter.widget-view+json": {
       "model_id": "194de59f74ce47d0a89fcd50e1d42b5d",
       "version_major": 2,
       "version_minor": 0
      },
      "text/plain": [
       "Training epoch 27:   0%|          | 0/60 [00:00<?, ?it/s]"
      ]
     },
     "metadata": {},
     "output_type": "display_data"
    },
    {
     "data": {
      "application/vnd.jupyter.widget-view+json": {
       "model_id": "afe43a0839984ccfbe45c5a2f17efbeb",
       "version_major": 2,
       "version_minor": 0
      },
      "text/plain": [
       "Training epoch 28:   0%|          | 0/60 [00:00<?, ?it/s]"
      ]
     },
     "metadata": {},
     "output_type": "display_data"
    },
    {
     "data": {
      "application/vnd.jupyter.widget-view+json": {
       "model_id": "6c41d9cfc8e6491a853f363d67c91612",
       "version_major": 2,
       "version_minor": 0
      },
      "text/plain": [
       "Training epoch 29:   0%|          | 0/60 [00:00<?, ?it/s]"
      ]
     },
     "metadata": {},
     "output_type": "display_data"
    },
    {
     "data": {
      "application/vnd.jupyter.widget-view+json": {
       "model_id": "a19de39bceb84541923e7b9a0d5a8eb0",
       "version_major": 2,
       "version_minor": 0
      },
      "text/plain": [
       "Training epoch 30:   0%|          | 0/60 [00:00<?, ?it/s]"
      ]
     },
     "metadata": {},
     "output_type": "display_data"
    },
    {
     "data": {
      "application/vnd.jupyter.widget-view+json": {
       "model_id": "480d9d58d0a94cb69154106d120364cf",
       "version_major": 2,
       "version_minor": 0
      },
      "text/plain": [
       "Training epoch 31:   0%|          | 0/60 [00:00<?, ?it/s]"
      ]
     },
     "metadata": {},
     "output_type": "display_data"
    },
    {
     "data": {
      "application/vnd.jupyter.widget-view+json": {
       "model_id": "10949f1774764414a97dd4d70cab9b21",
       "version_major": 2,
       "version_minor": 0
      },
      "text/plain": [
       "Training epoch 32:   0%|          | 0/60 [00:00<?, ?it/s]"
      ]
     },
     "metadata": {},
     "output_type": "display_data"
    },
    {
     "data": {
      "application/vnd.jupyter.widget-view+json": {
       "model_id": "28140e534f5c4191bd13942e3352a3ee",
       "version_major": 2,
       "version_minor": 0
      },
      "text/plain": [
       "Training epoch 33:   0%|          | 0/60 [00:00<?, ?it/s]"
      ]
     },
     "metadata": {},
     "output_type": "display_data"
    },
    {
     "data": {
      "application/vnd.jupyter.widget-view+json": {
       "model_id": "923f53ba41fc4b1ba962544679815abf",
       "version_major": 2,
       "version_minor": 0
      },
      "text/plain": [
       "Training epoch 34:   0%|          | 0/60 [00:00<?, ?it/s]"
      ]
     },
     "metadata": {},
     "output_type": "display_data"
    },
    {
     "data": {
      "application/vnd.jupyter.widget-view+json": {
       "model_id": "60043e97edf1472aaaf8333c3ed7d5fd",
       "version_major": 2,
       "version_minor": 0
      },
      "text/plain": [
       "Training epoch 35:   0%|          | 0/60 [00:00<?, ?it/s]"
      ]
     },
     "metadata": {},
     "output_type": "display_data"
    },
    {
     "data": {
      "application/vnd.jupyter.widget-view+json": {
       "model_id": "41f38e8576aa42ecafb79f93793c5c7e",
       "version_major": 2,
       "version_minor": 0
      },
      "text/plain": [
       "Training epoch 36:   0%|          | 0/60 [00:00<?, ?it/s]"
      ]
     },
     "metadata": {},
     "output_type": "display_data"
    },
    {
     "data": {
      "application/vnd.jupyter.widget-view+json": {
       "model_id": "eea20e9beb234f6996e1d1c9c8c7c18e",
       "version_major": 2,
       "version_minor": 0
      },
      "text/plain": [
       "Training epoch 37:   0%|          | 0/60 [00:00<?, ?it/s]"
      ]
     },
     "metadata": {},
     "output_type": "display_data"
    },
    {
     "data": {
      "application/vnd.jupyter.widget-view+json": {
       "model_id": "4d4003832bae4bbebe26edf690c36b0b",
       "version_major": 2,
       "version_minor": 0
      },
      "text/plain": [
       "Training epoch 38:   0%|          | 0/60 [00:00<?, ?it/s]"
      ]
     },
     "metadata": {},
     "output_type": "display_data"
    },
    {
     "data": {
      "application/vnd.jupyter.widget-view+json": {
       "model_id": "b24b933f2ea34c1ca0c8b5a343086fbb",
       "version_major": 2,
       "version_minor": 0
      },
      "text/plain": [
       "Training epoch 39:   0%|          | 0/60 [00:00<?, ?it/s]"
      ]
     },
     "metadata": {},
     "output_type": "display_data"
    },
    {
     "data": {
      "application/vnd.jupyter.widget-view+json": {
       "model_id": "86a9c350b05849f2bbd3e16d177d7e2c",
       "version_major": 2,
       "version_minor": 0
      },
      "text/plain": [
       "Training epoch 40:   0%|          | 0/60 [00:00<?, ?it/s]"
      ]
     },
     "metadata": {},
     "output_type": "display_data"
    },
    {
     "data": {
      "application/vnd.jupyter.widget-view+json": {
       "model_id": "8b7676b1dfdb455dbbd3c852f9effe5f",
       "version_major": 2,
       "version_minor": 0
      },
      "text/plain": [
       "Training epoch 41:   0%|          | 0/60 [00:00<?, ?it/s]"
      ]
     },
     "metadata": {},
     "output_type": "display_data"
    },
    {
     "data": {
      "application/vnd.jupyter.widget-view+json": {
       "model_id": "f1c7a04a52574dd5b10f9eddf2932f12",
       "version_major": 2,
       "version_minor": 0
      },
      "text/plain": [
       "Training epoch 42:   0%|          | 0/60 [00:00<?, ?it/s]"
      ]
     },
     "metadata": {},
     "output_type": "display_data"
    },
    {
     "data": {
      "application/vnd.jupyter.widget-view+json": {
       "model_id": "c682e36a51a747c49d62d974bf32623f",
       "version_major": 2,
       "version_minor": 0
      },
      "text/plain": [
       "Training epoch 43:   0%|          | 0/60 [00:00<?, ?it/s]"
      ]
     },
     "metadata": {},
     "output_type": "display_data"
    },
    {
     "data": {
      "application/vnd.jupyter.widget-view+json": {
       "model_id": "bf9acfa353124505baec9a744d169c1f",
       "version_major": 2,
       "version_minor": 0
      },
      "text/plain": [
       "Training epoch 44:   0%|          | 0/60 [00:00<?, ?it/s]"
      ]
     },
     "metadata": {},
     "output_type": "display_data"
    },
    {
     "data": {
      "application/vnd.jupyter.widget-view+json": {
       "model_id": "ce2647f5de41463080cc8ebfea06da8b",
       "version_major": 2,
       "version_minor": 0
      },
      "text/plain": [
       "Training epoch 45:   0%|          | 0/60 [00:00<?, ?it/s]"
      ]
     },
     "metadata": {},
     "output_type": "display_data"
    },
    {
     "data": {
      "application/vnd.jupyter.widget-view+json": {
       "model_id": "e5b0b7158d01499394d8212d4953eba0",
       "version_major": 2,
       "version_minor": 0
      },
      "text/plain": [
       "Training epoch 46:   0%|          | 0/60 [00:00<?, ?it/s]"
      ]
     },
     "metadata": {},
     "output_type": "display_data"
    },
    {
     "data": {
      "application/vnd.jupyter.widget-view+json": {
       "model_id": "a1a93084cf754f3aa1c4684a10530629",
       "version_major": 2,
       "version_minor": 0
      },
      "text/plain": [
       "Training epoch 47:   0%|          | 0/60 [00:00<?, ?it/s]"
      ]
     },
     "metadata": {},
     "output_type": "display_data"
    },
    {
     "data": {
      "application/vnd.jupyter.widget-view+json": {
       "model_id": "39346730c8ed453c892766004d6e7f8d",
       "version_major": 2,
       "version_minor": 0
      },
      "text/plain": [
       "Training epoch 48:   0%|          | 0/60 [00:00<?, ?it/s]"
      ]
     },
     "metadata": {},
     "output_type": "display_data"
    },
    {
     "data": {
      "application/vnd.jupyter.widget-view+json": {
       "model_id": "4afbc08ea5f64c77a9c1edc0aaa9d771",
       "version_major": 2,
       "version_minor": 0
      },
      "text/plain": [
       "Training epoch 49:   0%|          | 0/60 [00:00<?, ?it/s]"
      ]
     },
     "metadata": {},
     "output_type": "display_data"
    },
    {
     "data": {
      "application/vnd.jupyter.widget-view+json": {
       "model_id": "661c9e31e84648eb8624e91ed5f5ed84",
       "version_major": 2,
       "version_minor": 0
      },
      "text/plain": [
       "Training epoch 50:   0%|          | 0/60 [00:00<?, ?it/s]"
      ]
     },
     "metadata": {},
     "output_type": "display_data"
    },
    {
     "data": {
      "application/vnd.jupyter.widget-view+json": {
       "model_id": "1dd6601feab743d89a41f570f0ba7c17",
       "version_major": 2,
       "version_minor": 0
      },
      "text/plain": [
       "Training epoch 51:   0%|          | 0/60 [00:00<?, ?it/s]"
      ]
     },
     "metadata": {},
     "output_type": "display_data"
    },
    {
     "data": {
      "application/vnd.jupyter.widget-view+json": {
       "model_id": "214725ef94dd429d9ed90c815b865021",
       "version_major": 2,
       "version_minor": 0
      },
      "text/plain": [
       "Training epoch 52:   0%|          | 0/60 [00:00<?, ?it/s]"
      ]
     },
     "metadata": {},
     "output_type": "display_data"
    },
    {
     "data": {
      "application/vnd.jupyter.widget-view+json": {
       "model_id": "f0c1b9638f674ae68f4d5b12041ceffc",
       "version_major": 2,
       "version_minor": 0
      },
      "text/plain": [
       "Training epoch 53:   0%|          | 0/60 [00:00<?, ?it/s]"
      ]
     },
     "metadata": {},
     "output_type": "display_data"
    },
    {
     "data": {
      "application/vnd.jupyter.widget-view+json": {
       "model_id": "31f39a15dbb64d0fba71023c79dc8e93",
       "version_major": 2,
       "version_minor": 0
      },
      "text/plain": [
       "Training epoch 54:   0%|          | 0/60 [00:00<?, ?it/s]"
      ]
     },
     "metadata": {},
     "output_type": "display_data"
    },
    {
     "data": {
      "application/vnd.jupyter.widget-view+json": {
       "model_id": "81f89a7f5b99492faf148fe014704f37",
       "version_major": 2,
       "version_minor": 0
      },
      "text/plain": [
       "Training epoch 55:   0%|          | 0/60 [00:00<?, ?it/s]"
      ]
     },
     "metadata": {},
     "output_type": "display_data"
    },
    {
     "data": {
      "application/vnd.jupyter.widget-view+json": {
       "model_id": "4262834ac943439ea77adc398ea42f9b",
       "version_major": 2,
       "version_minor": 0
      },
      "text/plain": [
       "Training epoch 56:   0%|          | 0/60 [00:00<?, ?it/s]"
      ]
     },
     "metadata": {},
     "output_type": "display_data"
    },
    {
     "data": {
      "application/vnd.jupyter.widget-view+json": {
       "model_id": "8b0780ddcf814553b6d36dadf20c15d4",
       "version_major": 2,
       "version_minor": 0
      },
      "text/plain": [
       "Training epoch 57:   0%|          | 0/60 [00:00<?, ?it/s]"
      ]
     },
     "metadata": {},
     "output_type": "display_data"
    },
    {
     "data": {
      "application/vnd.jupyter.widget-view+json": {
       "model_id": "457200c239cc465285cc522f5b0c5d68",
       "version_major": 2,
       "version_minor": 0
      },
      "text/plain": [
       "Training epoch 58:   0%|          | 0/60 [00:00<?, ?it/s]"
      ]
     },
     "metadata": {},
     "output_type": "display_data"
    },
    {
     "data": {
      "application/vnd.jupyter.widget-view+json": {
       "model_id": "4437f1f9de2c411d9fb9dd0b7d8e8086",
       "version_major": 2,
       "version_minor": 0
      },
      "text/plain": [
       "Training epoch 59:   0%|          | 0/60 [00:00<?, ?it/s]"
      ]
     },
     "metadata": {},
     "output_type": "display_data"
    },
    {
     "data": {
      "application/vnd.jupyter.widget-view+json": {
       "model_id": "a946ea522574445eb1ded9ae9c69a278",
       "version_major": 2,
       "version_minor": 0
      },
      "text/plain": [
       "Training epoch 60:   0%|          | 0/60 [00:00<?, ?it/s]"
      ]
     },
     "metadata": {},
     "output_type": "display_data"
    },
    {
     "data": {
      "application/vnd.jupyter.widget-view+json": {
       "model_id": "1d3cfc4fbd47481ca44e4c1d74d6eaec",
       "version_major": 2,
       "version_minor": 0
      },
      "text/plain": [
       "Training epoch 61:   0%|          | 0/60 [00:00<?, ?it/s]"
      ]
     },
     "metadata": {},
     "output_type": "display_data"
    },
    {
     "data": {
      "application/vnd.jupyter.widget-view+json": {
       "model_id": "0cb1d53b4353491793a686c1b65fb0a0",
       "version_major": 2,
       "version_minor": 0
      },
      "text/plain": [
       "Training epoch 62:   0%|          | 0/60 [00:00<?, ?it/s]"
      ]
     },
     "metadata": {},
     "output_type": "display_data"
    },
    {
     "data": {
      "application/vnd.jupyter.widget-view+json": {
       "model_id": "8051971fd97b4646b263245a437ceae6",
       "version_major": 2,
       "version_minor": 0
      },
      "text/plain": [
       "Training epoch 63:   0%|          | 0/60 [00:00<?, ?it/s]"
      ]
     },
     "metadata": {},
     "output_type": "display_data"
    },
    {
     "data": {
      "application/vnd.jupyter.widget-view+json": {
       "model_id": "a271b5514da04f4a808f44e7ab873c96",
       "version_major": 2,
       "version_minor": 0
      },
      "text/plain": [
       "Training epoch 64:   0%|          | 0/60 [00:00<?, ?it/s]"
      ]
     },
     "metadata": {},
     "output_type": "display_data"
    },
    {
     "data": {
      "application/vnd.jupyter.widget-view+json": {
       "model_id": "279130b894424234a283df724c464ab1",
       "version_major": 2,
       "version_minor": 0
      },
      "text/plain": [
       "Training epoch 65:   0%|          | 0/60 [00:00<?, ?it/s]"
      ]
     },
     "metadata": {},
     "output_type": "display_data"
    },
    {
     "data": {
      "application/vnd.jupyter.widget-view+json": {
       "model_id": "e7ef282edb6e4eb58c7d61b47b73d4ca",
       "version_major": 2,
       "version_minor": 0
      },
      "text/plain": [
       "Training epoch 66:   0%|          | 0/60 [00:00<?, ?it/s]"
      ]
     },
     "metadata": {},
     "output_type": "display_data"
    },
    {
     "data": {
      "application/vnd.jupyter.widget-view+json": {
       "model_id": "74e0c8d83f374ae0b48e800a595ecda9",
       "version_major": 2,
       "version_minor": 0
      },
      "text/plain": [
       "Training epoch 67:   0%|          | 0/60 [00:00<?, ?it/s]"
      ]
     },
     "metadata": {},
     "output_type": "display_data"
    },
    {
     "data": {
      "application/vnd.jupyter.widget-view+json": {
       "model_id": "76cc3bd09eb74a3b8a065f6b6ef59b6c",
       "version_major": 2,
       "version_minor": 0
      },
      "text/plain": [
       "Training epoch 68:   0%|          | 0/60 [00:00<?, ?it/s]"
      ]
     },
     "metadata": {},
     "output_type": "display_data"
    },
    {
     "data": {
      "application/vnd.jupyter.widget-view+json": {
       "model_id": "c50a1a47564642788545983a5b4133f7",
       "version_major": 2,
       "version_minor": 0
      },
      "text/plain": [
       "Training epoch 69:   0%|          | 0/60 [00:00<?, ?it/s]"
      ]
     },
     "metadata": {},
     "output_type": "display_data"
    },
    {
     "data": {
      "application/vnd.jupyter.widget-view+json": {
       "model_id": "f4424d7faa2f44e39808365a99e2979a",
       "version_major": 2,
       "version_minor": 0
      },
      "text/plain": [
       "Training epoch 70:   0%|          | 0/60 [00:00<?, ?it/s]"
      ]
     },
     "metadata": {},
     "output_type": "display_data"
    },
    {
     "data": {
      "application/vnd.jupyter.widget-view+json": {
       "model_id": "7b6cebbffb6c41469bc31f92d5770f33",
       "version_major": 2,
       "version_minor": 0
      },
      "text/plain": [
       "Training epoch 71:   0%|          | 0/60 [00:00<?, ?it/s]"
      ]
     },
     "metadata": {},
     "output_type": "display_data"
    },
    {
     "data": {
      "application/vnd.jupyter.widget-view+json": {
       "model_id": "6558ee62afdd47728bf360361ed201f4",
       "version_major": 2,
       "version_minor": 0
      },
      "text/plain": [
       "Training epoch 72:   0%|          | 0/60 [00:00<?, ?it/s]"
      ]
     },
     "metadata": {},
     "output_type": "display_data"
    },
    {
     "data": {
      "application/vnd.jupyter.widget-view+json": {
       "model_id": "3743d512ee2d42abb2346e0112419540",
       "version_major": 2,
       "version_minor": 0
      },
      "text/plain": [
       "Training epoch 73:   0%|          | 0/60 [00:00<?, ?it/s]"
      ]
     },
     "metadata": {},
     "output_type": "display_data"
    },
    {
     "data": {
      "application/vnd.jupyter.widget-view+json": {
       "model_id": "ca57f4d3abbb475aa6d9195c97fd6fbe",
       "version_major": 2,
       "version_minor": 0
      },
      "text/plain": [
       "Training epoch 74:   0%|          | 0/60 [00:00<?, ?it/s]"
      ]
     },
     "metadata": {},
     "output_type": "display_data"
    },
    {
     "data": {
      "application/vnd.jupyter.widget-view+json": {
       "model_id": "c2f32ae2605c46a3b2780a323cb55a12",
       "version_major": 2,
       "version_minor": 0
      },
      "text/plain": [
       "Training epoch 75:   0%|          | 0/60 [00:00<?, ?it/s]"
      ]
     },
     "metadata": {},
     "output_type": "display_data"
    },
    {
     "data": {
      "application/vnd.jupyter.widget-view+json": {
       "model_id": "b181d64299e94e219e882705381104ea",
       "version_major": 2,
       "version_minor": 0
      },
      "text/plain": [
       "Training epoch 76:   0%|          | 0/60 [00:00<?, ?it/s]"
      ]
     },
     "metadata": {},
     "output_type": "display_data"
    },
    {
     "data": {
      "application/vnd.jupyter.widget-view+json": {
       "model_id": "b1bb806c3ae9494fb1c29bcf35847552",
       "version_major": 2,
       "version_minor": 0
      },
      "text/plain": [
       "Training epoch 77:   0%|          | 0/60 [00:00<?, ?it/s]"
      ]
     },
     "metadata": {},
     "output_type": "display_data"
    },
    {
     "data": {
      "application/vnd.jupyter.widget-view+json": {
       "model_id": "72b53ed24ac44d1fad669744e060ab5a",
       "version_major": 2,
       "version_minor": 0
      },
      "text/plain": [
       "Training epoch 78:   0%|          | 0/60 [00:00<?, ?it/s]"
      ]
     },
     "metadata": {},
     "output_type": "display_data"
    },
    {
     "data": {
      "application/vnd.jupyter.widget-view+json": {
       "model_id": "5ddf43484aa74b78835eb9d2dfbab37d",
       "version_major": 2,
       "version_minor": 0
      },
      "text/plain": [
       "Training epoch 79:   0%|          | 0/60 [00:00<?, ?it/s]"
      ]
     },
     "metadata": {},
     "output_type": "display_data"
    },
    {
     "data": {
      "application/vnd.jupyter.widget-view+json": {
       "model_id": "49db80c667fa4dcfa44c3cf8384bfcc8",
       "version_major": 2,
       "version_minor": 0
      },
      "text/plain": [
       "Training epoch 80:   0%|          | 0/60 [00:00<?, ?it/s]"
      ]
     },
     "metadata": {},
     "output_type": "display_data"
    },
    {
     "data": {
      "application/vnd.jupyter.widget-view+json": {
       "model_id": "3310c7535ebe4bc88758eb40989af74f",
       "version_major": 2,
       "version_minor": 0
      },
      "text/plain": [
       "Training epoch 81:   0%|          | 0/60 [00:00<?, ?it/s]"
      ]
     },
     "metadata": {},
     "output_type": "display_data"
    },
    {
     "data": {
      "application/vnd.jupyter.widget-view+json": {
       "model_id": "dcd1edf88e2b47dc8a5bb23337be0690",
       "version_major": 2,
       "version_minor": 0
      },
      "text/plain": [
       "Training epoch 82:   0%|          | 0/60 [00:00<?, ?it/s]"
      ]
     },
     "metadata": {},
     "output_type": "display_data"
    },
    {
     "data": {
      "application/vnd.jupyter.widget-view+json": {
       "model_id": "ad8f9b8963d745deb391c24b1bb88db8",
       "version_major": 2,
       "version_minor": 0
      },
      "text/plain": [
       "Training epoch 83:   0%|          | 0/60 [00:00<?, ?it/s]"
      ]
     },
     "metadata": {},
     "output_type": "display_data"
    },
    {
     "data": {
      "application/vnd.jupyter.widget-view+json": {
       "model_id": "a827390ab1584daab3bd38e532d8281f",
       "version_major": 2,
       "version_minor": 0
      },
      "text/plain": [
       "Training epoch 84:   0%|          | 0/60 [00:00<?, ?it/s]"
      ]
     },
     "metadata": {},
     "output_type": "display_data"
    },
    {
     "data": {
      "application/vnd.jupyter.widget-view+json": {
       "model_id": "62ff18c05a424868b7251661df9ad41e",
       "version_major": 2,
       "version_minor": 0
      },
      "text/plain": [
       "Training epoch 85:   0%|          | 0/60 [00:00<?, ?it/s]"
      ]
     },
     "metadata": {},
     "output_type": "display_data"
    },
    {
     "data": {
      "application/vnd.jupyter.widget-view+json": {
       "model_id": "8d8730c775e141e29496fc81108be6fb",
       "version_major": 2,
       "version_minor": 0
      },
      "text/plain": [
       "Training epoch 86:   0%|          | 0/60 [00:00<?, ?it/s]"
      ]
     },
     "metadata": {},
     "output_type": "display_data"
    },
    {
     "data": {
      "application/vnd.jupyter.widget-view+json": {
       "model_id": "e8c482261ee047d39bee44c76d884af5",
       "version_major": 2,
       "version_minor": 0
      },
      "text/plain": [
       "Training epoch 87:   0%|          | 0/60 [00:00<?, ?it/s]"
      ]
     },
     "metadata": {},
     "output_type": "display_data"
    },
    {
     "data": {
      "application/vnd.jupyter.widget-view+json": {
       "model_id": "e1da2d8a85db4697a11b1d00c7f9a155",
       "version_major": 2,
       "version_minor": 0
      },
      "text/plain": [
       "Training epoch 88:   0%|          | 0/60 [00:00<?, ?it/s]"
      ]
     },
     "metadata": {},
     "output_type": "display_data"
    },
    {
     "data": {
      "application/vnd.jupyter.widget-view+json": {
       "model_id": "55c99d3d27ac4d859a873b7859084eb1",
       "version_major": 2,
       "version_minor": 0
      },
      "text/plain": [
       "Training epoch 89:   0%|          | 0/60 [00:00<?, ?it/s]"
      ]
     },
     "metadata": {},
     "output_type": "display_data"
    },
    {
     "data": {
      "application/vnd.jupyter.widget-view+json": {
       "model_id": "2044acd7e4a14aae9675912161fcb5d1",
       "version_major": 2,
       "version_minor": 0
      },
      "text/plain": [
       "Training epoch 90:   0%|          | 0/60 [00:00<?, ?it/s]"
      ]
     },
     "metadata": {},
     "output_type": "display_data"
    },
    {
     "data": {
      "application/vnd.jupyter.widget-view+json": {
       "model_id": "a2f75900031645b1a6b1755c2ef31746",
       "version_major": 2,
       "version_minor": 0
      },
      "text/plain": [
       "Training epoch 91:   0%|          | 0/60 [00:00<?, ?it/s]"
      ]
     },
     "metadata": {},
     "output_type": "display_data"
    },
    {
     "data": {
      "application/vnd.jupyter.widget-view+json": {
       "model_id": "79ff2ba530eb47c497eff410bf33913b",
       "version_major": 2,
       "version_minor": 0
      },
      "text/plain": [
       "Training epoch 92:   0%|          | 0/60 [00:00<?, ?it/s]"
      ]
     },
     "metadata": {},
     "output_type": "display_data"
    },
    {
     "data": {
      "application/vnd.jupyter.widget-view+json": {
       "model_id": "4ddb191593b547829c33c0b3f651d561",
       "version_major": 2,
       "version_minor": 0
      },
      "text/plain": [
       "Training epoch 93:   0%|          | 0/60 [00:00<?, ?it/s]"
      ]
     },
     "metadata": {},
     "output_type": "display_data"
    },
    {
     "data": {
      "application/vnd.jupyter.widget-view+json": {
       "model_id": "3f5f70e3e8ae4c918e792a852573c6ee",
       "version_major": 2,
       "version_minor": 0
      },
      "text/plain": [
       "Training epoch 94:   0%|          | 0/60 [00:00<?, ?it/s]"
      ]
     },
     "metadata": {},
     "output_type": "display_data"
    },
    {
     "data": {
      "application/vnd.jupyter.widget-view+json": {
       "model_id": "6566ecd2b3694b32ba62a1b05058bf4d",
       "version_major": 2,
       "version_minor": 0
      },
      "text/plain": [
       "Training epoch 95:   0%|          | 0/60 [00:00<?, ?it/s]"
      ]
     },
     "metadata": {},
     "output_type": "display_data"
    },
    {
     "data": {
      "application/vnd.jupyter.widget-view+json": {
       "model_id": "ac2a87cfea1b46eb92cb29d0579a6e11",
       "version_major": 2,
       "version_minor": 0
      },
      "text/plain": [
       "Training epoch 96:   0%|          | 0/60 [00:00<?, ?it/s]"
      ]
     },
     "metadata": {},
     "output_type": "display_data"
    },
    {
     "data": {
      "application/vnd.jupyter.widget-view+json": {
       "model_id": "5389024eec6848239311defdfc07acda",
       "version_major": 2,
       "version_minor": 0
      },
      "text/plain": [
       "Training epoch 97:   0%|          | 0/60 [00:00<?, ?it/s]"
      ]
     },
     "metadata": {},
     "output_type": "display_data"
    },
    {
     "data": {
      "application/vnd.jupyter.widget-view+json": {
       "model_id": "90c5457c51024febb77b7b48ae854e58",
       "version_major": 2,
       "version_minor": 0
      },
      "text/plain": [
       "Training epoch 98:   0%|          | 0/60 [00:00<?, ?it/s]"
      ]
     },
     "metadata": {},
     "output_type": "display_data"
    },
    {
     "data": {
      "application/vnd.jupyter.widget-view+json": {
       "model_id": "228dba1f2d7e4d89b7b5715e95dc02d0",
       "version_major": 2,
       "version_minor": 0
      },
      "text/plain": [
       "Training epoch 99:   0%|          | 0/60 [00:00<?, ?it/s]"
      ]
     },
     "metadata": {},
     "output_type": "display_data"
    },
    {
     "data": {
      "application/vnd.jupyter.widget-view+json": {
       "model_id": "26b61534ad4d4102871ead3a475e1aa6",
       "version_major": 2,
       "version_minor": 0
      },
      "text/plain": [
       "Training epoch 100:   0%|          | 0/60 [00:00<?, ?it/s]"
      ]
     },
     "metadata": {},
     "output_type": "display_data"
    },
    {
     "name": "stdout",
     "output_type": "stream",
     "text": [
      "Simulating new 10000 data sets and appending to previous...\n",
      "New total number of simulated data sets: 70000\n",
      "Converting 70000 simulations to a TensorFlow data set...\n"
     ]
    },
    {
     "data": {
      "application/vnd.jupyter.widget-view+json": {
       "model_id": "0c028ea800954cae8bef2e4175becb37",
       "version_major": 2,
       "version_minor": 0
      },
      "text/plain": [
       "Training epoch 1:   0%|          | 0/70 [00:00<?, ?it/s]"
      ]
     },
     "metadata": {},
     "output_type": "display_data"
    },
    {
     "data": {
      "application/vnd.jupyter.widget-view+json": {
       "model_id": "3a2b1bd4a7d34eafac6da894c55eb678",
       "version_major": 2,
       "version_minor": 0
      },
      "text/plain": [
       "Training epoch 2:   0%|          | 0/70 [00:00<?, ?it/s]"
      ]
     },
     "metadata": {},
     "output_type": "display_data"
    },
    {
     "data": {
      "application/vnd.jupyter.widget-view+json": {
       "model_id": "759b0cf693c8468089053481887edc04",
       "version_major": 2,
       "version_minor": 0
      },
      "text/plain": [
       "Training epoch 3:   0%|          | 0/70 [00:00<?, ?it/s]"
      ]
     },
     "metadata": {},
     "output_type": "display_data"
    },
    {
     "data": {
      "application/vnd.jupyter.widget-view+json": {
       "model_id": "3137d1012e2041b4aeb03a14f4bda53d",
       "version_major": 2,
       "version_minor": 0
      },
      "text/plain": [
       "Training epoch 4:   0%|          | 0/70 [00:00<?, ?it/s]"
      ]
     },
     "metadata": {},
     "output_type": "display_data"
    },
    {
     "data": {
      "application/vnd.jupyter.widget-view+json": {
       "model_id": "a51cb22e96474e72954b9b1330c6ba97",
       "version_major": 2,
       "version_minor": 0
      },
      "text/plain": [
       "Training epoch 5:   0%|          | 0/70 [00:00<?, ?it/s]"
      ]
     },
     "metadata": {},
     "output_type": "display_data"
    },
    {
     "data": {
      "application/vnd.jupyter.widget-view+json": {
       "model_id": "4dde8bc7f3c44aaa9394cd946dbbeed1",
       "version_major": 2,
       "version_minor": 0
      },
      "text/plain": [
       "Training epoch 6:   0%|          | 0/70 [00:00<?, ?it/s]"
      ]
     },
     "metadata": {},
     "output_type": "display_data"
    },
    {
     "data": {
      "application/vnd.jupyter.widget-view+json": {
       "model_id": "12be7faa2e4b4b91ab1789135fe3b247",
       "version_major": 2,
       "version_minor": 0
      },
      "text/plain": [
       "Training epoch 7:   0%|          | 0/70 [00:00<?, ?it/s]"
      ]
     },
     "metadata": {},
     "output_type": "display_data"
    },
    {
     "data": {
      "application/vnd.jupyter.widget-view+json": {
       "model_id": "6192ebed71214dc7ae6adf8761bd48a0",
       "version_major": 2,
       "version_minor": 0
      },
      "text/plain": [
       "Training epoch 8:   0%|          | 0/70 [00:00<?, ?it/s]"
      ]
     },
     "metadata": {},
     "output_type": "display_data"
    },
    {
     "data": {
      "application/vnd.jupyter.widget-view+json": {
       "model_id": "66b20384a5fc4516b459b0753f3a31e4",
       "version_major": 2,
       "version_minor": 0
      },
      "text/plain": [
       "Training epoch 9:   0%|          | 0/70 [00:00<?, ?it/s]"
      ]
     },
     "metadata": {},
     "output_type": "display_data"
    },
    {
     "data": {
      "application/vnd.jupyter.widget-view+json": {
       "model_id": "05124f455b414aa7ae6332a67421d498",
       "version_major": 2,
       "version_minor": 0
      },
      "text/plain": [
       "Training epoch 10:   0%|          | 0/70 [00:00<?, ?it/s]"
      ]
     },
     "metadata": {},
     "output_type": "display_data"
    },
    {
     "data": {
      "application/vnd.jupyter.widget-view+json": {
       "model_id": "9d1c62d0ee2741f0a710908965792626",
       "version_major": 2,
       "version_minor": 0
      },
      "text/plain": [
       "Training epoch 11:   0%|          | 0/70 [00:00<?, ?it/s]"
      ]
     },
     "metadata": {},
     "output_type": "display_data"
    },
    {
     "data": {
      "application/vnd.jupyter.widget-view+json": {
       "model_id": "d0e61f4a858b4dce95f714f14f2de2ab",
       "version_major": 2,
       "version_minor": 0
      },
      "text/plain": [
       "Training epoch 12:   0%|          | 0/70 [00:00<?, ?it/s]"
      ]
     },
     "metadata": {},
     "output_type": "display_data"
    },
    {
     "data": {
      "application/vnd.jupyter.widget-view+json": {
       "model_id": "c8c9d859f95845a5b989007535ea94c6",
       "version_major": 2,
       "version_minor": 0
      },
      "text/plain": [
       "Training epoch 13:   0%|          | 0/70 [00:00<?, ?it/s]"
      ]
     },
     "metadata": {},
     "output_type": "display_data"
    },
    {
     "data": {
      "application/vnd.jupyter.widget-view+json": {
       "model_id": "df720233e223422ab0930c421fae4357",
       "version_major": 2,
       "version_minor": 0
      },
      "text/plain": [
       "Training epoch 14:   0%|          | 0/70 [00:00<?, ?it/s]"
      ]
     },
     "metadata": {},
     "output_type": "display_data"
    },
    {
     "data": {
      "application/vnd.jupyter.widget-view+json": {
       "model_id": "675c847bc2a447a2bee3f9577fbf1eed",
       "version_major": 2,
       "version_minor": 0
      },
      "text/plain": [
       "Training epoch 15:   0%|          | 0/70 [00:00<?, ?it/s]"
      ]
     },
     "metadata": {},
     "output_type": "display_data"
    },
    {
     "data": {
      "application/vnd.jupyter.widget-view+json": {
       "model_id": "47af4cc24656452ebaf662fba6970abe",
       "version_major": 2,
       "version_minor": 0
      },
      "text/plain": [
       "Training epoch 16:   0%|          | 0/70 [00:00<?, ?it/s]"
      ]
     },
     "metadata": {},
     "output_type": "display_data"
    },
    {
     "data": {
      "application/vnd.jupyter.widget-view+json": {
       "model_id": "ac265d91081c4f8d82b041205de792f1",
       "version_major": 2,
       "version_minor": 0
      },
      "text/plain": [
       "Training epoch 17:   0%|          | 0/70 [00:00<?, ?it/s]"
      ]
     },
     "metadata": {},
     "output_type": "display_data"
    },
    {
     "data": {
      "application/vnd.jupyter.widget-view+json": {
       "model_id": "03f2c48ffe20463c84c692311c4dd57b",
       "version_major": 2,
       "version_minor": 0
      },
      "text/plain": [
       "Training epoch 18:   0%|          | 0/70 [00:00<?, ?it/s]"
      ]
     },
     "metadata": {},
     "output_type": "display_data"
    },
    {
     "data": {
      "application/vnd.jupyter.widget-view+json": {
       "model_id": "90af8e621650439abea0169015b950ca",
       "version_major": 2,
       "version_minor": 0
      },
      "text/plain": [
       "Training epoch 19:   0%|          | 0/70 [00:00<?, ?it/s]"
      ]
     },
     "metadata": {},
     "output_type": "display_data"
    },
    {
     "data": {
      "application/vnd.jupyter.widget-view+json": {
       "model_id": "82539f22a010468d989e2b67249af7f5",
       "version_major": 2,
       "version_minor": 0
      },
      "text/plain": [
       "Training epoch 20:   0%|          | 0/70 [00:00<?, ?it/s]"
      ]
     },
     "metadata": {},
     "output_type": "display_data"
    },
    {
     "data": {
      "application/vnd.jupyter.widget-view+json": {
       "model_id": "9aaecc10f7934aa99176c1969122e914",
       "version_major": 2,
       "version_minor": 0
      },
      "text/plain": [
       "Training epoch 21:   0%|          | 0/70 [00:00<?, ?it/s]"
      ]
     },
     "metadata": {},
     "output_type": "display_data"
    },
    {
     "data": {
      "application/vnd.jupyter.widget-view+json": {
       "model_id": "19eda2d8bfab481ebe11a5b6437cd3c7",
       "version_major": 2,
       "version_minor": 0
      },
      "text/plain": [
       "Training epoch 22:   0%|          | 0/70 [00:00<?, ?it/s]"
      ]
     },
     "metadata": {},
     "output_type": "display_data"
    },
    {
     "data": {
      "application/vnd.jupyter.widget-view+json": {
       "model_id": "64613e3460b94f22b759f366f7b24b50",
       "version_major": 2,
       "version_minor": 0
      },
      "text/plain": [
       "Training epoch 23:   0%|          | 0/70 [00:00<?, ?it/s]"
      ]
     },
     "metadata": {},
     "output_type": "display_data"
    },
    {
     "data": {
      "application/vnd.jupyter.widget-view+json": {
       "model_id": "8941d584cb7440b093cb1739344cfead",
       "version_major": 2,
       "version_minor": 0
      },
      "text/plain": [
       "Training epoch 24:   0%|          | 0/70 [00:00<?, ?it/s]"
      ]
     },
     "metadata": {},
     "output_type": "display_data"
    },
    {
     "data": {
      "application/vnd.jupyter.widget-view+json": {
       "model_id": "ee6bc5aa0de84fbe93992c880e0dd43a",
       "version_major": 2,
       "version_minor": 0
      },
      "text/plain": [
       "Training epoch 25:   0%|          | 0/70 [00:00<?, ?it/s]"
      ]
     },
     "metadata": {},
     "output_type": "display_data"
    },
    {
     "data": {
      "application/vnd.jupyter.widget-view+json": {
       "model_id": "5cca395e1933433abbfe8fe4426df565",
       "version_major": 2,
       "version_minor": 0
      },
      "text/plain": [
       "Training epoch 26:   0%|          | 0/70 [00:00<?, ?it/s]"
      ]
     },
     "metadata": {},
     "output_type": "display_data"
    },
    {
     "data": {
      "application/vnd.jupyter.widget-view+json": {
       "model_id": "944eb8ec0c4b4bad894eea0c2f82ba5b",
       "version_major": 2,
       "version_minor": 0
      },
      "text/plain": [
       "Training epoch 27:   0%|          | 0/70 [00:00<?, ?it/s]"
      ]
     },
     "metadata": {},
     "output_type": "display_data"
    },
    {
     "data": {
      "application/vnd.jupyter.widget-view+json": {
       "model_id": "106c9e714077457e99828f73ad18e4b3",
       "version_major": 2,
       "version_minor": 0
      },
      "text/plain": [
       "Training epoch 28:   0%|          | 0/70 [00:00<?, ?it/s]"
      ]
     },
     "metadata": {},
     "output_type": "display_data"
    },
    {
     "data": {
      "application/vnd.jupyter.widget-view+json": {
       "model_id": "07e8183a10cc46a88f50623579f3ce54",
       "version_major": 2,
       "version_minor": 0
      },
      "text/plain": [
       "Training epoch 29:   0%|          | 0/70 [00:00<?, ?it/s]"
      ]
     },
     "metadata": {},
     "output_type": "display_data"
    },
    {
     "data": {
      "application/vnd.jupyter.widget-view+json": {
       "model_id": "112df9b01e8c4dd18d70b3a534ad31b9",
       "version_major": 2,
       "version_minor": 0
      },
      "text/plain": [
       "Training epoch 30:   0%|          | 0/70 [00:00<?, ?it/s]"
      ]
     },
     "metadata": {},
     "output_type": "display_data"
    },
    {
     "data": {
      "application/vnd.jupyter.widget-view+json": {
       "model_id": "4fca5d61b443460e8bf1fe46a523c7d1",
       "version_major": 2,
       "version_minor": 0
      },
      "text/plain": [
       "Training epoch 31:   0%|          | 0/70 [00:00<?, ?it/s]"
      ]
     },
     "metadata": {},
     "output_type": "display_data"
    },
    {
     "data": {
      "application/vnd.jupyter.widget-view+json": {
       "model_id": "16b045154e144472b2c33e88904d98af",
       "version_major": 2,
       "version_minor": 0
      },
      "text/plain": [
       "Training epoch 32:   0%|          | 0/70 [00:00<?, ?it/s]"
      ]
     },
     "metadata": {},
     "output_type": "display_data"
    },
    {
     "data": {
      "application/vnd.jupyter.widget-view+json": {
       "model_id": "ae6d8608a5714e0a857b8d55517a8f55",
       "version_major": 2,
       "version_minor": 0
      },
      "text/plain": [
       "Training epoch 33:   0%|          | 0/70 [00:00<?, ?it/s]"
      ]
     },
     "metadata": {},
     "output_type": "display_data"
    },
    {
     "data": {
      "application/vnd.jupyter.widget-view+json": {
       "model_id": "a2f0f5816bd2406c9663b00f018fa317",
       "version_major": 2,
       "version_minor": 0
      },
      "text/plain": [
       "Training epoch 34:   0%|          | 0/70 [00:00<?, ?it/s]"
      ]
     },
     "metadata": {},
     "output_type": "display_data"
    },
    {
     "data": {
      "application/vnd.jupyter.widget-view+json": {
       "model_id": "bab09ae418714c3e91dedd236a8d5f26",
       "version_major": 2,
       "version_minor": 0
      },
      "text/plain": [
       "Training epoch 35:   0%|          | 0/70 [00:00<?, ?it/s]"
      ]
     },
     "metadata": {},
     "output_type": "display_data"
    },
    {
     "data": {
      "application/vnd.jupyter.widget-view+json": {
       "model_id": "9683bc40487c4a939d266af79640a3d5",
       "version_major": 2,
       "version_minor": 0
      },
      "text/plain": [
       "Training epoch 36:   0%|          | 0/70 [00:00<?, ?it/s]"
      ]
     },
     "metadata": {},
     "output_type": "display_data"
    },
    {
     "data": {
      "application/vnd.jupyter.widget-view+json": {
       "model_id": "38c0e4f8147d45ccab42c25844e23df6",
       "version_major": 2,
       "version_minor": 0
      },
      "text/plain": [
       "Training epoch 37:   0%|          | 0/70 [00:00<?, ?it/s]"
      ]
     },
     "metadata": {},
     "output_type": "display_data"
    },
    {
     "data": {
      "application/vnd.jupyter.widget-view+json": {
       "model_id": "00f64db20f3f42fa8526326cd8019bec",
       "version_major": 2,
       "version_minor": 0
      },
      "text/plain": [
       "Training epoch 38:   0%|          | 0/70 [00:00<?, ?it/s]"
      ]
     },
     "metadata": {},
     "output_type": "display_data"
    },
    {
     "data": {
      "application/vnd.jupyter.widget-view+json": {
       "model_id": "92b78f04896b425f9b98f2a4a3c8a950",
       "version_major": 2,
       "version_minor": 0
      },
      "text/plain": [
       "Training epoch 39:   0%|          | 0/70 [00:00<?, ?it/s]"
      ]
     },
     "metadata": {},
     "output_type": "display_data"
    },
    {
     "data": {
      "application/vnd.jupyter.widget-view+json": {
       "model_id": "f26d6c7fef9d4ce3844af77538461c32",
       "version_major": 2,
       "version_minor": 0
      },
      "text/plain": [
       "Training epoch 40:   0%|          | 0/70 [00:00<?, ?it/s]"
      ]
     },
     "metadata": {},
     "output_type": "display_data"
    },
    {
     "data": {
      "application/vnd.jupyter.widget-view+json": {
       "model_id": "33020ea2cf6d40a5b899f9bcdc487034",
       "version_major": 2,
       "version_minor": 0
      },
      "text/plain": [
       "Training epoch 41:   0%|          | 0/70 [00:00<?, ?it/s]"
      ]
     },
     "metadata": {},
     "output_type": "display_data"
    },
    {
     "data": {
      "application/vnd.jupyter.widget-view+json": {
       "model_id": "ef33285e01a347ac91f5ecd7c55a55e2",
       "version_major": 2,
       "version_minor": 0
      },
      "text/plain": [
       "Training epoch 42:   0%|          | 0/70 [00:00<?, ?it/s]"
      ]
     },
     "metadata": {},
     "output_type": "display_data"
    },
    {
     "data": {
      "application/vnd.jupyter.widget-view+json": {
       "model_id": "e57186a455e64e40a744bcd15a95b8cb",
       "version_major": 2,
       "version_minor": 0
      },
      "text/plain": [
       "Training epoch 43:   0%|          | 0/70 [00:00<?, ?it/s]"
      ]
     },
     "metadata": {},
     "output_type": "display_data"
    },
    {
     "data": {
      "application/vnd.jupyter.widget-view+json": {
       "model_id": "6520316039604296b0525bdb33dac1c9",
       "version_major": 2,
       "version_minor": 0
      },
      "text/plain": [
       "Training epoch 44:   0%|          | 0/70 [00:00<?, ?it/s]"
      ]
     },
     "metadata": {},
     "output_type": "display_data"
    },
    {
     "data": {
      "application/vnd.jupyter.widget-view+json": {
       "model_id": "d1bc5474af834beab6757dd7097974ef",
       "version_major": 2,
       "version_minor": 0
      },
      "text/plain": [
       "Training epoch 45:   0%|          | 0/70 [00:00<?, ?it/s]"
      ]
     },
     "metadata": {},
     "output_type": "display_data"
    },
    {
     "data": {
      "application/vnd.jupyter.widget-view+json": {
       "model_id": "15c75f675ca6445c9445b40c43452f2e",
       "version_major": 2,
       "version_minor": 0
      },
      "text/plain": [
       "Training epoch 46:   0%|          | 0/70 [00:00<?, ?it/s]"
      ]
     },
     "metadata": {},
     "output_type": "display_data"
    },
    {
     "data": {
      "application/vnd.jupyter.widget-view+json": {
       "model_id": "2d1a82cd2cba48758a33266826aab4aa",
       "version_major": 2,
       "version_minor": 0
      },
      "text/plain": [
       "Training epoch 47:   0%|          | 0/70 [00:00<?, ?it/s]"
      ]
     },
     "metadata": {},
     "output_type": "display_data"
    },
    {
     "data": {
      "application/vnd.jupyter.widget-view+json": {
       "model_id": "6e2535f346494bd58814a24497250186",
       "version_major": 2,
       "version_minor": 0
      },
      "text/plain": [
       "Training epoch 48:   0%|          | 0/70 [00:00<?, ?it/s]"
      ]
     },
     "metadata": {},
     "output_type": "display_data"
    },
    {
     "data": {
      "application/vnd.jupyter.widget-view+json": {
       "model_id": "280c98065e9c4610b38b02ce42a997ed",
       "version_major": 2,
       "version_minor": 0
      },
      "text/plain": [
       "Training epoch 49:   0%|          | 0/70 [00:00<?, ?it/s]"
      ]
     },
     "metadata": {},
     "output_type": "display_data"
    },
    {
     "data": {
      "application/vnd.jupyter.widget-view+json": {
       "model_id": "e247423d4f674f229074d82f94dba0c3",
       "version_major": 2,
       "version_minor": 0
      },
      "text/plain": [
       "Training epoch 50:   0%|          | 0/70 [00:00<?, ?it/s]"
      ]
     },
     "metadata": {},
     "output_type": "display_data"
    },
    {
     "data": {
      "application/vnd.jupyter.widget-view+json": {
       "model_id": "efe3cd75fee3416eb2afa4b020f535f8",
       "version_major": 2,
       "version_minor": 0
      },
      "text/plain": [
       "Training epoch 51:   0%|          | 0/70 [00:00<?, ?it/s]"
      ]
     },
     "metadata": {},
     "output_type": "display_data"
    },
    {
     "data": {
      "application/vnd.jupyter.widget-view+json": {
       "model_id": "611d5760c2084a688301059acc20f083",
       "version_major": 2,
       "version_minor": 0
      },
      "text/plain": [
       "Training epoch 52:   0%|          | 0/70 [00:00<?, ?it/s]"
      ]
     },
     "metadata": {},
     "output_type": "display_data"
    },
    {
     "data": {
      "application/vnd.jupyter.widget-view+json": {
       "model_id": "f8707b7ea9dd4b30b2c275bf812f209d",
       "version_major": 2,
       "version_minor": 0
      },
      "text/plain": [
       "Training epoch 53:   0%|          | 0/70 [00:00<?, ?it/s]"
      ]
     },
     "metadata": {},
     "output_type": "display_data"
    },
    {
     "data": {
      "application/vnd.jupyter.widget-view+json": {
       "model_id": "9c72aabe305a4a90a88fe6c5439e6dc4",
       "version_major": 2,
       "version_minor": 0
      },
      "text/plain": [
       "Training epoch 54:   0%|          | 0/70 [00:00<?, ?it/s]"
      ]
     },
     "metadata": {},
     "output_type": "display_data"
    },
    {
     "data": {
      "application/vnd.jupyter.widget-view+json": {
       "model_id": "a381b5aeaaf74e09bbbe00b67229fa95",
       "version_major": 2,
       "version_minor": 0
      },
      "text/plain": [
       "Training epoch 55:   0%|          | 0/70 [00:00<?, ?it/s]"
      ]
     },
     "metadata": {},
     "output_type": "display_data"
    },
    {
     "data": {
      "application/vnd.jupyter.widget-view+json": {
       "model_id": "39d9cd8bac9a4b41a7b11cc7e96a62b1",
       "version_major": 2,
       "version_minor": 0
      },
      "text/plain": [
       "Training epoch 56:   0%|          | 0/70 [00:00<?, ?it/s]"
      ]
     },
     "metadata": {},
     "output_type": "display_data"
    },
    {
     "data": {
      "application/vnd.jupyter.widget-view+json": {
       "model_id": "6fc7a3b0fb8e47f7af522451fa2c8016",
       "version_major": 2,
       "version_minor": 0
      },
      "text/plain": [
       "Training epoch 57:   0%|          | 0/70 [00:00<?, ?it/s]"
      ]
     },
     "metadata": {},
     "output_type": "display_data"
    },
    {
     "data": {
      "application/vnd.jupyter.widget-view+json": {
       "model_id": "a4c8baf350684d1c9fce205df7c5e454",
       "version_major": 2,
       "version_minor": 0
      },
      "text/plain": [
       "Training epoch 58:   0%|          | 0/70 [00:00<?, ?it/s]"
      ]
     },
     "metadata": {},
     "output_type": "display_data"
    },
    {
     "data": {
      "application/vnd.jupyter.widget-view+json": {
       "model_id": "46f81b6d340e44e9989183222a7b65d5",
       "version_major": 2,
       "version_minor": 0
      },
      "text/plain": [
       "Training epoch 59:   0%|          | 0/70 [00:00<?, ?it/s]"
      ]
     },
     "metadata": {},
     "output_type": "display_data"
    },
    {
     "data": {
      "application/vnd.jupyter.widget-view+json": {
       "model_id": "daeb1fdff6c6421996e7f538d553771f",
       "version_major": 2,
       "version_minor": 0
      },
      "text/plain": [
       "Training epoch 60:   0%|          | 0/70 [00:00<?, ?it/s]"
      ]
     },
     "metadata": {},
     "output_type": "display_data"
    },
    {
     "data": {
      "application/vnd.jupyter.widget-view+json": {
       "model_id": "ef245a1e7d1a47aeb435772dbf812646",
       "version_major": 2,
       "version_minor": 0
      },
      "text/plain": [
       "Training epoch 61:   0%|          | 0/70 [00:00<?, ?it/s]"
      ]
     },
     "metadata": {},
     "output_type": "display_data"
    },
    {
     "data": {
      "application/vnd.jupyter.widget-view+json": {
       "model_id": "3d0c52a4f7ef45bcbfcf374752d7a67e",
       "version_major": 2,
       "version_minor": 0
      },
      "text/plain": [
       "Training epoch 62:   0%|          | 0/70 [00:00<?, ?it/s]"
      ]
     },
     "metadata": {},
     "output_type": "display_data"
    },
    {
     "data": {
      "application/vnd.jupyter.widget-view+json": {
       "model_id": "8a0a82f49c34426d967bf23ca083c972",
       "version_major": 2,
       "version_minor": 0
      },
      "text/plain": [
       "Training epoch 63:   0%|          | 0/70 [00:00<?, ?it/s]"
      ]
     },
     "metadata": {},
     "output_type": "display_data"
    },
    {
     "data": {
      "application/vnd.jupyter.widget-view+json": {
       "model_id": "df88fa50a4a5497abd834a93f6b03ae6",
       "version_major": 2,
       "version_minor": 0
      },
      "text/plain": [
       "Training epoch 64:   0%|          | 0/70 [00:00<?, ?it/s]"
      ]
     },
     "metadata": {},
     "output_type": "display_data"
    },
    {
     "data": {
      "application/vnd.jupyter.widget-view+json": {
       "model_id": "c3841415ebde4c0495ca8cc9e8a66e31",
       "version_major": 2,
       "version_minor": 0
      },
      "text/plain": [
       "Training epoch 65:   0%|          | 0/70 [00:00<?, ?it/s]"
      ]
     },
     "metadata": {},
     "output_type": "display_data"
    },
    {
     "data": {
      "application/vnd.jupyter.widget-view+json": {
       "model_id": "fa5d08600ed042e49bb5f05257ea3ed7",
       "version_major": 2,
       "version_minor": 0
      },
      "text/plain": [
       "Training epoch 66:   0%|          | 0/70 [00:00<?, ?it/s]"
      ]
     },
     "metadata": {},
     "output_type": "display_data"
    },
    {
     "data": {
      "application/vnd.jupyter.widget-view+json": {
       "model_id": "4284b2a1754749c5ac8083176f3cb344",
       "version_major": 2,
       "version_minor": 0
      },
      "text/plain": [
       "Training epoch 67:   0%|          | 0/70 [00:00<?, ?it/s]"
      ]
     },
     "metadata": {},
     "output_type": "display_data"
    },
    {
     "data": {
      "application/vnd.jupyter.widget-view+json": {
       "model_id": "cd8ea412fe8c4480aa97474dc4ac2065",
       "version_major": 2,
       "version_minor": 0
      },
      "text/plain": [
       "Training epoch 68:   0%|          | 0/70 [00:00<?, ?it/s]"
      ]
     },
     "metadata": {},
     "output_type": "display_data"
    },
    {
     "data": {
      "application/vnd.jupyter.widget-view+json": {
       "model_id": "1baa441871734bfdab86334e732dfacd",
       "version_major": 2,
       "version_minor": 0
      },
      "text/plain": [
       "Training epoch 69:   0%|          | 0/70 [00:00<?, ?it/s]"
      ]
     },
     "metadata": {},
     "output_type": "display_data"
    },
    {
     "data": {
      "application/vnd.jupyter.widget-view+json": {
       "model_id": "6382bc6c9cdb4762b6538bfe9edac017",
       "version_major": 2,
       "version_minor": 0
      },
      "text/plain": [
       "Training epoch 70:   0%|          | 0/70 [00:00<?, ?it/s]"
      ]
     },
     "metadata": {},
     "output_type": "display_data"
    },
    {
     "data": {
      "application/vnd.jupyter.widget-view+json": {
       "model_id": "bad688d09d4e492a8189c653c603cf09",
       "version_major": 2,
       "version_minor": 0
      },
      "text/plain": [
       "Training epoch 71:   0%|          | 0/70 [00:00<?, ?it/s]"
      ]
     },
     "metadata": {},
     "output_type": "display_data"
    },
    {
     "data": {
      "application/vnd.jupyter.widget-view+json": {
       "model_id": "1e51ecb8ded84188b6d30ec9df30f641",
       "version_major": 2,
       "version_minor": 0
      },
      "text/plain": [
       "Training epoch 72:   0%|          | 0/70 [00:00<?, ?it/s]"
      ]
     },
     "metadata": {},
     "output_type": "display_data"
    },
    {
     "data": {
      "application/vnd.jupyter.widget-view+json": {
       "model_id": "d4b230594c684589be1f079645567b12",
       "version_major": 2,
       "version_minor": 0
      },
      "text/plain": [
       "Training epoch 73:   0%|          | 0/70 [00:00<?, ?it/s]"
      ]
     },
     "metadata": {},
     "output_type": "display_data"
    },
    {
     "data": {
      "application/vnd.jupyter.widget-view+json": {
       "model_id": "5d7f6ef3feba441695bb3a977f9e27f3",
       "version_major": 2,
       "version_minor": 0
      },
      "text/plain": [
       "Training epoch 74:   0%|          | 0/70 [00:00<?, ?it/s]"
      ]
     },
     "metadata": {},
     "output_type": "display_data"
    },
    {
     "data": {
      "application/vnd.jupyter.widget-view+json": {
       "model_id": "713d5bdc8499496c9264c25bb4896df6",
       "version_major": 2,
       "version_minor": 0
      },
      "text/plain": [
       "Training epoch 75:   0%|          | 0/70 [00:00<?, ?it/s]"
      ]
     },
     "metadata": {},
     "output_type": "display_data"
    },
    {
     "data": {
      "application/vnd.jupyter.widget-view+json": {
       "model_id": "a256362e273d46c7b18b5edb89f86321",
       "version_major": 2,
       "version_minor": 0
      },
      "text/plain": [
       "Training epoch 76:   0%|          | 0/70 [00:00<?, ?it/s]"
      ]
     },
     "metadata": {},
     "output_type": "display_data"
    },
    {
     "data": {
      "application/vnd.jupyter.widget-view+json": {
       "model_id": "2dae459536e3499788ae44750d2fa580",
       "version_major": 2,
       "version_minor": 0
      },
      "text/plain": [
       "Training epoch 77:   0%|          | 0/70 [00:00<?, ?it/s]"
      ]
     },
     "metadata": {},
     "output_type": "display_data"
    },
    {
     "data": {
      "application/vnd.jupyter.widget-view+json": {
       "model_id": "04a3f937e3334b9e991be04622cd464b",
       "version_major": 2,
       "version_minor": 0
      },
      "text/plain": [
       "Training epoch 78:   0%|          | 0/70 [00:00<?, ?it/s]"
      ]
     },
     "metadata": {},
     "output_type": "display_data"
    },
    {
     "data": {
      "application/vnd.jupyter.widget-view+json": {
       "model_id": "43b7b5dbe81b48309793a764e4999ea6",
       "version_major": 2,
       "version_minor": 0
      },
      "text/plain": [
       "Training epoch 79:   0%|          | 0/70 [00:00<?, ?it/s]"
      ]
     },
     "metadata": {},
     "output_type": "display_data"
    },
    {
     "data": {
      "application/vnd.jupyter.widget-view+json": {
       "model_id": "4218182fdb3a4503bcaa5e6bde47a443",
       "version_major": 2,
       "version_minor": 0
      },
      "text/plain": [
       "Training epoch 80:   0%|          | 0/70 [00:00<?, ?it/s]"
      ]
     },
     "metadata": {},
     "output_type": "display_data"
    },
    {
     "data": {
      "application/vnd.jupyter.widget-view+json": {
       "model_id": "85b502a3523a43c189b834e8d6846af7",
       "version_major": 2,
       "version_minor": 0
      },
      "text/plain": [
       "Training epoch 81:   0%|          | 0/70 [00:00<?, ?it/s]"
      ]
     },
     "metadata": {},
     "output_type": "display_data"
    },
    {
     "data": {
      "application/vnd.jupyter.widget-view+json": {
       "model_id": "58924030e8b3457a8500650aff7531fd",
       "version_major": 2,
       "version_minor": 0
      },
      "text/plain": [
       "Training epoch 82:   0%|          | 0/70 [00:00<?, ?it/s]"
      ]
     },
     "metadata": {},
     "output_type": "display_data"
    },
    {
     "data": {
      "application/vnd.jupyter.widget-view+json": {
       "model_id": "f41b93715c0d448b8c8e75d51011b8d5",
       "version_major": 2,
       "version_minor": 0
      },
      "text/plain": [
       "Training epoch 83:   0%|          | 0/70 [00:00<?, ?it/s]"
      ]
     },
     "metadata": {},
     "output_type": "display_data"
    },
    {
     "data": {
      "application/vnd.jupyter.widget-view+json": {
       "model_id": "fad56185f3ec460fbc4bd06065ede7cd",
       "version_major": 2,
       "version_minor": 0
      },
      "text/plain": [
       "Training epoch 84:   0%|          | 0/70 [00:00<?, ?it/s]"
      ]
     },
     "metadata": {},
     "output_type": "display_data"
    },
    {
     "data": {
      "application/vnd.jupyter.widget-view+json": {
       "model_id": "3a8cc067355f4a2fbe443c42bbee65d9",
       "version_major": 2,
       "version_minor": 0
      },
      "text/plain": [
       "Training epoch 85:   0%|          | 0/70 [00:00<?, ?it/s]"
      ]
     },
     "metadata": {},
     "output_type": "display_data"
    },
    {
     "data": {
      "application/vnd.jupyter.widget-view+json": {
       "model_id": "947329b1047d4b1c9b87afb07a5ab747",
       "version_major": 2,
       "version_minor": 0
      },
      "text/plain": [
       "Training epoch 86:   0%|          | 0/70 [00:00<?, ?it/s]"
      ]
     },
     "metadata": {},
     "output_type": "display_data"
    },
    {
     "data": {
      "application/vnd.jupyter.widget-view+json": {
       "model_id": "0fd0efb632c044d0bc3ac7bd6d5ce6a3",
       "version_major": 2,
       "version_minor": 0
      },
      "text/plain": [
       "Training epoch 87:   0%|          | 0/70 [00:00<?, ?it/s]"
      ]
     },
     "metadata": {},
     "output_type": "display_data"
    },
    {
     "data": {
      "application/vnd.jupyter.widget-view+json": {
       "model_id": "131df7a3898641fd813a253c39325619",
       "version_major": 2,
       "version_minor": 0
      },
      "text/plain": [
       "Training epoch 88:   0%|          | 0/70 [00:00<?, ?it/s]"
      ]
     },
     "metadata": {},
     "output_type": "display_data"
    },
    {
     "data": {
      "application/vnd.jupyter.widget-view+json": {
       "model_id": "7dd66f58d7c44de9bedc671bd8fc35d4",
       "version_major": 2,
       "version_minor": 0
      },
      "text/plain": [
       "Training epoch 89:   0%|          | 0/70 [00:00<?, ?it/s]"
      ]
     },
     "metadata": {},
     "output_type": "display_data"
    },
    {
     "data": {
      "application/vnd.jupyter.widget-view+json": {
       "model_id": "b3e37cffc7d9468e99fac4a257dc4c81",
       "version_major": 2,
       "version_minor": 0
      },
      "text/plain": [
       "Training epoch 90:   0%|          | 0/70 [00:00<?, ?it/s]"
      ]
     },
     "metadata": {},
     "output_type": "display_data"
    },
    {
     "data": {
      "application/vnd.jupyter.widget-view+json": {
       "model_id": "dac60863020e4152b2a067063c6ec88c",
       "version_major": 2,
       "version_minor": 0
      },
      "text/plain": [
       "Training epoch 91:   0%|          | 0/70 [00:00<?, ?it/s]"
      ]
     },
     "metadata": {},
     "output_type": "display_data"
    },
    {
     "data": {
      "application/vnd.jupyter.widget-view+json": {
       "model_id": "f61f01553b4a4aa1ba7547248e2313fb",
       "version_major": 2,
       "version_minor": 0
      },
      "text/plain": [
       "Training epoch 92:   0%|          | 0/70 [00:00<?, ?it/s]"
      ]
     },
     "metadata": {},
     "output_type": "display_data"
    },
    {
     "data": {
      "application/vnd.jupyter.widget-view+json": {
       "model_id": "ba6acd06ad28400cbd2e00ddfd7b0171",
       "version_major": 2,
       "version_minor": 0
      },
      "text/plain": [
       "Training epoch 93:   0%|          | 0/70 [00:00<?, ?it/s]"
      ]
     },
     "metadata": {},
     "output_type": "display_data"
    },
    {
     "data": {
      "application/vnd.jupyter.widget-view+json": {
       "model_id": "5a6752da9a334110a3494f3e87deecef",
       "version_major": 2,
       "version_minor": 0
      },
      "text/plain": [
       "Training epoch 94:   0%|          | 0/70 [00:00<?, ?it/s]"
      ]
     },
     "metadata": {},
     "output_type": "display_data"
    },
    {
     "data": {
      "application/vnd.jupyter.widget-view+json": {
       "model_id": "b606840e8e8248569a68d6ca43d52004",
       "version_major": 2,
       "version_minor": 0
      },
      "text/plain": [
       "Training epoch 95:   0%|          | 0/70 [00:00<?, ?it/s]"
      ]
     },
     "metadata": {},
     "output_type": "display_data"
    },
    {
     "data": {
      "application/vnd.jupyter.widget-view+json": {
       "model_id": "98c208611f6947daaa3ef8a5a9032302",
       "version_major": 2,
       "version_minor": 0
      },
      "text/plain": [
       "Training epoch 96:   0%|          | 0/70 [00:00<?, ?it/s]"
      ]
     },
     "metadata": {},
     "output_type": "display_data"
    },
    {
     "data": {
      "application/vnd.jupyter.widget-view+json": {
       "model_id": "b1acfdf8068f4f39b0fce24861ddcd59",
       "version_major": 2,
       "version_minor": 0
      },
      "text/plain": [
       "Training epoch 97:   0%|          | 0/70 [00:00<?, ?it/s]"
      ]
     },
     "metadata": {},
     "output_type": "display_data"
    },
    {
     "data": {
      "application/vnd.jupyter.widget-view+json": {
       "model_id": "cbd6073e215940648be41b0f33e71d33",
       "version_major": 2,
       "version_minor": 0
      },
      "text/plain": [
       "Training epoch 98:   0%|          | 0/70 [00:00<?, ?it/s]"
      ]
     },
     "metadata": {},
     "output_type": "display_data"
    },
    {
     "data": {
      "application/vnd.jupyter.widget-view+json": {
       "model_id": "5d316f28a0904f59be98030ef1a081c3",
       "version_major": 2,
       "version_minor": 0
      },
      "text/plain": [
       "Training epoch 99:   0%|          | 0/70 [00:00<?, ?it/s]"
      ]
     },
     "metadata": {},
     "output_type": "display_data"
    },
    {
     "data": {
      "application/vnd.jupyter.widget-view+json": {
       "model_id": "502fda706c3a4aabb1266aefd3dfc4b9",
       "version_major": 2,
       "version_minor": 0
      },
      "text/plain": [
       "Training epoch 100:   0%|          | 0/70 [00:00<?, ?it/s]"
      ]
     },
     "metadata": {},
     "output_type": "display_data"
    },
    {
     "name": "stdout",
     "output_type": "stream",
     "text": [
      "Simulating new 10000 data sets and appending to previous...\n",
      "New total number of simulated data sets: 80000\n",
      "Converting 80000 simulations to a TensorFlow data set...\n"
     ]
    },
    {
     "data": {
      "application/vnd.jupyter.widget-view+json": {
       "model_id": "b22006db09d8472092b09416acbf554b",
       "version_major": 2,
       "version_minor": 0
      },
      "text/plain": [
       "Training epoch 1:   0%|          | 0/80 [00:00<?, ?it/s]"
      ]
     },
     "metadata": {},
     "output_type": "display_data"
    },
    {
     "data": {
      "application/vnd.jupyter.widget-view+json": {
       "model_id": "b77b407aa4cb4b2baff21cdab5699086",
       "version_major": 2,
       "version_minor": 0
      },
      "text/plain": [
       "Training epoch 2:   0%|          | 0/80 [00:00<?, ?it/s]"
      ]
     },
     "metadata": {},
     "output_type": "display_data"
    },
    {
     "data": {
      "application/vnd.jupyter.widget-view+json": {
       "model_id": "53722fc827db4f3d9ba8f5b7e9e7730c",
       "version_major": 2,
       "version_minor": 0
      },
      "text/plain": [
       "Training epoch 3:   0%|          | 0/80 [00:00<?, ?it/s]"
      ]
     },
     "metadata": {},
     "output_type": "display_data"
    },
    {
     "data": {
      "application/vnd.jupyter.widget-view+json": {
       "model_id": "b1ed54f48a5f425a931a94d9874198d1",
       "version_major": 2,
       "version_minor": 0
      },
      "text/plain": [
       "Training epoch 4:   0%|          | 0/80 [00:00<?, ?it/s]"
      ]
     },
     "metadata": {},
     "output_type": "display_data"
    },
    {
     "data": {
      "application/vnd.jupyter.widget-view+json": {
       "model_id": "1ebbd08935854bc5a9702d5c759c5895",
       "version_major": 2,
       "version_minor": 0
      },
      "text/plain": [
       "Training epoch 5:   0%|          | 0/80 [00:00<?, ?it/s]"
      ]
     },
     "metadata": {},
     "output_type": "display_data"
    },
    {
     "data": {
      "application/vnd.jupyter.widget-view+json": {
       "model_id": "a21e901826b747f199f7a99f26ad3c0d",
       "version_major": 2,
       "version_minor": 0
      },
      "text/plain": [
       "Training epoch 6:   0%|          | 0/80 [00:00<?, ?it/s]"
      ]
     },
     "metadata": {},
     "output_type": "display_data"
    },
    {
     "data": {
      "application/vnd.jupyter.widget-view+json": {
       "model_id": "ac0ae57d95104221bb0d0007c3b75c1f",
       "version_major": 2,
       "version_minor": 0
      },
      "text/plain": [
       "Training epoch 7:   0%|          | 0/80 [00:00<?, ?it/s]"
      ]
     },
     "metadata": {},
     "output_type": "display_data"
    },
    {
     "data": {
      "application/vnd.jupyter.widget-view+json": {
       "model_id": "a78327489e9d4b6da7d789a753c48494",
       "version_major": 2,
       "version_minor": 0
      },
      "text/plain": [
       "Training epoch 8:   0%|          | 0/80 [00:00<?, ?it/s]"
      ]
     },
     "metadata": {},
     "output_type": "display_data"
    },
    {
     "data": {
      "application/vnd.jupyter.widget-view+json": {
       "model_id": "8237871c9e894b31b13b524193354e15",
       "version_major": 2,
       "version_minor": 0
      },
      "text/plain": [
       "Training epoch 9:   0%|          | 0/80 [00:00<?, ?it/s]"
      ]
     },
     "metadata": {},
     "output_type": "display_data"
    },
    {
     "data": {
      "application/vnd.jupyter.widget-view+json": {
       "model_id": "abe0454d45894fe9ac9277f6619687e8",
       "version_major": 2,
       "version_minor": 0
      },
      "text/plain": [
       "Training epoch 10:   0%|          | 0/80 [00:00<?, ?it/s]"
      ]
     },
     "metadata": {},
     "output_type": "display_data"
    },
    {
     "data": {
      "application/vnd.jupyter.widget-view+json": {
       "model_id": "e1a90194e85648f991b5f7c8edb23c1a",
       "version_major": 2,
       "version_minor": 0
      },
      "text/plain": [
       "Training epoch 11:   0%|          | 0/80 [00:00<?, ?it/s]"
      ]
     },
     "metadata": {},
     "output_type": "display_data"
    },
    {
     "data": {
      "application/vnd.jupyter.widget-view+json": {
       "model_id": "d6a03357c74a49d68ee3565945645bb5",
       "version_major": 2,
       "version_minor": 0
      },
      "text/plain": [
       "Training epoch 12:   0%|          | 0/80 [00:00<?, ?it/s]"
      ]
     },
     "metadata": {},
     "output_type": "display_data"
    },
    {
     "data": {
      "application/vnd.jupyter.widget-view+json": {
       "model_id": "1835f294947042f0b6500d6c74609840",
       "version_major": 2,
       "version_minor": 0
      },
      "text/plain": [
       "Training epoch 13:   0%|          | 0/80 [00:00<?, ?it/s]"
      ]
     },
     "metadata": {},
     "output_type": "display_data"
    },
    {
     "data": {
      "application/vnd.jupyter.widget-view+json": {
       "model_id": "0daa4b90ad634ec485555b0cbb3a14fd",
       "version_major": 2,
       "version_minor": 0
      },
      "text/plain": [
       "Training epoch 14:   0%|          | 0/80 [00:00<?, ?it/s]"
      ]
     },
     "metadata": {},
     "output_type": "display_data"
    },
    {
     "data": {
      "application/vnd.jupyter.widget-view+json": {
       "model_id": "e9c8dcd8398f458b90a730a9e30456c3",
       "version_major": 2,
       "version_minor": 0
      },
      "text/plain": [
       "Training epoch 15:   0%|          | 0/80 [00:00<?, ?it/s]"
      ]
     },
     "metadata": {},
     "output_type": "display_data"
    },
    {
     "data": {
      "application/vnd.jupyter.widget-view+json": {
       "model_id": "72cd9b8efad3430f9dbe273120860b79",
       "version_major": 2,
       "version_minor": 0
      },
      "text/plain": [
       "Training epoch 16:   0%|          | 0/80 [00:00<?, ?it/s]"
      ]
     },
     "metadata": {},
     "output_type": "display_data"
    },
    {
     "data": {
      "application/vnd.jupyter.widget-view+json": {
       "model_id": "25fc2c512aa34df2ac9dd963a335c5ae",
       "version_major": 2,
       "version_minor": 0
      },
      "text/plain": [
       "Training epoch 17:   0%|          | 0/80 [00:00<?, ?it/s]"
      ]
     },
     "metadata": {},
     "output_type": "display_data"
    },
    {
     "data": {
      "application/vnd.jupyter.widget-view+json": {
       "model_id": "4c68c9ec107f41c28ac16334ee40cfc4",
       "version_major": 2,
       "version_minor": 0
      },
      "text/plain": [
       "Training epoch 18:   0%|          | 0/80 [00:00<?, ?it/s]"
      ]
     },
     "metadata": {},
     "output_type": "display_data"
    },
    {
     "data": {
      "application/vnd.jupyter.widget-view+json": {
       "model_id": "a5e6909e05284b6499a7bbb74a7cff67",
       "version_major": 2,
       "version_minor": 0
      },
      "text/plain": [
       "Training epoch 19:   0%|          | 0/80 [00:00<?, ?it/s]"
      ]
     },
     "metadata": {},
     "output_type": "display_data"
    },
    {
     "data": {
      "application/vnd.jupyter.widget-view+json": {
       "model_id": "aceb4f5fec1c4357a72f012720150604",
       "version_major": 2,
       "version_minor": 0
      },
      "text/plain": [
       "Training epoch 20:   0%|          | 0/80 [00:00<?, ?it/s]"
      ]
     },
     "metadata": {},
     "output_type": "display_data"
    },
    {
     "data": {
      "application/vnd.jupyter.widget-view+json": {
       "model_id": "ea95aa3198b6482d8138a577492dd0f4",
       "version_major": 2,
       "version_minor": 0
      },
      "text/plain": [
       "Training epoch 21:   0%|          | 0/80 [00:00<?, ?it/s]"
      ]
     },
     "metadata": {},
     "output_type": "display_data"
    },
    {
     "data": {
      "application/vnd.jupyter.widget-view+json": {
       "model_id": "2cb21418847e430da48198f1632601c5",
       "version_major": 2,
       "version_minor": 0
      },
      "text/plain": [
       "Training epoch 22:   0%|          | 0/80 [00:00<?, ?it/s]"
      ]
     },
     "metadata": {},
     "output_type": "display_data"
    },
    {
     "data": {
      "application/vnd.jupyter.widget-view+json": {
       "model_id": "76118c4577b840d896453e250a21b4dc",
       "version_major": 2,
       "version_minor": 0
      },
      "text/plain": [
       "Training epoch 23:   0%|          | 0/80 [00:00<?, ?it/s]"
      ]
     },
     "metadata": {},
     "output_type": "display_data"
    },
    {
     "data": {
      "application/vnd.jupyter.widget-view+json": {
       "model_id": "e90c15cb08784852ba296f67974f5901",
       "version_major": 2,
       "version_minor": 0
      },
      "text/plain": [
       "Training epoch 24:   0%|          | 0/80 [00:00<?, ?it/s]"
      ]
     },
     "metadata": {},
     "output_type": "display_data"
    },
    {
     "data": {
      "application/vnd.jupyter.widget-view+json": {
       "model_id": "86ccd9aa88e34e4780fe08ed1b251d0e",
       "version_major": 2,
       "version_minor": 0
      },
      "text/plain": [
       "Training epoch 25:   0%|          | 0/80 [00:00<?, ?it/s]"
      ]
     },
     "metadata": {},
     "output_type": "display_data"
    },
    {
     "data": {
      "application/vnd.jupyter.widget-view+json": {
       "model_id": "f83db0ba67554838aef9313e81cb3299",
       "version_major": 2,
       "version_minor": 0
      },
      "text/plain": [
       "Training epoch 26:   0%|          | 0/80 [00:00<?, ?it/s]"
      ]
     },
     "metadata": {},
     "output_type": "display_data"
    },
    {
     "data": {
      "application/vnd.jupyter.widget-view+json": {
       "model_id": "afa1611882d24c429e6f29c14f1684e6",
       "version_major": 2,
       "version_minor": 0
      },
      "text/plain": [
       "Training epoch 27:   0%|          | 0/80 [00:00<?, ?it/s]"
      ]
     },
     "metadata": {},
     "output_type": "display_data"
    },
    {
     "data": {
      "application/vnd.jupyter.widget-view+json": {
       "model_id": "0c05594185ce497ebf8183f7dca675c8",
       "version_major": 2,
       "version_minor": 0
      },
      "text/plain": [
       "Training epoch 28:   0%|          | 0/80 [00:00<?, ?it/s]"
      ]
     },
     "metadata": {},
     "output_type": "display_data"
    },
    {
     "data": {
      "application/vnd.jupyter.widget-view+json": {
       "model_id": "ca0f1d0f2b8b4836bf9cba6269e50aeb",
       "version_major": 2,
       "version_minor": 0
      },
      "text/plain": [
       "Training epoch 29:   0%|          | 0/80 [00:00<?, ?it/s]"
      ]
     },
     "metadata": {},
     "output_type": "display_data"
    },
    {
     "data": {
      "application/vnd.jupyter.widget-view+json": {
       "model_id": "8609f1c95fe245119ee50198281cc06e",
       "version_major": 2,
       "version_minor": 0
      },
      "text/plain": [
       "Training epoch 30:   0%|          | 0/80 [00:00<?, ?it/s]"
      ]
     },
     "metadata": {},
     "output_type": "display_data"
    },
    {
     "data": {
      "application/vnd.jupyter.widget-view+json": {
       "model_id": "b4a63343d425454d9bd2f6b78aaf2086",
       "version_major": 2,
       "version_minor": 0
      },
      "text/plain": [
       "Training epoch 31:   0%|          | 0/80 [00:00<?, ?it/s]"
      ]
     },
     "metadata": {},
     "output_type": "display_data"
    },
    {
     "data": {
      "application/vnd.jupyter.widget-view+json": {
       "model_id": "3e8b620d76364599828b29d6a70c095b",
       "version_major": 2,
       "version_minor": 0
      },
      "text/plain": [
       "Training epoch 32:   0%|          | 0/80 [00:00<?, ?it/s]"
      ]
     },
     "metadata": {},
     "output_type": "display_data"
    },
    {
     "data": {
      "application/vnd.jupyter.widget-view+json": {
       "model_id": "b098bc719dd841b39a1f6fd2d64ea8f4",
       "version_major": 2,
       "version_minor": 0
      },
      "text/plain": [
       "Training epoch 33:   0%|          | 0/80 [00:00<?, ?it/s]"
      ]
     },
     "metadata": {},
     "output_type": "display_data"
    },
    {
     "data": {
      "application/vnd.jupyter.widget-view+json": {
       "model_id": "dc00041fd974499d8908660bf1871a40",
       "version_major": 2,
       "version_minor": 0
      },
      "text/plain": [
       "Training epoch 34:   0%|          | 0/80 [00:00<?, ?it/s]"
      ]
     },
     "metadata": {},
     "output_type": "display_data"
    },
    {
     "data": {
      "application/vnd.jupyter.widget-view+json": {
       "model_id": "012c950d646245a788d11adfd4b58b05",
       "version_major": 2,
       "version_minor": 0
      },
      "text/plain": [
       "Training epoch 35:   0%|          | 0/80 [00:00<?, ?it/s]"
      ]
     },
     "metadata": {},
     "output_type": "display_data"
    },
    {
     "data": {
      "application/vnd.jupyter.widget-view+json": {
       "model_id": "aa2bb15502204210bbeeda8dd9c1c8f8",
       "version_major": 2,
       "version_minor": 0
      },
      "text/plain": [
       "Training epoch 36:   0%|          | 0/80 [00:00<?, ?it/s]"
      ]
     },
     "metadata": {},
     "output_type": "display_data"
    },
    {
     "data": {
      "application/vnd.jupyter.widget-view+json": {
       "model_id": "a97f3b647ec8475897db3bb448022e40",
       "version_major": 2,
       "version_minor": 0
      },
      "text/plain": [
       "Training epoch 37:   0%|          | 0/80 [00:00<?, ?it/s]"
      ]
     },
     "metadata": {},
     "output_type": "display_data"
    },
    {
     "data": {
      "application/vnd.jupyter.widget-view+json": {
       "model_id": "93fcd2db1d934cc8bbb3ae92e62a9332",
       "version_major": 2,
       "version_minor": 0
      },
      "text/plain": [
       "Training epoch 38:   0%|          | 0/80 [00:00<?, ?it/s]"
      ]
     },
     "metadata": {},
     "output_type": "display_data"
    },
    {
     "data": {
      "application/vnd.jupyter.widget-view+json": {
       "model_id": "e6d9a59a50564653a2f9d8a615ef8e0c",
       "version_major": 2,
       "version_minor": 0
      },
      "text/plain": [
       "Training epoch 39:   0%|          | 0/80 [00:00<?, ?it/s]"
      ]
     },
     "metadata": {},
     "output_type": "display_data"
    },
    {
     "data": {
      "application/vnd.jupyter.widget-view+json": {
       "model_id": "c8e548a4a84b4e88b7dea181d44b40b2",
       "version_major": 2,
       "version_minor": 0
      },
      "text/plain": [
       "Training epoch 40:   0%|          | 0/80 [00:00<?, ?it/s]"
      ]
     },
     "metadata": {},
     "output_type": "display_data"
    },
    {
     "data": {
      "application/vnd.jupyter.widget-view+json": {
       "model_id": "228c452544004bf09cbae51a7239eb02",
       "version_major": 2,
       "version_minor": 0
      },
      "text/plain": [
       "Training epoch 41:   0%|          | 0/80 [00:00<?, ?it/s]"
      ]
     },
     "metadata": {},
     "output_type": "display_data"
    },
    {
     "data": {
      "application/vnd.jupyter.widget-view+json": {
       "model_id": "c6179bf1940942bc8d252630fe3f8986",
       "version_major": 2,
       "version_minor": 0
      },
      "text/plain": [
       "Training epoch 42:   0%|          | 0/80 [00:00<?, ?it/s]"
      ]
     },
     "metadata": {},
     "output_type": "display_data"
    },
    {
     "data": {
      "application/vnd.jupyter.widget-view+json": {
       "model_id": "a4eea834be1d45a0bc6a556ccc4f69d9",
       "version_major": 2,
       "version_minor": 0
      },
      "text/plain": [
       "Training epoch 43:   0%|          | 0/80 [00:00<?, ?it/s]"
      ]
     },
     "metadata": {},
     "output_type": "display_data"
    },
    {
     "data": {
      "application/vnd.jupyter.widget-view+json": {
       "model_id": "7c7b64702f304e4391d546b89204192e",
       "version_major": 2,
       "version_minor": 0
      },
      "text/plain": [
       "Training epoch 44:   0%|          | 0/80 [00:00<?, ?it/s]"
      ]
     },
     "metadata": {},
     "output_type": "display_data"
    },
    {
     "data": {
      "application/vnd.jupyter.widget-view+json": {
       "model_id": "7392b8d60ffb4548b8254277cc1777d0",
       "version_major": 2,
       "version_minor": 0
      },
      "text/plain": [
       "Training epoch 45:   0%|          | 0/80 [00:00<?, ?it/s]"
      ]
     },
     "metadata": {},
     "output_type": "display_data"
    },
    {
     "data": {
      "application/vnd.jupyter.widget-view+json": {
       "model_id": "63bcd4431b6e401186b654234fe24a3d",
       "version_major": 2,
       "version_minor": 0
      },
      "text/plain": [
       "Training epoch 46:   0%|          | 0/80 [00:00<?, ?it/s]"
      ]
     },
     "metadata": {},
     "output_type": "display_data"
    },
    {
     "data": {
      "application/vnd.jupyter.widget-view+json": {
       "model_id": "d8db0d6a5e384fafb59c55b74d5f4c4a",
       "version_major": 2,
       "version_minor": 0
      },
      "text/plain": [
       "Training epoch 47:   0%|          | 0/80 [00:00<?, ?it/s]"
      ]
     },
     "metadata": {},
     "output_type": "display_data"
    },
    {
     "data": {
      "application/vnd.jupyter.widget-view+json": {
       "model_id": "591aa4fa31ff49b79b556908cad81fa1",
       "version_major": 2,
       "version_minor": 0
      },
      "text/plain": [
       "Training epoch 48:   0%|          | 0/80 [00:00<?, ?it/s]"
      ]
     },
     "metadata": {},
     "output_type": "display_data"
    },
    {
     "data": {
      "application/vnd.jupyter.widget-view+json": {
       "model_id": "6fc59ccce4304b67bb8a51fc29699fbc",
       "version_major": 2,
       "version_minor": 0
      },
      "text/plain": [
       "Training epoch 49:   0%|          | 0/80 [00:00<?, ?it/s]"
      ]
     },
     "metadata": {},
     "output_type": "display_data"
    },
    {
     "data": {
      "application/vnd.jupyter.widget-view+json": {
       "model_id": "73c4afc25b92428694b3219f009978a2",
       "version_major": 2,
       "version_minor": 0
      },
      "text/plain": [
       "Training epoch 50:   0%|          | 0/80 [00:00<?, ?it/s]"
      ]
     },
     "metadata": {},
     "output_type": "display_data"
    },
    {
     "data": {
      "application/vnd.jupyter.widget-view+json": {
       "model_id": "f5d7ab85a90f452183a08222cc9c1f74",
       "version_major": 2,
       "version_minor": 0
      },
      "text/plain": [
       "Training epoch 51:   0%|          | 0/80 [00:00<?, ?it/s]"
      ]
     },
     "metadata": {},
     "output_type": "display_data"
    },
    {
     "data": {
      "application/vnd.jupyter.widget-view+json": {
       "model_id": "6a0710f85cbf4c86ba7dce3fbb1f995a",
       "version_major": 2,
       "version_minor": 0
      },
      "text/plain": [
       "Training epoch 52:   0%|          | 0/80 [00:00<?, ?it/s]"
      ]
     },
     "metadata": {},
     "output_type": "display_data"
    },
    {
     "data": {
      "application/vnd.jupyter.widget-view+json": {
       "model_id": "ca56c8d623ec40e688c1bdd5515c9951",
       "version_major": 2,
       "version_minor": 0
      },
      "text/plain": [
       "Training epoch 53:   0%|          | 0/80 [00:00<?, ?it/s]"
      ]
     },
     "metadata": {},
     "output_type": "display_data"
    },
    {
     "data": {
      "application/vnd.jupyter.widget-view+json": {
       "model_id": "f9db562cbe4d44d0b532d8ad86c31312",
       "version_major": 2,
       "version_minor": 0
      },
      "text/plain": [
       "Training epoch 54:   0%|          | 0/80 [00:00<?, ?it/s]"
      ]
     },
     "metadata": {},
     "output_type": "display_data"
    },
    {
     "data": {
      "application/vnd.jupyter.widget-view+json": {
       "model_id": "dae8d0da9db0470ab31158618f686a35",
       "version_major": 2,
       "version_minor": 0
      },
      "text/plain": [
       "Training epoch 55:   0%|          | 0/80 [00:00<?, ?it/s]"
      ]
     },
     "metadata": {},
     "output_type": "display_data"
    },
    {
     "data": {
      "application/vnd.jupyter.widget-view+json": {
       "model_id": "b5293e1b56ff45148adc373659fd1a93",
       "version_major": 2,
       "version_minor": 0
      },
      "text/plain": [
       "Training epoch 56:   0%|          | 0/80 [00:00<?, ?it/s]"
      ]
     },
     "metadata": {},
     "output_type": "display_data"
    },
    {
     "data": {
      "application/vnd.jupyter.widget-view+json": {
       "model_id": "804977caf01648fba9b095cf15a909d3",
       "version_major": 2,
       "version_minor": 0
      },
      "text/plain": [
       "Training epoch 57:   0%|          | 0/80 [00:00<?, ?it/s]"
      ]
     },
     "metadata": {},
     "output_type": "display_data"
    },
    {
     "data": {
      "application/vnd.jupyter.widget-view+json": {
       "model_id": "d0d574977ed14dd196d0fd8a4f19efcf",
       "version_major": 2,
       "version_minor": 0
      },
      "text/plain": [
       "Training epoch 58:   0%|          | 0/80 [00:00<?, ?it/s]"
      ]
     },
     "metadata": {},
     "output_type": "display_data"
    },
    {
     "data": {
      "application/vnd.jupyter.widget-view+json": {
       "model_id": "442bcfdb253943d6ad260d5d01eda9f2",
       "version_major": 2,
       "version_minor": 0
      },
      "text/plain": [
       "Training epoch 59:   0%|          | 0/80 [00:00<?, ?it/s]"
      ]
     },
     "metadata": {},
     "output_type": "display_data"
    },
    {
     "data": {
      "application/vnd.jupyter.widget-view+json": {
       "model_id": "b4ce988c11a24486bdd805dce9ffc44e",
       "version_major": 2,
       "version_minor": 0
      },
      "text/plain": [
       "Training epoch 60:   0%|          | 0/80 [00:00<?, ?it/s]"
      ]
     },
     "metadata": {},
     "output_type": "display_data"
    },
    {
     "data": {
      "application/vnd.jupyter.widget-view+json": {
       "model_id": "ecebcb5bbb3f431db94de23f2095cda9",
       "version_major": 2,
       "version_minor": 0
      },
      "text/plain": [
       "Training epoch 61:   0%|          | 0/80 [00:00<?, ?it/s]"
      ]
     },
     "metadata": {},
     "output_type": "display_data"
    },
    {
     "data": {
      "application/vnd.jupyter.widget-view+json": {
       "model_id": "f8eabc61bea947ab8bc3546091691c81",
       "version_major": 2,
       "version_minor": 0
      },
      "text/plain": [
       "Training epoch 62:   0%|          | 0/80 [00:00<?, ?it/s]"
      ]
     },
     "metadata": {},
     "output_type": "display_data"
    },
    {
     "data": {
      "application/vnd.jupyter.widget-view+json": {
       "model_id": "decd84f12c7c4304bb7810b807196a5b",
       "version_major": 2,
       "version_minor": 0
      },
      "text/plain": [
       "Training epoch 63:   0%|          | 0/80 [00:00<?, ?it/s]"
      ]
     },
     "metadata": {},
     "output_type": "display_data"
    },
    {
     "data": {
      "application/vnd.jupyter.widget-view+json": {
       "model_id": "59aa28a83faf41e9a223716fb3e28028",
       "version_major": 2,
       "version_minor": 0
      },
      "text/plain": [
       "Training epoch 64:   0%|          | 0/80 [00:00<?, ?it/s]"
      ]
     },
     "metadata": {},
     "output_type": "display_data"
    },
    {
     "data": {
      "application/vnd.jupyter.widget-view+json": {
       "model_id": "306b3018e11a447a9adfae02b0fa31b0",
       "version_major": 2,
       "version_minor": 0
      },
      "text/plain": [
       "Training epoch 65:   0%|          | 0/80 [00:00<?, ?it/s]"
      ]
     },
     "metadata": {},
     "output_type": "display_data"
    },
    {
     "data": {
      "application/vnd.jupyter.widget-view+json": {
       "model_id": "d0c78b47e0a04228889762c42f9a1d6a",
       "version_major": 2,
       "version_minor": 0
      },
      "text/plain": [
       "Training epoch 66:   0%|          | 0/80 [00:00<?, ?it/s]"
      ]
     },
     "metadata": {},
     "output_type": "display_data"
    },
    {
     "data": {
      "application/vnd.jupyter.widget-view+json": {
       "model_id": "02eaf0f394e943899f99c71f6432cea2",
       "version_major": 2,
       "version_minor": 0
      },
      "text/plain": [
       "Training epoch 67:   0%|          | 0/80 [00:00<?, ?it/s]"
      ]
     },
     "metadata": {},
     "output_type": "display_data"
    },
    {
     "data": {
      "application/vnd.jupyter.widget-view+json": {
       "model_id": "ff2b8235aba645c38251ca6e6f71c9b7",
       "version_major": 2,
       "version_minor": 0
      },
      "text/plain": [
       "Training epoch 68:   0%|          | 0/80 [00:00<?, ?it/s]"
      ]
     },
     "metadata": {},
     "output_type": "display_data"
    },
    {
     "data": {
      "application/vnd.jupyter.widget-view+json": {
       "model_id": "cb4610dcfa9448fd8965bb99ce699e0a",
       "version_major": 2,
       "version_minor": 0
      },
      "text/plain": [
       "Training epoch 69:   0%|          | 0/80 [00:00<?, ?it/s]"
      ]
     },
     "metadata": {},
     "output_type": "display_data"
    },
    {
     "data": {
      "application/vnd.jupyter.widget-view+json": {
       "model_id": "ca29e82e52ac4afe953e86c39095d151",
       "version_major": 2,
       "version_minor": 0
      },
      "text/plain": [
       "Training epoch 70:   0%|          | 0/80 [00:00<?, ?it/s]"
      ]
     },
     "metadata": {},
     "output_type": "display_data"
    },
    {
     "data": {
      "application/vnd.jupyter.widget-view+json": {
       "model_id": "0aeffaf0b9ab43c69abdada0c447471b",
       "version_major": 2,
       "version_minor": 0
      },
      "text/plain": [
       "Training epoch 71:   0%|          | 0/80 [00:00<?, ?it/s]"
      ]
     },
     "metadata": {},
     "output_type": "display_data"
    },
    {
     "data": {
      "application/vnd.jupyter.widget-view+json": {
       "model_id": "387e29e2db944ea4b9af647e2f5a1a63",
       "version_major": 2,
       "version_minor": 0
      },
      "text/plain": [
       "Training epoch 72:   0%|          | 0/80 [00:00<?, ?it/s]"
      ]
     },
     "metadata": {},
     "output_type": "display_data"
    },
    {
     "data": {
      "application/vnd.jupyter.widget-view+json": {
       "model_id": "1d176e3f49964bd2b65b8cf7c1658cb9",
       "version_major": 2,
       "version_minor": 0
      },
      "text/plain": [
       "Training epoch 73:   0%|          | 0/80 [00:00<?, ?it/s]"
      ]
     },
     "metadata": {},
     "output_type": "display_data"
    },
    {
     "data": {
      "application/vnd.jupyter.widget-view+json": {
       "model_id": "84fc2a89390c4b8eb2a34454f20084c9",
       "version_major": 2,
       "version_minor": 0
      },
      "text/plain": [
       "Training epoch 74:   0%|          | 0/80 [00:00<?, ?it/s]"
      ]
     },
     "metadata": {},
     "output_type": "display_data"
    },
    {
     "data": {
      "application/vnd.jupyter.widget-view+json": {
       "model_id": "cebe35a23b794726a92da6c54e6addc0",
       "version_major": 2,
       "version_minor": 0
      },
      "text/plain": [
       "Training epoch 75:   0%|          | 0/80 [00:00<?, ?it/s]"
      ]
     },
     "metadata": {},
     "output_type": "display_data"
    },
    {
     "data": {
      "application/vnd.jupyter.widget-view+json": {
       "model_id": "a1479bc6160b4823b7902fa0df0fad5a",
       "version_major": 2,
       "version_minor": 0
      },
      "text/plain": [
       "Training epoch 76:   0%|          | 0/80 [00:00<?, ?it/s]"
      ]
     },
     "metadata": {},
     "output_type": "display_data"
    },
    {
     "data": {
      "application/vnd.jupyter.widget-view+json": {
       "model_id": "e15b80356f8e4f168de4d375aabde558",
       "version_major": 2,
       "version_minor": 0
      },
      "text/plain": [
       "Training epoch 77:   0%|          | 0/80 [00:00<?, ?it/s]"
      ]
     },
     "metadata": {},
     "output_type": "display_data"
    },
    {
     "data": {
      "application/vnd.jupyter.widget-view+json": {
       "model_id": "087c7251da1e4ebabfc650a7d28783ad",
       "version_major": 2,
       "version_minor": 0
      },
      "text/plain": [
       "Training epoch 78:   0%|          | 0/80 [00:00<?, ?it/s]"
      ]
     },
     "metadata": {},
     "output_type": "display_data"
    },
    {
     "data": {
      "application/vnd.jupyter.widget-view+json": {
       "model_id": "9163810bfe7947ad9fa0f00a44afed03",
       "version_major": 2,
       "version_minor": 0
      },
      "text/plain": [
       "Training epoch 79:   0%|          | 0/80 [00:00<?, ?it/s]"
      ]
     },
     "metadata": {},
     "output_type": "display_data"
    },
    {
     "data": {
      "application/vnd.jupyter.widget-view+json": {
       "model_id": "89b1f520d13c4e9cb18848c649e476a1",
       "version_major": 2,
       "version_minor": 0
      },
      "text/plain": [
       "Training epoch 80:   0%|          | 0/80 [00:00<?, ?it/s]"
      ]
     },
     "metadata": {},
     "output_type": "display_data"
    },
    {
     "data": {
      "application/vnd.jupyter.widget-view+json": {
       "model_id": "3be395bb3e5240a4b56332ded84a38a7",
       "version_major": 2,
       "version_minor": 0
      },
      "text/plain": [
       "Training epoch 81:   0%|          | 0/80 [00:00<?, ?it/s]"
      ]
     },
     "metadata": {},
     "output_type": "display_data"
    },
    {
     "data": {
      "application/vnd.jupyter.widget-view+json": {
       "model_id": "ff549c6ff7494f10a940b8f811c5c1ea",
       "version_major": 2,
       "version_minor": 0
      },
      "text/plain": [
       "Training epoch 82:   0%|          | 0/80 [00:00<?, ?it/s]"
      ]
     },
     "metadata": {},
     "output_type": "display_data"
    },
    {
     "data": {
      "application/vnd.jupyter.widget-view+json": {
       "model_id": "3e62aeeeb3bd437c9838a4d6d4acf72e",
       "version_major": 2,
       "version_minor": 0
      },
      "text/plain": [
       "Training epoch 83:   0%|          | 0/80 [00:00<?, ?it/s]"
      ]
     },
     "metadata": {},
     "output_type": "display_data"
    },
    {
     "data": {
      "application/vnd.jupyter.widget-view+json": {
       "model_id": "178d93cd86364587b140966c5992a3a0",
       "version_major": 2,
       "version_minor": 0
      },
      "text/plain": [
       "Training epoch 84:   0%|          | 0/80 [00:00<?, ?it/s]"
      ]
     },
     "metadata": {},
     "output_type": "display_data"
    },
    {
     "data": {
      "application/vnd.jupyter.widget-view+json": {
       "model_id": "677b6ea8a4b34c23998ef4993e41b1a2",
       "version_major": 2,
       "version_minor": 0
      },
      "text/plain": [
       "Training epoch 85:   0%|          | 0/80 [00:00<?, ?it/s]"
      ]
     },
     "metadata": {},
     "output_type": "display_data"
    },
    {
     "data": {
      "application/vnd.jupyter.widget-view+json": {
       "model_id": "26f23888a13141af80d9dbc16f29acd5",
       "version_major": 2,
       "version_minor": 0
      },
      "text/plain": [
       "Training epoch 86:   0%|          | 0/80 [00:00<?, ?it/s]"
      ]
     },
     "metadata": {},
     "output_type": "display_data"
    },
    {
     "data": {
      "application/vnd.jupyter.widget-view+json": {
       "model_id": "73fa7f0c93f14c2da75cbd654ce0e67c",
       "version_major": 2,
       "version_minor": 0
      },
      "text/plain": [
       "Training epoch 87:   0%|          | 0/80 [00:00<?, ?it/s]"
      ]
     },
     "metadata": {},
     "output_type": "display_data"
    },
    {
     "data": {
      "application/vnd.jupyter.widget-view+json": {
       "model_id": "54b0499f13b840e2b76ea5250d547ce7",
       "version_major": 2,
       "version_minor": 0
      },
      "text/plain": [
       "Training epoch 88:   0%|          | 0/80 [00:00<?, ?it/s]"
      ]
     },
     "metadata": {},
     "output_type": "display_data"
    },
    {
     "data": {
      "application/vnd.jupyter.widget-view+json": {
       "model_id": "e2e76ae28813441b85b95b56da0cbec0",
       "version_major": 2,
       "version_minor": 0
      },
      "text/plain": [
       "Training epoch 89:   0%|          | 0/80 [00:00<?, ?it/s]"
      ]
     },
     "metadata": {},
     "output_type": "display_data"
    },
    {
     "data": {
      "application/vnd.jupyter.widget-view+json": {
       "model_id": "acc3aaeb32bd49108d9835b38c0af4fb",
       "version_major": 2,
       "version_minor": 0
      },
      "text/plain": [
       "Training epoch 90:   0%|          | 0/80 [00:00<?, ?it/s]"
      ]
     },
     "metadata": {},
     "output_type": "display_data"
    },
    {
     "data": {
      "application/vnd.jupyter.widget-view+json": {
       "model_id": "4f13ac5958ac488985f89a6220a541cf",
       "version_major": 2,
       "version_minor": 0
      },
      "text/plain": [
       "Training epoch 91:   0%|          | 0/80 [00:00<?, ?it/s]"
      ]
     },
     "metadata": {},
     "output_type": "display_data"
    },
    {
     "data": {
      "application/vnd.jupyter.widget-view+json": {
       "model_id": "aaa80ff0bc4542aaa240d912e2e7d79a",
       "version_major": 2,
       "version_minor": 0
      },
      "text/plain": [
       "Training epoch 92:   0%|          | 0/80 [00:00<?, ?it/s]"
      ]
     },
     "metadata": {},
     "output_type": "display_data"
    },
    {
     "data": {
      "application/vnd.jupyter.widget-view+json": {
       "model_id": "526768b53073412cafce8f90565bab01",
       "version_major": 2,
       "version_minor": 0
      },
      "text/plain": [
       "Training epoch 93:   0%|          | 0/80 [00:00<?, ?it/s]"
      ]
     },
     "metadata": {},
     "output_type": "display_data"
    },
    {
     "data": {
      "application/vnd.jupyter.widget-view+json": {
       "model_id": "7827fc9a46d940edb3c1bd4d0c58bb1c",
       "version_major": 2,
       "version_minor": 0
      },
      "text/plain": [
       "Training epoch 94:   0%|          | 0/80 [00:00<?, ?it/s]"
      ]
     },
     "metadata": {},
     "output_type": "display_data"
    },
    {
     "data": {
      "application/vnd.jupyter.widget-view+json": {
       "model_id": "164897ab24c84bceaddfc3e92a216585",
       "version_major": 2,
       "version_minor": 0
      },
      "text/plain": [
       "Training epoch 95:   0%|          | 0/80 [00:00<?, ?it/s]"
      ]
     },
     "metadata": {},
     "output_type": "display_data"
    },
    {
     "data": {
      "application/vnd.jupyter.widget-view+json": {
       "model_id": "a25307c49dcd440ea252a9c04e261d97",
       "version_major": 2,
       "version_minor": 0
      },
      "text/plain": [
       "Training epoch 96:   0%|          | 0/80 [00:00<?, ?it/s]"
      ]
     },
     "metadata": {},
     "output_type": "display_data"
    },
    {
     "data": {
      "application/vnd.jupyter.widget-view+json": {
       "model_id": "8f291c6c9172479b95ccd73b1cb0af1f",
       "version_major": 2,
       "version_minor": 0
      },
      "text/plain": [
       "Training epoch 97:   0%|          | 0/80 [00:00<?, ?it/s]"
      ]
     },
     "metadata": {},
     "output_type": "display_data"
    },
    {
     "data": {
      "application/vnd.jupyter.widget-view+json": {
       "model_id": "4f18a111edf842c199f481c329870df2",
       "version_major": 2,
       "version_minor": 0
      },
      "text/plain": [
       "Training epoch 98:   0%|          | 0/80 [00:00<?, ?it/s]"
      ]
     },
     "metadata": {},
     "output_type": "display_data"
    },
    {
     "data": {
      "application/vnd.jupyter.widget-view+json": {
       "model_id": "1f609048aaff4fce80054a38d739c663",
       "version_major": 2,
       "version_minor": 0
      },
      "text/plain": [
       "Training epoch 99:   0%|          | 0/80 [00:00<?, ?it/s]"
      ]
     },
     "metadata": {},
     "output_type": "display_data"
    },
    {
     "data": {
      "application/vnd.jupyter.widget-view+json": {
       "model_id": "6f860380b58843189c23e3c95344b461",
       "version_major": 2,
       "version_minor": 0
      },
      "text/plain": [
       "Training epoch 100:   0%|          | 0/80 [00:00<?, ?it/s]"
      ]
     },
     "metadata": {},
     "output_type": "display_data"
    },
    {
     "name": "stdout",
     "output_type": "stream",
     "text": [
      "Simulating new 10000 data sets and appending to previous...\n",
      "New total number of simulated data sets: 90000\n",
      "Converting 90000 simulations to a TensorFlow data set...\n"
     ]
    },
    {
     "data": {
      "application/vnd.jupyter.widget-view+json": {
       "model_id": "26ea02185d3a43e4ad8023761f7f0471",
       "version_major": 2,
       "version_minor": 0
      },
      "text/plain": [
       "Training epoch 1:   0%|          | 0/90 [00:00<?, ?it/s]"
      ]
     },
     "metadata": {},
     "output_type": "display_data"
    },
    {
     "data": {
      "application/vnd.jupyter.widget-view+json": {
       "model_id": "bba70eeef0434f03b79428d9011b2f14",
       "version_major": 2,
       "version_minor": 0
      },
      "text/plain": [
       "Training epoch 2:   0%|          | 0/90 [00:00<?, ?it/s]"
      ]
     },
     "metadata": {},
     "output_type": "display_data"
    },
    {
     "data": {
      "application/vnd.jupyter.widget-view+json": {
       "model_id": "400205df157b4adc9202fc3bb3e446d4",
       "version_major": 2,
       "version_minor": 0
      },
      "text/plain": [
       "Training epoch 3:   0%|          | 0/90 [00:00<?, ?it/s]"
      ]
     },
     "metadata": {},
     "output_type": "display_data"
    },
    {
     "data": {
      "application/vnd.jupyter.widget-view+json": {
       "model_id": "fb483c6439a94414a452e0ec0e8d287f",
       "version_major": 2,
       "version_minor": 0
      },
      "text/plain": [
       "Training epoch 4:   0%|          | 0/90 [00:00<?, ?it/s]"
      ]
     },
     "metadata": {},
     "output_type": "display_data"
    },
    {
     "data": {
      "application/vnd.jupyter.widget-view+json": {
       "model_id": "9b82d3d0243a40f2ba0ec25204908c94",
       "version_major": 2,
       "version_minor": 0
      },
      "text/plain": [
       "Training epoch 5:   0%|          | 0/90 [00:00<?, ?it/s]"
      ]
     },
     "metadata": {},
     "output_type": "display_data"
    },
    {
     "data": {
      "application/vnd.jupyter.widget-view+json": {
       "model_id": "b07d6a7276ec4efcbe73d859d894313c",
       "version_major": 2,
       "version_minor": 0
      },
      "text/plain": [
       "Training epoch 6:   0%|          | 0/90 [00:00<?, ?it/s]"
      ]
     },
     "metadata": {},
     "output_type": "display_data"
    },
    {
     "data": {
      "application/vnd.jupyter.widget-view+json": {
       "model_id": "dadeaf574ccd4cb7b376604aea5a88fe",
       "version_major": 2,
       "version_minor": 0
      },
      "text/plain": [
       "Training epoch 7:   0%|          | 0/90 [00:00<?, ?it/s]"
      ]
     },
     "metadata": {},
     "output_type": "display_data"
    },
    {
     "data": {
      "application/vnd.jupyter.widget-view+json": {
       "model_id": "3f1766124274420d9d58c959aea90c26",
       "version_major": 2,
       "version_minor": 0
      },
      "text/plain": [
       "Training epoch 8:   0%|          | 0/90 [00:00<?, ?it/s]"
      ]
     },
     "metadata": {},
     "output_type": "display_data"
    },
    {
     "data": {
      "application/vnd.jupyter.widget-view+json": {
       "model_id": "304fcb81c1714e2fa14b8328e83b6f3b",
       "version_major": 2,
       "version_minor": 0
      },
      "text/plain": [
       "Training epoch 9:   0%|          | 0/90 [00:00<?, ?it/s]"
      ]
     },
     "metadata": {},
     "output_type": "display_data"
    },
    {
     "data": {
      "application/vnd.jupyter.widget-view+json": {
       "model_id": "0317f599f3984ead81616f55ce809b28",
       "version_major": 2,
       "version_minor": 0
      },
      "text/plain": [
       "Training epoch 10:   0%|          | 0/90 [00:00<?, ?it/s]"
      ]
     },
     "metadata": {},
     "output_type": "display_data"
    },
    {
     "data": {
      "application/vnd.jupyter.widget-view+json": {
       "model_id": "a52ad2d6f9ab4728851998d79e7d115a",
       "version_major": 2,
       "version_minor": 0
      },
      "text/plain": [
       "Training epoch 11:   0%|          | 0/90 [00:00<?, ?it/s]"
      ]
     },
     "metadata": {},
     "output_type": "display_data"
    },
    {
     "data": {
      "application/vnd.jupyter.widget-view+json": {
       "model_id": "c66b228c14ee4181ab726b633e78f924",
       "version_major": 2,
       "version_minor": 0
      },
      "text/plain": [
       "Training epoch 12:   0%|          | 0/90 [00:00<?, ?it/s]"
      ]
     },
     "metadata": {},
     "output_type": "display_data"
    },
    {
     "data": {
      "application/vnd.jupyter.widget-view+json": {
       "model_id": "88a2324f67904e69bc77e8899d6b5655",
       "version_major": 2,
       "version_minor": 0
      },
      "text/plain": [
       "Training epoch 13:   0%|          | 0/90 [00:00<?, ?it/s]"
      ]
     },
     "metadata": {},
     "output_type": "display_data"
    },
    {
     "data": {
      "application/vnd.jupyter.widget-view+json": {
       "model_id": "d85c9103174f4643b3aaf1b6ebc004e9",
       "version_major": 2,
       "version_minor": 0
      },
      "text/plain": [
       "Training epoch 14:   0%|          | 0/90 [00:00<?, ?it/s]"
      ]
     },
     "metadata": {},
     "output_type": "display_data"
    },
    {
     "data": {
      "application/vnd.jupyter.widget-view+json": {
       "model_id": "40f566da00f54e8e89d3ade1e1c735b8",
       "version_major": 2,
       "version_minor": 0
      },
      "text/plain": [
       "Training epoch 15:   0%|          | 0/90 [00:00<?, ?it/s]"
      ]
     },
     "metadata": {},
     "output_type": "display_data"
    },
    {
     "data": {
      "application/vnd.jupyter.widget-view+json": {
       "model_id": "bec7ce98fcdf4e62836b8d339b0d06cf",
       "version_major": 2,
       "version_minor": 0
      },
      "text/plain": [
       "Training epoch 16:   0%|          | 0/90 [00:00<?, ?it/s]"
      ]
     },
     "metadata": {},
     "output_type": "display_data"
    },
    {
     "data": {
      "application/vnd.jupyter.widget-view+json": {
       "model_id": "ffdf390184174528923e0f336f9ab03b",
       "version_major": 2,
       "version_minor": 0
      },
      "text/plain": [
       "Training epoch 17:   0%|          | 0/90 [00:00<?, ?it/s]"
      ]
     },
     "metadata": {},
     "output_type": "display_data"
    },
    {
     "data": {
      "application/vnd.jupyter.widget-view+json": {
       "model_id": "b2deab3e29e74038bd9d3fc28760ffba",
       "version_major": 2,
       "version_minor": 0
      },
      "text/plain": [
       "Training epoch 18:   0%|          | 0/90 [00:00<?, ?it/s]"
      ]
     },
     "metadata": {},
     "output_type": "display_data"
    },
    {
     "data": {
      "application/vnd.jupyter.widget-view+json": {
       "model_id": "5af0f6e26610406485350950d3fc000b",
       "version_major": 2,
       "version_minor": 0
      },
      "text/plain": [
       "Training epoch 19:   0%|          | 0/90 [00:00<?, ?it/s]"
      ]
     },
     "metadata": {},
     "output_type": "display_data"
    },
    {
     "data": {
      "application/vnd.jupyter.widget-view+json": {
       "model_id": "efafa440028a43a0a57b35ff221d3d81",
       "version_major": 2,
       "version_minor": 0
      },
      "text/plain": [
       "Training epoch 20:   0%|          | 0/90 [00:00<?, ?it/s]"
      ]
     },
     "metadata": {},
     "output_type": "display_data"
    },
    {
     "data": {
      "application/vnd.jupyter.widget-view+json": {
       "model_id": "87f63cb4a63346f7b81b418c600923d2",
       "version_major": 2,
       "version_minor": 0
      },
      "text/plain": [
       "Training epoch 21:   0%|          | 0/90 [00:00<?, ?it/s]"
      ]
     },
     "metadata": {},
     "output_type": "display_data"
    },
    {
     "data": {
      "application/vnd.jupyter.widget-view+json": {
       "model_id": "1d3376317af6420e91480b15b25c7f13",
       "version_major": 2,
       "version_minor": 0
      },
      "text/plain": [
       "Training epoch 22:   0%|          | 0/90 [00:00<?, ?it/s]"
      ]
     },
     "metadata": {},
     "output_type": "display_data"
    },
    {
     "data": {
      "application/vnd.jupyter.widget-view+json": {
       "model_id": "3696b519672240d990e3e385136ba2b6",
       "version_major": 2,
       "version_minor": 0
      },
      "text/plain": [
       "Training epoch 23:   0%|          | 0/90 [00:00<?, ?it/s]"
      ]
     },
     "metadata": {},
     "output_type": "display_data"
    },
    {
     "data": {
      "application/vnd.jupyter.widget-view+json": {
       "model_id": "1d29eedf589045b690291ec4df485309",
       "version_major": 2,
       "version_minor": 0
      },
      "text/plain": [
       "Training epoch 24:   0%|          | 0/90 [00:00<?, ?it/s]"
      ]
     },
     "metadata": {},
     "output_type": "display_data"
    },
    {
     "data": {
      "application/vnd.jupyter.widget-view+json": {
       "model_id": "e0abc57a4ec34524a0e541396558af0d",
       "version_major": 2,
       "version_minor": 0
      },
      "text/plain": [
       "Training epoch 25:   0%|          | 0/90 [00:00<?, ?it/s]"
      ]
     },
     "metadata": {},
     "output_type": "display_data"
    },
    {
     "data": {
      "application/vnd.jupyter.widget-view+json": {
       "model_id": "63fb70a8775f40c4afe60ac0602d6be9",
       "version_major": 2,
       "version_minor": 0
      },
      "text/plain": [
       "Training epoch 26:   0%|          | 0/90 [00:00<?, ?it/s]"
      ]
     },
     "metadata": {},
     "output_type": "display_data"
    },
    {
     "data": {
      "application/vnd.jupyter.widget-view+json": {
       "model_id": "2a896fb534244359a898c5c4f58da8bd",
       "version_major": 2,
       "version_minor": 0
      },
      "text/plain": [
       "Training epoch 27:   0%|          | 0/90 [00:00<?, ?it/s]"
      ]
     },
     "metadata": {},
     "output_type": "display_data"
    },
    {
     "data": {
      "application/vnd.jupyter.widget-view+json": {
       "model_id": "ead20597e87b4530ad2fb3af8c82aa9e",
       "version_major": 2,
       "version_minor": 0
      },
      "text/plain": [
       "Training epoch 28:   0%|          | 0/90 [00:00<?, ?it/s]"
      ]
     },
     "metadata": {},
     "output_type": "display_data"
    },
    {
     "data": {
      "application/vnd.jupyter.widget-view+json": {
       "model_id": "d6df83faaf094596b4ffe2603016d9fd",
       "version_major": 2,
       "version_minor": 0
      },
      "text/plain": [
       "Training epoch 29:   0%|          | 0/90 [00:00<?, ?it/s]"
      ]
     },
     "metadata": {},
     "output_type": "display_data"
    },
    {
     "data": {
      "application/vnd.jupyter.widget-view+json": {
       "model_id": "43dd765e2bc34f5089bff6228344debb",
       "version_major": 2,
       "version_minor": 0
      },
      "text/plain": [
       "Training epoch 30:   0%|          | 0/90 [00:00<?, ?it/s]"
      ]
     },
     "metadata": {},
     "output_type": "display_data"
    },
    {
     "data": {
      "application/vnd.jupyter.widget-view+json": {
       "model_id": "5ff5aed471924e6c99071e669d4400f6",
       "version_major": 2,
       "version_minor": 0
      },
      "text/plain": [
       "Training epoch 31:   0%|          | 0/90 [00:00<?, ?it/s]"
      ]
     },
     "metadata": {},
     "output_type": "display_data"
    },
    {
     "data": {
      "application/vnd.jupyter.widget-view+json": {
       "model_id": "5f6b494d3d76440a891269c785f30e05",
       "version_major": 2,
       "version_minor": 0
      },
      "text/plain": [
       "Training epoch 32:   0%|          | 0/90 [00:00<?, ?it/s]"
      ]
     },
     "metadata": {},
     "output_type": "display_data"
    },
    {
     "data": {
      "application/vnd.jupyter.widget-view+json": {
       "model_id": "0a071e06a5b9488185f4574d15584d61",
       "version_major": 2,
       "version_minor": 0
      },
      "text/plain": [
       "Training epoch 33:   0%|          | 0/90 [00:00<?, ?it/s]"
      ]
     },
     "metadata": {},
     "output_type": "display_data"
    },
    {
     "data": {
      "application/vnd.jupyter.widget-view+json": {
       "model_id": "30e540ac7ac041e5b55c9bdaed4f4577",
       "version_major": 2,
       "version_minor": 0
      },
      "text/plain": [
       "Training epoch 34:   0%|          | 0/90 [00:00<?, ?it/s]"
      ]
     },
     "metadata": {},
     "output_type": "display_data"
    },
    {
     "data": {
      "application/vnd.jupyter.widget-view+json": {
       "model_id": "17dccd5bc65e448db6e597b045ce538d",
       "version_major": 2,
       "version_minor": 0
      },
      "text/plain": [
       "Training epoch 35:   0%|          | 0/90 [00:00<?, ?it/s]"
      ]
     },
     "metadata": {},
     "output_type": "display_data"
    },
    {
     "data": {
      "application/vnd.jupyter.widget-view+json": {
       "model_id": "6c59870d35a440918c0e3f40d926f18f",
       "version_major": 2,
       "version_minor": 0
      },
      "text/plain": [
       "Training epoch 36:   0%|          | 0/90 [00:00<?, ?it/s]"
      ]
     },
     "metadata": {},
     "output_type": "display_data"
    },
    {
     "data": {
      "application/vnd.jupyter.widget-view+json": {
       "model_id": "bee0d7393af649b0963ad6ef8cc8110c",
       "version_major": 2,
       "version_minor": 0
      },
      "text/plain": [
       "Training epoch 37:   0%|          | 0/90 [00:00<?, ?it/s]"
      ]
     },
     "metadata": {},
     "output_type": "display_data"
    },
    {
     "data": {
      "application/vnd.jupyter.widget-view+json": {
       "model_id": "622ce37175874b29b31d308c1b38f3ab",
       "version_major": 2,
       "version_minor": 0
      },
      "text/plain": [
       "Training epoch 38:   0%|          | 0/90 [00:00<?, ?it/s]"
      ]
     },
     "metadata": {},
     "output_type": "display_data"
    },
    {
     "data": {
      "application/vnd.jupyter.widget-view+json": {
       "model_id": "1c3d40ef18f04cc7891bd4b65a20d315",
       "version_major": 2,
       "version_minor": 0
      },
      "text/plain": [
       "Training epoch 39:   0%|          | 0/90 [00:00<?, ?it/s]"
      ]
     },
     "metadata": {},
     "output_type": "display_data"
    },
    {
     "data": {
      "application/vnd.jupyter.widget-view+json": {
       "model_id": "5ac9eb3415d841bcb8130d174ca20e65",
       "version_major": 2,
       "version_minor": 0
      },
      "text/plain": [
       "Training epoch 40:   0%|          | 0/90 [00:00<?, ?it/s]"
      ]
     },
     "metadata": {},
     "output_type": "display_data"
    },
    {
     "data": {
      "application/vnd.jupyter.widget-view+json": {
       "model_id": "1c5ea5190d294f60acef314182358fb8",
       "version_major": 2,
       "version_minor": 0
      },
      "text/plain": [
       "Training epoch 41:   0%|          | 0/90 [00:00<?, ?it/s]"
      ]
     },
     "metadata": {},
     "output_type": "display_data"
    },
    {
     "data": {
      "application/vnd.jupyter.widget-view+json": {
       "model_id": "e4c94732bb0e42eca596211c2c005c63",
       "version_major": 2,
       "version_minor": 0
      },
      "text/plain": [
       "Training epoch 42:   0%|          | 0/90 [00:00<?, ?it/s]"
      ]
     },
     "metadata": {},
     "output_type": "display_data"
    },
    {
     "data": {
      "application/vnd.jupyter.widget-view+json": {
       "model_id": "04a54663318b4128a643143157580734",
       "version_major": 2,
       "version_minor": 0
      },
      "text/plain": [
       "Training epoch 43:   0%|          | 0/90 [00:00<?, ?it/s]"
      ]
     },
     "metadata": {},
     "output_type": "display_data"
    },
    {
     "data": {
      "application/vnd.jupyter.widget-view+json": {
       "model_id": "be69690522714d9cb4076049fa7af7a5",
       "version_major": 2,
       "version_minor": 0
      },
      "text/plain": [
       "Training epoch 44:   0%|          | 0/90 [00:00<?, ?it/s]"
      ]
     },
     "metadata": {},
     "output_type": "display_data"
    },
    {
     "data": {
      "application/vnd.jupyter.widget-view+json": {
       "model_id": "b1fb5ca0ce5b42cfb637a3a134022d49",
       "version_major": 2,
       "version_minor": 0
      },
      "text/plain": [
       "Training epoch 45:   0%|          | 0/90 [00:00<?, ?it/s]"
      ]
     },
     "metadata": {},
     "output_type": "display_data"
    },
    {
     "data": {
      "application/vnd.jupyter.widget-view+json": {
       "model_id": "19f0bac6016243bf95fb0bac0b180b06",
       "version_major": 2,
       "version_minor": 0
      },
      "text/plain": [
       "Training epoch 46:   0%|          | 0/90 [00:00<?, ?it/s]"
      ]
     },
     "metadata": {},
     "output_type": "display_data"
    },
    {
     "data": {
      "application/vnd.jupyter.widget-view+json": {
       "model_id": "77654a5807ee42f29b4c4417e55b0e9f",
       "version_major": 2,
       "version_minor": 0
      },
      "text/plain": [
       "Training epoch 47:   0%|          | 0/90 [00:00<?, ?it/s]"
      ]
     },
     "metadata": {},
     "output_type": "display_data"
    },
    {
     "data": {
      "application/vnd.jupyter.widget-view+json": {
       "model_id": "9ac3b0bcf599410eb02624d9a4861100",
       "version_major": 2,
       "version_minor": 0
      },
      "text/plain": [
       "Training epoch 48:   0%|          | 0/90 [00:00<?, ?it/s]"
      ]
     },
     "metadata": {},
     "output_type": "display_data"
    },
    {
     "data": {
      "application/vnd.jupyter.widget-view+json": {
       "model_id": "731301c76741491c86edbb5ea2b69b1e",
       "version_major": 2,
       "version_minor": 0
      },
      "text/plain": [
       "Training epoch 49:   0%|          | 0/90 [00:00<?, ?it/s]"
      ]
     },
     "metadata": {},
     "output_type": "display_data"
    },
    {
     "data": {
      "application/vnd.jupyter.widget-view+json": {
       "model_id": "1b7742a363a54fbeac752fcf3a4c8aee",
       "version_major": 2,
       "version_minor": 0
      },
      "text/plain": [
       "Training epoch 50:   0%|          | 0/90 [00:00<?, ?it/s]"
      ]
     },
     "metadata": {},
     "output_type": "display_data"
    },
    {
     "data": {
      "application/vnd.jupyter.widget-view+json": {
       "model_id": "54830fd85c6042cbb7ddcafa44fefe24",
       "version_major": 2,
       "version_minor": 0
      },
      "text/plain": [
       "Training epoch 51:   0%|          | 0/90 [00:00<?, ?it/s]"
      ]
     },
     "metadata": {},
     "output_type": "display_data"
    },
    {
     "data": {
      "application/vnd.jupyter.widget-view+json": {
       "model_id": "bb01067a94c143bb93d5a843739c3e1a",
       "version_major": 2,
       "version_minor": 0
      },
      "text/plain": [
       "Training epoch 52:   0%|          | 0/90 [00:00<?, ?it/s]"
      ]
     },
     "metadata": {},
     "output_type": "display_data"
    },
    {
     "data": {
      "application/vnd.jupyter.widget-view+json": {
       "model_id": "2786233412d74c88a148e983fb01011b",
       "version_major": 2,
       "version_minor": 0
      },
      "text/plain": [
       "Training epoch 53:   0%|          | 0/90 [00:00<?, ?it/s]"
      ]
     },
     "metadata": {},
     "output_type": "display_data"
    },
    {
     "data": {
      "application/vnd.jupyter.widget-view+json": {
       "model_id": "193df9e7f388460fa7a7ce8f5ae658f8",
       "version_major": 2,
       "version_minor": 0
      },
      "text/plain": [
       "Training epoch 54:   0%|          | 0/90 [00:00<?, ?it/s]"
      ]
     },
     "metadata": {},
     "output_type": "display_data"
    },
    {
     "data": {
      "application/vnd.jupyter.widget-view+json": {
       "model_id": "cb2a2b847dbd4adb868cdd27a6a7c72b",
       "version_major": 2,
       "version_minor": 0
      },
      "text/plain": [
       "Training epoch 55:   0%|          | 0/90 [00:00<?, ?it/s]"
      ]
     },
     "metadata": {},
     "output_type": "display_data"
    },
    {
     "data": {
      "application/vnd.jupyter.widget-view+json": {
       "model_id": "218bebbdca144a28bd8533f9a6593810",
       "version_major": 2,
       "version_minor": 0
      },
      "text/plain": [
       "Training epoch 56:   0%|          | 0/90 [00:00<?, ?it/s]"
      ]
     },
     "metadata": {},
     "output_type": "display_data"
    },
    {
     "data": {
      "application/vnd.jupyter.widget-view+json": {
       "model_id": "55efe522368447cca64c81a70e0398c0",
       "version_major": 2,
       "version_minor": 0
      },
      "text/plain": [
       "Training epoch 57:   0%|          | 0/90 [00:00<?, ?it/s]"
      ]
     },
     "metadata": {},
     "output_type": "display_data"
    },
    {
     "data": {
      "application/vnd.jupyter.widget-view+json": {
       "model_id": "4eaa9d01d2534c5c9fdd596c309d39dd",
       "version_major": 2,
       "version_minor": 0
      },
      "text/plain": [
       "Training epoch 58:   0%|          | 0/90 [00:00<?, ?it/s]"
      ]
     },
     "metadata": {},
     "output_type": "display_data"
    },
    {
     "data": {
      "application/vnd.jupyter.widget-view+json": {
       "model_id": "9c1293a4df894598acfe5cd69ba299cc",
       "version_major": 2,
       "version_minor": 0
      },
      "text/plain": [
       "Training epoch 59:   0%|          | 0/90 [00:00<?, ?it/s]"
      ]
     },
     "metadata": {},
     "output_type": "display_data"
    },
    {
     "data": {
      "application/vnd.jupyter.widget-view+json": {
       "model_id": "b5b246fd28494ecdbb4c33c29a7014b7",
       "version_major": 2,
       "version_minor": 0
      },
      "text/plain": [
       "Training epoch 60:   0%|          | 0/90 [00:00<?, ?it/s]"
      ]
     },
     "metadata": {},
     "output_type": "display_data"
    },
    {
     "data": {
      "application/vnd.jupyter.widget-view+json": {
       "model_id": "4cc4faec7153439692ab58f7414bed50",
       "version_major": 2,
       "version_minor": 0
      },
      "text/plain": [
       "Training epoch 61:   0%|          | 0/90 [00:00<?, ?it/s]"
      ]
     },
     "metadata": {},
     "output_type": "display_data"
    },
    {
     "data": {
      "application/vnd.jupyter.widget-view+json": {
       "model_id": "765788e8e63a49b3b135fda04a0de280",
       "version_major": 2,
       "version_minor": 0
      },
      "text/plain": [
       "Training epoch 62:   0%|          | 0/90 [00:00<?, ?it/s]"
      ]
     },
     "metadata": {},
     "output_type": "display_data"
    },
    {
     "data": {
      "application/vnd.jupyter.widget-view+json": {
       "model_id": "0ec9a723a9a24643925965fce5b02c0a",
       "version_major": 2,
       "version_minor": 0
      },
      "text/plain": [
       "Training epoch 63:   0%|          | 0/90 [00:00<?, ?it/s]"
      ]
     },
     "metadata": {},
     "output_type": "display_data"
    },
    {
     "data": {
      "application/vnd.jupyter.widget-view+json": {
       "model_id": "608ee99d413740b4a1fc0fcf2e95db93",
       "version_major": 2,
       "version_minor": 0
      },
      "text/plain": [
       "Training epoch 64:   0%|          | 0/90 [00:00<?, ?it/s]"
      ]
     },
     "metadata": {},
     "output_type": "display_data"
    },
    {
     "data": {
      "application/vnd.jupyter.widget-view+json": {
       "model_id": "9daa087d63054f7eb516315ef9de7015",
       "version_major": 2,
       "version_minor": 0
      },
      "text/plain": [
       "Training epoch 65:   0%|          | 0/90 [00:00<?, ?it/s]"
      ]
     },
     "metadata": {},
     "output_type": "display_data"
    },
    {
     "data": {
      "application/vnd.jupyter.widget-view+json": {
       "model_id": "67377fa58c704d2ea857f457a7f6f8ec",
       "version_major": 2,
       "version_minor": 0
      },
      "text/plain": [
       "Training epoch 66:   0%|          | 0/90 [00:00<?, ?it/s]"
      ]
     },
     "metadata": {},
     "output_type": "display_data"
    },
    {
     "data": {
      "application/vnd.jupyter.widget-view+json": {
       "model_id": "d707d4cee568407ea039a30008245f84",
       "version_major": 2,
       "version_minor": 0
      },
      "text/plain": [
       "Training epoch 67:   0%|          | 0/90 [00:00<?, ?it/s]"
      ]
     },
     "metadata": {},
     "output_type": "display_data"
    },
    {
     "data": {
      "application/vnd.jupyter.widget-view+json": {
       "model_id": "2d2b1c3502084dababa1a1342674f885",
       "version_major": 2,
       "version_minor": 0
      },
      "text/plain": [
       "Training epoch 68:   0%|          | 0/90 [00:00<?, ?it/s]"
      ]
     },
     "metadata": {},
     "output_type": "display_data"
    },
    {
     "data": {
      "application/vnd.jupyter.widget-view+json": {
       "model_id": "93bdaead6ee54fe488bdd0158f368649",
       "version_major": 2,
       "version_minor": 0
      },
      "text/plain": [
       "Training epoch 69:   0%|          | 0/90 [00:00<?, ?it/s]"
      ]
     },
     "metadata": {},
     "output_type": "display_data"
    },
    {
     "data": {
      "application/vnd.jupyter.widget-view+json": {
       "model_id": "bb537a7388314e12a5d548d996db713c",
       "version_major": 2,
       "version_minor": 0
      },
      "text/plain": [
       "Training epoch 70:   0%|          | 0/90 [00:00<?, ?it/s]"
      ]
     },
     "metadata": {},
     "output_type": "display_data"
    },
    {
     "data": {
      "application/vnd.jupyter.widget-view+json": {
       "model_id": "c1db14b081ed488895fd385ec33ab610",
       "version_major": 2,
       "version_minor": 0
      },
      "text/plain": [
       "Training epoch 71:   0%|          | 0/90 [00:00<?, ?it/s]"
      ]
     },
     "metadata": {},
     "output_type": "display_data"
    },
    {
     "data": {
      "application/vnd.jupyter.widget-view+json": {
       "model_id": "639090c108024e92a9ed00ebb6f6224f",
       "version_major": 2,
       "version_minor": 0
      },
      "text/plain": [
       "Training epoch 72:   0%|          | 0/90 [00:00<?, ?it/s]"
      ]
     },
     "metadata": {},
     "output_type": "display_data"
    },
    {
     "data": {
      "application/vnd.jupyter.widget-view+json": {
       "model_id": "64a56ddda26c4e1093941d90f1f6a67b",
       "version_major": 2,
       "version_minor": 0
      },
      "text/plain": [
       "Training epoch 73:   0%|          | 0/90 [00:00<?, ?it/s]"
      ]
     },
     "metadata": {},
     "output_type": "display_data"
    },
    {
     "data": {
      "application/vnd.jupyter.widget-view+json": {
       "model_id": "8d76bc42318d4e37be6f2698db9b7c6b",
       "version_major": 2,
       "version_minor": 0
      },
      "text/plain": [
       "Training epoch 74:   0%|          | 0/90 [00:00<?, ?it/s]"
      ]
     },
     "metadata": {},
     "output_type": "display_data"
    },
    {
     "data": {
      "application/vnd.jupyter.widget-view+json": {
       "model_id": "c5886fc8bc4540aabe6e4919e2b64e5f",
       "version_major": 2,
       "version_minor": 0
      },
      "text/plain": [
       "Training epoch 75:   0%|          | 0/90 [00:00<?, ?it/s]"
      ]
     },
     "metadata": {},
     "output_type": "display_data"
    },
    {
     "data": {
      "application/vnd.jupyter.widget-view+json": {
       "model_id": "bb61314f2d8548d3977f6384ca6f774e",
       "version_major": 2,
       "version_minor": 0
      },
      "text/plain": [
       "Training epoch 76:   0%|          | 0/90 [00:00<?, ?it/s]"
      ]
     },
     "metadata": {},
     "output_type": "display_data"
    },
    {
     "data": {
      "application/vnd.jupyter.widget-view+json": {
       "model_id": "033857a89eba4a4fa90735e65b2d637a",
       "version_major": 2,
       "version_minor": 0
      },
      "text/plain": [
       "Training epoch 77:   0%|          | 0/90 [00:00<?, ?it/s]"
      ]
     },
     "metadata": {},
     "output_type": "display_data"
    },
    {
     "data": {
      "application/vnd.jupyter.widget-view+json": {
       "model_id": "26e324fb1bfc4168908ae75fc54833e2",
       "version_major": 2,
       "version_minor": 0
      },
      "text/plain": [
       "Training epoch 78:   0%|          | 0/90 [00:00<?, ?it/s]"
      ]
     },
     "metadata": {},
     "output_type": "display_data"
    },
    {
     "data": {
      "application/vnd.jupyter.widget-view+json": {
       "model_id": "95d70c69ad024d69851be838de0ddf7d",
       "version_major": 2,
       "version_minor": 0
      },
      "text/plain": [
       "Training epoch 79:   0%|          | 0/90 [00:00<?, ?it/s]"
      ]
     },
     "metadata": {},
     "output_type": "display_data"
    },
    {
     "data": {
      "application/vnd.jupyter.widget-view+json": {
       "model_id": "7973dd8711a946bcbf05599a2d097296",
       "version_major": 2,
       "version_minor": 0
      },
      "text/plain": [
       "Training epoch 80:   0%|          | 0/90 [00:00<?, ?it/s]"
      ]
     },
     "metadata": {},
     "output_type": "display_data"
    },
    {
     "data": {
      "application/vnd.jupyter.widget-view+json": {
       "model_id": "7598975e036d4f46a0582df1877e13a9",
       "version_major": 2,
       "version_minor": 0
      },
      "text/plain": [
       "Training epoch 81:   0%|          | 0/90 [00:00<?, ?it/s]"
      ]
     },
     "metadata": {},
     "output_type": "display_data"
    },
    {
     "data": {
      "application/vnd.jupyter.widget-view+json": {
       "model_id": "d7673b9bd1e74416a4edc971fea20b71",
       "version_major": 2,
       "version_minor": 0
      },
      "text/plain": [
       "Training epoch 82:   0%|          | 0/90 [00:00<?, ?it/s]"
      ]
     },
     "metadata": {},
     "output_type": "display_data"
    },
    {
     "data": {
      "application/vnd.jupyter.widget-view+json": {
       "model_id": "2d9bf42d0d03440996ab058139d12e93",
       "version_major": 2,
       "version_minor": 0
      },
      "text/plain": [
       "Training epoch 83:   0%|          | 0/90 [00:00<?, ?it/s]"
      ]
     },
     "metadata": {},
     "output_type": "display_data"
    },
    {
     "data": {
      "application/vnd.jupyter.widget-view+json": {
       "model_id": "96d068b32d70405a9fba97c17a81bf84",
       "version_major": 2,
       "version_minor": 0
      },
      "text/plain": [
       "Training epoch 84:   0%|          | 0/90 [00:00<?, ?it/s]"
      ]
     },
     "metadata": {},
     "output_type": "display_data"
    },
    {
     "data": {
      "application/vnd.jupyter.widget-view+json": {
       "model_id": "cda6bf8926334766acc25df5aa35a6bd",
       "version_major": 2,
       "version_minor": 0
      },
      "text/plain": [
       "Training epoch 85:   0%|          | 0/90 [00:00<?, ?it/s]"
      ]
     },
     "metadata": {},
     "output_type": "display_data"
    },
    {
     "data": {
      "application/vnd.jupyter.widget-view+json": {
       "model_id": "1aba83919be14871b61c36a2d8ef88d9",
       "version_major": 2,
       "version_minor": 0
      },
      "text/plain": [
       "Training epoch 86:   0%|          | 0/90 [00:00<?, ?it/s]"
      ]
     },
     "metadata": {},
     "output_type": "display_data"
    },
    {
     "data": {
      "application/vnd.jupyter.widget-view+json": {
       "model_id": "b9fbc6443ba8473290c83526a8de73be",
       "version_major": 2,
       "version_minor": 0
      },
      "text/plain": [
       "Training epoch 87:   0%|          | 0/90 [00:00<?, ?it/s]"
      ]
     },
     "metadata": {},
     "output_type": "display_data"
    },
    {
     "data": {
      "application/vnd.jupyter.widget-view+json": {
       "model_id": "3f5024de3429479a85f8f01914eb37ad",
       "version_major": 2,
       "version_minor": 0
      },
      "text/plain": [
       "Training epoch 88:   0%|          | 0/90 [00:00<?, ?it/s]"
      ]
     },
     "metadata": {},
     "output_type": "display_data"
    },
    {
     "data": {
      "application/vnd.jupyter.widget-view+json": {
       "model_id": "3667b665a79e49eba2d87581ffeaf5e2",
       "version_major": 2,
       "version_minor": 0
      },
      "text/plain": [
       "Training epoch 89:   0%|          | 0/90 [00:00<?, ?it/s]"
      ]
     },
     "metadata": {},
     "output_type": "display_data"
    },
    {
     "data": {
      "application/vnd.jupyter.widget-view+json": {
       "model_id": "e4d30e65255343e6a72f2af7bd0ca546",
       "version_major": 2,
       "version_minor": 0
      },
      "text/plain": [
       "Training epoch 90:   0%|          | 0/90 [00:00<?, ?it/s]"
      ]
     },
     "metadata": {},
     "output_type": "display_data"
    },
    {
     "data": {
      "application/vnd.jupyter.widget-view+json": {
       "model_id": "afbbe2e50b294c998f6f911742e41e9c",
       "version_major": 2,
       "version_minor": 0
      },
      "text/plain": [
       "Training epoch 91:   0%|          | 0/90 [00:00<?, ?it/s]"
      ]
     },
     "metadata": {},
     "output_type": "display_data"
    },
    {
     "data": {
      "application/vnd.jupyter.widget-view+json": {
       "model_id": "afcc313f9940492db962814c6734afd9",
       "version_major": 2,
       "version_minor": 0
      },
      "text/plain": [
       "Training epoch 92:   0%|          | 0/90 [00:00<?, ?it/s]"
      ]
     },
     "metadata": {},
     "output_type": "display_data"
    },
    {
     "data": {
      "application/vnd.jupyter.widget-view+json": {
       "model_id": "32a4c0e4b95d464d95cfedcab40f2497",
       "version_major": 2,
       "version_minor": 0
      },
      "text/plain": [
       "Training epoch 93:   0%|          | 0/90 [00:00<?, ?it/s]"
      ]
     },
     "metadata": {},
     "output_type": "display_data"
    },
    {
     "data": {
      "application/vnd.jupyter.widget-view+json": {
       "model_id": "ac6e46efa834488aa298fecd7aa1602e",
       "version_major": 2,
       "version_minor": 0
      },
      "text/plain": [
       "Training epoch 94:   0%|          | 0/90 [00:00<?, ?it/s]"
      ]
     },
     "metadata": {},
     "output_type": "display_data"
    },
    {
     "data": {
      "application/vnd.jupyter.widget-view+json": {
       "model_id": "a4ec5f9da9b949a98e05ec52c6f7c97b",
       "version_major": 2,
       "version_minor": 0
      },
      "text/plain": [
       "Training epoch 95:   0%|          | 0/90 [00:00<?, ?it/s]"
      ]
     },
     "metadata": {},
     "output_type": "display_data"
    },
    {
     "data": {
      "application/vnd.jupyter.widget-view+json": {
       "model_id": "764f509801434ef2ac26d4b2a643fc87",
       "version_major": 2,
       "version_minor": 0
      },
      "text/plain": [
       "Training epoch 96:   0%|          | 0/90 [00:00<?, ?it/s]"
      ]
     },
     "metadata": {},
     "output_type": "display_data"
    },
    {
     "data": {
      "application/vnd.jupyter.widget-view+json": {
       "model_id": "bac2c60b5ecf45e6886f99c102c0875b",
       "version_major": 2,
       "version_minor": 0
      },
      "text/plain": [
       "Training epoch 97:   0%|          | 0/90 [00:00<?, ?it/s]"
      ]
     },
     "metadata": {},
     "output_type": "display_data"
    },
    {
     "data": {
      "application/vnd.jupyter.widget-view+json": {
       "model_id": "8cb2f165f33f46aba4bf37f9c9b341f3",
       "version_major": 2,
       "version_minor": 0
      },
      "text/plain": [
       "Training epoch 98:   0%|          | 0/90 [00:00<?, ?it/s]"
      ]
     },
     "metadata": {},
     "output_type": "display_data"
    },
    {
     "data": {
      "application/vnd.jupyter.widget-view+json": {
       "model_id": "3c7b0301bb904badad02ab52db07eecd",
       "version_major": 2,
       "version_minor": 0
      },
      "text/plain": [
       "Training epoch 99:   0%|          | 0/90 [00:00<?, ?it/s]"
      ]
     },
     "metadata": {},
     "output_type": "display_data"
    },
    {
     "data": {
      "application/vnd.jupyter.widget-view+json": {
       "model_id": "c43f17b60f2f4fe5ba8e530d4c5a23aa",
       "version_major": 2,
       "version_minor": 0
      },
      "text/plain": [
       "Training epoch 100:   0%|          | 0/90 [00:00<?, ?it/s]"
      ]
     },
     "metadata": {},
     "output_type": "display_data"
    },
    {
     "name": "stdout",
     "output_type": "stream",
     "text": [
      "Simulating new 10000 data sets and appending to previous...\n",
      "New total number of simulated data sets: 100000\n",
      "Converting 100000 simulations to a TensorFlow data set...\n"
     ]
    },
    {
     "data": {
      "application/vnd.jupyter.widget-view+json": {
       "model_id": "e910a1dcb64449cabca75cadd7bb4499",
       "version_major": 2,
       "version_minor": 0
      },
      "text/plain": [
       "Training epoch 1:   0%|          | 0/100 [00:00<?, ?it/s]"
      ]
     },
     "metadata": {},
     "output_type": "display_data"
    },
    {
     "data": {
      "application/vnd.jupyter.widget-view+json": {
       "model_id": "65129cec13e44582a75cfa187e5fc691",
       "version_major": 2,
       "version_minor": 0
      },
      "text/plain": [
       "Training epoch 2:   0%|          | 0/100 [00:00<?, ?it/s]"
      ]
     },
     "metadata": {},
     "output_type": "display_data"
    },
    {
     "data": {
      "application/vnd.jupyter.widget-view+json": {
       "model_id": "ea4f53327932449c8e5dee02863c582f",
       "version_major": 2,
       "version_minor": 0
      },
      "text/plain": [
       "Training epoch 3:   0%|          | 0/100 [00:00<?, ?it/s]"
      ]
     },
     "metadata": {},
     "output_type": "display_data"
    },
    {
     "data": {
      "application/vnd.jupyter.widget-view+json": {
       "model_id": "a113bf3ab0b74b3fb2068eebe9a4ff21",
       "version_major": 2,
       "version_minor": 0
      },
      "text/plain": [
       "Training epoch 4:   0%|          | 0/100 [00:00<?, ?it/s]"
      ]
     },
     "metadata": {},
     "output_type": "display_data"
    },
    {
     "data": {
      "application/vnd.jupyter.widget-view+json": {
       "model_id": "2ac5bc8198664b2cbf4500aac1a4b0d5",
       "version_major": 2,
       "version_minor": 0
      },
      "text/plain": [
       "Training epoch 5:   0%|          | 0/100 [00:00<?, ?it/s]"
      ]
     },
     "metadata": {},
     "output_type": "display_data"
    },
    {
     "data": {
      "application/vnd.jupyter.widget-view+json": {
       "model_id": "8dc5085be1a247b0ba9b2057c8213151",
       "version_major": 2,
       "version_minor": 0
      },
      "text/plain": [
       "Training epoch 6:   0%|          | 0/100 [00:00<?, ?it/s]"
      ]
     },
     "metadata": {},
     "output_type": "display_data"
    },
    {
     "data": {
      "application/vnd.jupyter.widget-view+json": {
       "model_id": "7ac663c198a74186af8863ae16cf76ba",
       "version_major": 2,
       "version_minor": 0
      },
      "text/plain": [
       "Training epoch 7:   0%|          | 0/100 [00:00<?, ?it/s]"
      ]
     },
     "metadata": {},
     "output_type": "display_data"
    },
    {
     "data": {
      "application/vnd.jupyter.widget-view+json": {
       "model_id": "1bdf804c7cd34dc9a74818943156d404",
       "version_major": 2,
       "version_minor": 0
      },
      "text/plain": [
       "Training epoch 8:   0%|          | 0/100 [00:00<?, ?it/s]"
      ]
     },
     "metadata": {},
     "output_type": "display_data"
    },
    {
     "data": {
      "application/vnd.jupyter.widget-view+json": {
       "model_id": "3e60c3de37a24ef1a1b2d97604633390",
       "version_major": 2,
       "version_minor": 0
      },
      "text/plain": [
       "Training epoch 9:   0%|          | 0/100 [00:00<?, ?it/s]"
      ]
     },
     "metadata": {},
     "output_type": "display_data"
    },
    {
     "data": {
      "application/vnd.jupyter.widget-view+json": {
       "model_id": "1229a736e0fd47ac8d81b872245537c9",
       "version_major": 2,
       "version_minor": 0
      },
      "text/plain": [
       "Training epoch 10:   0%|          | 0/100 [00:00<?, ?it/s]"
      ]
     },
     "metadata": {},
     "output_type": "display_data"
    },
    {
     "data": {
      "application/vnd.jupyter.widget-view+json": {
       "model_id": "74fdcd93503a4f4a82073b4c2b7c7048",
       "version_major": 2,
       "version_minor": 0
      },
      "text/plain": [
       "Training epoch 11:   0%|          | 0/100 [00:00<?, ?it/s]"
      ]
     },
     "metadata": {},
     "output_type": "display_data"
    },
    {
     "data": {
      "application/vnd.jupyter.widget-view+json": {
       "model_id": "efb984b1762948c19b32fd33c3e23c64",
       "version_major": 2,
       "version_minor": 0
      },
      "text/plain": [
       "Training epoch 12:   0%|          | 0/100 [00:00<?, ?it/s]"
      ]
     },
     "metadata": {},
     "output_type": "display_data"
    },
    {
     "data": {
      "application/vnd.jupyter.widget-view+json": {
       "model_id": "3a7146a6eb814e7c987b70697cf3b556",
       "version_major": 2,
       "version_minor": 0
      },
      "text/plain": [
       "Training epoch 13:   0%|          | 0/100 [00:00<?, ?it/s]"
      ]
     },
     "metadata": {},
     "output_type": "display_data"
    },
    {
     "data": {
      "application/vnd.jupyter.widget-view+json": {
       "model_id": "bd0b187df35e43afa17fd3c409b3b30a",
       "version_major": 2,
       "version_minor": 0
      },
      "text/plain": [
       "Training epoch 14:   0%|          | 0/100 [00:00<?, ?it/s]"
      ]
     },
     "metadata": {},
     "output_type": "display_data"
    },
    {
     "data": {
      "application/vnd.jupyter.widget-view+json": {
       "model_id": "7fdcf2c2280a4db19b398e96ae96cc76",
       "version_major": 2,
       "version_minor": 0
      },
      "text/plain": [
       "Training epoch 15:   0%|          | 0/100 [00:00<?, ?it/s]"
      ]
     },
     "metadata": {},
     "output_type": "display_data"
    },
    {
     "data": {
      "application/vnd.jupyter.widget-view+json": {
       "model_id": "8659a2ee9ad74ed58c18055afc840f30",
       "version_major": 2,
       "version_minor": 0
      },
      "text/plain": [
       "Training epoch 16:   0%|          | 0/100 [00:00<?, ?it/s]"
      ]
     },
     "metadata": {},
     "output_type": "display_data"
    },
    {
     "data": {
      "application/vnd.jupyter.widget-view+json": {
       "model_id": "33af98a31e104976b7e78c9197e3b554",
       "version_major": 2,
       "version_minor": 0
      },
      "text/plain": [
       "Training epoch 17:   0%|          | 0/100 [00:00<?, ?it/s]"
      ]
     },
     "metadata": {},
     "output_type": "display_data"
    },
    {
     "data": {
      "application/vnd.jupyter.widget-view+json": {
       "model_id": "b06863726fc440589629af46f70d128b",
       "version_major": 2,
       "version_minor": 0
      },
      "text/plain": [
       "Training epoch 18:   0%|          | 0/100 [00:00<?, ?it/s]"
      ]
     },
     "metadata": {},
     "output_type": "display_data"
    },
    {
     "data": {
      "application/vnd.jupyter.widget-view+json": {
       "model_id": "1d29a68fca6d429082f813dd3863a34f",
       "version_major": 2,
       "version_minor": 0
      },
      "text/plain": [
       "Training epoch 19:   0%|          | 0/100 [00:00<?, ?it/s]"
      ]
     },
     "metadata": {},
     "output_type": "display_data"
    },
    {
     "data": {
      "application/vnd.jupyter.widget-view+json": {
       "model_id": "da9ce37e06e2412eb73568b61cac82f4",
       "version_major": 2,
       "version_minor": 0
      },
      "text/plain": [
       "Training epoch 20:   0%|          | 0/100 [00:00<?, ?it/s]"
      ]
     },
     "metadata": {},
     "output_type": "display_data"
    },
    {
     "data": {
      "application/vnd.jupyter.widget-view+json": {
       "model_id": "5ea3e0036e7549279032f45918749f65",
       "version_major": 2,
       "version_minor": 0
      },
      "text/plain": [
       "Training epoch 21:   0%|          | 0/100 [00:00<?, ?it/s]"
      ]
     },
     "metadata": {},
     "output_type": "display_data"
    },
    {
     "data": {
      "application/vnd.jupyter.widget-view+json": {
       "model_id": "ad9e4deb8f3b4311b2de0d8b2e67ef66",
       "version_major": 2,
       "version_minor": 0
      },
      "text/plain": [
       "Training epoch 22:   0%|          | 0/100 [00:00<?, ?it/s]"
      ]
     },
     "metadata": {},
     "output_type": "display_data"
    },
    {
     "data": {
      "application/vnd.jupyter.widget-view+json": {
       "model_id": "be980189bd234afd97c0d53a7f8b617b",
       "version_major": 2,
       "version_minor": 0
      },
      "text/plain": [
       "Training epoch 23:   0%|          | 0/100 [00:00<?, ?it/s]"
      ]
     },
     "metadata": {},
     "output_type": "display_data"
    },
    {
     "data": {
      "application/vnd.jupyter.widget-view+json": {
       "model_id": "0e0f01b6493f4121be9ee14c25904679",
       "version_major": 2,
       "version_minor": 0
      },
      "text/plain": [
       "Training epoch 24:   0%|          | 0/100 [00:00<?, ?it/s]"
      ]
     },
     "metadata": {},
     "output_type": "display_data"
    },
    {
     "data": {
      "application/vnd.jupyter.widget-view+json": {
       "model_id": "b9fd1b438ad74b0bba0b8a0b0dc18c54",
       "version_major": 2,
       "version_minor": 0
      },
      "text/plain": [
       "Training epoch 25:   0%|          | 0/100 [00:00<?, ?it/s]"
      ]
     },
     "metadata": {},
     "output_type": "display_data"
    },
    {
     "data": {
      "application/vnd.jupyter.widget-view+json": {
       "model_id": "e105f81239994f06b9509722ef8e4001",
       "version_major": 2,
       "version_minor": 0
      },
      "text/plain": [
       "Training epoch 26:   0%|          | 0/100 [00:00<?, ?it/s]"
      ]
     },
     "metadata": {},
     "output_type": "display_data"
    },
    {
     "data": {
      "application/vnd.jupyter.widget-view+json": {
       "model_id": "cd68bcbabec4408fbd0702ba741c0011",
       "version_major": 2,
       "version_minor": 0
      },
      "text/plain": [
       "Training epoch 27:   0%|          | 0/100 [00:00<?, ?it/s]"
      ]
     },
     "metadata": {},
     "output_type": "display_data"
    },
    {
     "data": {
      "application/vnd.jupyter.widget-view+json": {
       "model_id": "04f4f4bb695941ba89486692dda76247",
       "version_major": 2,
       "version_minor": 0
      },
      "text/plain": [
       "Training epoch 28:   0%|          | 0/100 [00:00<?, ?it/s]"
      ]
     },
     "metadata": {},
     "output_type": "display_data"
    },
    {
     "data": {
      "application/vnd.jupyter.widget-view+json": {
       "model_id": "18b01b0374324da2b06fc9a589e6f989",
       "version_major": 2,
       "version_minor": 0
      },
      "text/plain": [
       "Training epoch 29:   0%|          | 0/100 [00:00<?, ?it/s]"
      ]
     },
     "metadata": {},
     "output_type": "display_data"
    },
    {
     "data": {
      "application/vnd.jupyter.widget-view+json": {
       "model_id": "840010747c114e00afa0dd80dbc65bdd",
       "version_major": 2,
       "version_minor": 0
      },
      "text/plain": [
       "Training epoch 30:   0%|          | 0/100 [00:00<?, ?it/s]"
      ]
     },
     "metadata": {},
     "output_type": "display_data"
    },
    {
     "data": {
      "application/vnd.jupyter.widget-view+json": {
       "model_id": "06987961e66d44069cbfad509878cf3e",
       "version_major": 2,
       "version_minor": 0
      },
      "text/plain": [
       "Training epoch 31:   0%|          | 0/100 [00:00<?, ?it/s]"
      ]
     },
     "metadata": {},
     "output_type": "display_data"
    },
    {
     "data": {
      "application/vnd.jupyter.widget-view+json": {
       "model_id": "67ccc3965f474d6d8cdd5f8786904f1a",
       "version_major": 2,
       "version_minor": 0
      },
      "text/plain": [
       "Training epoch 32:   0%|          | 0/100 [00:00<?, ?it/s]"
      ]
     },
     "metadata": {},
     "output_type": "display_data"
    },
    {
     "data": {
      "application/vnd.jupyter.widget-view+json": {
       "model_id": "15e21ab58b124138a8518dbf344b0e29",
       "version_major": 2,
       "version_minor": 0
      },
      "text/plain": [
       "Training epoch 33:   0%|          | 0/100 [00:00<?, ?it/s]"
      ]
     },
     "metadata": {},
     "output_type": "display_data"
    },
    {
     "data": {
      "application/vnd.jupyter.widget-view+json": {
       "model_id": "65814b7fe19f4652a4cc40c648561131",
       "version_major": 2,
       "version_minor": 0
      },
      "text/plain": [
       "Training epoch 34:   0%|          | 0/100 [00:00<?, ?it/s]"
      ]
     },
     "metadata": {},
     "output_type": "display_data"
    },
    {
     "data": {
      "application/vnd.jupyter.widget-view+json": {
       "model_id": "e9eb9e99ccc9439f9954c79da86c67bc",
       "version_major": 2,
       "version_minor": 0
      },
      "text/plain": [
       "Training epoch 35:   0%|          | 0/100 [00:00<?, ?it/s]"
      ]
     },
     "metadata": {},
     "output_type": "display_data"
    },
    {
     "data": {
      "application/vnd.jupyter.widget-view+json": {
       "model_id": "48fd14aa8be4449ab059cd282fca30df",
       "version_major": 2,
       "version_minor": 0
      },
      "text/plain": [
       "Training epoch 36:   0%|          | 0/100 [00:00<?, ?it/s]"
      ]
     },
     "metadata": {},
     "output_type": "display_data"
    },
    {
     "data": {
      "application/vnd.jupyter.widget-view+json": {
       "model_id": "d659f9b3c2c2453999900a8d808d5333",
       "version_major": 2,
       "version_minor": 0
      },
      "text/plain": [
       "Training epoch 37:   0%|          | 0/100 [00:00<?, ?it/s]"
      ]
     },
     "metadata": {},
     "output_type": "display_data"
    },
    {
     "data": {
      "application/vnd.jupyter.widget-view+json": {
       "model_id": "c338495c6fdf4067bc9d51309d966aa8",
       "version_major": 2,
       "version_minor": 0
      },
      "text/plain": [
       "Training epoch 38:   0%|          | 0/100 [00:00<?, ?it/s]"
      ]
     },
     "metadata": {},
     "output_type": "display_data"
    },
    {
     "data": {
      "application/vnd.jupyter.widget-view+json": {
       "model_id": "08bebad9858f42029dfc8fe2162361e2",
       "version_major": 2,
       "version_minor": 0
      },
      "text/plain": [
       "Training epoch 39:   0%|          | 0/100 [00:00<?, ?it/s]"
      ]
     },
     "metadata": {},
     "output_type": "display_data"
    },
    {
     "data": {
      "application/vnd.jupyter.widget-view+json": {
       "model_id": "bb3ef9c35dbc4ebba7ef44514d1a6025",
       "version_major": 2,
       "version_minor": 0
      },
      "text/plain": [
       "Training epoch 40:   0%|          | 0/100 [00:00<?, ?it/s]"
      ]
     },
     "metadata": {},
     "output_type": "display_data"
    },
    {
     "data": {
      "application/vnd.jupyter.widget-view+json": {
       "model_id": "3952cbccf347444f822d91e5e9601885",
       "version_major": 2,
       "version_minor": 0
      },
      "text/plain": [
       "Training epoch 41:   0%|          | 0/100 [00:00<?, ?it/s]"
      ]
     },
     "metadata": {},
     "output_type": "display_data"
    },
    {
     "data": {
      "application/vnd.jupyter.widget-view+json": {
       "model_id": "34b7d323d81147e8b92ed8f497e1b254",
       "version_major": 2,
       "version_minor": 0
      },
      "text/plain": [
       "Training epoch 42:   0%|          | 0/100 [00:00<?, ?it/s]"
      ]
     },
     "metadata": {},
     "output_type": "display_data"
    },
    {
     "data": {
      "application/vnd.jupyter.widget-view+json": {
       "model_id": "9c2f1e278b72495380c42208dc73d43a",
       "version_major": 2,
       "version_minor": 0
      },
      "text/plain": [
       "Training epoch 43:   0%|          | 0/100 [00:00<?, ?it/s]"
      ]
     },
     "metadata": {},
     "output_type": "display_data"
    },
    {
     "data": {
      "application/vnd.jupyter.widget-view+json": {
       "model_id": "a046e89a02d44406b2c6e583c577979f",
       "version_major": 2,
       "version_minor": 0
      },
      "text/plain": [
       "Training epoch 44:   0%|          | 0/100 [00:00<?, ?it/s]"
      ]
     },
     "metadata": {},
     "output_type": "display_data"
    },
    {
     "data": {
      "application/vnd.jupyter.widget-view+json": {
       "model_id": "6110182f93e14ebaa5f37d169f79d264",
       "version_major": 2,
       "version_minor": 0
      },
      "text/plain": [
       "Training epoch 45:   0%|          | 0/100 [00:00<?, ?it/s]"
      ]
     },
     "metadata": {},
     "output_type": "display_data"
    },
    {
     "data": {
      "application/vnd.jupyter.widget-view+json": {
       "model_id": "59d59b92c21d47bdbf5c0937d9b3ff27",
       "version_major": 2,
       "version_minor": 0
      },
      "text/plain": [
       "Training epoch 46:   0%|          | 0/100 [00:00<?, ?it/s]"
      ]
     },
     "metadata": {},
     "output_type": "display_data"
    },
    {
     "data": {
      "application/vnd.jupyter.widget-view+json": {
       "model_id": "a5df36616b7340f2a548d3f900133c0a",
       "version_major": 2,
       "version_minor": 0
      },
      "text/plain": [
       "Training epoch 47:   0%|          | 0/100 [00:00<?, ?it/s]"
      ]
     },
     "metadata": {},
     "output_type": "display_data"
    },
    {
     "data": {
      "application/vnd.jupyter.widget-view+json": {
       "model_id": "f12fc88db48344398221b75b815c2747",
       "version_major": 2,
       "version_minor": 0
      },
      "text/plain": [
       "Training epoch 48:   0%|          | 0/100 [00:00<?, ?it/s]"
      ]
     },
     "metadata": {},
     "output_type": "display_data"
    },
    {
     "data": {
      "application/vnd.jupyter.widget-view+json": {
       "model_id": "f6fbd66a54ee427cbaf28e88c25d7fd2",
       "version_major": 2,
       "version_minor": 0
      },
      "text/plain": [
       "Training epoch 49:   0%|          | 0/100 [00:00<?, ?it/s]"
      ]
     },
     "metadata": {},
     "output_type": "display_data"
    },
    {
     "data": {
      "application/vnd.jupyter.widget-view+json": {
       "model_id": "1cc9977d61dd487b9f74b4d47ce979b3",
       "version_major": 2,
       "version_minor": 0
      },
      "text/plain": [
       "Training epoch 50:   0%|          | 0/100 [00:00<?, ?it/s]"
      ]
     },
     "metadata": {},
     "output_type": "display_data"
    },
    {
     "data": {
      "application/vnd.jupyter.widget-view+json": {
       "model_id": "a2fff1e38a1b40abbb2cb81e96569325",
       "version_major": 2,
       "version_minor": 0
      },
      "text/plain": [
       "Training epoch 51:   0%|          | 0/100 [00:00<?, ?it/s]"
      ]
     },
     "metadata": {},
     "output_type": "display_data"
    },
    {
     "data": {
      "application/vnd.jupyter.widget-view+json": {
       "model_id": "fdd83cf00c624f7c8e7ee1c0ba0ac85a",
       "version_major": 2,
       "version_minor": 0
      },
      "text/plain": [
       "Training epoch 52:   0%|          | 0/100 [00:00<?, ?it/s]"
      ]
     },
     "metadata": {},
     "output_type": "display_data"
    },
    {
     "data": {
      "application/vnd.jupyter.widget-view+json": {
       "model_id": "339da89cdc944aa1ad7943793e2b1c81",
       "version_major": 2,
       "version_minor": 0
      },
      "text/plain": [
       "Training epoch 53:   0%|          | 0/100 [00:00<?, ?it/s]"
      ]
     },
     "metadata": {},
     "output_type": "display_data"
    },
    {
     "data": {
      "application/vnd.jupyter.widget-view+json": {
       "model_id": "1aff78d13c7740049814aae67d6f215d",
       "version_major": 2,
       "version_minor": 0
      },
      "text/plain": [
       "Training epoch 54:   0%|          | 0/100 [00:00<?, ?it/s]"
      ]
     },
     "metadata": {},
     "output_type": "display_data"
    },
    {
     "data": {
      "application/vnd.jupyter.widget-view+json": {
       "model_id": "8cb447bf831441daa456e6c42acaeaca",
       "version_major": 2,
       "version_minor": 0
      },
      "text/plain": [
       "Training epoch 55:   0%|          | 0/100 [00:00<?, ?it/s]"
      ]
     },
     "metadata": {},
     "output_type": "display_data"
    },
    {
     "data": {
      "application/vnd.jupyter.widget-view+json": {
       "model_id": "2d5c7ef0b2ba4b3bb580bd66ad81bd6b",
       "version_major": 2,
       "version_minor": 0
      },
      "text/plain": [
       "Training epoch 56:   0%|          | 0/100 [00:00<?, ?it/s]"
      ]
     },
     "metadata": {},
     "output_type": "display_data"
    },
    {
     "data": {
      "application/vnd.jupyter.widget-view+json": {
       "model_id": "92092976d415463b83f65a8efa417d1a",
       "version_major": 2,
       "version_minor": 0
      },
      "text/plain": [
       "Training epoch 57:   0%|          | 0/100 [00:00<?, ?it/s]"
      ]
     },
     "metadata": {},
     "output_type": "display_data"
    },
    {
     "data": {
      "application/vnd.jupyter.widget-view+json": {
       "model_id": "9e1d7589e17d4c48b62dd22002b94881",
       "version_major": 2,
       "version_minor": 0
      },
      "text/plain": [
       "Training epoch 58:   0%|          | 0/100 [00:00<?, ?it/s]"
      ]
     },
     "metadata": {},
     "output_type": "display_data"
    },
    {
     "data": {
      "application/vnd.jupyter.widget-view+json": {
       "model_id": "c654068a3a254dcea319f681d5c1f54b",
       "version_major": 2,
       "version_minor": 0
      },
      "text/plain": [
       "Training epoch 59:   0%|          | 0/100 [00:00<?, ?it/s]"
      ]
     },
     "metadata": {},
     "output_type": "display_data"
    },
    {
     "data": {
      "application/vnd.jupyter.widget-view+json": {
       "model_id": "645761dbcbe24e18904aa107fefeab96",
       "version_major": 2,
       "version_minor": 0
      },
      "text/plain": [
       "Training epoch 60:   0%|          | 0/100 [00:00<?, ?it/s]"
      ]
     },
     "metadata": {},
     "output_type": "display_data"
    },
    {
     "data": {
      "application/vnd.jupyter.widget-view+json": {
       "model_id": "447472cc2ace41c6b49549c5b0dd5530",
       "version_major": 2,
       "version_minor": 0
      },
      "text/plain": [
       "Training epoch 61:   0%|          | 0/100 [00:00<?, ?it/s]"
      ]
     },
     "metadata": {},
     "output_type": "display_data"
    },
    {
     "data": {
      "application/vnd.jupyter.widget-view+json": {
       "model_id": "7a76a9e060e446178f978ad75ebbee4f",
       "version_major": 2,
       "version_minor": 0
      },
      "text/plain": [
       "Training epoch 62:   0%|          | 0/100 [00:00<?, ?it/s]"
      ]
     },
     "metadata": {},
     "output_type": "display_data"
    },
    {
     "data": {
      "application/vnd.jupyter.widget-view+json": {
       "model_id": "a2f8fc4b363041cc961a51b0484a693f",
       "version_major": 2,
       "version_minor": 0
      },
      "text/plain": [
       "Training epoch 63:   0%|          | 0/100 [00:00<?, ?it/s]"
      ]
     },
     "metadata": {},
     "output_type": "display_data"
    },
    {
     "data": {
      "application/vnd.jupyter.widget-view+json": {
       "model_id": "b6623f2572a542b19be44295998878fa",
       "version_major": 2,
       "version_minor": 0
      },
      "text/plain": [
       "Training epoch 64:   0%|          | 0/100 [00:00<?, ?it/s]"
      ]
     },
     "metadata": {},
     "output_type": "display_data"
    },
    {
     "data": {
      "application/vnd.jupyter.widget-view+json": {
       "model_id": "223fff7507a745d092eea3f9351cb72c",
       "version_major": 2,
       "version_minor": 0
      },
      "text/plain": [
       "Training epoch 65:   0%|          | 0/100 [00:00<?, ?it/s]"
      ]
     },
     "metadata": {},
     "output_type": "display_data"
    },
    {
     "data": {
      "application/vnd.jupyter.widget-view+json": {
       "model_id": "64b96d7b2f7d4703ac3113858adecbd7",
       "version_major": 2,
       "version_minor": 0
      },
      "text/plain": [
       "Training epoch 66:   0%|          | 0/100 [00:00<?, ?it/s]"
      ]
     },
     "metadata": {},
     "output_type": "display_data"
    },
    {
     "data": {
      "application/vnd.jupyter.widget-view+json": {
       "model_id": "a235c11af2834dc8bd831d51bb475346",
       "version_major": 2,
       "version_minor": 0
      },
      "text/plain": [
       "Training epoch 67:   0%|          | 0/100 [00:00<?, ?it/s]"
      ]
     },
     "metadata": {},
     "output_type": "display_data"
    },
    {
     "data": {
      "application/vnd.jupyter.widget-view+json": {
       "model_id": "a0977c52b15942e3a53b0654fdafb688",
       "version_major": 2,
       "version_minor": 0
      },
      "text/plain": [
       "Training epoch 68:   0%|          | 0/100 [00:00<?, ?it/s]"
      ]
     },
     "metadata": {},
     "output_type": "display_data"
    },
    {
     "data": {
      "application/vnd.jupyter.widget-view+json": {
       "model_id": "4773b8cdc6de4379962e4fe9704adfd5",
       "version_major": 2,
       "version_minor": 0
      },
      "text/plain": [
       "Training epoch 69:   0%|          | 0/100 [00:00<?, ?it/s]"
      ]
     },
     "metadata": {},
     "output_type": "display_data"
    },
    {
     "data": {
      "application/vnd.jupyter.widget-view+json": {
       "model_id": "432570f0e1324a8d930c4886c231ad49",
       "version_major": 2,
       "version_minor": 0
      },
      "text/plain": [
       "Training epoch 70:   0%|          | 0/100 [00:00<?, ?it/s]"
      ]
     },
     "metadata": {},
     "output_type": "display_data"
    },
    {
     "data": {
      "application/vnd.jupyter.widget-view+json": {
       "model_id": "1f2584782b334fd4bc0d5a84254a4ca8",
       "version_major": 2,
       "version_minor": 0
      },
      "text/plain": [
       "Training epoch 71:   0%|          | 0/100 [00:00<?, ?it/s]"
      ]
     },
     "metadata": {},
     "output_type": "display_data"
    },
    {
     "data": {
      "application/vnd.jupyter.widget-view+json": {
       "model_id": "27882d35ee194b09a5608a428d95c2fe",
       "version_major": 2,
       "version_minor": 0
      },
      "text/plain": [
       "Training epoch 72:   0%|          | 0/100 [00:00<?, ?it/s]"
      ]
     },
     "metadata": {},
     "output_type": "display_data"
    },
    {
     "data": {
      "application/vnd.jupyter.widget-view+json": {
       "model_id": "cec7006c5900406095ea2b4258bbef99",
       "version_major": 2,
       "version_minor": 0
      },
      "text/plain": [
       "Training epoch 73:   0%|          | 0/100 [00:00<?, ?it/s]"
      ]
     },
     "metadata": {},
     "output_type": "display_data"
    },
    {
     "data": {
      "application/vnd.jupyter.widget-view+json": {
       "model_id": "7612e9b739144128982ce6a2dde40e5f",
       "version_major": 2,
       "version_minor": 0
      },
      "text/plain": [
       "Training epoch 74:   0%|          | 0/100 [00:00<?, ?it/s]"
      ]
     },
     "metadata": {},
     "output_type": "display_data"
    },
    {
     "data": {
      "application/vnd.jupyter.widget-view+json": {
       "model_id": "978fca416a5c4b839aeeb7fa5bacf76d",
       "version_major": 2,
       "version_minor": 0
      },
      "text/plain": [
       "Training epoch 75:   0%|          | 0/100 [00:00<?, ?it/s]"
      ]
     },
     "metadata": {},
     "output_type": "display_data"
    },
    {
     "data": {
      "application/vnd.jupyter.widget-view+json": {
       "model_id": "5edb6009437040b4ac43afab179e7adf",
       "version_major": 2,
       "version_minor": 0
      },
      "text/plain": [
       "Training epoch 76:   0%|          | 0/100 [00:00<?, ?it/s]"
      ]
     },
     "metadata": {},
     "output_type": "display_data"
    },
    {
     "data": {
      "application/vnd.jupyter.widget-view+json": {
       "model_id": "fcf7b95ca15d423086c4eef360e25c01",
       "version_major": 2,
       "version_minor": 0
      },
      "text/plain": [
       "Training epoch 77:   0%|          | 0/100 [00:00<?, ?it/s]"
      ]
     },
     "metadata": {},
     "output_type": "display_data"
    },
    {
     "data": {
      "application/vnd.jupyter.widget-view+json": {
       "model_id": "5d08da6dd04a4903968102b181b67fd1",
       "version_major": 2,
       "version_minor": 0
      },
      "text/plain": [
       "Training epoch 78:   0%|          | 0/100 [00:00<?, ?it/s]"
      ]
     },
     "metadata": {},
     "output_type": "display_data"
    },
    {
     "data": {
      "application/vnd.jupyter.widget-view+json": {
       "model_id": "23fdde81a3134c09b7ec70ba3f87c91c",
       "version_major": 2,
       "version_minor": 0
      },
      "text/plain": [
       "Training epoch 79:   0%|          | 0/100 [00:00<?, ?it/s]"
      ]
     },
     "metadata": {},
     "output_type": "display_data"
    },
    {
     "data": {
      "application/vnd.jupyter.widget-view+json": {
       "model_id": "695e2366f93044b9b7982c5d334a5f0a",
       "version_major": 2,
       "version_minor": 0
      },
      "text/plain": [
       "Training epoch 80:   0%|          | 0/100 [00:00<?, ?it/s]"
      ]
     },
     "metadata": {},
     "output_type": "display_data"
    },
    {
     "data": {
      "application/vnd.jupyter.widget-view+json": {
       "model_id": "101a6ec7354e450db7632c8b59dea612",
       "version_major": 2,
       "version_minor": 0
      },
      "text/plain": [
       "Training epoch 81:   0%|          | 0/100 [00:00<?, ?it/s]"
      ]
     },
     "metadata": {},
     "output_type": "display_data"
    },
    {
     "data": {
      "application/vnd.jupyter.widget-view+json": {
       "model_id": "411fd43cedb34ed3a850945b1944980b",
       "version_major": 2,
       "version_minor": 0
      },
      "text/plain": [
       "Training epoch 82:   0%|          | 0/100 [00:00<?, ?it/s]"
      ]
     },
     "metadata": {},
     "output_type": "display_data"
    },
    {
     "data": {
      "application/vnd.jupyter.widget-view+json": {
       "model_id": "2350e893e43045608a2d5e10ce0fdedc",
       "version_major": 2,
       "version_minor": 0
      },
      "text/plain": [
       "Training epoch 83:   0%|          | 0/100 [00:00<?, ?it/s]"
      ]
     },
     "metadata": {},
     "output_type": "display_data"
    },
    {
     "data": {
      "application/vnd.jupyter.widget-view+json": {
       "model_id": "39bde5feddc94b1f97bc318eb9a397de",
       "version_major": 2,
       "version_minor": 0
      },
      "text/plain": [
       "Training epoch 84:   0%|          | 0/100 [00:00<?, ?it/s]"
      ]
     },
     "metadata": {},
     "output_type": "display_data"
    },
    {
     "data": {
      "application/vnd.jupyter.widget-view+json": {
       "model_id": "868c817e9e844ef2be02605f9dd00cb7",
       "version_major": 2,
       "version_minor": 0
      },
      "text/plain": [
       "Training epoch 85:   0%|          | 0/100 [00:00<?, ?it/s]"
      ]
     },
     "metadata": {},
     "output_type": "display_data"
    },
    {
     "data": {
      "application/vnd.jupyter.widget-view+json": {
       "model_id": "85e98ab3634e4e4485fae305f1355917",
       "version_major": 2,
       "version_minor": 0
      },
      "text/plain": [
       "Training epoch 86:   0%|          | 0/100 [00:00<?, ?it/s]"
      ]
     },
     "metadata": {},
     "output_type": "display_data"
    },
    {
     "data": {
      "application/vnd.jupyter.widget-view+json": {
       "model_id": "6c9f7e2380644805a0dbc43678df1647",
       "version_major": 2,
       "version_minor": 0
      },
      "text/plain": [
       "Training epoch 87:   0%|          | 0/100 [00:00<?, ?it/s]"
      ]
     },
     "metadata": {},
     "output_type": "display_data"
    },
    {
     "data": {
      "application/vnd.jupyter.widget-view+json": {
       "model_id": "36117ea5261a4e8bbf999b3d6d39dc14",
       "version_major": 2,
       "version_minor": 0
      },
      "text/plain": [
       "Training epoch 88:   0%|          | 0/100 [00:00<?, ?it/s]"
      ]
     },
     "metadata": {},
     "output_type": "display_data"
    },
    {
     "data": {
      "application/vnd.jupyter.widget-view+json": {
       "model_id": "24beb730232242538eb377c12031126c",
       "version_major": 2,
       "version_minor": 0
      },
      "text/plain": [
       "Training epoch 89:   0%|          | 0/100 [00:00<?, ?it/s]"
      ]
     },
     "metadata": {},
     "output_type": "display_data"
    },
    {
     "data": {
      "application/vnd.jupyter.widget-view+json": {
       "model_id": "222e19f6e3a1490097ad75b4ac5f7e5f",
       "version_major": 2,
       "version_minor": 0
      },
      "text/plain": [
       "Training epoch 90:   0%|          | 0/100 [00:00<?, ?it/s]"
      ]
     },
     "metadata": {},
     "output_type": "display_data"
    },
    {
     "data": {
      "application/vnd.jupyter.widget-view+json": {
       "model_id": "75378112a2c14b5e8a371ebea91ac31c",
       "version_major": 2,
       "version_minor": 0
      },
      "text/plain": [
       "Training epoch 91:   0%|          | 0/100 [00:00<?, ?it/s]"
      ]
     },
     "metadata": {},
     "output_type": "display_data"
    },
    {
     "data": {
      "application/vnd.jupyter.widget-view+json": {
       "model_id": "e874f3a1257f46898ac7908cd98fe9dc",
       "version_major": 2,
       "version_minor": 0
      },
      "text/plain": [
       "Training epoch 92:   0%|          | 0/100 [00:00<?, ?it/s]"
      ]
     },
     "metadata": {},
     "output_type": "display_data"
    },
    {
     "data": {
      "application/vnd.jupyter.widget-view+json": {
       "model_id": "1a62e93f47d1430dbea18272de341ebc",
       "version_major": 2,
       "version_minor": 0
      },
      "text/plain": [
       "Training epoch 93:   0%|          | 0/100 [00:00<?, ?it/s]"
      ]
     },
     "metadata": {},
     "output_type": "display_data"
    },
    {
     "data": {
      "application/vnd.jupyter.widget-view+json": {
       "model_id": "c0aeffdac99947ed8d984e1c2af5562a",
       "version_major": 2,
       "version_minor": 0
      },
      "text/plain": [
       "Training epoch 94:   0%|          | 0/100 [00:00<?, ?it/s]"
      ]
     },
     "metadata": {},
     "output_type": "display_data"
    },
    {
     "data": {
      "application/vnd.jupyter.widget-view+json": {
       "model_id": "c4228db3ffed4df98723fad92ccfa881",
       "version_major": 2,
       "version_minor": 0
      },
      "text/plain": [
       "Training epoch 95:   0%|          | 0/100 [00:00<?, ?it/s]"
      ]
     },
     "metadata": {},
     "output_type": "display_data"
    },
    {
     "data": {
      "application/vnd.jupyter.widget-view+json": {
       "model_id": "04eddb1a8b5f4ed5afb4643651a57b62",
       "version_major": 2,
       "version_minor": 0
      },
      "text/plain": [
       "Training epoch 96:   0%|          | 0/100 [00:00<?, ?it/s]"
      ]
     },
     "metadata": {},
     "output_type": "display_data"
    },
    {
     "data": {
      "application/vnd.jupyter.widget-view+json": {
       "model_id": "dc16ef5f3f75476ba4c881ddf6b67090",
       "version_major": 2,
       "version_minor": 0
      },
      "text/plain": [
       "Training epoch 97:   0%|          | 0/100 [00:00<?, ?it/s]"
      ]
     },
     "metadata": {},
     "output_type": "display_data"
    },
    {
     "data": {
      "application/vnd.jupyter.widget-view+json": {
       "model_id": "60dd66a28af94147acd1519af9842c26",
       "version_major": 2,
       "version_minor": 0
      },
      "text/plain": [
       "Training epoch 98:   0%|          | 0/100 [00:00<?, ?it/s]"
      ]
     },
     "metadata": {},
     "output_type": "display_data"
    },
    {
     "data": {
      "application/vnd.jupyter.widget-view+json": {
       "model_id": "42108dd3fbd04eb2bccaae0cb7108763",
       "version_major": 2,
       "version_minor": 0
      },
      "text/plain": [
       "Training epoch 99:   0%|          | 0/100 [00:00<?, ?it/s]"
      ]
     },
     "metadata": {},
     "output_type": "display_data"
    },
    {
     "data": {
      "application/vnd.jupyter.widget-view+json": {
       "model_id": "7ac32b2ce0fa416a89d46fe99356f3ee",
       "version_major": 2,
       "version_minor": 0
      },
      "text/plain": [
       "Training epoch 100:   0%|          | 0/100 [00:00<?, ?it/s]"
      ]
     },
     "metadata": {},
     "output_type": "display_data"
    }
   ],
   "source": [
    "losses = trainer.train_rounds(epochs=100, rounds=10, sim_per_round=10000, batch_size=1000, n_obs=100)"
   ]
  },
  {
   "cell_type": "code",
   "execution_count": null,
   "id": "joint-prospect",
   "metadata": {},
   "outputs": [],
   "source": [
    "theta, x = generative_model(200, 100)\n",
    "param_samples = trainer.network.sample(x, n_samples=200)\n",
    "param_means = param_samples.mean(axis=0)\n",
    "\n",
    "# true parameters\n",
    "print(\"BayesFlow (x) vs. true thetas (y) -- Recovery of true thetas\")\n",
    "true_vs_estimated(theta, param_means,\n",
    "                  ['param{}'.format(i) for i in range(1, param_means.shape[1]+1)],\n",
    "                  figsize=(20,16))\n",
    "# idea: align the covariance estimate plots like a lower-triangular cov matrix"
   ]
  },
  {
   "cell_type": "code",
   "execution_count": null,
   "id": "pretty-prior",
   "metadata": {},
   "outputs": [],
   "source": []
  }
 ],
 "metadata": {
  "kernelspec": {
   "display_name": "Python 3",
   "language": "python",
   "name": "python3"
  },
  "language_info": {
   "codemirror_mode": {
    "name": "ipython",
    "version": 3
   },
   "file_extension": ".py",
   "mimetype": "text/x-python",
   "name": "python",
   "nbconvert_exporter": "python",
   "pygments_lexer": "ipython3",
   "version": "3.8.0"
  }
 },
 "nbformat": 4,
 "nbformat_minor": 5
}
