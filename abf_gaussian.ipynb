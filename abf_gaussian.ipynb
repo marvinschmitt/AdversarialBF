{
 "cells": [
  {
   "cell_type": "code",
   "execution_count": 2,
   "metadata": {},
   "outputs": [],
   "source": [
    "import os\n",
    "import sys\n",
    "\n",
    "import numpy as np\n",
    "import matplotlib.pyplot as plt\n",
    "import seaborn as sns\n",
    "import scipy\n",
    "import tensorflow as tf\n",
    "import tensorflow_probability as tfp\n",
    "\n",
    "sys.path.append(os.path.abspath(os.path.join('../BayesFlow')))\n",
    "\n",
    "from bayesflow.trainers import ParameterEstimationTrainer\n",
    "from bayesflow.networks import InvertibleNetwork, InvariantNetwork\n",
    "from bayesflow.amortizers import SingleModelAmortizer\n",
    "from bayesflow.models import GenerativeModel\n",
    "from bayesflow.diagnostics import true_vs_estimated\n",
    "from bayesflow.exceptions import ConfigurationError\n",
    "\n",
    "from meta_aux_classes import *"
   ]
  },
  {
   "cell_type": "code",
   "execution_count": 33,
   "metadata": {},
   "outputs": [],
   "source": [
    "class GaussianPrior:\n",
    "    def __init__(self, D, mu_mean=0, mu_scale=1):\n",
    "        self.D = D\n",
    "        self.mu_mean = mu_mean\n",
    "        self.mu_scale = mu_scale\n",
    "    \n",
    "    def __call__(self, n_sim):\n",
    "        theta = np.random.default_rng().normal(self.mu_mean, self.mu_scale, size=(n_sim, self.D))\n",
    "        return theta\n",
    "\n",
    "class GaussianSimulator:\n",
    "    def __init__(self, D, s = None):\n",
    "        \n",
    "        # Default: Unit variance\n",
    "        if s is None:\n",
    "            sigma = np.eye(D)\n",
    "            \n",
    "        # Unit variance with factor s\n",
    "        elif isinstance(s, (int, float)):\n",
    "            sigma = np.eye(D) * s\n",
    "            \n",
    "            \n",
    "        # s is list or np.array --> Either custom diagonal or full\n",
    "        elif isinstance(s, (list, np.ndarray)):\n",
    "            # cast any list-like input to float np.array \n",
    "            if isinstance(s, list):\n",
    "                s = np.array(s)   \n",
    "            s = s.astype(float)\n",
    "            \n",
    "            # Diagonal covariance matrix with different diagonal entries (from s)\n",
    "            if s.ndim == 1:\n",
    "                assert len(s) == D, \"Must provide D entries in diagonal s!\"\n",
    "                sigma = np.diag(s)\n",
    "                \n",
    "            # Full covariance matrix    \n",
    "            elif s.ndim == 2:\n",
    "                assert s.shape[0] == D and s.shape[1] == D, \"Must provide DxD matrix!\"\n",
    "                try: \n",
    "                    _ = np.linalg.cholesky(s)\n",
    "                except:\n",
    "                    raise ConfigurationError(\"Covariance Matrix must be positive semidefinite!\")\n",
    "                \n",
    "                sigma = s\n",
    "            \n",
    "        self.D = D    \n",
    "        self.sigma = sigma\n",
    "    \n",
    "    def __call__(self, theta, n_obs):\n",
    "        n_sim, D = theta.shape\n",
    "        assert D == self.D\n",
    "        \n",
    "        tril = tf.linalg.cholesky(np.stack([self.sigma] * n_sim))   # tf requires cholesky decomposed sigma\n",
    "        \n",
    "        mvn = tfp.distributions.MultivariateNormalTriL(loc=theta, scale_tril=tril)\n",
    "\n",
    "        sim_data = mvn.sample(n_obs)\n",
    "        sim_data = np.array(sim_data)\n",
    "        sim_data = np.transpose(sim_data, (1, 0, 2))\n",
    "        return x\n",
    "    \n",
    "D = 3\n",
    "prior = GaussianPrior(D=D)\n",
    "simulator = GaussianSimulator(D=D)"
   ]
  },
  {
   "cell_type": "code",
   "execution_count": 34,
   "metadata": {},
   "outputs": [
    {
     "name": "stdout",
     "output_type": "stream",
     "text": [
      "[[2.5 0.  0. ]\n",
      " [0.  2.5 0. ]\n",
      " [0.  0.  2.5]]\n"
     ]
    },
    {
     "data": {
      "text/plain": [
       "array([[[ 2.73411521,  1.2185937 ,  0.63388004],\n",
       "        [ 0.32379717, -0.48083813, -1.06348095],\n",
       "        [-1.55654599,  0.30787907, -1.00003755],\n",
       "        [ 2.67841298, -0.86025733,  1.23173479],\n",
       "        [ 1.48627776,  0.09162066,  0.79058084]],\n",
       "\n",
       "       [[ 1.17545734, -2.40205846,  1.19263574],\n",
       "        [ 3.3972544 ,  0.87160057,  0.40626682],\n",
       "        [ 2.81696949, -2.47671772,  0.41413713],\n",
       "        [ 2.67019141, -1.65938332, -2.55494686],\n",
       "        [ 2.76689629,  1.1157164 ,  0.47626679]],\n",
       "\n",
       "       [[ 3.00690881, -2.53231662, -1.62994585],\n",
       "        [ 1.17783036, -3.63151215,  3.73122725],\n",
       "        [ 2.43744483,  1.15886377,  2.36298164],\n",
       "        [ 0.61906866, -2.64339331,  1.02858368],\n",
       "        [ 1.19296863, -0.84260406,  3.40286183]],\n",
       "\n",
       "       [[-1.43016473,  0.38395082, -1.04635111],\n",
       "        [ 0.65995847, -0.94024824,  0.07733434],\n",
       "        [ 4.03576003, -1.43655964,  0.79615501],\n",
       "        [-0.14090567,  0.10978985,  3.33887821],\n",
       "        [ 0.91678204, -0.57093465, -0.65044482]]])"
      ]
     },
     "execution_count": 34,
     "metadata": {},
     "output_type": "execute_result"
    }
   ],
   "source": [
    "D = 3\n",
    "prior = GaussianPrior(D=D)\n",
    "simulator = GaussianSimulator(D=D, s = 2.5)\n",
    "\n",
    "theta = prior(4)\n",
    "print(simulator.sigma)\n",
    "simulator(theta, 5)"
   ]
  },
  {
   "cell_type": "code",
   "execution_count": 35,
   "metadata": {},
   "outputs": [
    {
     "name": "stdout",
     "output_type": "stream",
     "text": [
      "[[1. 0. 0.]\n",
      " [0. 2. 0.]\n",
      " [0. 0. 3.]]\n"
     ]
    },
    {
     "data": {
      "text/plain": [
       "array([[[ 1.36365241, -0.26539497,  0.72592553],\n",
       "        [ 0.97858719, -1.45104664,  1.45481625],\n",
       "        [ 1.83823963, -2.32313304,  1.26984988],\n",
       "        [-0.99899259, -2.18185028, -0.15501118],\n",
       "        [ 1.51546144, -2.51990523, -2.4978476 ]],\n",
       "\n",
       "       [[ 2.32143909, -0.88700755,  3.53627377],\n",
       "        [ 1.20273443,  1.66461369, -1.48155145],\n",
       "        [ 0.48679434, -0.59104926, -1.3739001 ],\n",
       "        [ 2.1670538 ,  1.31817276,  2.30587337],\n",
       "        [ 2.87813867,  1.35685337,  0.49990663]],\n",
       "\n",
       "       [[-0.05492616, -1.30325044, -0.23632161],\n",
       "        [ 1.28126445,  0.55159012, -0.85967946],\n",
       "        [-0.58622546,  1.6697768 , -0.74231627],\n",
       "        [ 0.7499729 ,  1.49392337,  1.15262208],\n",
       "        [ 1.2451601 ,  0.01887588, -3.99485055]],\n",
       "\n",
       "       [[ 0.93858834,  0.53590005,  0.62824235],\n",
       "        [-0.76116868, -0.60160413,  0.79169276],\n",
       "        [ 0.25205217, -2.11996125, -5.98356696],\n",
       "        [ 0.01833364,  0.4414261 ,  2.18705408],\n",
       "        [-0.23230139, -0.25590461, -0.30662916]]])"
      ]
     },
     "execution_count": 35,
     "metadata": {},
     "output_type": "execute_result"
    }
   ],
   "source": [
    "D = 3\n",
    "prior = GaussianPrior(D=D)\n",
    "simulator = GaussianSimulator(D=D, s = [1,2,3])\n",
    "\n",
    "theta = prior(4)\n",
    "print(simulator.sigma)\n",
    "simulator(theta, 5)"
   ]
  },
  {
   "cell_type": "code",
   "execution_count": 36,
   "metadata": {},
   "outputs": [
    {
     "name": "stdout",
     "output_type": "stream",
     "text": [
      "[[1. 0. 0.]\n",
      " [0. 2. 0.]\n",
      " [0. 0. 3.]]\n"
     ]
    },
    {
     "data": {
      "text/plain": [
       "array([[[ 0.36473194,  2.24128919, -2.35089873],\n",
       "        [ 1.42798558,  0.35463437, -4.69827442],\n",
       "        [ 0.69915346,  3.58725298, -0.80435372],\n",
       "        [-0.6698736 ,  3.0819498 , -3.60022187],\n",
       "        [ 0.31658728,  1.30124531, -4.66249927]],\n",
       "\n",
       "       [[-0.06204786, -0.9222357 ,  4.09978518],\n",
       "        [ 0.39526978,  1.31809759,  0.16983252],\n",
       "        [-0.50249584,  1.89365678, -0.8629385 ],\n",
       "        [ 0.61543453,  1.61838707,  3.82019019],\n",
       "        [-0.96034709,  0.69172513, -2.01143108]],\n",
       "\n",
       "       [[ 3.63896251,  0.48983212, -1.85047281],\n",
       "        [ 1.04538554, -0.07861938,  0.90908639],\n",
       "        [ 3.26866086, -0.99033381, -1.87555097],\n",
       "        [ 2.06104198,  4.07258058,  2.29137259],\n",
       "        [ 3.14722374, -2.14132504, -0.26769181]],\n",
       "\n",
       "       [[ 1.13061978, -2.0111402 ,  2.30362794],\n",
       "        [-0.8841437 , -2.37375824, -0.17239862],\n",
       "        [-0.59448548, -0.22762924,  0.71078535],\n",
       "        [-0.5551765 ,  0.34742613, -2.13734165],\n",
       "        [-0.18849833, -1.55358033, -0.07487211]]])"
      ]
     },
     "execution_count": 36,
     "metadata": {},
     "output_type": "execute_result"
    }
   ],
   "source": [
    "D = 3\n",
    "prior = GaussianPrior(D=D)\n",
    "simulator = GaussianSimulator(D=D, s = np.array([1,2,3]))\n",
    "\n",
    "theta = prior(4)\n",
    "print(simulator.sigma)\n",
    "simulator(theta, 5)"
   ]
  },
  {
   "cell_type": "code",
   "execution_count": 49,
   "metadata": {},
   "outputs": [
    {
     "name": "stdout",
     "output_type": "stream",
     "text": [
      "[[1. 0. 0.]\n",
      " [0. 1. 0.]\n",
      " [0. 0. 1.]]\n"
     ]
    },
    {
     "data": {
      "text/plain": [
       "array([[[-0.07887462,  1.50083976, -0.90590689],\n",
       "        [-1.89543726,  0.56217446,  0.69306775],\n",
       "        [ 0.47515784, -0.43629369,  1.22786432],\n",
       "        [ 1.2265235 , -1.37148871,  0.93586156],\n",
       "        [ 0.42180188,  0.66131824, -0.84900653]],\n",
       "\n",
       "       [[ 0.11737355,  0.26568079,  0.78357155],\n",
       "        [-2.09838154, -1.33648554,  0.36211326],\n",
       "        [ 0.19691241,  0.24003328,  0.99406279],\n",
       "        [-2.00595129, -1.20786454,  0.88785813],\n",
       "        [-1.39010065,  0.81320097, -1.25135177]],\n",
       "\n",
       "       [[ 1.99616164, -0.89792513, -0.36396683],\n",
       "        [ 3.55504484, -0.09699204, -0.915926  ],\n",
       "        [ 1.35228848, -0.03318188, -0.25753962],\n",
       "        [ 2.12007553,  0.48199856,  0.57664428],\n",
       "        [ 0.40502411, -2.46843758, -0.36071661]],\n",
       "\n",
       "       [[ 0.57486689,  1.23464735, -0.17435137],\n",
       "        [-1.95624394,  0.20516485, -0.72155552],\n",
       "        [-0.24072445, -0.15743202, -2.21825009],\n",
       "        [ 0.64383408,  1.70449472,  0.15044481],\n",
       "        [-2.29020063, -1.82333524,  0.55604818]]])"
      ]
     },
     "execution_count": 49,
     "metadata": {},
     "output_type": "execute_result"
    }
   ],
   "source": [
    "D = 3\n",
    "prior = GaussianPrior(D=D)\n",
    "simulator = GaussianSimulator(D=D, s = np.array([[1,0,0],[0,1,0],[0,0,1]]))\n",
    "\n",
    "theta = prior(4)\n",
    "print(simulator.sigma)\n",
    "simulator(theta, 5)"
   ]
  },
  {
   "cell_type": "code",
   "execution_count": 10,
   "metadata": {},
   "outputs": [],
   "source": [
    "D = 5 \n",
    "\n",
    "#########\n",
    "\n",
    "prior = GaussianPrior(D=D)\n",
    "simulator = GaussianSimulator(D=D)\n",
    "generative_model = GenerativeModel(prior, simulator)\n",
    "\n",
    "#########\n",
    "\n",
    "summary_meta = {\n",
    "    'n_dense_s1': 2,\n",
    "    'n_dense_s2': 2,\n",
    "    'n_dense_s3': 2,\n",
    "    'n_equiv':    1,\n",
    "    'dense_s1_args': {'activation': 'relu', 'units': 32},\n",
    "    'dense_s2_args': {'activation': 'relu', 'units': 32},\n",
    "    'dense_s3_args': {'activation': 'relu', 'units': 32},\n",
    "}\n",
    "\n",
    "class BottleneckSummaryNet(tf.keras.Model):\n",
    "    def __init__(self, inv_meta={}, n_out=10, activation_out=None):\n",
    "        super(BottleneckSummaryNet, self).__init__()\n",
    "\n",
    "        self.invariant_net = InvariantNetwork(inv_meta)\n",
    "        self.out_layer = tf.keras.layers.Dense(n_out, activation=activation_out)\n",
    "    \n",
    "    def __call__(self, x):\n",
    "        out_inv = self.invariant_net(x)\n",
    "        out = self.out_layer(out_inv)\n",
    "        return out\n",
    "\n",
    "\n",
    "summary_net = BottleneckSummaryNet(inv_meta=summary_meta, \n",
    "                                   n_out=D*2,  # one mean and variance per dim\n",
    "                                   activation_out=None  # linear\n",
    "                                  )\n",
    "\n",
    "\n",
    "inference_meta = {\n",
    "    'n_coupling_layers': 2,\n",
    "    's_args': {\n",
    "        'units': [32, 32, 32],\n",
    "        'activation': 'elu',\n",
    "        'initializer': 'glorot_uniform',\n",
    "    },\n",
    "    't_args': {\n",
    "        'units': [32, 32, 32],\n",
    "        'activation': 'elu',\n",
    "        'initializer': 'glorot_uniform',\n",
    "    },\n",
    "    'n_params': D,\n",
    "    'alpha': 1.9,\n",
    "    'permute': True\n",
    "}\n",
    "\n",
    "inference_net = InvertibleNetwork({'n_params': D})\n",
    "\n",
    "amortizer = SingleModelAmortizer(inference_net, summary_net)"
   ]
  },
  {
   "cell_type": "code",
   "execution_count": null,
   "metadata": {},
   "outputs": [],
   "source": [
    "trainer = ParameterEstimationTrainer(amortizer,\n",
    "                      generative_model,\n",
    "                      learning_rate=0.0001,\n",
    "                      checkpoint_path='ckpt/'\n",
    "                     )"
   ]
  },
  {
   "cell_type": "code",
   "execution_count": null,
   "metadata": {},
   "outputs": [],
   "source": [
    "losses = trainer.train_online(epochs=1, iterations_per_epoch=100, batch_size=512, n_obs=100)"
   ]
  },
  {
   "cell_type": "code",
   "execution_count": null,
   "metadata": {},
   "outputs": [],
   "source": [
    "losses = trainer.train_rounds(epochs=10, rounds=5, sim_per_round=20000, batch_size=512, n_obs=100)"
   ]
  },
  {
   "cell_type": "code",
   "execution_count": null,
   "metadata": {},
   "outputs": [],
   "source": [
    "# Validate (quick and dirty)\n",
    "p, x = trainer._forward_inference(200, 100)\n",
    "param_samples = trainer.network.sample(x, n_samples=200)\n",
    "param_means = param_samples.mean(axis=0)\n",
    "true_vs_estimated(p, param_means, ['mu{}'.format(i) for i in range(1, 5+1)], figsize=(20,4))"
   ]
  },
  {
   "cell_type": "code",
   "execution_count": null,
   "metadata": {},
   "outputs": [],
   "source": [
    "trainer.network.summary_net(x).shape"
   ]
  },
  {
   "cell_type": "code",
   "execution_count": null,
   "metadata": {},
   "outputs": [],
   "source": [
    "trainer.manager.save()"
   ]
  },
  {
   "cell_type": "code",
   "execution_count": null,
   "metadata": {},
   "outputs": [],
   "source": []
  }
 ],
 "metadata": {
  "kernelspec": {
   "display_name": "Python 3",
   "language": "python",
   "name": "python3"
  },
  "language_info": {
   "codemirror_mode": {
    "name": "ipython",
    "version": 3
   },
   "file_extension": ".py",
   "mimetype": "text/x-python",
   "name": "python",
   "nbconvert_exporter": "python",
   "pygments_lexer": "ipython3",
   "version": "3.8.0"
  }
 },
 "nbformat": 4,
 "nbformat_minor": 1
}
