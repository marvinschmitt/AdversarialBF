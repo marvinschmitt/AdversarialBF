{
 "cells": [
  {
   "cell_type": "code",
   "execution_count": 1,
   "metadata": {},
   "outputs": [],
   "source": [
    "import os\n",
    "import sys\n",
    "\n",
    "import numpy as np\n",
    "import matplotlib.pyplot as plt\n",
    "import seaborn as sns\n",
    "import scipy\n",
    "import tensorflow as tf\n",
    "import tensorflow_probability as tfp\n",
    "\n",
    "sys.path.append(os.path.abspath(os.path.join('../BayesFlow')))\n",
    "\n",
    "from bayesflow.trainers import ParameterEstimationTrainer\n",
    "from bayesflow.networks import InvertibleNetwork, InvariantNetwork\n",
    "from bayesflow.amortizers import SingleModelAmortizer\n",
    "from bayesflow.models import GenerativeModel\n",
    "from bayesflow.diagnostics import true_vs_estimated\n",
    "from bayesflow.exceptions import ConfigurationError\n",
    "\n",
    "from meta_aux_classes import *"
   ]
  },
  {
   "cell_type": "code",
   "execution_count": 2,
   "metadata": {},
   "outputs": [],
   "source": [
    "class GaussianPrior:\n",
    "    def __init__(self, D, mu_mean=0, mu_scale=1):\n",
    "        self.D = D\n",
    "        self.mu_mean = mu_mean\n",
    "        self.mu_scale = mu_scale\n",
    "    \n",
    "    def __call__(self, n_sim):\n",
    "        theta = np.random.default_rng().normal(self.mu_mean, self.mu_scale, size=(n_sim, self.D))\n",
    "        return theta\n",
    "\n",
    "class GaussianSimulator:\n",
    "    def __init__(self, D, s = None):\n",
    "        \n",
    "        # Default: Unit variance\n",
    "        if s is None:\n",
    "            sigma = np.eye(D)\n",
    "            \n",
    "        # Unit variance with factor s\n",
    "        elif isinstance(s, (int, float)):\n",
    "            sigma = np.eye(D) * s\n",
    "            \n",
    "            \n",
    "        # s is list or np.array --> Either custom diagonal or full\n",
    "        elif isinstance(s, (list, np.ndarray)):\n",
    "            # cast any list-like input to float np.array \n",
    "            if isinstance(s, list):\n",
    "                s = np.array(s)   \n",
    "            s = s.astype(float)\n",
    "            \n",
    "            # Diagonal covariance matrix with different diagonal entries (from s)\n",
    "            if s.ndim == 1:\n",
    "                assert len(s) == D, \"Must provide D entries in diagonal s!\"\n",
    "                sigma = np.diag(s)\n",
    "                \n",
    "            # Full covariance matrix    \n",
    "            elif s.ndim == 2:\n",
    "                assert s.shape[0] == D and s.shape[1] == D, \"Must provide DxD matrix!\"\n",
    "                try: \n",
    "                    _ = np.linalg.cholesky(s)\n",
    "                except:\n",
    "                    raise ConfigurationError(\"Covariance Matrix must be positive semidefinite!\")\n",
    "                \n",
    "                sigma = s\n",
    "            \n",
    "        self.D = D    \n",
    "        self.sigma = sigma\n",
    "    \n",
    "    def __call__(self, theta, n_obs):\n",
    "        n_sim, D = theta.shape\n",
    "        assert D == self.D\n",
    "        \n",
    "        tril = tf.linalg.cholesky(np.stack([self.sigma] * n_sim))   # tf requires cholesky decomposed sigma\n",
    "        \n",
    "        mvn = tfp.distributions.MultivariateNormalTriL(loc=theta, scale_tril=tril)\n",
    "\n",
    "        sim_data = mvn.sample(n_obs)\n",
    "        sim_data = np.array(sim_data)\n",
    "        sim_data = np.transpose(sim_data, (1, 0, 2))\n",
    "        return sim_data\n",
    "    \n",
    "D = 3\n",
    "prior = GaussianPrior(D=D)\n",
    "simulator = GaussianSimulator(D=D)"
   ]
  },
  {
   "cell_type": "code",
   "execution_count": 3,
   "metadata": {},
   "outputs": [
    {
     "name": "stdout",
     "output_type": "stream",
     "text": [
      "[[2.5 0.  0. ]\n",
      " [0.  2.5 0. ]\n",
      " [0.  0.  2.5]]\n"
     ]
    },
    {
     "data": {
      "text/plain": [
       "array([[[ 1.36092008, -0.9755342 , -0.29523161],\n",
       "        [ 3.97017666, -0.94996973, -0.37070383],\n",
       "        [-1.59391414, -0.23879501,  5.99558804],\n",
       "        [ 2.37575686, -0.48011785,  1.40944338],\n",
       "        [ 1.15262607,  0.70490906,  0.32798431]],\n",
       "\n",
       "       [[-1.17478249,  0.452643  ,  0.4939862 ],\n",
       "        [ 0.72163788,  2.03601526,  2.12769408],\n",
       "        [-0.28323225,  0.38682596,  2.51251709],\n",
       "        [ 0.95524339,  0.63448735,  0.19932532],\n",
       "        [-0.47327153, -1.31074622,  0.67217092]],\n",
       "\n",
       "       [[-2.75395044,  0.1656947 ,  2.04830395],\n",
       "        [-0.21760025,  2.97754051,  1.21837227],\n",
       "        [ 1.54371862,  2.50996635,  0.75991311],\n",
       "        [-2.38954358,  1.51226349,  1.28264072],\n",
       "        [ 0.04773535,  5.91105489,  0.71375695]],\n",
       "\n",
       "       [[ 3.1276667 , -1.57871932, -1.49521558],\n",
       "        [ 2.92389539,  1.45131608, -2.4652216 ],\n",
       "        [ 4.11215838, -2.72163047, -0.57560379],\n",
       "        [ 1.52419256,  2.36109212, -2.73731699],\n",
       "        [ 1.4789368 , -0.14496875,  1.26783949]]])"
      ]
     },
     "execution_count": 3,
     "metadata": {},
     "output_type": "execute_result"
    }
   ],
   "source": [
    "D = 3\n",
    "prior = GaussianPrior(D=D)\n",
    "simulator = GaussianSimulator(D=D, s = 2.5)\n",
    "\n",
    "theta = prior(4)\n",
    "print(simulator.sigma)\n",
    "simulator(theta, 5)"
   ]
  },
  {
   "cell_type": "code",
   "execution_count": 4,
   "metadata": {},
   "outputs": [
    {
     "name": "stdout",
     "output_type": "stream",
     "text": [
      "[[1. 0. 0.]\n",
      " [0. 2. 0.]\n",
      " [0. 0. 3.]]\n"
     ]
    },
    {
     "data": {
      "text/plain": [
       "array([[[-1.28304374e-01, -1.21519922e+00, -1.26820043e-01],\n",
       "        [-8.16788545e-01,  2.77822051e+00,  1.15812525e+00],\n",
       "        [ 1.68838882e+00, -5.33652972e-01, -1.05553793e+00],\n",
       "        [ 1.15972590e+00,  2.01960487e+00,  1.74496862e+00],\n",
       "        [ 5.65669211e-02,  1.68766205e+00,  5.17043464e-01]],\n",
       "\n",
       "       [[ 3.19533223e-03, -2.12646368e+00,  3.35216477e+00],\n",
       "        [-1.24687020e+00, -1.23116014e+00, -1.73063399e+00],\n",
       "        [ 3.50920760e-02, -8.07477085e-01, -2.57684323e-01],\n",
       "        [-2.68947777e-01, -7.24003103e-02,  2.87339851e+00],\n",
       "        [ 3.32183345e-01, -1.47071168e-01, -1.91919250e+00]],\n",
       "\n",
       "       [[ 1.49704017e+00,  2.06029276e-01, -2.07456791e+00],\n",
       "        [-7.97676629e-01,  3.86162518e-01, -2.54346700e+00],\n",
       "        [ 1.05748241e+00,  2.06326739e+00, -3.10431505e-01],\n",
       "        [ 8.18689301e-01, -7.19329054e-01,  8.24613331e-01],\n",
       "        [ 1.80013959e-01,  2.75468642e+00, -8.50030199e-01]],\n",
       "\n",
       "       [[ 3.57060188e-01,  4.33045438e-01, -1.67793490e+00],\n",
       "        [-6.76832946e-01, -2.48182574e+00, -1.15335435e+00],\n",
       "        [ 2.14778635e+00, -3.48900609e+00, -2.72734586e+00],\n",
       "        [ 1.32317285e+00, -3.49543415e+00, -6.93211493e-01],\n",
       "        [ 6.61952325e-01, -2.04627021e+00, -3.43726208e+00]]])"
      ]
     },
     "execution_count": 4,
     "metadata": {},
     "output_type": "execute_result"
    }
   ],
   "source": [
    "D = 3\n",
    "prior = GaussianPrior(D=D)\n",
    "simulator = GaussianSimulator(D=D, s = [1,2,3])\n",
    "\n",
    "theta = prior(4)\n",
    "print(simulator.sigma)\n",
    "simulator(theta, 5)"
   ]
  },
  {
   "cell_type": "code",
   "execution_count": 5,
   "metadata": {},
   "outputs": [
    {
     "name": "stdout",
     "output_type": "stream",
     "text": [
      "[[1. 0. 0.]\n",
      " [0. 2. 0.]\n",
      " [0. 0. 3.]]\n"
     ]
    },
    {
     "data": {
      "text/plain": [
       "array([[[-1.28913212, -1.78432201,  1.30656703],\n",
       "        [-1.26928752,  2.70516887,  1.35644044],\n",
       "        [-0.59421835,  1.82873925,  0.06677453],\n",
       "        [-0.63092085, -0.2768835 , -2.91529839],\n",
       "        [ 0.03190156,  0.63957878, -1.26975719]],\n",
       "\n",
       "       [[ 1.05696761, -0.05229697,  2.72728182],\n",
       "        [ 0.05203423,  4.26861642, -1.57344921],\n",
       "        [ 0.32072312,  0.48155036,  0.03014649],\n",
       "        [ 0.38361016,  2.64639931, -0.57370299],\n",
       "        [-1.43472602,  1.22630999,  0.79018169]],\n",
       "\n",
       "       [[ 1.03945174,  0.41758101, -3.01161901],\n",
       "        [ 0.88625923, -3.01218135, -2.73535391],\n",
       "        [-0.16277326,  0.88121816, -2.52646382],\n",
       "        [-0.12522849,  0.21209656, -2.12277436],\n",
       "        [-1.47039617, -0.40756803, -1.74112221]],\n",
       "\n",
       "       [[-0.96771047,  0.279577  ,  1.10863283],\n",
       "        [-0.29725   ,  1.92952953, -4.23202875],\n",
       "        [ 0.10338178,  4.45023883,  1.34310909],\n",
       "        [ 1.15136531, -0.140936  , -2.14175463],\n",
       "        [-0.44930414,  2.17961625, -2.01619355]]])"
      ]
     },
     "execution_count": 5,
     "metadata": {},
     "output_type": "execute_result"
    }
   ],
   "source": [
    "D = 3\n",
    "prior = GaussianPrior(D=D)\n",
    "simulator = GaussianSimulator(D=D, s = np.array([1,2,3]))\n",
    "\n",
    "theta = prior(4)\n",
    "print(simulator.sigma)\n",
    "simulator(theta, 5)"
   ]
  },
  {
   "cell_type": "code",
   "execution_count": 6,
   "metadata": {},
   "outputs": [
    {
     "name": "stdout",
     "output_type": "stream",
     "text": [
      "[[1. 0. 0.]\n",
      " [0. 1. 0.]\n",
      " [0. 0. 1.]]\n"
     ]
    },
    {
     "data": {
      "text/plain": [
       "array([[[ 0.8784552 ,  1.56934423,  0.75418001],\n",
       "        [ 0.91830396,  0.01552951,  2.35391892],\n",
       "        [ 0.50883096, -1.25014577,  1.54431997],\n",
       "        [-0.52263589, -0.8145395 ,  1.49625268],\n",
       "        [ 3.49023896, -1.33204113,  0.04549575]],\n",
       "\n",
       "       [[ 1.21883213,  1.95235488,  0.90404484],\n",
       "        [ 0.57841977,  2.28610659,  0.80472272],\n",
       "        [-0.09943689,  2.17681017,  0.68670696],\n",
       "        [ 0.81813044,  0.84582771,  1.96635328],\n",
       "        [ 1.00329237,  1.08023098,  1.42781448]],\n",
       "\n",
       "       [[ 2.77832849, -0.60135744, -0.81360086],\n",
       "        [ 1.73892842,  0.50502383,  0.33391595],\n",
       "        [ 2.08185992, -1.49664131, -0.0460224 ],\n",
       "        [ 0.6177194 , -1.32440065,  0.55402669],\n",
       "        [ 2.47279905, -1.41591365,  0.25637275]],\n",
       "\n",
       "       [[ 1.25758229,  1.84431926,  2.08801433],\n",
       "        [-0.12263001,  0.93714831, -0.63562006],\n",
       "        [ 1.07797152,  2.66335882,  0.13071916],\n",
       "        [ 0.94305484,  1.69224345,  1.72995519],\n",
       "        [-1.43491227,  0.83569245,  0.93667751]]])"
      ]
     },
     "execution_count": 6,
     "metadata": {},
     "output_type": "execute_result"
    }
   ],
   "source": [
    "D = 3\n",
    "prior = GaussianPrior(D=D)\n",
    "simulator = GaussianSimulator(D=D, s = np.array([[1,0,0],[0,1,0],[0,0,1]]))\n",
    "\n",
    "theta = prior(4)\n",
    "print(simulator.sigma)\n",
    "simulator(theta, 5)"
   ]
  },
  {
   "cell_type": "code",
   "execution_count": 7,
   "metadata": {},
   "outputs": [],
   "source": [
    "D = 5 \n",
    "\n",
    "#########\n",
    "\n",
    "prior = GaussianPrior(D=D)\n",
    "simulator = GaussianSimulator(D=D)\n",
    "generative_model = GenerativeModel(prior, simulator)\n",
    "\n",
    "#########\n",
    "\n",
    "summary_meta = {\n",
    "    'n_dense_s1': 2,\n",
    "    'n_dense_s2': 2,\n",
    "    'n_dense_s3': 2,\n",
    "    'n_equiv':    1,\n",
    "    'dense_s1_args': {'activation': 'relu', 'units': 32},\n",
    "    'dense_s2_args': {'activation': 'relu', 'units': 32},\n",
    "    'dense_s3_args': {'activation': 'relu', 'units': 32},\n",
    "}\n",
    "\n",
    "class BottleneckSummaryNet(tf.keras.Model):\n",
    "    def __init__(self, inv_meta={}, n_out=10, activation_out=None):\n",
    "        super(BottleneckSummaryNet, self).__init__()\n",
    "\n",
    "        self.invariant_net = InvariantNetwork(inv_meta)\n",
    "        self.out_layer = tf.keras.layers.Dense(n_out, activation=activation_out)\n",
    "    \n",
    "    def __call__(self, x):\n",
    "        out_inv = self.invariant_net(x)\n",
    "        out = self.out_layer(out_inv)\n",
    "        return out\n",
    "\n",
    "\n",
    "summary_net = BottleneckSummaryNet(inv_meta=summary_meta, \n",
    "                                   n_out=D*2,  # one mean and variance per dim\n",
    "                                   activation_out=None  # linear\n",
    "                                  )\n",
    "\n",
    "\n",
    "inference_meta = {\n",
    "    'n_coupling_layers': 2,\n",
    "    's_args': {\n",
    "        'units': [32, 32, 32],\n",
    "        'activation': 'elu',\n",
    "        'initializer': 'glorot_uniform',\n",
    "    },\n",
    "    't_args': {\n",
    "        'units': [32, 32, 32],\n",
    "        'activation': 'elu',\n",
    "        'initializer': 'glorot_uniform',\n",
    "    },\n",
    "    'n_params': D,\n",
    "    'alpha': 1.9,\n",
    "    'permute': True\n",
    "}\n",
    "\n",
    "inference_net = InvertibleNetwork({'n_params': D})\n",
    "\n",
    "amortizer = SingleModelAmortizer(inference_net, summary_net)"
   ]
  },
  {
   "cell_type": "code",
   "execution_count": 8,
   "metadata": {},
   "outputs": [
    {
     "name": "stdout",
     "output_type": "stream",
     "text": [
      "Initializing networks from scratch.\n"
     ]
    }
   ],
   "source": [
    "trainer = ParameterEstimationTrainer(amortizer,\n",
    "                      generative_model,\n",
    "                      learning_rate=0.0001,\n",
    "                      checkpoint_path='export_ckpt/'\n",
    "                     )"
   ]
  },
  {
   "cell_type": "code",
   "execution_count": 11,
   "metadata": {},
   "outputs": [
    {
     "name": "stdout",
     "output_type": "stream",
     "text": [
      "Simulating initial 20000 data sets...\n",
      "Converting 20000 simulations to a TensorFlow data set...\n"
     ]
    },
    {
     "data": {
      "application/vnd.jupyter.widget-view+json": {
       "model_id": "c300e5079c6e48f48b698ff126cb04bd",
       "version_major": 2,
       "version_minor": 0
      },
      "text/plain": [
       "Training epoch 1:   0%|          | 0/20 [00:00<?, ?it/s]"
      ]
     },
     "metadata": {},
     "output_type": "display_data"
    },
    {
     "data": {
      "application/vnd.jupyter.widget-view+json": {
       "model_id": "eecb9eb2308c4e7295de9ff330fbcb45",
       "version_major": 2,
       "version_minor": 0
      },
      "text/plain": [
       "Training epoch 2:   0%|          | 0/20 [00:00<?, ?it/s]"
      ]
     },
     "metadata": {},
     "output_type": "display_data"
    },
    {
     "data": {
      "application/vnd.jupyter.widget-view+json": {
       "model_id": "ff3642c4b01d47fc865fc4ad42706bf9",
       "version_major": 2,
       "version_minor": 0
      },
      "text/plain": [
       "Training epoch 3:   0%|          | 0/20 [00:00<?, ?it/s]"
      ]
     },
     "metadata": {},
     "output_type": "display_data"
    },
    {
     "data": {
      "application/vnd.jupyter.widget-view+json": {
       "model_id": "539efd70307840e29797b94607bba4c7",
       "version_major": 2,
       "version_minor": 0
      },
      "text/plain": [
       "Training epoch 4:   0%|          | 0/20 [00:00<?, ?it/s]"
      ]
     },
     "metadata": {},
     "output_type": "display_data"
    },
    {
     "data": {
      "application/vnd.jupyter.widget-view+json": {
       "model_id": "baf360c2c2224ee3bbb687a17210b081",
       "version_major": 2,
       "version_minor": 0
      },
      "text/plain": [
       "Training epoch 5:   0%|          | 0/20 [00:00<?, ?it/s]"
      ]
     },
     "metadata": {},
     "output_type": "display_data"
    },
    {
     "data": {
      "application/vnd.jupyter.widget-view+json": {
       "model_id": "e98e6e1d35ca424ebd38010dfb850e66",
       "version_major": 2,
       "version_minor": 0
      },
      "text/plain": [
       "Training epoch 6:   0%|          | 0/20 [00:00<?, ?it/s]"
      ]
     },
     "metadata": {},
     "output_type": "display_data"
    },
    {
     "data": {
      "application/vnd.jupyter.widget-view+json": {
       "model_id": "fba905068ace4f0c8ddde0c7fe2f19f7",
       "version_major": 2,
       "version_minor": 0
      },
      "text/plain": [
       "Training epoch 7:   0%|          | 0/20 [00:00<?, ?it/s]"
      ]
     },
     "metadata": {},
     "output_type": "display_data"
    },
    {
     "data": {
      "application/vnd.jupyter.widget-view+json": {
       "model_id": "2a82414ecccd4b60a66b2e67dcda4494",
       "version_major": 2,
       "version_minor": 0
      },
      "text/plain": [
       "Training epoch 8:   0%|          | 0/20 [00:00<?, ?it/s]"
      ]
     },
     "metadata": {},
     "output_type": "display_data"
    },
    {
     "data": {
      "application/vnd.jupyter.widget-view+json": {
       "model_id": "f6d962037f394b4ab318541e4026e7ca",
       "version_major": 2,
       "version_minor": 0
      },
      "text/plain": [
       "Training epoch 9:   0%|          | 0/20 [00:00<?, ?it/s]"
      ]
     },
     "metadata": {},
     "output_type": "display_data"
    },
    {
     "data": {
      "application/vnd.jupyter.widget-view+json": {
       "model_id": "4e6cab74f11848169f8c3c83c9dc2c96",
       "version_major": 2,
       "version_minor": 0
      },
      "text/plain": [
       "Training epoch 10:   0%|          | 0/20 [00:00<?, ?it/s]"
      ]
     },
     "metadata": {},
     "output_type": "display_data"
    },
    {
     "name": "stdout",
     "output_type": "stream",
     "text": [
      "Simulating new 20000 data sets and appending to previous...\n",
      "New total number of simulated data sets: 40000\n",
      "Converting 40000 simulations to a TensorFlow data set...\n"
     ]
    },
    {
     "data": {
      "application/vnd.jupyter.widget-view+json": {
       "model_id": "f920a117839a4782bf639c695f40efc0",
       "version_major": 2,
       "version_minor": 0
      },
      "text/plain": [
       "Training epoch 1:   0%|          | 0/40 [00:00<?, ?it/s]"
      ]
     },
     "metadata": {},
     "output_type": "display_data"
    },
    {
     "data": {
      "application/vnd.jupyter.widget-view+json": {
       "model_id": "e314194d042045d4a90d78c7112f68a6",
       "version_major": 2,
       "version_minor": 0
      },
      "text/plain": [
       "Training epoch 2:   0%|          | 0/40 [00:00<?, ?it/s]"
      ]
     },
     "metadata": {},
     "output_type": "display_data"
    },
    {
     "data": {
      "application/vnd.jupyter.widget-view+json": {
       "model_id": "841e173868c84c308a211f5a1eb100ef",
       "version_major": 2,
       "version_minor": 0
      },
      "text/plain": [
       "Training epoch 3:   0%|          | 0/40 [00:00<?, ?it/s]"
      ]
     },
     "metadata": {},
     "output_type": "display_data"
    },
    {
     "data": {
      "application/vnd.jupyter.widget-view+json": {
       "model_id": "80c46204bab34a839bc1579d11d25042",
       "version_major": 2,
       "version_minor": 0
      },
      "text/plain": [
       "Training epoch 4:   0%|          | 0/40 [00:00<?, ?it/s]"
      ]
     },
     "metadata": {},
     "output_type": "display_data"
    },
    {
     "data": {
      "application/vnd.jupyter.widget-view+json": {
       "model_id": "9e4db1820c364adba6e8ff83007bfe18",
       "version_major": 2,
       "version_minor": 0
      },
      "text/plain": [
       "Training epoch 5:   0%|          | 0/40 [00:00<?, ?it/s]"
      ]
     },
     "metadata": {},
     "output_type": "display_data"
    },
    {
     "data": {
      "application/vnd.jupyter.widget-view+json": {
       "model_id": "caaeb18091474c1ea0e771c9f7155bdb",
       "version_major": 2,
       "version_minor": 0
      },
      "text/plain": [
       "Training epoch 6:   0%|          | 0/40 [00:00<?, ?it/s]"
      ]
     },
     "metadata": {},
     "output_type": "display_data"
    },
    {
     "data": {
      "application/vnd.jupyter.widget-view+json": {
       "model_id": "eb954dfd6bd1484f8a01eb093a3d19cf",
       "version_major": 2,
       "version_minor": 0
      },
      "text/plain": [
       "Training epoch 7:   0%|          | 0/40 [00:00<?, ?it/s]"
      ]
     },
     "metadata": {},
     "output_type": "display_data"
    },
    {
     "data": {
      "application/vnd.jupyter.widget-view+json": {
       "model_id": "2e73c48f288f4879b6207ea2af25970d",
       "version_major": 2,
       "version_minor": 0
      },
      "text/plain": [
       "Training epoch 8:   0%|          | 0/40 [00:00<?, ?it/s]"
      ]
     },
     "metadata": {},
     "output_type": "display_data"
    },
    {
     "data": {
      "application/vnd.jupyter.widget-view+json": {
       "model_id": "e2d53d30eaa2484c8d392eaed15cd9b1",
       "version_major": 2,
       "version_minor": 0
      },
      "text/plain": [
       "Training epoch 9:   0%|          | 0/40 [00:00<?, ?it/s]"
      ]
     },
     "metadata": {},
     "output_type": "display_data"
    },
    {
     "data": {
      "application/vnd.jupyter.widget-view+json": {
       "model_id": "325a9d6fc9fc4ccb8d160b9fa46acd0a",
       "version_major": 2,
       "version_minor": 0
      },
      "text/plain": [
       "Training epoch 10:   0%|          | 0/40 [00:00<?, ?it/s]"
      ]
     },
     "metadata": {},
     "output_type": "display_data"
    },
    {
     "name": "stdout",
     "output_type": "stream",
     "text": [
      "Simulating new 20000 data sets and appending to previous...\n",
      "New total number of simulated data sets: 60000\n",
      "Converting 60000 simulations to a TensorFlow data set...\n"
     ]
    },
    {
     "data": {
      "application/vnd.jupyter.widget-view+json": {
       "model_id": "628572d5254e4ee48aebd7520310ec36",
       "version_major": 2,
       "version_minor": 0
      },
      "text/plain": [
       "Training epoch 1:   0%|          | 0/59 [00:00<?, ?it/s]"
      ]
     },
     "metadata": {},
     "output_type": "display_data"
    },
    {
     "data": {
      "application/vnd.jupyter.widget-view+json": {
       "model_id": "12f4a7fcdccb433c9849a93a89353037",
       "version_major": 2,
       "version_minor": 0
      },
      "text/plain": [
       "Training epoch 2:   0%|          | 0/59 [00:00<?, ?it/s]"
      ]
     },
     "metadata": {},
     "output_type": "display_data"
    },
    {
     "data": {
      "application/vnd.jupyter.widget-view+json": {
       "model_id": "8a812c7bd2444fa28922aa887e9b8471",
       "version_major": 2,
       "version_minor": 0
      },
      "text/plain": [
       "Training epoch 3:   0%|          | 0/59 [00:00<?, ?it/s]"
      ]
     },
     "metadata": {},
     "output_type": "display_data"
    },
    {
     "data": {
      "application/vnd.jupyter.widget-view+json": {
       "model_id": "0f441af1dc6a4ae08dd752874a537542",
       "version_major": 2,
       "version_minor": 0
      },
      "text/plain": [
       "Training epoch 4:   0%|          | 0/59 [00:00<?, ?it/s]"
      ]
     },
     "metadata": {},
     "output_type": "display_data"
    },
    {
     "data": {
      "application/vnd.jupyter.widget-view+json": {
       "model_id": "30db53e82ff845f396e416175da30cf2",
       "version_major": 2,
       "version_minor": 0
      },
      "text/plain": [
       "Training epoch 5:   0%|          | 0/59 [00:00<?, ?it/s]"
      ]
     },
     "metadata": {},
     "output_type": "display_data"
    },
    {
     "data": {
      "application/vnd.jupyter.widget-view+json": {
       "model_id": "477b19cfd5ab4624a93892ef8326dfb1",
       "version_major": 2,
       "version_minor": 0
      },
      "text/plain": [
       "Training epoch 6:   0%|          | 0/59 [00:00<?, ?it/s]"
      ]
     },
     "metadata": {},
     "output_type": "display_data"
    },
    {
     "data": {
      "application/vnd.jupyter.widget-view+json": {
       "model_id": "13c5fe52936145ff9cf90b0bb46c6c0f",
       "version_major": 2,
       "version_minor": 0
      },
      "text/plain": [
       "Training epoch 7:   0%|          | 0/59 [00:00<?, ?it/s]"
      ]
     },
     "metadata": {},
     "output_type": "display_data"
    },
    {
     "data": {
      "application/vnd.jupyter.widget-view+json": {
       "model_id": "892843b3c26c422e82f963f9fcc1b59a",
       "version_major": 2,
       "version_minor": 0
      },
      "text/plain": [
       "Training epoch 8:   0%|          | 0/59 [00:00<?, ?it/s]"
      ]
     },
     "metadata": {},
     "output_type": "display_data"
    },
    {
     "data": {
      "application/vnd.jupyter.widget-view+json": {
       "model_id": "94ae078d5954463587f4177feab32970",
       "version_major": 2,
       "version_minor": 0
      },
      "text/plain": [
       "Training epoch 9:   0%|          | 0/59 [00:00<?, ?it/s]"
      ]
     },
     "metadata": {},
     "output_type": "display_data"
    },
    {
     "data": {
      "application/vnd.jupyter.widget-view+json": {
       "model_id": "e86881f10f6f44d0a192afe1107ade98",
       "version_major": 2,
       "version_minor": 0
      },
      "text/plain": [
       "Training epoch 10:   0%|          | 0/59 [00:00<?, ?it/s]"
      ]
     },
     "metadata": {},
     "output_type": "display_data"
    },
    {
     "name": "stdout",
     "output_type": "stream",
     "text": [
      "Simulating new 20000 data sets and appending to previous...\n",
      "New total number of simulated data sets: 80000\n",
      "Converting 80000 simulations to a TensorFlow data set...\n"
     ]
    },
    {
     "data": {
      "application/vnd.jupyter.widget-view+json": {
       "model_id": "114eabcfda8e43d9a1b8173a98b3b67e",
       "version_major": 2,
       "version_minor": 0
      },
      "text/plain": [
       "Training epoch 1:   0%|          | 0/79 [00:00<?, ?it/s]"
      ]
     },
     "metadata": {},
     "output_type": "display_data"
    },
    {
     "data": {
      "application/vnd.jupyter.widget-view+json": {
       "model_id": "9230fdca7376415f8bc3e8da4032eba3",
       "version_major": 2,
       "version_minor": 0
      },
      "text/plain": [
       "Training epoch 2:   0%|          | 0/79 [00:00<?, ?it/s]"
      ]
     },
     "metadata": {},
     "output_type": "display_data"
    },
    {
     "data": {
      "application/vnd.jupyter.widget-view+json": {
       "model_id": "de49691dc031474ab48f23294e061fac",
       "version_major": 2,
       "version_minor": 0
      },
      "text/plain": [
       "Training epoch 3:   0%|          | 0/79 [00:00<?, ?it/s]"
      ]
     },
     "metadata": {},
     "output_type": "display_data"
    },
    {
     "data": {
      "application/vnd.jupyter.widget-view+json": {
       "model_id": "f3d7a13029f643f897d43da301c9625e",
       "version_major": 2,
       "version_minor": 0
      },
      "text/plain": [
       "Training epoch 4:   0%|          | 0/79 [00:00<?, ?it/s]"
      ]
     },
     "metadata": {},
     "output_type": "display_data"
    },
    {
     "data": {
      "application/vnd.jupyter.widget-view+json": {
       "model_id": "f6dde5190e8542df94b9877a10f879bf",
       "version_major": 2,
       "version_minor": 0
      },
      "text/plain": [
       "Training epoch 5:   0%|          | 0/79 [00:00<?, ?it/s]"
      ]
     },
     "metadata": {},
     "output_type": "display_data"
    },
    {
     "data": {
      "application/vnd.jupyter.widget-view+json": {
       "model_id": "d7e19566626f4dd8a209742e3eef2ea0",
       "version_major": 2,
       "version_minor": 0
      },
      "text/plain": [
       "Training epoch 6:   0%|          | 0/79 [00:00<?, ?it/s]"
      ]
     },
     "metadata": {},
     "output_type": "display_data"
    },
    {
     "data": {
      "application/vnd.jupyter.widget-view+json": {
       "model_id": "2833bd721d1540baaf858a07d50bfc98",
       "version_major": 2,
       "version_minor": 0
      },
      "text/plain": [
       "Training epoch 7:   0%|          | 0/79 [00:00<?, ?it/s]"
      ]
     },
     "metadata": {},
     "output_type": "display_data"
    },
    {
     "data": {
      "application/vnd.jupyter.widget-view+json": {
       "model_id": "c7eed187aee041d29ea0eb5809b90e0e",
       "version_major": 2,
       "version_minor": 0
      },
      "text/plain": [
       "Training epoch 8:   0%|          | 0/79 [00:00<?, ?it/s]"
      ]
     },
     "metadata": {},
     "output_type": "display_data"
    },
    {
     "data": {
      "application/vnd.jupyter.widget-view+json": {
       "model_id": "9a297fdcc316477d8cb1f93b8a9614e1",
       "version_major": 2,
       "version_minor": 0
      },
      "text/plain": [
       "Training epoch 9:   0%|          | 0/79 [00:00<?, ?it/s]"
      ]
     },
     "metadata": {},
     "output_type": "display_data"
    },
    {
     "data": {
      "application/vnd.jupyter.widget-view+json": {
       "model_id": "8faaa788f8104c299f6da078d008247c",
       "version_major": 2,
       "version_minor": 0
      },
      "text/plain": [
       "Training epoch 10:   0%|          | 0/79 [00:00<?, ?it/s]"
      ]
     },
     "metadata": {},
     "output_type": "display_data"
    },
    {
     "name": "stdout",
     "output_type": "stream",
     "text": [
      "Simulating new 20000 data sets and appending to previous...\n",
      "New total number of simulated data sets: 100000\n",
      "Converting 100000 simulations to a TensorFlow data set...\n"
     ]
    },
    {
     "data": {
      "application/vnd.jupyter.widget-view+json": {
       "model_id": "253b451d9b664133b2ca93065cbeae2b",
       "version_major": 2,
       "version_minor": 0
      },
      "text/plain": [
       "Training epoch 1:   0%|          | 0/98 [00:00<?, ?it/s]"
      ]
     },
     "metadata": {},
     "output_type": "display_data"
    },
    {
     "data": {
      "application/vnd.jupyter.widget-view+json": {
       "model_id": "27ba3f66b77943eea7c50bbeaa22e1b7",
       "version_major": 2,
       "version_minor": 0
      },
      "text/plain": [
       "Training epoch 2:   0%|          | 0/98 [00:00<?, ?it/s]"
      ]
     },
     "metadata": {},
     "output_type": "display_data"
    },
    {
     "data": {
      "application/vnd.jupyter.widget-view+json": {
       "model_id": "241279d8cb8746fbb9c12731c15544de",
       "version_major": 2,
       "version_minor": 0
      },
      "text/plain": [
       "Training epoch 3:   0%|          | 0/98 [00:00<?, ?it/s]"
      ]
     },
     "metadata": {},
     "output_type": "display_data"
    },
    {
     "data": {
      "application/vnd.jupyter.widget-view+json": {
       "model_id": "107b7d6859d04e63b16e2c2eebebe79b",
       "version_major": 2,
       "version_minor": 0
      },
      "text/plain": [
       "Training epoch 4:   0%|          | 0/98 [00:00<?, ?it/s]"
      ]
     },
     "metadata": {},
     "output_type": "display_data"
    },
    {
     "data": {
      "application/vnd.jupyter.widget-view+json": {
       "model_id": "798c9b9cc5a54cd892435422b33e81ed",
       "version_major": 2,
       "version_minor": 0
      },
      "text/plain": [
       "Training epoch 5:   0%|          | 0/98 [00:00<?, ?it/s]"
      ]
     },
     "metadata": {},
     "output_type": "display_data"
    },
    {
     "data": {
      "application/vnd.jupyter.widget-view+json": {
       "model_id": "0af73c824bd141c188f259ed920d0c11",
       "version_major": 2,
       "version_minor": 0
      },
      "text/plain": [
       "Training epoch 6:   0%|          | 0/98 [00:00<?, ?it/s]"
      ]
     },
     "metadata": {},
     "output_type": "display_data"
    },
    {
     "data": {
      "application/vnd.jupyter.widget-view+json": {
       "model_id": "d8d73020b61c41c484cc575b92b42143",
       "version_major": 2,
       "version_minor": 0
      },
      "text/plain": [
       "Training epoch 7:   0%|          | 0/98 [00:00<?, ?it/s]"
      ]
     },
     "metadata": {},
     "output_type": "display_data"
    },
    {
     "data": {
      "application/vnd.jupyter.widget-view+json": {
       "model_id": "0d089eae49df4b1daebf4cd461e43bc1",
       "version_major": 2,
       "version_minor": 0
      },
      "text/plain": [
       "Training epoch 8:   0%|          | 0/98 [00:00<?, ?it/s]"
      ]
     },
     "metadata": {},
     "output_type": "display_data"
    },
    {
     "data": {
      "application/vnd.jupyter.widget-view+json": {
       "model_id": "272b19ffb05b4e249ba0c9e67b64f05f",
       "version_major": 2,
       "version_minor": 0
      },
      "text/plain": [
       "Training epoch 9:   0%|          | 0/98 [00:00<?, ?it/s]"
      ]
     },
     "metadata": {},
     "output_type": "display_data"
    },
    {
     "data": {
      "application/vnd.jupyter.widget-view+json": {
       "model_id": "5447f37cad454a619d5df669a386dbd7",
       "version_major": 2,
       "version_minor": 0
      },
      "text/plain": [
       "Training epoch 10:   0%|          | 0/98 [00:00<?, ?it/s]"
      ]
     },
     "metadata": {},
     "output_type": "display_data"
    }
   ],
   "source": [
    "losses = trainer.train_rounds(epochs=10, rounds=5, sim_per_round=20000, batch_size=1024, n_obs=100)"
   ]
  },
  {
   "cell_type": "code",
   "execution_count": 13,
   "metadata": {},
   "outputs": [
    {
     "data": {
      "image/png": "[encoded data removed]",
      "text/plain": [
       "<Figure size 1440x288 with 5 Axes>"
      ]
     },
     "metadata": {
      "needs_background": "light"
     },
     "output_type": "display_data"
    }
   ],
   "source": [
    "# Validate (quick and dirty)\n",
    "p, x = trainer._forward_inference(200, 100)\n",
    "param_samples = trainer.network.sample(x, n_samples=200)\n",
    "param_means = param_samples.mean(axis=0)\n",
    "true_vs_estimated(p, param_means, ['mu{}'.format(i) for i in range(1, 5+1)], figsize=(20,4))"
   ]
  },
  {
   "cell_type": "code",
   "execution_count": 14,
   "metadata": {},
   "outputs": [
    {
     "data": {
      "text/plain": [
       "TensorShape([200, 10])"
      ]
     },
     "execution_count": 14,
     "metadata": {},
     "output_type": "execute_result"
    }
   ],
   "source": [
    "trainer.network.summary_net(x).shape"
   ]
  },
  {
   "cell_type": "code",
   "execution_count": 15,
   "metadata": {},
   "outputs": [
    {
     "data": {
      "text/plain": [
       "'export_ckpt/ckpt-101'"
      ]
     },
     "execution_count": 15,
     "metadata": {},
     "output_type": "execute_result"
    }
   ],
   "source": [
    "trainer.manager.save()"
   ]
  },
  {
   "cell_type": "code",
   "execution_count": null,
   "metadata": {},
   "outputs": [],
   "source": []
  }
 ],
 "metadata": {
  "kernelspec": {
   "display_name": "Python 3",
   "language": "python",
   "name": "python3"
  },
  "language_info": {
   "codemirror_mode": {
    "name": "ipython",
    "version": 3
   },
   "file_extension": ".py",
   "mimetype": "text/x-python",
   "name": "python",
   "nbconvert_exporter": "python",
   "pygments_lexer": "ipython3",
   "version": "3.8.0"
  }
 },
 "nbformat": 4,
 "nbformat_minor": 1
}
